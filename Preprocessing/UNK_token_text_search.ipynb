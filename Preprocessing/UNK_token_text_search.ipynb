{
 "cells": [
  {
   "cell_type": "code",
   "execution_count": 1,
   "source": [
    "import pandas as pd\n",
    "\n",
    "import re\n",
    "import itertools\n",
    "from collections import Counter\n",
    "from typing import  Dict, List, Tuple\n",
    "\n",
    "from tqdm import tqdm\n",
    "from transformers import AutoTokenizer"
   ],
   "outputs": [
    {
     "output_type": "stream",
     "name": "stderr",
     "text": [
      "2021-10-01 13:16:37.767988: I tensorflow/stream_executor/platform/default/dso_loader.cc:53] Successfully opened dynamic library libcudart.so.11.0\n"
     ]
    }
   ],
   "metadata": {}
  },
  {
   "cell_type": "code",
   "execution_count": 2,
   "source": [
    "Train_csv_file = '/opt/ml/dataset/train/train.csv'\n",
    "Test_csv_file = '/opt/ml/dataset/test/test_data.csv'\n",
    "\n",
    "df = pd.read_csv(Train_csv_file)\n",
    "df = df.drop_duplicates(['sentence','subject_entity','object_entity','label']).reset_index()"
   ],
   "outputs": [],
   "metadata": {}
  },
  {
   "cell_type": "code",
   "execution_count": 3,
   "source": [
    "MODEL_NAME = \"klue/roberta-large\"\n",
    "tokenizer = AutoTokenizer.from_pretrained(MODEL_NAME)\n",
    "\n",
    "vocab = list(tokenizer.get_vocab().keys())\n",
    "unused_list = [word for word in vocab if word.startswith('[unused')]        \n",
    "print(f'unused token count: {len(unused_list)}')"
   ],
   "outputs": [
    {
     "output_type": "stream",
     "name": "stderr",
     "text": [
      "/opt/conda/lib/python3.8/site-packages/transformers/configuration_utils.py:336: UserWarning: Passing `gradient_checkpointing` to a config initialization is deprecated and will be removed in v5 Transformers. Using `model.gradient_checkpointing_enable()` instead, or if you are using the `Trainer` API, pass `gradient_checkpointing=True` in your `TrainingArguments`.\n",
      "  warnings.warn(\n"
     ]
    },
    {
     "output_type": "stream",
     "name": "stdout",
     "text": [
      "unused token count: 500\n"
     ]
    }
   ],
   "metadata": {}
  },
  {
   "cell_type": "markdown",
   "source": [
    "# 🛰️ 전처리"
   ],
   "metadata": {}
  },
  {
   "cell_type": "code",
   "execution_count": 26,
   "source": [
    "def remove_special_char(sentence):\n",
    "    \"\"\" 특수문자 및 독일어 제거, 수정\"\"\"\n",
    "    sentence = re.sub(r'[À-ÿ]+','', sentence) # 독일어\n",
    "    sentence = re.sub(r'[\\u0600-\\u06FF]+','', sentence)  # 사우디어\n",
    "    sentence = re.sub(r'[ß↔Ⓐب€☎☏±]+','', sentence)\n",
    "    sentence = re.sub('–','─', sentence)\n",
    "    sentence = re.sub('⟪','《', sentence)\n",
    "    sentence = re.sub('⟫','》', sentence)\n",
    "    sentence = re.sub('･','・', sentence)\n",
    "    return sentence\n",
    "\n",
    "test_sen = 'Hermann Müller'\n",
    "remove_special_char(test_sen)"
   ],
   "outputs": [
    {
     "output_type": "error",
     "ename": "TypeError",
     "evalue": "expected string or bytes-like object",
     "traceback": [
      "\u001b[0;31m---------------------------------------------------------------------------\u001b[0m",
      "\u001b[0;31mTypeError\u001b[0m                                 Traceback (most recent call last)",
      "\u001b[0;32m/tmp/ipykernel_27561/213281352.py\u001b[0m in \u001b[0;36m<module>\u001b[0;34m\u001b[0m\n\u001b[1;32m     12\u001b[0m \u001b[0mtest_sen\u001b[0m \u001b[0;34m=\u001b[0m \u001b[0;34m'Hermann Müller'\u001b[0m\u001b[0;34m\u001b[0m\u001b[0;34m\u001b[0m\u001b[0m\n\u001b[1;32m     13\u001b[0m \u001b[0mremove_special_char\u001b[0m\u001b[0;34m(\u001b[0m\u001b[0mtest_sen\u001b[0m\u001b[0;34m)\u001b[0m\u001b[0;34m\u001b[0m\u001b[0;34m\u001b[0m\u001b[0m\n\u001b[0;32m---> 14\u001b[0;31m \u001b[0mremove_special_char\u001b[0m\u001b[0;34m(\u001b[0m\u001b[0;34m[\u001b[0m\u001b[0;34m'Hermann Müller'\u001b[0m\u001b[0;34m,\u001b[0m \u001b[0;34m'ß↔Ⓐب€☎☏±'\u001b[0m\u001b[0;34m]\u001b[0m\u001b[0;34m)\u001b[0m\u001b[0;34m\u001b[0m\u001b[0;34m\u001b[0m\u001b[0m\n\u001b[0m",
      "\u001b[0;32m/tmp/ipykernel_27561/213281352.py\u001b[0m in \u001b[0;36mremove_special_char\u001b[0;34m(sentence)\u001b[0m\n\u001b[1;32m      1\u001b[0m \u001b[0;32mdef\u001b[0m \u001b[0mremove_special_char\u001b[0m\u001b[0;34m(\u001b[0m\u001b[0msentence\u001b[0m\u001b[0;34m)\u001b[0m\u001b[0;34m:\u001b[0m\u001b[0;34m\u001b[0m\u001b[0;34m\u001b[0m\u001b[0m\n\u001b[1;32m      2\u001b[0m     \u001b[0;34m\"\"\" 특수문자 및 독일어 제거, 수정\"\"\"\u001b[0m\u001b[0;34m\u001b[0m\u001b[0;34m\u001b[0m\u001b[0m\n\u001b[0;32m----> 3\u001b[0;31m     \u001b[0msentence\u001b[0m \u001b[0;34m=\u001b[0m \u001b[0mre\u001b[0m\u001b[0;34m.\u001b[0m\u001b[0msub\u001b[0m\u001b[0;34m(\u001b[0m\u001b[0;34mr'[À-ÿ]+'\u001b[0m\u001b[0;34m,\u001b[0m\u001b[0;34m''\u001b[0m\u001b[0;34m,\u001b[0m \u001b[0msentence\u001b[0m\u001b[0;34m)\u001b[0m \u001b[0;31m# 독일어\u001b[0m\u001b[0;34m\u001b[0m\u001b[0;34m\u001b[0m\u001b[0m\n\u001b[0m\u001b[1;32m      4\u001b[0m     \u001b[0msentence\u001b[0m \u001b[0;34m=\u001b[0m \u001b[0mre\u001b[0m\u001b[0;34m.\u001b[0m\u001b[0msub\u001b[0m\u001b[0;34m(\u001b[0m\u001b[0;34mr'[\\u0600-\\u06FF]+'\u001b[0m\u001b[0;34m,\u001b[0m\u001b[0;34m''\u001b[0m\u001b[0;34m,\u001b[0m \u001b[0msentence\u001b[0m\u001b[0;34m)\u001b[0m  \u001b[0;31m# 사우디어\u001b[0m\u001b[0;34m\u001b[0m\u001b[0;34m\u001b[0m\u001b[0m\n\u001b[1;32m      5\u001b[0m     \u001b[0msentence\u001b[0m \u001b[0;34m=\u001b[0m \u001b[0mre\u001b[0m\u001b[0;34m.\u001b[0m\u001b[0msub\u001b[0m\u001b[0;34m(\u001b[0m\u001b[0;34mr'[ß↔Ⓐب€☎☏±]+'\u001b[0m\u001b[0;34m,\u001b[0m\u001b[0;34m''\u001b[0m\u001b[0;34m,\u001b[0m \u001b[0msentence\u001b[0m\u001b[0;34m)\u001b[0m\u001b[0;34m\u001b[0m\u001b[0;34m\u001b[0m\u001b[0m\n",
      "\u001b[0;32m/opt/conda/lib/python3.8/re.py\u001b[0m in \u001b[0;36msub\u001b[0;34m(pattern, repl, string, count, flags)\u001b[0m\n\u001b[1;32m    208\u001b[0m     \u001b[0ma\u001b[0m \u001b[0mcallable\u001b[0m\u001b[0;34m,\u001b[0m \u001b[0mit\u001b[0m\u001b[0;31m'\u001b[0m\u001b[0ms\u001b[0m \u001b[0mpassed\u001b[0m \u001b[0mthe\u001b[0m \u001b[0mMatch\u001b[0m \u001b[0mobject\u001b[0m \u001b[0;32mand\u001b[0m \u001b[0mmust\u001b[0m \u001b[0;32mreturn\u001b[0m\u001b[0;34m\u001b[0m\u001b[0;34m\u001b[0m\u001b[0m\n\u001b[1;32m    209\u001b[0m     a replacement string to be used.\"\"\"\n\u001b[0;32m--> 210\u001b[0;31m     \u001b[0;32mreturn\u001b[0m \u001b[0m_compile\u001b[0m\u001b[0;34m(\u001b[0m\u001b[0mpattern\u001b[0m\u001b[0;34m,\u001b[0m \u001b[0mflags\u001b[0m\u001b[0;34m)\u001b[0m\u001b[0;34m.\u001b[0m\u001b[0msub\u001b[0m\u001b[0;34m(\u001b[0m\u001b[0mrepl\u001b[0m\u001b[0;34m,\u001b[0m \u001b[0mstring\u001b[0m\u001b[0;34m,\u001b[0m \u001b[0mcount\u001b[0m\u001b[0;34m)\u001b[0m\u001b[0;34m\u001b[0m\u001b[0;34m\u001b[0m\u001b[0m\n\u001b[0m\u001b[1;32m    211\u001b[0m \u001b[0;34m\u001b[0m\u001b[0m\n\u001b[1;32m    212\u001b[0m \u001b[0;32mdef\u001b[0m \u001b[0msubn\u001b[0m\u001b[0;34m(\u001b[0m\u001b[0mpattern\u001b[0m\u001b[0;34m,\u001b[0m \u001b[0mrepl\u001b[0m\u001b[0;34m,\u001b[0m \u001b[0mstring\u001b[0m\u001b[0;34m,\u001b[0m \u001b[0mcount\u001b[0m\u001b[0;34m=\u001b[0m\u001b[0;36m0\u001b[0m\u001b[0;34m,\u001b[0m \u001b[0mflags\u001b[0m\u001b[0;34m=\u001b[0m\u001b[0;36m0\u001b[0m\u001b[0;34m)\u001b[0m\u001b[0;34m:\u001b[0m\u001b[0;34m\u001b[0m\u001b[0;34m\u001b[0m\u001b[0m\n",
      "\u001b[0;31mTypeError\u001b[0m: expected string or bytes-like object"
     ]
    }
   ],
   "metadata": {}
  },
  {
   "cell_type": "code",
   "execution_count": 5,
   "source": [
    "def add_space_char(sentence) :\n",
    "    def add_space(match) :\n",
    "        res_str = ', '.join(match.group().split(',')).rstrip()\n",
    "        return res_str\n",
    "    p = re.compile(r'([기-힣\\w\\-]+,)+[기-힣\\w\\-]+')\n",
    "    sentence = p.sub(add_space, sentence)\n",
    "    return sentence\n",
    "test_sen = '앨범에는 에미넴,G-Unit,닥터드레,제이미 폭스 등이 참여하고,영국차트에서도 1위를 한다.'\n",
    "add_space_char(test_sen)"
   ],
   "outputs": [
    {
     "output_type": "execute_result",
     "data": {
      "text/plain": [
       "'앨범에는 에미넴, G-Unit, 닥터드레, 제이미 폭스 등이 참여하고, 영국차트에서도 1위를 한다.'"
      ]
     },
     "metadata": {},
     "execution_count": 5
    }
   ],
   "metadata": {}
  },
  {
   "cell_type": "code",
   "execution_count": 6,
   "source": [
    "def substitution_date(sentence):\n",
    "    \"\"\"\n",
    "    기간 표시 '-' => '~'\n",
    "    1223년 – => 1223년 ~ \n",
    "    \"\"\"\n",
    "    def sub_tibble(match) :\n",
    "        res_str = re.sub('[–\\-]','~',match.group())\n",
    "        return res_str\n",
    "    re_patterns = [\n",
    "        r'(\\d{2,4}년\\s*)(\\d{1,2}[월|일]\\s*)(\\d{1,2}[월|일])\\s*[–\\-]',\n",
    "        r'(\\d{2,4}년\\s*)(\\d{1,2}[월|일]\\s*)\\s*[–\\-]',\n",
    "        r'(\\d{2,4}년\\s*)\\s*[–\\-]',\n",
    "        r'\\((\\d{4}[–\\-]\\d{2,4})\\)'\n",
    "    ]\n",
    "    for re_pattern in re_patterns :\n",
    "        p = re.compile(re_pattern)\n",
    "        sentence = p.sub(sub_tibble, sentence)   \n",
    "    return sentence\n",
    "\n",
    "test_sen = '후 시니어 대회로 올라가서 (1934–1942) 시즌 ISU 쇼트트랙 월드컵에 4차례 출전하여 금메달 4개, 은메달 5개를 차지하였으며, 2013-14 시즌에서 김아랑은 쇼트트랙 스피드'\n",
    "substitution_date(test_sen)"
   ],
   "outputs": [
    {
     "output_type": "execute_result",
     "data": {
      "text/plain": [
       "'후 시니어 대회로 올라가서 (1934~1942) 시즌 ISU 쇼트트랙 월드컵에 4차례 출전하여 금메달 4개, 은메달 5개를 차지하였으며, 2013-14 시즌에서 김아랑은 쇼트트랙 스피드'"
      ]
     },
     "metadata": {},
     "execution_count": 6
    }
   ],
   "metadata": {}
  },
  {
   "cell_type": "code",
   "execution_count": 7,
   "source": [
    "def add_space_year(sentence):\n",
    "    \"\"\"\n",
    "    숫자와 년 사이에 공백\n",
    "    1223년 => 1223 년 => ⑦ 년\n",
    "    \"\"\"\n",
    "    def add_space(match) :\n",
    "        # res_str = '⑦ ' + match.group()[4:]\n",
    "        res_str =  match.group()[:4] +' ' + match.group()[4:]\n",
    "        return res_str\n",
    "    p = re.compile(r'\\d{4}년')\n",
    "    sentence = p.sub(add_space, sentence)\n",
    "    return sentence\n",
    "test_sen = '2010년에는 아시아 가수 최초로 마이클 잭슨의 곡을 리메이크하였는데'\n",
    "add_space_year(test_sen)"
   ],
   "outputs": [
    {
     "output_type": "execute_result",
     "data": {
      "text/plain": [
       "'2010 년에는 아시아 가수 최초로 마이클 잭슨의 곡을 리메이크하였는데'"
      ]
     },
     "metadata": {},
     "execution_count": 7
    }
   ],
   "metadata": {}
  },
  {
   "cell_type": "code",
   "execution_count": 8,
   "source": [
    "def preprocessing(sentence) :\n",
    "    sent = remove_special_char(sentence)\n",
    "    sent = substitution_date(sent)\n",
    "    # sent = add_space_year(sent)\n",
    "    sent = add_space_char(sent)\n",
    "    return sent"
   ],
   "outputs": [],
   "metadata": {}
  },
  {
   "cell_type": "code",
   "execution_count": 9,
   "source": [
    "df = pd.read_csv(Train_csv_file)\n",
    "\n",
    "ess = ['sentence','subject_entity','object_entity']\n",
    "preprocessed_df = df.copy()\n",
    "for col in ess :\n",
    "    preprocessed_df[col] = preprocessed_df[col].apply(preprocessing)"
   ],
   "outputs": [],
   "metadata": {}
  },
  {
   "cell_type": "markdown",
   "source": [
    "# 🛰️UNK으로 변하는 word 및 char 확인"
   ],
   "metadata": {}
  },
  {
   "cell_type": "code",
   "execution_count": 10,
   "source": [
    "from IPython.core.display import HTML\n",
    "def word_highligt_html(txt, word, color='black', highlight=None, attr=None):\n",
    "    if isinstance(word, str):\n",
    "        txt = txt.replace(word, f'<span style=\"color: {color}; background-color:{highlight}\">{word}</span>')\n",
    "    else:\n",
    "        if not isinstance(color, list):\n",
    "            color = [color] * len(word)\n",
    "        if not isinstance(highlight, list):\n",
    "            highlight = [highlight] * len(word)\n",
    "        for w, c, h in zip(word, color, highlight):\n",
    "            txt = txt.replace(w, f'<span style=\"color: {c}; background-color:{h}\">{w}</span>')\n",
    "    return txt"
   ],
   "outputs": [],
   "metadata": {}
  },
  {
   "cell_type": "code",
   "execution_count": 16,
   "source": [
    "def subword_parsing(wordpiece:List) -> List[str]: ## subword # 제거용\n",
    "    Known_char = []\n",
    "    for subword in wordpiece :\n",
    "        if subword == tokenizer.unk_token :\n",
    "            Known_char.append(tokenizer.unk_token)\n",
    "        else :\n",
    "            string = subword.replace('#','')\n",
    "            Known_char.extend(string)\n",
    "    return Known_char\n",
    "\n",
    "\n",
    "def UNK_word_and_chr(text:str) -> Tuple[List[str], List[str]]:\n",
    "    sub_word_UNK_list = []\n",
    "    word_UNK_list = []\n",
    "    \n",
    "    def add_space(match) :\n",
    "        bracket = match.group()\n",
    "        added = ' ' + bracket + ' '\n",
    "        return added\n",
    "    p = re.compile(r'[\\([)\\]|,|-|~|-|‘|’]')\n",
    "    words_list = p.sub(add_space, text).split()\n",
    "    for word in words_list :\n",
    "        subwordpieces_ID_encoded = tokenizer.tokenize(word)\n",
    "        Known_subword = subword_parsing(subwordpieces_ID_encoded)\n",
    "        # print(word, len(word), Known_subword, len(Known_subword))\n",
    "        for sub_char, NK_char in zip(word, Known_subword) :\n",
    "            if sub_char != NK_char and len(word) == len(Known_subword) :\n",
    "                sub_word_UNK_list.append(sub_char)\n",
    "            elif sub_char != NK_char and len(word) != len(Known_subword) :\n",
    "                sub_word_UNK_list.append(word)\n",
    "                break\n",
    "            elif len(word) == len(Known_subword) :\n",
    "                pass\n",
    "            else :\n",
    "                print('else', word, len(word), Known_subword, len(Known_subword))\n",
    "                break\n",
    "    return sub_word_UNK_list\n",
    "    \n",
    "text ='박용오(朴容旿, 1937년 4월 29일(음력 3월 19일)(음력 3월 19일) ~ 2009년 11월 4일)는 서울에서 태어난 대한민국의 기업인으로 두산그룹 회장, KBO 총재 등을 역임했다.'\n",
    "print(UNK_word_and_chr(text))\n",
    "if tokenizer.unk_token in tokenizer.tokenize(text) :\n",
    "    print(tokenizer.tokenize(text))"
   ],
   "outputs": [
    {
     "output_type": "stream",
     "name": "stdout",
     "text": [
      "['容', '旿']\n",
      "['박용', '##오', '(', '朴', '[UNK]', '[UNK]', ',', '1937', '##년', '4', '##월', '29', '##일', '(', '음력', '3', '##월', '19', '##일', ')', '(', '음력', '3', '##월', '19', '##일', ')', '~', '2009', '##년', '11', '##월', '4', '##일', ')', '는', '서울', '##에서', '태어난', '대한민국', '##의', '기업인', '##으로', '두산', '##그룹', '회장', ',', 'KBO', '총재', '등', '##을', '역임', '##했', '##다', '.']\n"
     ]
    }
   ],
   "metadata": {}
  },
  {
   "cell_type": "markdown",
   "source": [
    "# 🛰️ UNK 분포"
   ],
   "metadata": {}
  },
  {
   "cell_type": "code",
   "execution_count": 17,
   "source": [
    "def UNK_word(df_col:pd.DataFrame, unk_idx:int) -> List[Tuple] :\n",
    "    UNK_word_idx = []\n",
    "    for i, word in enumerate(tqdm(df_col)) :\n",
    "        if unk_idx in tokenizer.encode(word) :\n",
    "            UNK_word_idx.append((i,word))\n",
    "    return UNK_word_idx\n",
    "\n",
    "unk_idx = tokenizer.get_vocab()[tokenizer.unk_token] # 3\n",
    "\n",
    "sub_col = preprocessed_df['subject_entity'].apply(eval).str['word']\n",
    "sub_UNK = UNK_word(sub_col, unk_idx)\n",
    "\n",
    "obj_col = preprocessed_df['object_entity'].apply(eval).str['word']\n",
    "obj_UNK = UNK_word(obj_col, unk_idx)\n",
    "\n",
    "sen_col = preprocessed_df['sentence']\n",
    "sen_UNK = UNK_word(sen_col, unk_idx)\n",
    "\n",
    "print(len(sub_UNK), len(obj_UNK), len(sen_UNK))\n",
    "print(sub_UNK[0]) # (preprocessed_df row index, entity)\n",
    "print(obj_UNK[0]) # (preprocessed_df row index, entity)\n",
    "print(sen_UNK[0]) # (preprocessed_df row index, senetence)"
   ],
   "outputs": [
    {
     "output_type": "stream",
     "name": "stderr",
     "text": [
      "100%|██████████| 32470/32470 [00:02<00:00, 12627.28it/s]\n",
      "100%|██████████| 32470/32470 [00:02<00:00, 13533.59it/s]\n",
      "100%|██████████| 32470/32470 [00:08<00:00, 3979.65it/s]"
     ]
    },
    {
     "output_type": "stream",
     "name": "stdout",
     "text": [
      "222 259 2965\n",
      "(21, '스티브 바라캇')\n",
      "(191, '少弐氏')\n",
      "(7, '박용오(朴容旿, 1937년 4월 29일(음력 3월 19일)(음력 3월 19일) ~ 2009년 11월 4일)는 서울에서 태어난 대한민국의 기업인으로 두산그룹 회장, KBO 총재 등을 역임했다.')\n"
     ]
    },
    {
     "output_type": "stream",
     "name": "stderr",
     "text": [
      "\n"
     ]
    }
   ],
   "metadata": {}
  },
  {
   "cell_type": "code",
   "execution_count": 18,
   "source": [
    "txt = ''\n",
    "count = 1\n",
    "unk_len = 0\n",
    "for idx, sen in tqdm(sen_UNK) :\n",
    "    UNK_subword = UNK_word_and_chr(sen)\n",
    "    txt += word_highligt_html(sen, UNK_subword, ['white']*len(UNK_subword),  ['#96C4ED']*len(UNK_subword)) + '<br/><br/>'\n",
    "    if count > 5:\n",
    "        break\n",
    "    count += 1\n",
    "HTML(txt)"
   ],
   "outputs": [
    {
     "output_type": "stream",
     "name": "stderr",
     "text": [
      "  0%|          | 5/2965 [00:00<00:07, 370.45it/s]\n"
     ]
    },
    {
     "output_type": "execute_result",
     "data": {
      "text/html": [
       "박용오(朴<span style=\"color: white; background-color:#96C4ED\">容</span><span style=\"color: white; background-color:#96C4ED\">旿</span>, 1937년 4월 29일(음력 3월 19일)(음력 3월 19일) ~ 2009년 11월 4일)는 서울에서 태어난 대한민국의 기업인으로 두산그룹 회장, KBO 총재 등을 역임했다.<br/><br/>2010년에는 아시아 가수 최초로 마이클 잭슨의 곡을 리메이크하였는데 당시 마이클 잭슨과 함께 작업했던 세계적인 뮤지션 스티브 <span style=\"color: white; background-color:#96C4ED\">바라캇</span>(Steve Barakatt)과 마이클 잭슨 곡 \"You are not alone\"을 작업해 화제가 되었다.<br/><br/>진도군은 진도개를 보기 위해 찾아온 관람객들에게 더욱 흥미롭고 즐거움을 선사하기 위해 ▲팔백리길을 돌아온 백구 생가 토피어리 조형물 ▲어로(<span style=\"color: white; background-color:#96C4ED\">犬</span>수영장)수렵장 ▲진도개 애견 캠핑장 등도 운영하고 있다.<br/><br/>백한성(白漢成, 水原<span style=\"color: white; background-color:#96C4ED\">鶴</span>人, 1899년 6월 15일 조선 충청도 공주 출생 ~ 1971년 10월 13일 대한민국 서울에서 별세.)은 대한민국의 정치가이며 법조인이다.<br/><br/>헌강왕(憲<span style=\"color: white; background-color:#96C4ED\">康</span>王, ~ 886년, 재위: 875년 ~ 886년)은 신라의 제49대 왕이다.<br/><br/>쇼니 씨(<span style=\"color: white; background-color:#96C4ED\"><span style=\"color: white; background-color:#96C4ED\">少</span></span><span style=\"color: white; background-color:#96C4ED\"><span style=\"color: white; background-color:#96C4ED\">弐</span></span>氏)의 8대 당주로 쇼니 요리히사(<span style=\"color: white; background-color:#96C4ED\"><span style=\"color: white; background-color:#96C4ED\">少</span></span><span style=\"color: white; background-color:#96C4ED\"><span style=\"color: white; background-color:#96C4ED\">弐</span></span><span style=\"color: white; background-color:#96C4ED\">頼</span><span style=\"color: white; background-color:#96C4ED\">尚</span>)의 둘째 아들이다.<br/><br/>"
      ],
      "text/plain": [
       "<IPython.core.display.HTML object>"
      ]
     },
     "metadata": {},
     "execution_count": 18
    }
   ],
   "metadata": {}
  },
  {
   "cell_type": "markdown",
   "source": [
    "## 🛰️ Sentece UNK 확인"
   ],
   "metadata": {}
  },
  {
   "cell_type": "code",
   "execution_count": 19,
   "source": [
    "cnt = 1\n",
    "UNK_sentence_list = []\n",
    "for sen in tqdm(preprocessed_df['sentence']) :\n",
    "    if tokenizer.unk_token in tokenizer.tokenize(sen) :\n",
    "        UNK_sentence_list.extend(UNK_word_and_chr(sen))\n",
    "        cnt+=1\n",
    "print(cnt)"
   ],
   "outputs": [
    {
     "output_type": "stream",
     "name": "stderr",
     "text": [
      "  3%|▎         | 884/32470 [00:00<00:14, 2218.91it/s]"
     ]
    },
    {
     "output_type": "stream",
     "name": "stdout",
     "text": [
      "else 空海くうかい홍법 8 ['空', '海', '[UNK]'] 3\n",
      "else \"촐로\" 4 ['\"', '[UNK]', '\"'] 3\n"
     ]
    },
    {
     "output_type": "stream",
     "name": "stderr",
     "text": [
      "  7%|▋         | 2218/32470 [00:01<00:13, 2205.33it/s]"
     ]
    },
    {
     "output_type": "stream",
     "name": "stdout",
     "text": [
      "else '숲튽훈'이라는 8 [\"'\", '[UNK]', \"'\", '이', '라', '는'] 6\n",
      "else '숲튽훈 4 [\"'\", '[UNK]'] 2\n"
     ]
    },
    {
     "output_type": "stream",
     "name": "stderr",
     "text": [
      " 10%|█         | 3318/32470 [00:01<00:13, 2143.92it/s]"
     ]
    },
    {
     "output_type": "stream",
     "name": "stdout",
     "text": [
      "else '펭귄의 4 [\"'\", '[UNK]'] 2\n"
     ]
    },
    {
     "output_type": "stream",
     "name": "stderr",
     "text": [
      " 13%|█▎        | 4250/32470 [00:01<00:13, 2129.68it/s]"
     ]
    },
    {
     "output_type": "stream",
     "name": "stdout",
     "text": [
      "else 株式会社アニメーションドゥウ 14 ['株', '式', '[UNK]', '社', '[UNK]'] 5\n",
      "else '캥거루'로 6 [\"'\", '[UNK]', \"'\", '로'] 4\n"
     ]
    },
    {
     "output_type": "stream",
     "name": "stderr",
     "text": [
      " 15%|█▌        | 4881/32470 [00:02<00:13, 1982.03it/s]"
     ]
    },
    {
     "output_type": "stream",
     "name": "stdout",
     "text": [
      "else \"Auseklītis\" 12 ['\"', '[UNK]', '\"'] 3\n",
      "else \"Ausekliņis\" 12 ['\"', '[UNK]', '\"'] 3\n",
      "else \"Ausekleņis\" 12 ['\"', '[UNK]', '\"'] 3\n",
      "else \"Ausekliņa\" 11 ['\"', '[UNK]', '\"'] 3\n",
      "else \"Auseklītis\" 12 ['\"', '[UNK]', '\"'] 3\n",
      "else \"호엔촐레른베링겐\"을 11 ['\"', '[UNK]', '\"', '을'] 4\n",
      "else '쌉니다 4 [\"'\", '[UNK]'] 2\n"
     ]
    },
    {
     "output_type": "stream",
     "name": "stderr",
     "text": [
      " 16%|█▋        | 5354/32470 [00:02<00:12, 2163.35it/s]"
     ]
    },
    {
     "output_type": "stream",
     "name": "stdout",
     "text": [
      "else 民主・リベラル労組会議 11 ['民', '主', '・', '[UNK]', '[UNK]', '[UNK]', '[UNK]', '議'] 8\n"
     ]
    },
    {
     "output_type": "stream",
     "name": "stderr",
     "text": [
      " 27%|██▋       | 8702/32470 [00:04<00:12, 1958.26it/s]"
     ]
    },
    {
     "output_type": "stream",
     "name": "stdout",
     "text": [
      "else 합병하면서「홋카이도 10 ['합', '병', '하', '면', '서', '「', '[UNK]'] 7\n",
      "else '크리스챤 5 [\"'\", '[UNK]'] 2\n"
     ]
    },
    {
     "output_type": "stream",
     "name": "stderr",
     "text": [
      " 30%|██▉       | 9617/32470 [00:04<00:10, 2116.40it/s]"
     ]
    },
    {
     "output_type": "stream",
     "name": "stdout",
     "text": [
      "else \"호엔촐레른베링겐\"을 11 ['\"', '[UNK]', '\"', '을'] 4\n"
     ]
    },
    {
     "output_type": "stream",
     "name": "stderr",
     "text": [
      " 37%|███▋      | 11952/32470 [00:05<00:08, 2352.52it/s]"
     ]
    },
    {
     "output_type": "stream",
     "name": "stdout",
     "text": [
      "else /ˈkeɪ.ɒs/ 9 ['/', '[UNK]', '.', '[UNK]', '/'] 5\n"
     ]
    },
    {
     "output_type": "stream",
     "name": "stderr",
     "text": [
      " 38%|███▊      | 12436/32470 [00:05<00:08, 2376.86it/s]"
     ]
    },
    {
     "output_type": "stream",
     "name": "stdout",
     "text": [
      "else 《恋のサイン 6 ['《', '[UNK]', '[UNK]'] 3\n"
     ]
    },
    {
     "output_type": "stream",
     "name": "stderr",
     "text": [
      " 47%|████▋     | 15271/32470 [00:07<00:07, 2174.48it/s]"
     ]
    },
    {
     "output_type": "stream",
     "name": "stdout",
     "text": [
      "else \"호엔촐레른베링겐\"을 11 ['\"', '[UNK]', '\"', '을'] 4\n"
     ]
    },
    {
     "output_type": "stream",
     "name": "stderr",
     "text": [
      " 49%|████▉     | 15917/32470 [00:07<00:08, 2036.31it/s]"
     ]
    },
    {
     "output_type": "stream",
     "name": "stdout",
     "text": [
      "else \"쉘부르\"라는 7 ['\"', '[UNK]', '\"', '라', '는'] 5\n"
     ]
    },
    {
     "output_type": "stream",
     "name": "stderr",
     "text": [
      " 52%|█████▏    | 16807/32470 [00:07<00:07, 2143.39it/s]"
     ]
    },
    {
     "output_type": "stream",
     "name": "stdout",
     "text": [
      "else \"Aḥmad 6 ['\"', '[UNK]'] 2\n"
     ]
    },
    {
     "output_type": "stream",
     "name": "stderr",
     "text": [
      " 59%|█████▊    | 19018/32470 [00:08<00:06, 2223.04it/s]"
     ]
    },
    {
     "output_type": "stream",
     "name": "stdout",
     "text": [
      "else 〈녀학생문뎨〉 7 ['〈', '[UNK]', '〉'] 3\n",
      "else 합병하면서「홋카이도 10 ['합', '병', '하', '면', '서', '「', '[UNK]'] 7\n"
     ]
    },
    {
     "output_type": "stream",
     "name": "stderr",
     "text": [
      " 62%|██████▏   | 19974/32470 [00:09<00:05, 2318.96it/s]"
     ]
    },
    {
     "output_type": "stream",
     "name": "stdout",
     "text": [
      "else \"쿈이 3 ['\"', '[UNK]'] 2\n"
     ]
    },
    {
     "output_type": "stream",
     "name": "stderr",
     "text": [
      " 64%|██████▎   | 20697/32470 [00:09<00:05, 2274.57it/s]"
     ]
    },
    {
     "output_type": "stream",
     "name": "stdout",
     "text": [
      "else 《미뎀 3 ['《', '[UNK]'] 2\n"
     ]
    },
    {
     "output_type": "stream",
     "name": "stderr",
     "text": [
      " 66%|██████▌   | 21410/32470 [00:09<00:05, 2203.47it/s]"
     ]
    },
    {
     "output_type": "stream",
     "name": "stdout",
     "text": [
      "else '할미넴' 5 [\"'\", '[UNK]', \"'\"] 3\n",
      "else '영산강Ⅳ지구 7 [\"'\", '[UNK]'] 2\n"
     ]
    },
    {
     "output_type": "stream",
     "name": "stderr",
     "text": [
      " 69%|██████▊   | 22296/32470 [00:10<00:04, 2129.86it/s]"
     ]
    },
    {
     "output_type": "stream",
     "name": "stdout",
     "text": [
      "else '펭수'를 5 [\"'\", '[UNK]', \"'\", '를'] 4\n",
      "else AJI-NO-MOTO® 12 ['A', 'J', 'I', '-', 'N', 'O', '-', '[UNK]'] 8\n"
     ]
    },
    {
     "output_type": "stream",
     "name": "stderr",
     "text": [
      " 70%|███████   | 22738/32470 [00:10<00:04, 2127.26it/s]"
     ]
    },
    {
     "output_type": "stream",
     "name": "stdout",
     "text": [
      "else '쌉니다 4 [\"'\", '[UNK]'] 2\n"
     ]
    },
    {
     "output_type": "stream",
     "name": "stderr",
     "text": [
      " 72%|███████▏  | 23456/32470 [00:10<00:03, 2309.85it/s]"
     ]
    },
    {
     "output_type": "stream",
     "name": "stdout",
     "text": [
      "else 《로보캅》의 6 ['《', '[UNK]', '》', '의'] 4\n"
     ]
    },
    {
     "output_type": "stream",
     "name": "stderr",
     "text": [
      " 74%|███████▍  | 23956/32470 [00:11<00:03, 2321.37it/s]"
     ]
    },
    {
     "output_type": "stream",
     "name": "stdout",
     "text": [
      "else 中川亜紀子なかがわ 9 ['中', '川', '[UNK]', '[UNK]', '子', '[UNK]'] 6\n"
     ]
    },
    {
     "output_type": "stream",
     "name": "stderr",
     "text": [
      " 75%|███████▌  | 24427/32470 [00:11<00:03, 2317.25it/s]"
     ]
    },
    {
     "output_type": "stream",
     "name": "stdout",
     "text": [
      "else Al-Ǧumhūriyya 13 ['A', 'l', '-', '[UNK]'] 4\n",
      "else al-ʿArabiyya 12 ['a', 'l', '-', '[UNK]'] 4\n",
      "else al-Lībiyya 10 ['a', 'l', '-', '[UNK]'] 4\n"
     ]
    },
    {
     "output_type": "stream",
     "name": "stderr",
     "text": [
      " 78%|███████▊  | 25382/32470 [00:11<00:03, 2339.13it/s]"
     ]
    },
    {
     "output_type": "stream",
     "name": "stdout",
     "text": [
      "else 'Fischer's-フィッシャーズ- 19 [\"'\", 'F', 'i', 's', 'c', 'h', 'e', 'r', \"'\", 's', '-', '[UNK]', '-'] 13\n"
     ]
    },
    {
     "output_type": "stream",
     "name": "stderr",
     "text": [
      " 81%|████████  | 26356/32470 [00:12<00:02, 2361.73it/s]"
     ]
    },
    {
     "output_type": "stream",
     "name": "stdout",
     "text": [
      "else \"낵스 3 ['\"', '[UNK]'] 2\n",
      "else AJI-NO-MOTO® 12 ['A', 'J', 'I', '-', 'N', 'O', '-', '[UNK]'] 8\n"
     ]
    },
    {
     "output_type": "stream",
     "name": "stderr",
     "text": [
      " 83%|████████▎ | 26893/32470 [00:12<00:02, 2476.32it/s]"
     ]
    },
    {
     "output_type": "stream",
     "name": "stdout",
     "text": [
      "else 自由民主党シャドウ・キャビネット 16 ['自', '由', '民', '主', '[UNK]', '[UNK]', '・', '[UNK]'] 8\n"
     ]
    },
    {
     "output_type": "stream",
     "name": "stderr",
     "text": [
      " 84%|████████▍ | 27378/32470 [00:12<00:02, 2229.34it/s]"
     ]
    },
    {
     "output_type": "stream",
     "name": "stdout",
     "text": [
      "else '촐라 3 [\"'\", '[UNK]'] 2\n"
     ]
    },
    {
     "output_type": "stream",
     "name": "stderr",
     "text": [
      " 86%|████████▌ | 27863/32470 [00:12<00:02, 2290.33it/s]"
     ]
    },
    {
     "output_type": "stream",
     "name": "stdout",
     "text": [
      "else '쌉니다 4 [\"'\", '[UNK]'] 2\n"
     ]
    },
    {
     "output_type": "stream",
     "name": "stderr",
     "text": [
      " 91%|█████████ | 29551/32470 [00:13<00:01, 2314.58it/s]"
     ]
    },
    {
     "output_type": "stream",
     "name": "stdout",
     "text": [
      "else '슈나이데뮐'이라는 10 [\"'\", '[UNK]', \"'\", '이', '라', '는'] 6\n"
     ]
    },
    {
     "output_type": "stream",
     "name": "stderr",
     "text": [
      " 95%|█████████▌| 30943/32470 [00:14<00:00, 2242.20it/s]"
     ]
    },
    {
     "output_type": "stream",
     "name": "stdout",
     "text": [
      "else 8.20.～8.23. 11 ['8', '.', '2', '0', '.', '[UNK]', '.', '2', '3', '.'] 10\n",
      "else '4㎿급 4 [\"'\", '[UNK]'] 2\n"
     ]
    },
    {
     "output_type": "stream",
     "name": "stderr",
     "text": [
      " 97%|█████████▋| 31636/32470 [00:14<00:00, 2241.56it/s]"
     ]
    },
    {
     "output_type": "stream",
     "name": "stdout",
     "text": [
      "else 0.2µT 5 ['0', '.', '[UNK]'] 3\n",
      "else 0.3µT 5 ['0', '.', '[UNK]'] 3\n"
     ]
    },
    {
     "output_type": "stream",
     "name": "stderr",
     "text": [
      " 99%|█████████▉| 32137/32470 [00:14<00:00, 2233.28it/s]"
     ]
    },
    {
     "output_type": "stream",
     "name": "stdout",
     "text": [
      "else '촐라 3 [\"'\", '[UNK]'] 2\n",
      "else \"챠미 3 ['\"', '[UNK]'] 2\n"
     ]
    },
    {
     "output_type": "stream",
     "name": "stderr",
     "text": [
      "100%|██████████| 32470/32470 [00:14<00:00, 2204.39it/s]"
     ]
    },
    {
     "output_type": "stream",
     "name": "stdout",
     "text": [
      "2966\n"
     ]
    },
    {
     "output_type": "stream",
     "name": "stderr",
     "text": [
      "\n"
     ]
    }
   ],
   "metadata": {}
  },
  {
   "cell_type": "code",
   "execution_count": 20,
   "source": [
    "for idx, cont in enumerate(Counter(UNK_sentence_list).most_common(100)) :\n",
    "    if idx % 10 == 9 :\n",
    "        print()\n",
    "    else :\n",
    "        print(cont, end=\"\\t\")"
   ],
   "outputs": [
    {
     "output_type": "stream",
     "name": "stdout",
     "text": [
      "('李', 225)\t('崔', 60)\t('皇', 60)\t('后', 54)\t('永', 41)\t('尹', 38)\t('昌', 33)\t('慶', 30)\t('俊', 29)\t\n",
      "('趙', 25)\t('興', 24)\t('홋스퍼', 24)\t('孝', 23)\t('盧', 22)\t('承', 22)\t('梁', 22)\t('容', 21)\t('徐', 21)\t\n",
      "('熙', 21)\t('貞', 20)\t('沈', 20)\t('陵', 19)\t('鍾', 19)\t('錫', 18)\t('放', 18)\t('池', 18)\t('團', 18)\t\n",
      "('賢', 18)\t('洪', 18)\t('申', 17)\t('進', 17)\t('洙', 17)\t('泰', 17)\t('植', 16)\t('夏', 16)\t('秀', 16)\t\n",
      "('校', 16)\t('勳', 16)\t('吳', 16)\t('康', 15)\t('景', 15)\t('홋카이도', 15)\t('炳', 15)\t('恩', 15)\t('哲', 14)\t\n",
      "('羅', 14)\t('源', 14)\t('惠', 14)\t('範', 14)\t('榮', 14)\t('煥', 14)\t('宇', 14)\t('崇', 14)\t('少', 13)\t\n",
      "('忠', 13)\t('姬', 13)\t('숀', 13)\t('浩', 12)\t('嬪', 12)\t('根', 12)\t('唐', 12)\t('翁', 12)\t('鉉', 12)\t\n",
      "('建', 12)\t('桓', 12)\t('玉', 11)\t('敬', 11)\t('淑', 11)\t('恭', 11)\t('智', 11)\t('宣', 11)\t('許', 11)\t\n",
      "('樂', 10)\t('延', 10)\t('昭', 10)\t('順', 10)\t('奎', 10)\t('斗', 10)\t('應', 10)\t('鎬', 10)\t('베렝가리오', 10)\t\n",
      "('촐라', 10)\t('奉', 10)\t('藤', 10)\t('澤', 10)\t('閔', 10)\t('織', 10)\t('弐', 9)\t('泳', 9)\t('寧', 9)\t\n"
     ]
    }
   ],
   "metadata": {}
  },
  {
   "cell_type": "code",
   "execution_count": 21,
   "source": [
    "cnt = 1\n",
    "for sen in preprocessed_df['sentence'] :\n",
    "    unk_char = \"\".join(UNK_word_and_chr(sen))\n",
    "    if re.search(r'[^\\u4e00-\\u9fff|\\u3131-\\u3163\\uac00-\\ud7a3]+', unk_char) :\n",
    "        print(UNK_word_and_chr(sen),sen)\n",
    "        cnt += 1\n",
    "    if cnt > 10 :\n",
    "        break\n",
    "print(cnt)"
   ],
   "outputs": [
    {
     "output_type": "stream",
     "name": "stdout",
     "text": [
      "['Трбайх'] 구시 칸(1582년 ~ 1655년 1월 14일)은 별명 그시리 칸, 본명 토르바이크(Трбайх, Torbaikh Khan)는 17세기 중반 몽골 오이라트부의 네 씨족 중 하나인 코슈트의 귀족으로, 코슈트 칸국의 창업군주다.\n",
      "else 空海くうかい홍법 8 ['空', '海', '[UNK]'] 3\n",
      "['Κυριάκος', 'Παπαδόπουλος'] 키리아코스 파파도풀로스 (Κυριάκος Παπαδόπουλος, Kyriakos Papadopoulos, 1992년 2월 23일, 중앙마케도니아 주 카테리니 ~)는 그리스의 축구 선수이다.\n",
      "else \"촐로\" 4 ['\"', '[UNK]', '\"'] 3\n",
      "['Ζ'] 12세기 요한네스 카라테로스의《점성술 개론(Compendium of Astrology)》에 있는 한 도해는 태양이 하나의 광선을 가진 원으로 표현되어 있고, 목성은 (그리스 신화에서 유피테르에 상응하는 제우스의 첫글자인) \"제타\"(Ζ)로 표시되어 있으며, 화성은 창이 겹쳐진 방패로 그려져 있다.\n",
      "['체르노젬스키', 'Величко', 'Димитров', 'Керин', 'Величко', 'Димитров', 'Керин'] 블라도 체르노젬스키(본명: 벨리치코 디미트로프 케린(Величко Димитров Керин)(Величко Димитров Керин), 1897년 10월 19일 ~ 1934년 10월 9일)는 불가리아의 혁명가이다.\n",
      "['MŠK'] 이에 그는 2002년 여름 자국 리그의 MŠK 질리나로 이적을 선택하였고, 그해 슬로바키아 수페르리가 챔피언십에서 소속팀이 두 번째 우승컵을 들어올리는 데 결정적인 공헌을 하였다.\n",
      "['Парламентские', 'выборы', 'в', 'России'] 2011년 러시아 의회 선거(Парламентские выборы в России 2011)는 2011년 450석의 국가두마 의회 의원들을 뽑기 위한 총선거이다.\n",
      "['뗀다.'] 대표팀은 한국시간으로 10일 오후 11시 투르크메니스탄의 수도 아시가바트의 코페트다그 스타디움에서 국제축구연맹(FIFA) 랭킹 132위인 투르크메니스탄을 상대로 10회 연속 월드컵 본선 진출을 향한 첫걸음을 뗀다.\n",
      "['Stanisław', 'Stanisław'] 스타니스와프 아우구스트 포니아토프스키(1732년 1월 17일 ~ 1798년 2월 12일) 또는 스타니스와프 2세 아우구스트(Stanisław II August), 스타니스와프 2세(Stanisław II)는 폴란드-리투아니아 연방의 마지막 국왕(재위: 1764년 9월 7일 ~ 1795년 1월 7일)이다.\n",
      "['느낍니다.'] 벅스(Bugs), 플로(FLO), 지니뮤직(genie music), 바이브(VIBE) 4개 음악 서비스 플랫폼은 최근 멜론에서 저작권료를 빼돌린 혐의로 검찰의 수사를 받고 있는 작금의 상황에 대해 형언하기 어려운 참담함을 느낍니다.\n",
      "else '숲튽훈'이라는 8 [\"'\", '[UNK]', \"'\", '이', '라', '는'] 6\n",
      "else '숲튽훈 4 [\"'\", '[UNK]'] 2\n",
      "['よみ', 'よみ'] 미즈하라 코요미(보통 요미(よみ)(よみ)로 불린다, 한국어 더빙판은 박재경)는 일본의 애니메이션과 만화 시리즈 《아즈망가 대왕》에 등장하는 인물이다.\n",
      "11\n"
     ]
    }
   ],
   "metadata": {}
  },
  {
   "cell_type": "code",
   "execution_count": 22,
   "source": [
    "cnt = 1\n",
    "for sen in preprocessed_df['sentence'] :\n",
    "    unk_char = \"\".join(UNK_word_and_chr(sen))\n",
    "    if re.search(r'[\\u0600-\\u06FF]+', unk_char) :\n",
    "        print(UNK_word_and_chr(sen),sen)\n",
    "        cnt += 1\n",
    "    if cnt > 10 :\n",
    "        break\n",
    "print(cnt)"
   ],
   "outputs": [
    {
     "output_type": "stream",
     "name": "stdout",
     "text": [
      "else 空海くうかい홍법 8 ['空', '海', '[UNK]'] 3\n",
      "else \"촐로\" 4 ['\"', '[UNK]', '\"'] 3\n",
      "else '숲튽훈'이라는 8 [\"'\", '[UNK]', \"'\", '이', '라', '는'] 6\n",
      "else '숲튽훈 4 [\"'\", '[UNK]'] 2\n",
      "else '펭귄의 4 [\"'\", '[UNK]'] 2\n",
      "else 株式会社アニメーションドゥウ 14 ['株', '式', '[UNK]', '社', '[UNK]'] 5\n",
      "else '캥거루'로 6 [\"'\", '[UNK]', \"'\", '로'] 4\n",
      "else \"Auseklītis\" 12 ['\"', '[UNK]', '\"'] 3\n",
      "else \"Ausekliņis\" 12 ['\"', '[UNK]', '\"'] 3\n",
      "else \"Ausekleņis\" 12 ['\"', '[UNK]', '\"'] 3\n",
      "else \"Ausekliņa\" 11 ['\"', '[UNK]', '\"'] 3\n",
      "else \"Auseklītis\" 12 ['\"', '[UNK]', '\"'] 3\n",
      "else \"호엔촐레른베링겐\"을 11 ['\"', '[UNK]', '\"', '을'] 4\n",
      "else '쌉니다 4 [\"'\", '[UNK]'] 2\n",
      "else 民主・リベラル労組会議 11 ['民', '主', '・', '[UNK]', '[UNK]', '[UNK]', '[UNK]', '議'] 8\n",
      "else 합병하면서「홋카이도 10 ['합', '병', '하', '면', '서', '「', '[UNK]'] 7\n",
      "else '크리스챤 5 [\"'\", '[UNK]'] 2\n",
      "else \"호엔촐레른베링겐\"을 11 ['\"', '[UNK]', '\"', '을'] 4\n",
      "else /ˈkeɪ.ɒs/ 9 ['/', '[UNK]', '.', '[UNK]', '/'] 5\n",
      "else 《恋のサイン 6 ['《', '[UNK]', '[UNK]'] 3\n",
      "else \"호엔촐레른베링겐\"을 11 ['\"', '[UNK]', '\"', '을'] 4\n",
      "else \"쉘부르\"라는 7 ['\"', '[UNK]', '\"', '라', '는'] 5\n",
      "else \"Aḥmad 6 ['\"', '[UNK]'] 2\n",
      "else 〈녀학생문뎨〉 7 ['〈', '[UNK]', '〉'] 3\n",
      "else 합병하면서「홋카이도 10 ['합', '병', '하', '면', '서', '「', '[UNK]'] 7\n",
      "else \"쿈이 3 ['\"', '[UNK]'] 2\n",
      "else 《미뎀 3 ['《', '[UNK]'] 2\n",
      "else '할미넴' 5 [\"'\", '[UNK]', \"'\"] 3\n",
      "else '영산강Ⅳ지구 7 [\"'\", '[UNK]'] 2\n",
      "else '펭수'를 5 [\"'\", '[UNK]', \"'\", '를'] 4\n",
      "else AJI-NO-MOTO® 12 ['A', 'J', 'I', '-', 'N', 'O', '-', '[UNK]'] 8\n",
      "else '쌉니다 4 [\"'\", '[UNK]'] 2\n",
      "else 《로보캅》의 6 ['《', '[UNK]', '》', '의'] 4\n",
      "else 中川亜紀子なかがわ 9 ['中', '川', '[UNK]', '[UNK]', '子', '[UNK]'] 6\n",
      "else Al-Ǧumhūriyya 13 ['A', 'l', '-', '[UNK]'] 4\n",
      "else al-ʿArabiyya 12 ['a', 'l', '-', '[UNK]'] 4\n",
      "else al-Lībiyya 10 ['a', 'l', '-', '[UNK]'] 4\n",
      "else 'Fischer's-フィッシャーズ- 19 [\"'\", 'F', 'i', 's', 'c', 'h', 'e', 'r', \"'\", 's', '-', '[UNK]', '-'] 13\n",
      "else \"낵스 3 ['\"', '[UNK]'] 2\n",
      "else AJI-NO-MOTO® 12 ['A', 'J', 'I', '-', 'N', 'O', '-', '[UNK]'] 8\n",
      "else 自由民主党シャドウ・キャビネット 16 ['自', '由', '民', '主', '[UNK]', '[UNK]', '・', '[UNK]'] 8\n",
      "else '촐라 3 [\"'\", '[UNK]'] 2\n",
      "else '쌉니다 4 [\"'\", '[UNK]'] 2\n",
      "else '슈나이데뮐'이라는 10 [\"'\", '[UNK]', \"'\", '이', '라', '는'] 6\n",
      "else 기관단체와 6 ['기', '관', '단', '체', '와'] 5\n",
      "else 8.20.～8.23. 11 ['8', '.', '2', '0', '.', '[UNK]', '.', '2', '3', '.'] 10\n",
      "else '4㎿급 4 [\"'\", '[UNK]'] 2\n",
      "else 0.2µT 5 ['0', '.', '[UNK]'] 3\n",
      "else 0.3µT 5 ['0', '.', '[UNK]'] 3\n",
      "else '촐라 3 [\"'\", '[UNK]'] 2\n",
      "else \"챠미 3 ['\"', '[UNK]'] 2\n",
      "1\n"
     ]
    }
   ],
   "metadata": {}
  },
  {
   "cell_type": "markdown",
   "source": [
    "## 🛰️ entity UNK 확인"
   ],
   "metadata": {}
  },
  {
   "cell_type": "code",
   "execution_count": 23,
   "source": [
    "subject_entity = []\n",
    "object_entity = []\n",
    "\n",
    "for i, j in zip(preprocessed_df['subject_entity'], preprocessed_df['object_entity']):\n",
    "    i = eval(i)['word']\n",
    "    j = eval(j)['word']\n",
    "\n",
    "    subject_entity.append(i)\n",
    "    object_entity.append(j)"
   ],
   "outputs": [],
   "metadata": {}
  },
  {
   "cell_type": "code",
   "execution_count": 24,
   "source": [
    "cnt = 1\n",
    "UNK_entity_list = []\n",
    "for sen in tqdm(subject_entity+object_entity) :\n",
    "    # if '李' in sen :\n",
    "    if tokenizer.unk_token in tokenizer.tokenize(sen) :\n",
    "        # print(sen, tokenizer.tokenize(sen))\n",
    "        # print(UNK_word_and_chr(sen))\n",
    "        UNK_entity_list.extend(UNK_word_and_chr(sen))\n",
    "        cnt += 1\n",
    "print(cnt)"
   ],
   "outputs": [
    {
     "output_type": "stream",
     "name": "stderr",
     "text": [
      " 59%|█████▉    | 38543/64940 [00:03<00:02, 12240.11it/s]"
     ]
    },
    {
     "output_type": "stream",
     "name": "stdout",
     "text": [
      "else 株式会社アニメーションドゥウ 14 ['株', '式', '[UNK]', '社', '[UNK]'] 5\n"
     ]
    },
    {
     "output_type": "stream",
     "name": "stderr",
     "text": [
      " 89%|████████▉ | 58097/64940 [00:04<00:00, 12156.87it/s]"
     ]
    },
    {
     "output_type": "stream",
     "name": "stdout",
     "text": [
      "else 中川亜紀子なかがわ 9 ['中', '川', '[UNK]', '[UNK]', '子', '[UNK]'] 6\n"
     ]
    },
    {
     "output_type": "stream",
     "name": "stderr",
     "text": [
      "100%|██████████| 64940/64940 [00:05<00:00, 11986.43it/s]"
     ]
    },
    {
     "output_type": "stream",
     "name": "stdout",
     "text": [
      "482\n"
     ]
    },
    {
     "output_type": "stream",
     "name": "stderr",
     "text": [
      "\n"
     ]
    }
   ],
   "metadata": {}
  },
  {
   "cell_type": "code",
   "execution_count": 25,
   "source": [
    "Counter(UNK_entity_list).most_common(100)\n",
    "for idx, cont in enumerate(Counter(UNK_entity_list).most_common(120)) :\n",
    "    if idx % 10 == 9 :\n",
    "        print()\n",
    "    else :\n",
    "        print(cont, end=\"\\t\")"
   ],
   "outputs": [
    {
     "output_type": "stream",
     "name": "stdout",
     "text": [
      "('홋스퍼', 27)\t('홋카이도', 10)\t('放', 9)\t('送', 9)\t('베렝가리오', 8)\t('에스파뇰', 8)\t('숀', 8)\t('織', 8)\t('쥘', 7)\t\n",
      "('陵', 7)\t('李', 7)\t('리콴유', 6)\t('쾰른', 6)\t('우젠슝', 6)\t('리셴녠', 5)\t('비욘세', 5)\t('少', 5)\t('弐', 5)\t\n",
      "('포로셴코', 4)\t('묀헨글라트바흐', 4)\t('다롄', 4)\t('局', 4)\t('昌', 4)\t('梁', 4)\t('啓', 4)\t('超', 4)\t('弓', 4)\t\n",
      "('흄', 3)\t('쟝쩐위', 3)\t('뮐러', 3)\t('훙윈', 3)\t('푸르트벵글러', 3)\t('스뱌토폴크', 3)\t('슌지', 3)\t('와치랄롱꼰', 3)\t('아녜스', 3)\t\n",
      "('藤', 3)\t('晋', 3)\t('聯', 3)\t('香', 3)\t('바라캇', 2)\t('넋업샨', 2)\t('루쳄부르스키', 2)\t('꽈드로스', 2)\t('래이쾨넨', 2)\t\n",
      "('뱌체슬라프', 2)\t('쥰', 2)\t('욘', 2)\t('카뮈', 2)\t('헴스워스', 2)\t('귈', 2)\t('슈쳉스니', 2)\t('푀', 2)\t('힉스', 2)\t\n",
      "('하이츨러', 2)\t('젭', 2)\t('로바쳅스키', 2)\t('昶', 2)\t('위쾨넨', 2)\t('퓌르트', 2)\t('파스콸', 2)\t('맬', 2)\t('아르툠', 2)\t\n",
      "('똔텃투옛', 2)\t('앳킨슨', 2)\t('브뢴뷔', 2)\t('에미넴', 2)\t('핼리팩스', 2)\t('總', 2)\t('켐니츠', 2)\t('伊', 2)\t('達', 2)\t\n",
      "('廳', 2)\t('樹', 2)\t('郭', 2)\t('驥', 2)\t('居', 2)\t('干', 2)\t('永', 2)\t('衛', 2)\t('乃', 2)\t\n",
      "('麗', 2)\t('뎀나', 2)\t('降', 2)\t('内', 2)\t('后', 2)\t('洋', 2)\t('技', 2)\t('術', 2)\t('洪', 2)\t\n",
      "('興', 2)\t('豊', 2)\t('鍾', 2)\t('煦', 2)\t('柳', 2)\t('浙', 2)\t('港', 2)\t('裔', 2)\t('慶', 2)\t\n",
      "('킵루츠', 1)\t('푈러', 1)\t('피녜라', 1)\t('MŠK', 1)\t('로뮈알', 1)\t('넵투누스', 1)\t('리옌훙', 1)\t('스웜', 1)\t('헹크', 1)\t\n"
     ]
    }
   ],
   "metadata": {}
  },
  {
   "cell_type": "markdown",
   "source": [
    "# 🛰️시험"
   ],
   "metadata": {}
  },
  {
   "cell_type": "code",
   "execution_count": 90,
   "source": [
    "Test_csv_file = '/opt/ml/dataset/test/test_data.csv'\n",
    "test_df = pd.read_csv(Test_csv_file)"
   ],
   "outputs": [],
   "metadata": {}
  },
  {
   "cell_type": "code",
   "execution_count": 92,
   "source": [
    "ess = ['sentence','subject_entity','object_entity']\n",
    "for col in ess :\n",
    "    test_df[col] = test_df[col].apply(preprocessing)"
   ],
   "outputs": [],
   "metadata": {}
  },
  {
   "cell_type": "code",
   "execution_count": 93,
   "source": [
    "t_sub_col = test_df['subject_entity'].apply(eval).str['word']\n",
    "t_sub_UNK = UNK_word(t_sub_col, unk_idx)\n",
    "\n",
    "t_obj_col = test_df['object_entity'].apply(eval).str['word']\n",
    "t_obj_UNK = UNK_word(t_obj_col, unk_idx)\n",
    "\n",
    "t_sen_col = test_df['sentence']\n",
    "t_sen_UNK = UNK_word(t_sen_col, unk_idx)"
   ],
   "outputs": [
    {
     "output_type": "stream",
     "name": "stderr",
     "text": [
      "100%|██████████| 7765/7765 [00:00<00:00, 13664.76it/s]\n",
      "100%|██████████| 7765/7765 [00:00<00:00, 14136.09it/s]\n",
      "100%|██████████| 7765/7765 [00:01<00:00, 4339.03it/s]\n"
     ]
    }
   ],
   "metadata": {}
  },
  {
   "cell_type": "code",
   "execution_count": 94,
   "source": [
    "cnt = 0\n",
    "for idx, sen in t_sen_UNK :\n",
    "    UNK_subword = UNK_word_and_chr(sen)\n",
    "    print(UNK_subword, sen)\n",
    "    print(tokenizer.tokenize(sen))\n",
    "    cnt += 1\n",
    "print(cnt)"
   ],
   "outputs": [
    {
     "output_type": "stream",
     "name": "stdout",
     "text": [
      "['姜'] 강명구(姜明求, 1917년~2000년)는 대한민국의 건축가이다.\n",
      "['강', '##명', '##구', '(', '[UNK]', '明', '求', ',', '1917', '##년', '~', '2000', '##년', ')', '는', '대한민국', '##의', '건축가', '##이다', '.']\n",
      "['栗', '亭', '李', '寬'] 일찍이 이천(利川)의 율정(栗亭) 이관의(李寬義)의 문하에서 수학하였다.\n",
      "['일찍이', '이천', '(', '利', '川', ')', '의', '율', '##정', '(', '[UNK]', '[UNK]', ')', '이관', '##의', '(', '[UNK]', '[UNK]', '義', ')', '의', '문하', '##에서', '수학', '##하', '##였', '##다', '.']\n",
      "['코'] 잉글랜드와 로마 사이의 친밀감은 1526년 코냑 동맹의 공식화에서 볼 수 있다.\n",
      "['잉글랜드', '##와', '로마', '사이', '##의', '친밀감', '##은', '152', '##6', '##년', '[UNK]', '동맹', '##의', '공식', '##화', '##에서', '볼', '수', '있', '##다', '.']\n",
      "['。'] 초기에는 대부분의 경우 '탈퇴'라는 표현을 사용하였지만(결성 당시부터 나카자와 졸업까지의 모닝구무스메。의 역사가 게재되어 있는 ASAYAN 공식 사이트 등에서는 지금도 탈퇴라는 표현으로 통일되어 있다.) 2001년 이후에는 공식적으로 주로 졸업이라는 표현을 쓰게 되어('졸업 메모리얼' 굿즈 등), 과거 멤버에 대해서도 졸업이라는 표현으로 통일한 경우도 많다(콘서트 MC에서의 '졸업 멤버' 호칭 등).\n",
      "['초기', '##에', '##는', '대부분', '##의', '경우', \"'\", '탈퇴', \"'\", '라는', '표현', '##을', '사용', '##하', '##였', '##지만', '(', '결성', '당시', '##부터', '나카', '##자와', '졸업', '##까', '##지', '##의', '모닝', '##구', '##무스', '##메', '[UNK]', '의', '역사가', '게재', '##되', '##어', '있', '##는', 'AS', '##A', '##Y', '##AN', '공식', '사이트', '등', '##에서', '##는', '지금', '##도', '탈퇴', '##라는', '표현', '##으로', '통일', '##되', '##어', '있', '##다', '.', ')', '2001', '##년', '이후', '##에', '##는', '공식', '##적으로', '주로', '졸업', '##이', '##라는', '표현', '##을', '쓰', '##게', '되', '##어', '(', \"'\", '졸업', '메모리', '##얼', \"'\", '굿', '##즈', '등', ')', ',', '과거', '멤버', '##에', '대해서', '##도', '졸업', '##이', '##라는', '표현', '##으로', '통일', '##한', '경우', '##도', '많', '##다', '(', '콘서트', 'MC', '##에서', '##의', \"'\", '졸업', '멤버', \"'\", '호칭', '등', ')', '.']\n",
      "['興', '祿', '顯', '祿'] 1775년(영조 51) 4월 24일 영조의 특명으로 흥록대부(興祿大夫)에 가자되고, 이해 12월 10일 다시 현록대부(顯祿大夫)에 가자되었다.\n",
      "['177', '##5', '##년', '(', '영조', '51', ')', '4', '##월', '24', '##일', '영조', '##의', '특', '##명', '##으로', '흥', '##록', '##대', '##부', '(', '[UNK]', '[UNK]', '大', '夫', ')', '에', '가자', '##되', '##고', ',', '이해', '12', '##월', '10', '##일', '다시', '현', '##록', '##대', '##부', '(', '[UNK]', '[UNK]', '大', '夫', ')', '에', '가자', '##되', '##었', '##다', '.']\n",
      "['윰'] 7일 윰댕은 자신의 유튜브 채널을 통해 대도서관과 만나기 전 결혼했었던 사실과 아이가 하나 있다고 밝혔다.\n",
      "['7', '##일', '[UNK]', '자신', '##의', '유튜브', '채널', '##을', '통해', '대도', '##서관', '##과', '만나', '##기', '전', '결혼', '##했', '##었', '##던', '사실', '##과', '아이', '##가', '하나', '있', '##다고', '밝혔', '##다', '.']\n",
      "['스'] 지역 주민들의 글로벌 문화발전을 위해 마련된 이번 행사 1부에는 전 MBC 스포츠 해설위원이자 현재 NFL 코리아 회장을 지내고 있는 강윤종 전문해설위원이 미식축구에 익숙하지 못한 주민들을 대상으로 경기 설명을 진행하였으며, 주민들은 1부 행사 동안 마술쇼, 바비큐 파티, 스웁(Swoop) 유타대 마스코트 사진 촬영 등의 재미있는 활동을 진행하였으며, 2부에서는 강윤종, 주장훈 전문해설위원과 함께 라이브 해설을 포함한 단체 TV 중계 관전 행사를 진행하였다.\n",
      "['지역', '주민', '##들', '##의', '글로벌', '문화', '##발전', '##을', '위해', '마련', '##된', '이번', '행사', '1', '##부', '##에', '##는', '전', 'MBC', '스포츠', '해설', '##위원', '##이', '##자', '현재', 'N', '##F', '##L', '코리아', '회장', '##을', '지내', '##고', '있', '##는', '강', '##윤', '##종', '전문', '##해', '##설', '##위원', '##이', '미식', '##축구', '##에', '익숙', '##하', '##지', '못한', '주민', '##들', '##을', '대상', '##으로', '경기', '설명', '##을', '진행', '##하', '##였', '##으며', ',', '주민', '##들', '##은', '1', '##부', '행사', '동안', '마술', '##쇼', ',', '바비큐', '파티', ',', '[UNK]', '(', 'S', '##wo', '##op', ')', '유', '##타', '##대', '마스', '##코트', '사진', '촬영', '등', '##의', '재미있', '##는', '활동', '##을', '진행', '##하', '##였', '##으며', ',', '2', '##부', '##에서', '##는', '강', '##윤', '##종', ',', '주장', '##훈', '전문', '##해', '##설', '##위원', '##과', '함께', '라이브', '해설', '##을', '포함', '##한', '단체', 'TV', '중계', '관전', '행사', '##를', '진행', '##하', '##였', '##다', '.']\n",
      "['客', '客'] 춘신군은 아래에 식객(食客) 3천 인을 모아 거느리고 있었는데, 상객(上客)은 모두 구슬로 장식한 신발을 신고 있었다고 한다.\n",
      "['춘', '##신', '##군', '##은', '아래', '##에', '식', '##객', '(', '食', '[UNK]', ')', '3', '##천', '인', '##을', '모아', '거느리', '##고', '있', '##었', '##는데', ',', '상', '##객', '(', '上', '[UNK]', ')', '은', '모두', '구슬', '##로', '장식', '##한', '신발', '##을', '신고', '있', '##었', '##다고', '한다', '.']\n",
      "['蘇'] 표면상 이유는 건강 문제였지만, 사실은 미군정이 다음날 개최될 제1차 미소공동위원회를 앞두고 철저한 반소(反蘇)주의자이며 신탁통치안을 격렬히 비판해 온 이승만을 정치 일선에서 배제할 필요를 느꼈기 때문이었다.\n",
      "['표면', '##상', '이유', '##는', '건강', '문제', '##였', '##지만', ',', '사실', '##은', '미군정', '##이', '다음', '##날', '개최', '##될', '제', '##1', '##차', '미소', '##공', '##동', '##위원회', '##를', '앞두', '##고', '철저', '##한', '반', '##소', '(', '反', '[UNK]', ')', '주의자', '##이', '##며', '신탁', '##통', '##치', '##안', '##을', '격렬', '##히', '비판', '##해', '온', '이승만', '##을', '정치', '일선', '##에서', '배제', '##할', '필요', '##를', '느꼈', '##기', '때문', '##이', '##었', '##다', '.']\n",
      "['洗', '劍'] 세검정이란 이름은 광해군 15년(1623) 인조반정 때 이곳에서 광해군의 폐위를 의논하고 칼을 갈아 날을 세웠다고 한데서 세검(洗劍)이라는 이름이 유래되었다고 한다.\n",
      "['세', '##검', '##정', '##이', '##란', '이름', '##은', '광해군', '15', '##년', '(', '162', '##3', ')', '인조', '##반', '##정', '때', '이곳', '##에서', '광해군', '##의', '폐', '##위', '##를', '의논', '##하고', '칼', '##을', '갈아', '날', '##을', '세웠', '##다고', '한데', '##서', '세', '##검', '(', '[UNK]', '[UNK]', ')', '이라', '##는', '이름', '##이', '유래', '##되', '##었', '##다고', '한다', '.']\n",
      "['베'] 드로공의 통치 기간 내내, 그는 숙부인 블루아 백작 티보 1세 (그는 돌의 대주교 비코엔과 렌 백작 지디카엘 베렝가르에게 공작령의 관리를 맡겼다)과 양아버지 앙주 백작 풀크 2세의 섭정 통치라는 그림자에 있었다.\n",
      "['드로', '##공', '##의', '통치', '기간', '내내', ',', '그', '##는', '숙부', '##인', '블루', '##아', '백작', '티', '##보', '1', '##세', '(', '그', '##는', '돌', '##의', '대주교', '비', '##코', '##엔', '##과', '렌', '백작', '지', '##디', '##카', '##엘', '[UNK]', '공작', '##령', '##의', '관리', '##를', '맡겼', '##다', ')', '과', '양', '##아버지', '앙', '##주', '백작', '풀', '##크', '2', '##세', '##의', '섭', '##정', '통치', '##라는', '그림자', '##에', '있', '##었', '##다', '.']\n",
      "['曺', '秉'] 1936년 11월 24일 경성부회의원 조병상(曺秉相), 조선총독부 중추원 참의인 한규복 등이 중심이 되어 30여 명의 간담회를 열어 구체적으로 이 문제를 추진키 위해 위원 8명으로 기성회를 구성하고 1937년 발회식(發會式)을 가질 예정이었다.\n",
      "['1936', '##년', '11', '##월', '24', '##일', '경성', '##부', '##회의', '##원', '조병', '##상', '(', '[UNK]', '[UNK]', '相', ')', ',', '조선총독부', '중추', '##원', '참', '##의', '##인', '한', '##규', '##복', '등', '##이', '중심', '##이', '되', '##어', '30', '##여', '명의', '간담회', '##를', '열', '##어', '구체', '##적으로', '이', '문제', '##를', '추진', '##키', '위해', '위원', '8', '##명', '##으로', '기성', '##회', '##를', '구성', '##하고', '1937', '##년', '발', '##회', '##식', '(', '發', '會', '式', ')', '을', '가질', '예정', '##이', '##었', '##다', '.']\n",
      "['守'] 권수평(權守平, ~ 1250년)은 고려의 문신이다.\n",
      "['권', '##수', '##평', '(', '權', '[UNK]', '平', ',', '~', '125', '##0', '##년', ')', '은', '고려', '##의', '문신', '##이다', '.']\n",
      "['邊', '軾', '收', '獲'] 추밀원부사를 또 사양하고 우부승선이 되어 장군 변식(邊軾) 등으로 강화수획사(江華收獲使)를 삼아 약탈을 자행케 하였고, 노비에게 벼슬을 주는 특례를 만든 아버지 최항의 본을 따서 노비에게 낭장의 벼슬을 주었다.\n",
      "['추', '##밀', '##원', '##부', '##사', '##를', '또', '사양', '##하고', '우', '##부', '##승', '##선', '##이', '되', '##어', '장군', '변', '##식', '(', '[UNK]', '[UNK]', ')', '등', '##으로', '강화', '##수', '##획', '##사', '(', '江', '華', '[UNK]', '[UNK]', '使', ')', '를', '삼', '##아', '약탈', '##을', '자행', '##케', '하', '##였', '##고', ',', '노비', '##에', '##게', '벼슬', '##을', '주', '##는', '특례', '##를', '만든', '아버지', '최', '##항', '##의', '본', '##을', '따', '##서', '노비', '##에', '##게', '낭', '##장', '##의', '벼슬', '##을', '주', '##었', '##다', '.']\n",
      "['묀', '묀'] 소매상의 아들이었던 귄터 네처는 보루시아 묀헨글라트바흐의 팀 선수가 되기 전에, 지역 라이벌 1. FC 묀헨글라트바흐에서 8세부터 19세까지 축구를 하였다.\n",
      "['소매', '##상의', '아들', '##이', '##었', '##던', '귄', '##터', '네', '##처', '##는', '보루', '##시아', '[UNK]', '팀', '선수', '##가', '되', '##기', '전', '##에', ',', '지역', '라이벌', '1', '.', 'FC', '[UNK]', '8', '##세', '##부터', '19', '##세', '##까', '##지', '축구', '##를', '하', '##였', '##다', '.']\n",
      "['友'] 옥천공립보통학교를 마치고 휘문고등보통학교에 입학해서 박종화·홍사용·정백 등과 사귀었고, 박팔양 등과 동인지 〈요람〉을 펴내기도 했으며, 신석우 등과 문우회(文友會) 활동에 참가하여 이병기·이일·이윤주 등의 지도를 받았다.\n",
      "['옥천', '##공', '##립', '##보', '##통', '##학교', '##를', '마치', '##고', '휘', '##문고', '##등', '##보', '##통', '##학교', '##에', '입학', '##해서', '박종', '##화', '·', '홍', '##사', '##용', '·', '정', '##백', '등', '##과', '사귀', '##었', '##고', ',', '박', '##팔', '##양', '등', '##과', '동인', '##지', '〈', '요람', '〉', '을', '펴내', '##기', '##도', '했으며', ',', '신석', '##우', '등', '##과', '문', '##우회', '(', '文', '[UNK]', '會', ')', '활동', '##에', '참가', '##하여', '이병', '##기', '·', '이', '##일', '·', '이윤', '##주', '등', '##의', '지도', '##를', '받', '##았', '##다', '.']\n",
      "['벵'] 마코가 항의하자 벵어는 마코를 배신자로 부르며 학생들에게 마코를 처형대로 끌어내도록 명령한다.\n",
      "['마', '##코', '##가', '항의', '##하', '##자', '[UNK]', '마', '##코', '##를', '배신', '##자', '##로', '부르', '##며', '학생', '##들', '##에', '##게', '마', '##코', '##를', '처형', '##대로', '끌어내', '##도록', '명령', '##한다', '.']\n",
      "['劉', '佑'] 하동태수 유우(劉佑)가 군을 떠났는데, 후임으로 좌승이 부임하였다.\n",
      "['하동', '##태', '##수', '유', '##우', '(', '[UNK]', '[UNK]', ')', '가', '군', '##을', '떠났', '##는데', ',', '후임', '##으로', '좌', '##승', '##이', '부임', '##하', '##였', '##다', '.']\n",
      "['倭', '奴', '国'] 『후한서』 동이전에 따르면 건무중원 2년(기원후 57년) 후한 광무제에게 왜노국(倭奴国)의 사신이 찾아왔고 광무제는 왜노국이 책봉되었다는 금인을 하사했다.\n",
      "['『', '후한', '##서', '』', '동이', '##전', '##에', '따르', '##면', '건', '##무', '##중', '##원', '2', '##년', '(', '기원', '##후', '57', '##년', ')', '후한', '광', '##무', '##제', '##에', '##게', '왜', '##노', '##국', '(', '[UNK]', '[UNK]', '[UNK]', ')', '의', '사신', '##이', '찾아왔', '##고', '광', '##무', '##제', '##는', '왜', '##노', '##국', '##이', '책봉', '##되', '##었', '##다는', '금', '##인', '##을', '하사', '##했', '##다', '.']\n",
      "['帶', '帶', '恩'] 대원군(帶原君)이었다가 뒤에 대은군(帶恩君)으로 변경된다.\n",
      "['대원군', '(', '[UNK]', '原', '君', ')', '이', '##었', '##다가', '뒤', '##에', '대', '##은', '##군', '(', '[UNK]', '[UNK]', '君', ')', '으로', '변경', '##된', '##다', '.']\n",
      "['暗'] 르네상스 이래의 과제였던 인체표현의 전통이 데생과 구도를 라파엘로에게서, 명암법(明暗法)을 코레조에게서, 색채를 티치아노에게 배운 그는 작풍에 있어서 하나의 뛰어난 성과를 낳았다.\n",
      "['르네상스', '이래', '##의', '과제', '##였', '##던', '인체', '##표', '##현', '##의', '전통', '##이', '데', '##생', '##과', '구도', '##를', '라파엘', '##로', '##에', '##게', '##서', ',', '명암', '##법', '(', '明', '[UNK]', '法', ')', '을', '코레', '##조', '##에', '##게', '##서', ',', '색채', '##를', '티', '##치아', '##노', '##에', '##게', '배운', '그', '##는', '작', '##풍', '##에', '있', '##어', '##서', '하나', '##의', '뛰어난', '성과', '##를', '낳', '##았', '##다', '.']\n",
      "['尙', '敬', '尙', '桓'] 그는 종조 할아버지들인 한상경(韓尙敬)과 한상덕에 의해 양육되었으며, 종조 할아버지 한상환(韓尙桓)의 문하에서 수학하다가 뒤에 자망산을 찾아가 류태재의 문하생이 되었다.\n",
      "['그', '##는', '종', '##조', '할아버지', '##들인', '한상', '##경', '(', '韓', '[UNK]', '[UNK]', ')', '과', '한상', '##덕', '##에', '의해', '양육', '##되', '##었', '##으며', ',', '종', '##조', '할아버지', '한상', '##환', '(', '韓', '[UNK]', '[UNK]', ')', '의', '문하', '##에서', '수학', '##하', '##다가', '뒤', '##에', '자', '##망', '##산', '##을', '찾아가', '류', '##태', '##재', '##의', '문하', '##생', '##이', '되', '##었', '##다', '.']\n",
      "['慶', '應'] 게이오(慶應) 3년(1868년) 12월 9일(양력 1월 3일)에 내려진 왕정복고의 대호령에서는 섭정, 관백, 정이대장군직이 모두 폐지되었고 막부 체제와 함께 관백의 역사도 종언을 고했다.\n",
      "['게이', '##오', '(', '[UNK]', '[UNK]', ')', '3', '##년', '(', '186', '##8', '##년', ')', '12', '##월', '9', '##일', '(', '양', '##력', '1', '##월', '3', '##일', ')', '에', '내려진', '왕정', '##복', '##고', '##의', '대', '##호', '##령', '##에서', '##는', '섭', '##정', ',', '관', '##백', ',', '정이', '##대장', '##군', '##직', '##이', '모두', '폐지', '##되', '##었', '##고', '막부', '체제', '##와', '함께', '관', '##백', '##의', '역사', '##도', '종', '##언', '##을', '고', '##했', '##다', '.']\n",
      "['감'] 박상준 연구원은 “중국의 경우 작년 2분기에 출시한 꼬북칩과 혼다칩 등 신제품 매출이 부진했고, 감자스낵(오감자, 스윙칩) 플레이버 익스텐션 효과에 따른 매출성장 효과가 예상보다 약하게 나타났다”며 “베트남은 파이 재고 이슈로 매출액이 부진하면서, 이익이 부진했는데 5~6월 실적이 개선되고 있는 흐름이어서 3분기에는 매출액이 2분기 대비 증가할 것으로 기대된다”고 밝혔다.\n",
      "['박상', '##준', '연구원', '##은', '“', '중국', '##의', '경우', '작년', '2', '##분', '##기에', '출시', '##한', '꼬', '##북', '##칩', '##과', '혼다', '##칩', '등', '신', '##제품', '매출', '##이', '부진', '##했', '##고', ',', '[UNK]', '(', '오감', '##자', ',', '스윙', '##칩', ')', '플레이', '##버', '익스', '##텐', '##션', '효과', '##에', '따른', '매출', '##성장', '효과', '##가', '예상', '##보', '##다', '약하', '##게', '나타났', '##다', '”', '며', '“', '베트남', '##은', '파이', '재고', '이슈', '##로', '매출액', '##이', '부진', '##하면', '##서', ',', '이익', '##이', '부진', '##했', '##는데', '5', '~', '6', '##월', '실적', '##이', '개선', '##되', '##고', '있', '##는', '흐름', '##이어', '##서', '3', '##분', '##기에', '##는', '매출액', '##이', '2', '##분', '##기', '대비', '증가', '##할', '것', '##으로', '기대', '##된', '##다', '”', '고', '밝혔', '##다', '.']\n",
      "['屬', '謙'] 그녀는 중종의 배려로 1521년(중종 16) 11월에 속공(屬公)한 죄인 안처겸(安處謙)의 집을 받았다.\n",
      "['그녀', '##는', '중종', '##의', '배려', '##로', '152', '##1', '##년', '(', '중종', '16', ')', '11', '##월', '##에', '속', '##공', '(', '[UNK]', '公', ')', '한', '죄인', '안', '##처', '##겸', '(', '安', '處', '[UNK]', ')', '의', '집', '##을', '받', '##았', '##다', '.']\n",
      "['鎭'] 또한 유비를 행대사마 영사례교위로 추천했으며 유비는 유장을 행진서대장군(行鎭西大將軍) 영익주목으로 추천하였다.\n",
      "['또한', '유비', '##를', '행', '##대사', '##마', '영사', '##례', '##교', '##위', '##로', '추천', '##했', '##으며', '유비', '##는', '유', '##장', '##을', '행진', '##서', '##대장', '##군', '(', '行', '[UNK]', '西', '大', '將', '軍', ')', '영', '##익', '##주', '##목', '##으로', '추천', '##하', '##였', '##다', '.']\n",
      "['兩', '降', '服', '宣'] 김구와 김규식이 평양으로 출발하기도 전에 북한은 양김씨(兩金氏)가 이미 항복(降服)했다고 선전(宣傳)하고 있었고, 서울의 신문들도 이런 사실을 보도하고 있었다.\n",
      "['김구', '##와', '김규', '##식', '##이', '평양', '##으로', '출발', '##하기', '##도', '전', '##에', '북한', '##은', '양', '##김', '##씨', '(', '[UNK]', '金', '氏', ')', '가', '이미', '항복', '(', '[UNK]', '[UNK]', ')', '했', '##다고', '선전', '(', '[UNK]', '傳', ')', '하고', '있', '##었', '##고', ',', '서울', '##의', '신문', '##들', '##도', '이런', '사실', '##을', '보도', '##하고', '있', '##었', '##다', '.']\n",
      "['李', '辛', '旽', '辛', '旽'] 아들 이집(李集)은 신돈(辛旽)과 대립하여 영천으로 피신하였다가 신돈(辛旽)이 주살된 후 판전교시사가 되었다.\n",
      "['아들', '이', '##집', '(', '[UNK]', '集', ')', '은', '신', '##돈', '(', '[UNK]', '[UNK]', ')', '과', '대립', '##하여', '영천', '##으로', '피신', '##하', '##였', '##다가', '신', '##돈', '(', '[UNK]', '[UNK]', ')', '이', '주', '##살', '##된', '후', '판', '##전', '##교', '##시', '##사', '##가', '되', '##었', '##다', '.']\n",
      "['閣'] 노태우, 김영삼, 김종필 3인이 서명한 소위 \"내각제 합의문\"(內閣制 合意文)은 같은해 5월 9일 민자당 제1차 전당대회가 개최되기 직전인 5월 6일에 작성된 것으로 그 내용은 1. 의회와 내각이 함께 국민에게 책임지는 의회민주주의의 구현, 2. 1년 이내에 의원 내각제로 개헌, 3. 이를 위해 금년 중에 개헌작업에 착수한다는 내용을 담고 있었다.\n",
      "['노태우', ',', '김영삼', ',', '김종필', '3', '##인', '##이', '서명', '##한', '소위', '\"', '내각', '##제', '합의', '##문', '\"', '(', '內', '[UNK]', '制', '合', '意', '文', ')', '은', '같', '##은', '##해', '5', '##월', '9', '##일', '민자', '##당', '제', '##1', '##차', '전당', '##대', '##회', '##가', '개최', '##되', '##기', '직전', '##인', '5', '##월', '6', '##일', '##에', '작성', '##된', '것', '##으로', '그', '내용', '##은', '1', '.', '의회', '##와', '내각', '##이', '함께', '국민', '##에', '##게', '책임지', '##는', '의회', '##민주', '##주의', '##의', '구현', ',', '2', '.', '1', '##년', '이내', '##에', '의원', '내각', '##제', '##로', '개헌', ',', '3', '.', '이를', '위해', '금년', '중', '##에', '개헌', '##작', '##업', '##에', '착수', '##한다', '##는', '내용', '##을', '담', '##고', '있', '##었', '##다', '.']\n",
      "['町'] 선교사 루이스 프로이스의 『일본사』에 따르면 다카쓰키 성의 조카마치(城下町)를 이틀 밤낮에 걸쳐 모조리 불사르고 파괴하였다고 한다.\n",
      "['선교사', '루이스', '프로', '##이스', '##의', '『', '일본', '##사', '』', '에', '따르', '##면', '다카', '##쓰', '##키', '성의', '조카', '##마', '##치', '(', '城', '下', '[UNK]', ')', '를', '이틀', '밤낮', '##에', '걸쳐', '모조리', '불사', '##르', '##고', '파괴', '##하', '##였', '##다고', '한다', '.']\n",
      "['와'] 특히 지난 5월 즉위한 와치랄롱꼰 국왕이 당시 수티다 현 왕비와 결혼식을 올리면서 ‘왕비’로 임명한 지 불과 두 달 만에 ‘배우자’ 호칭을 부여해 화제가 됐다.\n",
      "['특히', '지난', '5', '##월', '즉위', '##한', '[UNK]', '국왕', '##이', '당시', '수', '##티', '##다', '현', '왕비', '##와', '결혼식', '##을', '올리', '##면서', '‘', '왕비', '’', '로', '임명', '##한', '지', '불과', '두', '달', '만', '##에', '‘', '배우자', '’', '호칭', '##을', '부여', '##해', '화제', '##가', '됐', '##다', '.']\n",
      "['･'] 이에 권 시장은 \"전화번호 불명･성명 중복 등으로 조회되지 않는 4명은 질병관리본부의 협조를 얻어 계속 추적해 나갈 계획이다\"라고 말했다.\n",
      "['이', '##에', '권', '시장', '##은', '\"', '전화', '##번', '##호', '불명', '[UNK]', '성명', '중복', '등', '##으로', '조회', '##되', '##지', '않', '##는', '4', '##명', '##은', '질병관리본부', '##의', '협조', '##를', '얻어', '계속', '추적', '##해', '나갈', '계획', '##이다', '\"', '라고', '말', '##했', '##다', '.']\n",
      "['쫒'] 나해수 진안군수 권한대행은 \"정월대보름 행사는 한해의 액운을 쫒아내고 풍년이 들도록 기원하는 우리민족 고유의 전통행사이지만 신종 코로나바이러스가 확산되는 상황에서 군민들의 안전과 건강을 최우선으로 고려해 취소하기로 결정했다\"고 밝혔다.\n",
      "['나', '##해', '##수', '진', '##안', '##군', '##수', '권한', '##대', '##행', '##은', '\"', '정월', '##대', '##보', '##름', '행사', '##는', '한', '##해', '##의', '액', '##운', '##을', '[UNK]', '풍년', '##이', '들', '##도록', '기원', '##하', '##는', '우리', '##민', '##족', '고유', '##의', '전통', '##행사', '##이지', '##만', '신종', '코', '##로나', '##바이', '##러스', '##가', '확산', '##되', '##는', '상황', '##에서', '군민', '##들', '##의', '안전', '##과', '건강', '##을', '최우선', '##으로', '고려', '##해', '취소', '##하기', '##로', '결정', '##했', '##다', '\"', '고', '밝혔', '##다', '.']\n",
      "['桂', '蘭', '彙'] 간행이 시도된 적은 있으나 막부의 허가를 얻지 못했고, 페리 내항 이후 간행 허가를 얻어내어 개정 작업 후 가쓰라가와 구니토모(桂川國與)가 쓴 것으로 해서 《화란자휘(和蘭字彙 란 이름으로 1958년에 간행되었다.\n",
      "['간행', '##이', '시도', '##된', '적', '##은', '있', '##으나', '막부', '##의', '허가', '##를', '얻', '##지', '못했', '##고', ',', '페리', '내', '##항', '이후', '간행', '허가', '##를', '얻어', '##내', '##어', '개정', '작업', '후', '가', '##쓰', '##라', '##가와', '구', '##니', '##토', '##모', '(', '[UNK]', '川', '國', '與', ')', '가', '쓴', '것', '##으로', '해서', '《', '화', '##란', '##자', '##휘', '(', '和', '[UNK]', '字', '[UNK]', '란', '이름', '##으로', '1958', '##년', '##에', '간행', '##되', '##었', '##다', '.']\n",
      "['숀'] 숀은 레논의 35번째 생일이었던 1975년 10월 9일 제왕 절개를 통해 출생했다.\n",
      "['[UNK]', '레', '##논', '##의', '35', '##번', '##째', '생일', '##이', '##었', '##던', '1975', '##년', '10', '##월', '9', '##일', '제왕', '절개', '##를', '통해', '출생', '##했', '##다', '.']\n",
      "['侍', '御'] 한편 신룡(神龍) 원년(705년) 측천무후의 퇴위로 당 중종이 복위하면서 당 왕조가 복벽되자 진국에 시어사(侍御史) 장행급을 보내 화친을 청했고, 진국에서도 이에 대한 화답으로 대조영의 아들을 당에 보냈다.\n",
      "['한편', '신', '##룡', '(', '神', '龍', ')', '원년', '(', '70', '##5', '##년', ')', '측', '##천', '##무', '##후', '##의', '퇴', '##위', '##로', '당', '중종', '##이', '복', '##위', '##하면', '##서', '당', '왕조', '##가', '복', '##벽', '##되', '##자', '진', '##국', '##에', '시어', '##사', '(', '[UNK]', '[UNK]', '史', ')', '장', '##행', '##급', '##을', '보내', '화', '##친', '##을', '청했', '##고', ',', '진', '##국', '##에서', '##도', '이', '##에', '대한', '화답', '##으로', '대조', '##영', '##의', '아들', '##을', '당', '##에', '보냈', '##다', '.']\n",
      "['헤'] 리정혁은 윤세리와 함께 더 있고 싶은 마음에 일부러 길을 헤맸고 이를 눈치 챈 윤세리는 웃었다.\n",
      "['리', '##정', '##혁', '##은', '윤', '##세', '##리', '##와', '함께', '더', '있', '##고', '싶', '##은', '마음', '##에', '일부러', '길', '##을', '[UNK]', '이를', '눈치', '챈', '윤', '##세', '##리', '##는', '웃', '##었', '##다', '.']\n",
      "['둠'] 우림과 둠밈을 통해 신탁을 구하는 것은 출애굽 광야때부터 왕정 초기 사울 왕 시절까지만 나와 있다.\n",
      "['우림', '##과', '[UNK]', '통해', '신탁', '##을', '구하', '##는', '것', '##은', '출', '##애', '##굽', '광야', '##때', '##부터', '왕정', '초기', '사', '##울', '왕', '시절', '##까', '##지만', '나와', '있', '##다', '.']\n",
      "['喪'] 1913년 9월 아버지 윤웅렬의 대상(大喪)을 끝낸 윤치왕은 당시 쌀 한가마에 3~4원인 상황에서 거금 2천원을 전대에 넣어 허리에 두르고 기차를 타고 신의주에 도착했다.\n",
      "['1913', '##년', '9', '##월', '아버지', '윤', '##웅', '##렬', '##의', '대상', '(', '大', '[UNK]', ')', '을', '끝낸', '윤', '##치', '##왕', '##은', '당시', '쌀', '한가', '##마', '##에', '3', '~', '4', '##원', '##인', '상황', '##에서', '거', '##금', '2', '##천', '##원', '##을', '전대', '##에', '넣', '##어', '허리', '##에', '두르', '##고', '기차', '##를', '타고', '신의', '##주', '##에', '도착', '##했', '##다', '.']\n",
      "['宋'] 송지헌(宋之憲, 1872년 음력 10월 29일~1934년 양력 11월 26일)은 대한제국의 관료로 일제 강점기에는 조선총독부 중추원 참의를 지냈다.\n",
      "['송지', '##헌', '(', '[UNK]', '之', '憲', ',', '187', '##2', '##년', '음력', '10', '##월', '29', '##일', '~', '1934', '##년', '양', '##력', '11', '##월', '26', '##일', ')', '은', '대한제국', '##의', '관료', '##로', '일제', '강점기', '##에', '##는', '조선총독부', '중추', '##원', '참', '##의', '##를', '지냈', '##다', '.']\n",
      "['夢', '味', '樂'] 순천시(시장 허석)는 장천동 도시재생뉴딜사업의 일환으로 사업구역 내 음식업소의 맛, 서비스 개선으로 경쟁력 강화를 위한 ‘몽미락(夢味樂) 프로젝트’를 진행한다고 밝혔다.\n",
      "['순천시', '(', '시장', '허', '##석', ')', '는', '장', '##천동', '도시', '##재', '##생', '##뉴', '##딜', '##사업', '##의', '일환', '##으로', '사업', '##구역', '내', '음식', '##업소', '##의', '맛', ',', '서비스', '개선', '##으로', '경쟁력', '강화', '##를', '위한', '‘', '몽', '##미', '##락', '(', '[UNK]', '[UNK]', '[UNK]', ')', '프로젝트', '’', '를', '진행', '##한다', '##고', '밝혔', '##다', '.']\n",
      "['帥', '幸', '碑'] 묘비문과 묘표음기는 사위 이항복이 짓고 썼으며, 행주대첩의 승리를 기념하여 최립은 고양 행주에 권원수행주비(權元帥幸州碑)를 세웠다.\n",
      "['묘비', '##문', '##과', '묘', '##표', '##음', '##기', '##는', '사위', '이항', '##복', '##이', '짓', '##고', '썼', '##으며', ',', '행주', '##대', '##첩', '##의', '승리', '##를', '기념', '##하여', '최', '##립', '##은', '고양', '행주', '##에', '권', '##원', '##수', '##행', '##주', '##비', '(', '權', '元', '[UNK]', '[UNK]', '州', '[UNK]', ')', '를', '세웠', '##다', '.']\n",
      "['홋'] 지역구는 홋카이도이며, 민주당의 대표로서 2009년 8월 30일에 치러진 총선에서 압승을 거둬 2009년 9월 16일에 내각총리대신으로 지명됐다.\n",
      "['지역구', '##는', '[UNK]', ',', '민주당', '##의', '대표', '##로', '##서', '2009', '##년', '8', '##월', '30', '##일', '##에', '치러진', '총선', '##에서', '압승', '##을', '거둬', '2009', '##년', '9', '##월', '16', '##일', '##에', '내각', '##총리', '##대', '##신', '##으로', '지명', '##됐', '##다', '.']\n",
      "['Р'] 류리크(러시아어 : Рюрикъ)는 러시아 제국이 보유했던 장갑순양함이다.\n",
      "['류', '##리', '##크', '(', '러시아', '##어', ':', '[UNK]', ')', '는', '러시아', '제국', '##이', '보유', '##했', '##던', '장갑', '##순', '##양', '##함', '##이다', '.']\n",
      "['梅', '窓'] 전운판관이 되었을 때는 부안의 유명한 시인이자 기생인 매창(梅窓)과 교류한다.\n",
      "['전', '##운', '##판', '##관', '##이', '되', '##었', '##을', '때', '##는', '부안', '##의', '유명', '##한', '시인', '##이', '##자', '기생', '##인', '매', '##창', '(', '[UNK]', '[UNK]', ')', '과', '교류', '##한다', '.']\n",
      "['梁', '范'] 모용준의 재위 시기에는 양공(梁公)에 책봉되었고, 모용위의 재위 시기에는 범양왕(范陽王)에 책봉되었다.\n",
      "['모', '##용준', '##의', '재위', '시기', '##에', '##는', '양', '##공', '(', '[UNK]', '公', ')', '에', '책봉', '##되', '##었', '##고', ',', '모', '##용', '##위', '##의', '재위', '시기', '##에', '##는', '범', '##양', '##왕', '(', '[UNK]', '陽', '王', ')', '에', '책봉', '##되', '##었', '##다', '.']\n",
      "['椵'] 후금의 대병력이 내려오자 1621년 7월 평안도 철산 앞바다의 가도(椵島) 에 상륙한 모문룡은 철산, 용천, 의주 등을 돌아다니면서 명의 패잔병과 난민을 수습하면서 민가에 대한 약탈을 일삼았다.\n",
      "['후', '##금', '##의', '대', '##병', '##력', '##이', '내려오', '##자', '162', '##1', '##년', '7', '##월', '평안', '##도', '철', '##산', '앞바다', '##의', '가도', '(', '[UNK]', '島', ')', '에', '상륙', '##한', '모', '##문', '##룡', '##은', '철', '##산', ',', '용', '##천', ',', '의', '##주', '등', '##을', '돌아다니', '##면서', '명의', '패', '##잔', '##병', '##과', '난민', '##을', '수습', '##하면', '##서', '민가', '##에', '대한', '약탈', '##을', '일삼', '##았', '##다', '.']\n",
      "['復', '鎭'] 김복진(金復鎭, 1901년 11월 3일 (1901년 음력 9월 23일)(1901년 음력 9월 23일) - 1940년 8월 18일)은 일제 강점기의 조각가이며, 사회주의 계파의 진보 성향 문예운동을 이끈 지도자였다.\n",
      "['김복', '##진', '(', '金', '[UNK]', '[UNK]', ',', '190', '##1', '##년', '11', '##월', '3', '##일', '(', '190', '##1', '##년', '음력', '9', '##월', '23', '##일', ')', '(', '190', '##1', '##년', '음력', '9', '##월', '23', '##일', ')', '-', '1940', '##년', '8', '##월', '18', '##일', ')', '은', '일제', '강점기', '##의', '조각가', '##이', '##며', ',', '사회주의', '계파', '##의', '진보', '성향', '문예', '##운동', '##을', '이끈', '지도자', '##였', '##다', '.']\n",
      "['潤'] 서성이 전주에 이르니 도원수 권율이 김덕령을 이미 진주 옥에 가두어 놓은 상태였는데, 권율은 김덕령이 명령을 거역할까 염려하여 비밀리에 성윤문(成潤文)에게 시켜 그를 잡아오게 하였다.\n",
      "['서성', '##이', '전주', '##에', '이르', '##니', '도원', '##수', '권', '##율', '##이', '김덕', '##령', '##을', '이미', '진주', '옥', '##에', '가두', '##어', '놓', '##은', '상태', '##였', '##는데', ',', '권', '##율', '##은', '김덕', '##령', '##이', '명령', '##을', '거역', '##할', '##까', '염려', '##하여', '비밀리', '##에', '성', '##윤', '##문', '(', '成', '[UNK]', '文', ')', '에게', '시켜', '그', '##를', '잡아', '##오', '##게', '하', '##였', '##다', '.']\n",
      "['總'] 1908년(융희 2년) 연해주로 다시 망명, 이상설, 최재형 등과 연락하며 국내 진공작전을 추진하였으나 실패하고, 블라디보스토크에서 십삼도의군통도총재(十三道義軍都總裁)에 추대되어 두만강으로 쳐들어오려다가 러시아 군사에게 체포되었다.\n",
      "['1908', '##년', '(', '융', '##희', '2', '##년', ')', '연해주', '##로', '다시', '망명', ',', '이상', '##설', ',', '최재', '##형', '등', '##과', '연락', '##하', '##며', '국내', '진공', '##작전', '##을', '추진', '##하', '##였', '##으나', '실패', '##하고', ',', '블라디', '##보스', '##토', '##크', '##에서', '십', '##삼', '##도', '##의', '##군', '##통', '##도', '##총', '##재', '(', '十', '三', '道', '義', '軍', '都', '[UNK]', '裁', ')', '에', '추대', '##되', '##어', '두만강', '##으로', '쳐들어', '##오', '##려', '##다가', '러시아', '군사', '##에', '##게', '체포', '##되', '##었', '##다', '.']\n",
      "['景', '駒'] 한편, 진승이 죽은 지 한 달이 지난 이세황제 2년 단월(1월, 전욱력)에 진가는 경구(景駒)를 초왕으로 세웠고 경구는 진가를 상장군으로 삼았다.\n",
      "['한편', ',', '진', '##승', '##이', '죽', '##은', '지', '한', '달', '##이', '지난', '이세', '##황', '##제', '2', '##년', '단', '##월', '(', '1', '##월', ',', '전', '##욱', '##력', ')', '에', '진가', '##는', '경구', '(', '[UNK]', '[UNK]', ')', '를', '초', '##왕', '##으로', '세웠', '##고', '경구', '##는', '진가', '##를', '상장', '##군', '##으로', '삼', '##았', '##다', '.']\n",
      "['衿', '果', '朗', '李', '俁'] 특히 사헌부는 대간 혹은 정언이라 해서 바른 말을 하는 자리였는데 금천(衿川)과 과천(果川)의 절에서 승려들을 불법 동원해 노역시킨 왕실 종친 낭선군(朗善君) 이우(李俁)를 탄핵하기도 했다.\n",
      "['특히', '사', '##헌', '##부', '##는', '대', '##간', '혹은', '정', '##언', '##이', '##라', '해서', '바른', '말', '##을', '하', '##는', '자리', '##였', '##는데', '금천', '(', '[UNK]', '川', ')', '과', '과천', '(', '[UNK]', '川', ')', '의', '절', '##에서', '승려', '##들', '##을', '불법', '동원', '##해', '노역', '##시', '##킨', '왕실', '종', '##친', '낭', '##선', '##군', '(', '[UNK]', '善', '君', ')', '이우', '(', '[UNK]', '[UNK]', ')', '를', '탄핵', '##하기', '##도', '했', '##다', '.']\n",
      "['顯'] 대광현(大光顯)은 발해의 마지막 왕인 대인선의 세자로서 고려 태조 17년(서기 934년) 7월에 무리 수만 명을 이끌고 고려로 도망하였다.\n",
      "['대', '##광', '##현', '(', '大', '光', '[UNK]', ')', '은', '발해', '##의', '마지막', '왕', '##인', '대인', '##선', '##의', '세자', '##로', '##서', '고려', '태조', '17', '##년', '(', '서기', '93', '##4', '##년', ')', '7', '##월', '##에', '무리', '수만', '명', '##을', '이끌', '##고', '고려', '##로', '도망', '##하', '##였', '##다', '.']\n",
      "['守'] 그는 광개토왕(廣開土王)대에 북부여의 수사(守事)를 맡았고 관등은 대사자(大使者)였다.\n",
      "['그', '##는', '광개토', '##왕', '(', '廣', '開', '土', '王', ')', '대', '##에', '북부', '##여', '##의', '수사', '(', '[UNK]', '事', ')', '를', '맡', '##았', '##고', '관', '##등', '##은', '대사', '##자', '(', '大', '使', '者', ')', '였', '##다', '.']\n",
      "['楊', '秋', '李', '堪', '宜'] 마초는 한수와 연합하고 양추(楊秋) · 이감(李堪) · 성의(成宜) 등과 함께 군사를 일으켰다.\n",
      "['마초', '##는', '한수', '##와', '연합', '##하고', '양', '##추', '(', '[UNK]', '[UNK]', ')', '·', '이', '##감', '(', '[UNK]', '[UNK]', ')', '·', '성의', '(', '成', '[UNK]', ')', '등', '##과', '함께', '군사', '##를', '일으켰', '##다', '.']\n",
      "['르'] 알베르 르브룅 대통령의 뒤를 이어 친독일주의자 필리프 페탱이 대통령이 되어 프랑스 남부에 나치 독일의 꼭두각시 정부인 비시 정부를 세움으로써 붕괴되었다.\n",
      "['알베르', '[UNK]', '대통령', '##의', '뒤', '##를', '이어', '친', '##독', '##일', '##주의자', '필리', '##프', '페', '##탱', '##이', '대통령', '##이', '되', '##어', '프랑스', '남부', '##에', '나치', '독일', '##의', '꼭두', '##각', '##시', '정부', '##인', '비시', '정부', '##를', '세', '##움', '##으로', '##써', '붕괴', '##되', '##었', '##다', '.']\n",
      "['初'] 유식유가행파의 수행론에 따르면, 보살이 공관(空觀)을 닦음에 있어서 초지(初地)에서 제7지(第七地)까지는 의식적인 노력을 기울여야 공관이 이루어진다.\n",
      "['유식', '##유', '##가', '##행', '##파', '##의', '수행', '##론', '##에', '따르', '##면', ',', '보살', '##이', '공관', '(', '空', '觀', ')', '을', '닦', '##음', '##에', '있', '##어', '##서', '초', '##지', '(', '[UNK]', '地', ')', '에서', '제', '##7', '##지', '(', '第', '七', '地', ')', '까지', '##는', '의식', '##적인', '노력', '##을', '기울여야', '공관', '##이', '이루어진다', '.']\n",
      "['도'] 러시아에서, 《러시아 메신저》(\"\") 잡지에 레프 톨스토이의 《안나 카레니나》를 1873년부터 1877년까지 연재했고, 표도르 도스토옙스키의 《카라마조프의 형제》를 1879년부터 1880년까지 연재하였습니다.\n",
      "['러시아', '##에서', ',', '《', '러시아', '메신저', '》', '(', '\"', '\"', ')', '잡지', '##에', '레', '##프', '톨스토이', '##의', '《', '안나', '카레', '##니', '##나', '》', '를', '187', '##3', '##년', '##부터', '187', '##7', '##년', '##까', '##지', '연재', '##했', '##고', ',', '표', '##도르', '[UNK]', '《', '카라', '##마', '##조', '##프', '##의', '형제', '》', '를', '187', '##9', '##년', '##부터', '1880', '##년', '##까', '##지', '연재', '##하', '##였', '##습', '##니다', '.']\n",
      "['巾', '衍'] 일찍이 유득공·박제가·이서구와 함께 사가시집(四家詩集) 《건연집(巾衍集)》을 내어 문명을 떨쳤다.\n",
      "['일찍이', '유', '##득', '##공', '·', '박제', '##가', '·', '이서', '##구', '##와', '함께', '사가', '##시', '##집', '(', '四', '家', '詩', '集', ')', '《', '건', '##연', '##집', '(', '[UNK]', '[UNK]', '集', ')', '》', '을', '내', '##어', '문명', '##을', '떨', '##쳤', '##다', '.']\n",
      "['엔', '엔', '지', '켐'] 글로벌 유력 투자정보 포털인 프로액티브(Proactive) 방송은 손기영 엔지켐생명과학 대표와의 인터뷰를 통해, 한국과 미국에 거점을 둔 글로벌바이오제약사 '엔지켐생명과학'이 임상2상 진행 중인 구강점막염, 호중구감소증과, NASH 라이센싱 진전 상황, 美 정부 급성방사선증후군(ARS) 연구그란트 획득 진행상황 등을 집중 보도했다.\n",
      "['글로벌', '유력', '투자', '##정보', '포털', '##인', '프로', '##액', '##티브', '(', 'Pro', '##act', '##ive', ')', '방송', '##은', '손', '##기', '##영', '[UNK]', '대표', '##와', '##의', '인터뷰', '##를', '통해', ',', '한국', '##과', '미국', '##에', '거점', '##을', '둔', '글로벌', '##바이', '##오', '##제', '##약', '##사', \"'\", '[UNK]', \"'\", '이', '임상', '##2', '##상', '진행', '중', '##인', '구강', '##점', '##막염', ',', '호', '##중', '##구', '##감', '##소', '##증', '##과', ',', 'NAS', '##H', '라이', '##센', '##싱', '진전', '상황', ',', '美', '정부', '급성', '##방', '##사', '##선', '##증', '##후', '##군', '(', 'ARS', ')', '연구', '##그', '##란트', '획득', '진행', '##상', '##황', '등', '##을', '집중', '보도', '##했', '##다', '.']\n",
      "['曹', '密', '旨'] 중종이 명하여 세 정승과 해당되는 조(曹)를 불러 이것을 의논하고 먼저 본도(本道)에 밀지(密旨)를 내리고 또 무기를 보내 이지방을 파견하여 틈을 엿보아 법에 따라 처치하려고 하였다.\n",
      "['중종', '##이', '명하', '##여', '세', '정승', '##과', '해당', '##되', '##는', '조', '(', '[UNK]', ')', '를', '불러', '이것', '##을', '의논', '##하고', '먼저', '본', '##도', '(', '本', '道', ')', '에', '밀', '##지', '(', '[UNK]', '[UNK]', ')', '를', '내리', '##고', '또', '무기', '##를', '보내', '이지', '##방', '##을', '파견', '##하여', '틈', '##을', '엿보', '##아', '법', '##에', '따라', '처치', '##하', '##려고', '하', '##였', '##다', '.']\n",
      "['€'] 1997년, FC 샬케 04의 역사적인 UEFA 컵 우승과 동시에 다가오는 2004년의 100주년 기념을 대비하여, 독일 건설 회사인 HBM이 €186M의 건설 계약을 1998년에 체결하였다.\n",
      "['1997', '##년', ',', 'FC', '샬', '##케', '04', '##의', '역사', '##적인', 'UEFA', '컵', '우승', '##과', '동시', '##에', '다가오', '##는', '2004', '##년', '##의', '100', '##주', '##년', '기념', '##을', '대비', '##하여', ',', '독일', '건설', '회사', '##인', 'H', '##BM', '##이', '[UNK]', '건설', '계약', '##을', '1998', '##년', '##에', '체결', '##하', '##였', '##다', '.']\n",
      "['協'] 1907년 김좌진. 노백린이 상경하자 이들과 함께 조직적으로 구국운동을 전개하기 위하여 대한협회지부(大韓協會支部)를 조직하여 활동했다.\n",
      "['1907', '##년', '김', '##좌', '##진', '.', '노', '##백', '##린', '##이', '상경', '##하', '##자', '이', '##들', '##과', '함께', '조직', '##적으로', '구국', '##운동', '##을', '전개', '##하기', '위하', '##여', '대한', '##협회', '##지부', '(', '大', '韓', '[UNK]', '會', '支', '部', ')', '를', '조직', '##하여', '활동', '##했', '##다', '.']\n",
      "['李', '隣'] 이의방은 문극겸과 친한데다 또 자기 동생 이린(李隣)이 문극겸의 사위였으므로 그 말을 따랐다.\n",
      "['이의', '##방', '##은', '문', '##극', '##겸', '##과', '친한', '##데', '##다', '또', '자기', '동생', '이', '##린', '(', '[UNK]', '[UNK]', ')', '이', '문', '##극', '##겸', '##의', '사위', '##였', '##으므로', '그', '말', '##을', '따랐', '##다', '.']\n",
      "['다'] 롯데리아는 지난 7월, 창립 40주년 기념 레전드투표를 실시하고 1위에 오른 오징어버거를 재출시했다. 라이스버거는 오징어버거와 함께 1위를 다퉜지만 결선 투표에서 아쉽게 2위에 올랐다.\n",
      "['롯데', '##리아', '##는', '지난', '7', '##월', ',', '창립', '40', '##주', '##년', '기념', '레전드', '##투', '##표', '##를', '실시', '##하고', '1', '##위', '##에', '오른', '오징어', '##버거', '##를', '재', '##출', '##시', '##했', '##다', '.', '라이스', '##버거', '##는', '오징어', '##버거', '##와', '함께', '1', '##위', '##를', '[UNK]', '결선', '투표', '##에서', '아쉽', '##게', '2', '##위', '##에', '올랐', '##다', '.']\n",
      "['펭', '펭'] CU는 지난 10일 공식 트위터에 펭수의 실루엣이 그려진 이미지와 함께 \"펭하 맛있는 건 함께 나눠먹어야 제맛\"이라는 홍보 글을 올려 네티즌들의 비난을 받았다.\n",
      "['CU', '##는', '지난', '10', '##일', '공식', '트위터', '##에', '[UNK]', '실루엣', '##이', '그려진', '이미지', '##와', '함께', '\"', '[UNK]', '맛있', '##는', '건', '함께', '나눠', '##먹', '##어야', '제', '##맛', '\"', '이라', '##는', '홍보', '글', '##을', '올려', '네티즌', '##들', '##의', '비난', '##을', '받', '##았', '##다', '.']\n",
      "['夜'] 유천호 군수는 “이번 문화재야행(夜行) 행사의 성공은 군민들의 관심과 홍보, 유관기관들의 협조로 일궈낸 결과”라며 “앞으로도 수준 높은 프로그램으로 본 행사가 강화군의 대표적인 문화관광콘텐츠로 자리잡을 수 있도록 최선을 다하겠다”고 말했다.\n",
      "['유', '##천', '##호', '군수', '##는', '“', '이번', '문화재', '##야', '##행', '(', '[UNK]', '行', ')', '행사', '##의', '성공', '##은', '군민', '##들', '##의', '관심', '##과', '홍보', ',', '유관', '##기', '##관', '##들', '##의', '협조', '##로', '일궈', '##낸', '결과', '”', '라며', '“', '앞', '##으로', '##도', '수준', '높', '##은', '프로그램', '##으로', '본', '행사', '##가', '강화군', '##의', '대표', '##적인', '문화', '##관광', '##콘', '##텐츠', '##로', '자리', '##잡', '##을', '수', '있', '##도록', '최선', '##을', '다', '##하', '##겠다', '”', '고', '말', '##했', '##다', '.']\n",
      "['윰'] 윰댕과 대도서관의 러브 스토리와 인생 역전 성공 스토리는 7일 오후 9시 MBC '휴먼 다큐 사람이 좋다'에서 공개된다.\n",
      "['[UNK]', '대도', '##서관', '##의', '러브', '스토리', '##와', '인생', '역전', '성공', '스토리', '##는', '7', '##일', '오후', '9', '##시', 'MBC', \"'\", '휴먼', '다큐', '사람', '##이', '좋', '##다', \"'\", '에서', '공개', '##된', '##다', '.']\n",
      "['造'] 연예계에는 배국남 기자, 김대오 기자, 서병기 기자 등 영향력있는 연예 기자 3인의 이름을 조합한 ‘배때(대)기’라는 조어(造語)가 널리 퍼져있기도 하다.\n",
      "['연예계', '##에', '##는', '배', '##국', '##남', '기자', ',', '김대', '##오', '기자', ',', '서병', '##기', '기자', '등', '영향력', '##있', '##는', '연예', '기자', '3', '##인', '##의', '이름', '##을', '조합', '##한', '‘', '배', '##때', '(', '대', ')', '기', '’', '라는', '조', '##어', '(', '[UNK]', '語', ')', '가', '널리', '퍼져', '##있', '##기', '##도', '하', '##다', '.']\n",
      "['1'] 한국 육군에는 짚차(1/4톤), 닷지(1¼톤), 두돈반, 5톤이 있는데, 짚차와 닷지를 폐지하고 험비로 교체한다는 것이다.\n",
      "['한국', '육군', '##에', '##는', '짚', '##차', '(', '1', '/', '4', '##톤', ')', ',', '닷', '##지', '(', '[UNK]', ')', ',', '두', '##돈', '##반', ',', '5', '##톤', '##이', '있', '##는데', ',', '짚', '##차', '##와', '닷', '##지', '##를', '폐지', '##하고', '험', '##비', '##로', '교체', '##한다', '##는', '것', '##이다', '.']\n",
      "['柱', '帶', '郡'] 641년에 무왕이 죽자 뒤를 이었고, 당으로부터 주국(柱國) 대방군왕(帶方郡王) 백제왕으로 책봉되었다.\n",
      "['64', '##1', '##년', '##에', '무', '##왕', '##이', '죽', '##자', '뒤', '##를', '이', '##었', '##고', ',', '당', '##으로', '##부터', '주', '##국', '(', '[UNK]', '國', ')', '대방', '##군', '##왕', '(', '[UNK]', '方', '[UNK]', '王', ')', '백제', '##왕', '##으로', '책봉', '##되', '##었', '##다', '.']\n",
      "['容', '琪'] 박용기(朴容琪, 1929년 ~ 2012년)는 예비역 대한민국 육군 대령이다.\n",
      "['박용', '##기', '(', '朴', '[UNK]', '[UNK]', ',', '1929', '##년', '~', '2012', '##년', ')', '는', '예비역', '대한민국', '육군', '대령', '##이다', '.']\n",
      "['易'] 1602년(선조 35) 공조좌랑으로 부임하여 정부의 주역(周易) 교정사업에 참여하고 이듬해 잠깐 의성현령으로 부임했으며 그 외에는 모두 사양하거나 사직, 고사하였다.\n",
      "['160', '##2', '##년', '(', '선조', '35', ')', '공조', '##좌', '##랑', '##으로', '부임', '##하여', '정부', '##의', '주역', '(', '周', '[UNK]', ')', '교정', '##사업', '##에', '참여', '##하고', '이듬해', '잠깐', '의성', '##현', '##령', '##으로', '부임', '##했', '##으며', '그', '외', '##에', '##는', '모두', '사양', '##하', '##거나', '사직', ',', '고사', '##하', '##였', '##다', '.']\n",
      "['퀀'] 엑스원 소속사 스윙엔터테인먼트는 지난 8일 공식 유튜브에 엑스원 미니앨범 '비상 : 퀀텀 리프(QUANTUM LEAP)' 타이틀곡 안무 영상을 공개했다.\n",
      "['엑스', '##원', '소속', '##사', '스윙', '##엔', '##터', '##테', '##인', '##먼트', '##는', '지난', '8', '##일', '공식', '유튜브', '##에', '엑스', '##원', '미니', '##앨', '##범', \"'\", '비상', ':', '[UNK]', '리프', '(', 'Q', '##U', '##AN', '##T', '##U', '##M', 'L', '##EA', '##P', ')', \"'\", '타이틀', '##곡', '안무', '영상', '##을', '공개', '##했', '##다', '.']\n",
      "['흄'] 후일 당시 에든버러 대학교의 총장이 흄을 무신론자로 간주하였기 때문이라는 것이 알려졌다.\n",
      "['후일', '당시', '에', '##든', '##버', '##러', '대학교', '##의', '총장', '##이', '[UNK]', '무신', '##론자', '##로', '간주', '##하', '##였', '##기', '때문', '##이', '##라는', '것', '##이', '알려졌', '##다', '.']\n",
      "['致', '監'] 1009년(목종 12) 김치양(金致陽)이 난을 일으켜 목종을 폐위시키려 하자, 대정문별감(大定門別監)에 임명되어 궁문을 폐쇄하고 국왕을 호위하였다.\n",
      "['100', '##9', '##년', '(', '목', '##종', '12', ')', '김치', '##양', '(', '金', '[UNK]', '陽', ')', '이', '난', '##을', '일으켜', '목', '##종', '##을', '폐', '##위', '##시', '##키', '##려', '하자', ',', '대', '##정', '##문', '##별', '##감', '(', '大', '定', '門', '別', '[UNK]', ')', '에', '임명', '##되', '##어', '궁', '##문', '##을', '폐쇄', '##하고', '국왕', '##을', '호위', '##하', '##였', '##다', '.']\n",
      "['깰'] 납득이 안되는 것 중에, 극장판 사우스 파크에서 쉴라는 창문을 깨면서 들어온 아이크를 야단치는데, 아이크는 아기라는 것을 고려하지 않고, 아기가 어떻게 창문을 깰만한 힘이 있는지 생각도 안해보고 아이크를 찬 카일은 나무라지 않으면서 아이크만 나무란다.\n",
      "['납득', '##이', '안', '##되', '##는', '것', '중', '##에', ',', '극장', '##판', '사우스', '파크', '##에서', '쉴', '##라는', '창문', '##을', '깨', '##면서', '들어온', '아이', '##크', '##를', '야단', '##치', '##는데', ',', '아이', '##크', '##는', '아기', '##라는', '것', '##을', '고려', '##하', '##지', '않', '##고', ',', '아기', '##가', '어떻게', '창문', '##을', '[UNK]', '힘', '##이', '있', '##는지', '생각', '##도', '안', '##해', '##보', '##고', '아이', '##크', '##를', '찬', '카', '##일', '##은', '나무라', '##지', '않', '##으면서', '아이', '##크', '##만', '나무', '##란다', '.']\n",
      "['深', '密'] 이런 취지에서 2승의 수행자인 성문연각과 비교하여, 대승불교 경전인 《해심밀경(解深密經)》에서는 \"미세하고 아주 깊고 통달하기 어려워 범부나 2승은 이해할 수 없는 승의제를 이해할 수 있는 사람\"을 보살이라 하고 있다.\n",
      "['이런', '취지', '##에서', '2', '##승', '##의', '수행자', '##인', '성문', '##연', '##각', '##과', '비교', '##하여', ',', '대승', '##불교', '경전', '##인', '《', '해', '##심', '##밀', '##경', '(', '解', '[UNK]', '[UNK]', '經', ')', '》', '에서', '##는', '\"', '미세', '##하고', '아주', '깊', '##고', '통', '##달', '##하기', '어려워', '범', '##부', '##나', '2', '##승', '##은', '이해', '##할', '수', '없', '##는', '승', '##의', '##제', '##를', '이해', '##할', '수', '있', '##는', '사람', '\"', '을', '보살', '##이', '##라', '하고', '있', '##다', '.']\n",
      "['丸', '彫', '單', '像', '彩', '刻'] 환조(丸彫)로 된 단독상(單獨像)은 많지 않으나 북 프랑스, 라인 연안, 스칸디나비아 등을 중심으로 채색목각(彩色木刻)의 성모자상과 십자가에 못박힌 그리스도의 상이 만들어졌다.\n",
      "['환', '##조', '(', '[UNK]', '[UNK]', ')', '로', '된', '단독', '##상', '(', '[UNK]', '獨', '[UNK]', ')', '은', '많', '##지', '않', '##으나', '북', '프랑스', ',', '라인', '연안', ',', '스', '##칸', '##디', '##나비', '##아', '등', '##을', '중심', '##으로', '채색', '##목', '##각', '(', '[UNK]', '色', '木', '[UNK]', ')', '의', '성모', '##자', '##상', '##과', '십자가', '##에', '못', '##박', '##힌', '그리스도', '##의', '상이', '만들', '##어졌', '##다', '.']\n",
      "['켐'] 1978년 대회 득점왕이었던 코르도바 출신의 아르헨티나 간판 공격수 마리오 켐페스와 스트라이커로 활약하며 4골을 기록하고 득점순위 3위에 올랐던 레오폴도 루케는 1984년 은퇴 후 자신의 회고록을 통해 대회 전 날부터 우리는 우승하지 못하면 모두 죽음이라는 군부정권의 편지를 전달 받았고 심지어 선수들 가족들까지도 군부의 협박을 받았다고 전한다.\n",
      "['1978', '##년', '대회', '득점', '##왕', '##이', '##었', '##던', '코르', '##도', '##바', '출신', '##의', '아르헨티나', '간판', '공격수', '마리오', '[UNK]', '스트라이커', '##로', '활약', '##하', '##며', '4', '##골', '##을', '기록', '##하고', '득점', '##순위', '3', '##위', '##에', '올랐', '##던', '레오', '##폴', '##도', '루', '##케', '##는', '1984', '##년', '은퇴', '후', '자신', '##의', '회고록', '##을', '통해', '대회', '전', '날', '##부터', '우리', '##는', '우승', '##하', '##지', '못하', '##면', '모두', '죽음', '##이', '##라는', '군부', '##정권', '##의', '편지', '##를', '전달', '받', '##았', '##고', '심지어', '선수', '##들', '가족', '##들', '##까', '##지도', '군부', '##의', '협박', '##을', '받', '##았', '##다고', '전한다', '.']\n",
      "['老', '少'] 실각한 서인은 이 과정에서 송시열을 중심으로 한 노론(老論)과 윤증·박세채를 중심으로 한 소론(少論)으로 나뉘었다.\n",
      "['실', '##각', '##한', '서인', '##은', '이', '과정', '##에서', '송시열', '##을', '중심', '##으로', '한', '노론', '(', '[UNK]', '論', ')', '과', '윤증', '·', '박세', '##채', '##를', '중심', '##으로', '한', '소', '##론', '(', '[UNK]', '論', ')', '으로', '나뉘', '##었', '##다', '.']\n",
      "['페'] 1940년 7월 10일, 나치 독일의 프랑스 침공으로 국회는 페텡에게 권력을 위임했다.\n",
      "['1940', '##년', '7', '##월', '10', '##일', ',', '나치', '독일', '##의', '프랑스', '침공', '##으로', '국회', '##는', '[UNK]', '권력', '##을', '위임', '##했', '##다', '.']\n",
      "['畵'] 그러나 1847년에 조성된 약사불 화기(畵記)에 '약사여래 아미타여래 지장보살 주산대왕 석상 4위를 개분중수'한다는 기록과 2016년에 실시된 복장 조사에서 1853년에 작성된 [만월전 개분원문]이 발견되어 삼존이 같이 봉안되어 왔음을 확인할 수 있다.\n",
      "['그러나', '184', '##7', '##년', '##에', '조성', '##된', '약사', '##불', '화기', '(', '[UNK]', '記', ')', '에', \"'\", '약사', '##여', '##래', '아미', '##타', '##여', '##래', '지장', '##보살', '주', '##산', '##대왕', '석상', '4', '##위', '##를', '개', '##분', '##중', '##수', \"'\", '한다는', '기록', '##과', '2016', '##년', '##에', '실시', '##된', '복장', '조사', '##에서', '185', '##3', '##년', '##에', '작성', '##된', '[', '만', '##월', '##전', '개', '##분', '##원', '##문', ']', '이', '발견', '##되', '##어', '삼', '##존', '##이', '같이', '봉안', '##되', '##어', '왔', '##음', '##을', '확인', '##할', '수', '있', '##다', '.']\n",
      "['劉', '禪', '諸', '葛', '亮', '勸', '從'] 유선(劉禪)이 등극한 후 제갈량(諸葛亮)에 의해 권학종사(勸學從事)에 임명되었다.\n",
      "['유선', '(', '[UNK]', '[UNK]', ')', '이', '등극', '##한', '후', '제갈량', '(', '[UNK]', '[UNK]', '[UNK]', ')', '에', '의해', '권', '##학', '##종', '##사', '(', '[UNK]', '學', '[UNK]', '事', ')', '에', '임명', '##되', '##었', '##다', '.']\n",
      "['梅', '松', '々', '良', '浜', '戦', 'い'] 반면, 『매송론』(梅松論)에 묘사되어 있는, 다타라하마 전투(多々良浜の戦い) 당시에 전투에 임한 다카우지의 출정 모습이 본 초상와 흡사하고, 교토로 개선하는 다카우지가 이때의 모습을 화공에게 그리게 하였다는 기록도 남아 있어 역시 「기마무사상」이 아시카가 다카우지의 초상화가 맞지 않겠느냐는 의견도 있다.\n",
      "['반면', ',', '『', '매', '##송', '##론', '』', '(', '[UNK]', '[UNK]', '論', ')', '에', '묘사', '##되', '##어', '있', '##는', ',', '다', '##타', '##라', '##하마', '전투', '(', '多', '[UNK]', '[UNK]', '[UNK]', 'の', '[UNK]', '[UNK]', ')', '당시', '##에', '전투', '##에', '임', '##한', '다카', '##우', '##지', '##의', '출', '##정', '모습', '##이', '본', '초상', '##와', '흡사', '##하고', ',', '교토', '##로', '개선', '##하', '##는', '다카', '##우', '##지가', '이때', '##의', '모습', '##을', '화공', '##에', '##게', '그리', '##게', '하', '##였', '##다는', '기록', '##도', '남아', '있', '##어', '역시', '「', '기마', '##무사', '##상', '」', '이', '아시', '##카', '##가', '다카', '##우', '##지', '##의', '초상화', '##가', '맞', '##지', '않', '##겠', '##느', '##냐', '##는', '의견', '##도', '있', '##다', '.']\n",
      "['省', '廳'] 일본 정부는 1991년부터 각 성청(省廳·부처)에 있는 일본군 위안부 문제 관련 공문서를 내각관방에 모아 조사했다.\n",
      "['일본', '정부', '##는', '1991', '##년', '##부터', '각', '성', '##청', '(', '[UNK]', '[UNK]', '·', '부처', ')', '에', '있', '##는', '일본군', '위안부', '문제', '관련', '공문서', '##를', '내각', '##관', '##방', '##에', '모아', '조사', '##했', '##다', '.']\n",
      "['樹'] 김용수(金龍樹, 579년 이전 ~ 646년 이후) 또는 김용춘(金龍春)은 신라의 추존왕으로, 진지왕의 아들이자, 태종무열왕 김춘추의 아버지이다.\n",
      "['김용', '##수', '(', '金', '龍', '[UNK]', ',', '57', '##9', '##년', '이전', '~', '64', '##6', '##년', '이후', ')', '또는', '김용', '##춘', '(', '金', '龍', '春', ')', '은', '신라', '##의', '추', '##존', '##왕', '##으로', ',', '진지', '##왕', '##의', '아들', '##이', '##자', ',', '태종', '##무', '##열', '##왕', '김춘', '##추', '##의', '아버지', '##이다', '.']\n",
      "['歸'] 종교는 천주교이며, 소풍 온 속세를 떠나 하늘 고향으로 돌아간다는 내용을 담은 시 《귀천(歸天)》으로 유명하다.\n",
      "['종교', '##는', '천주교', '##이', '##며', ',', '소풍', '온', '속세', '##를', '떠나', '하늘', '고향', '##으로', '돌아간다', '##는', '내용', '##을', '담', '##은', '시', '《', '귀', '##천', '(', '[UNK]', '天', ')', '》', '으로', '유명', '##하', '##다', '.']\n",
      "['斎', '藤'] 미노에서는 슈고 도키 가문의 내분이 한창일 때, 사이토 도산(斎藤道三)이 주군을 추방하고 미노 국을 장악하였다.\n",
      "['미', '##노', '##에서', '##는', '슈', '##고', '도', '##키', '가문', '##의', '내분', '##이', '한창', '##일', '때', ',', '사이', '##토', '도산', '(', '[UNK]', '[UNK]', '道', '三', ')', '이', '주군', '##을', '추방', '##하고', '미', '##노', '국', '##을', '장악', '##하', '##였', '##다', '.']\n",
      "['옻'] 옥천가서 '보자'는 시인 정지용의 생가, 향토전시관, 금강유원지, 화인산림욕장, 별빛 수목원 등을 둘러보고, '사자'는 묘목과 옻, 포도·복숭아, 옥수수·감자, 곶감, 부추를, '쓰자'는 정지용 시, 정순철 동시, 소설, 수필, 시나리오, 서예 등 체험하기다.\n",
      "['옥천', '##가', '##서', \"'\", '보', '##자', \"'\", '는', '시인', '정지', '##용', '##의', '생가', ',', '향토', '##전', '##시', '##관', ',', '금강', '##유', '##원지', ',', '화', '##인', '##산', '##림', '##욕장', ',', '별빛', '수목원', '등', '##을', '둘러보', '##고', ',', \"'\", '사자', \"'\", '는', '묘', '##목', '##과', '[UNK]', ',', '포도', '·', '복숭아', ',', '옥수수', '·', '감자', ',', '곶감', ',', '부추', '##를', ',', \"'\", '쓰', '##자', \"'\", '는', '정지', '##용', '시', ',', '정순', '##철', '동시', ',', '소설', ',', '수필', ',', '시나리오', ',', '서예', '등', '체험', '##하기', '##다', '.']\n",
      "['範'] 우선 그 하나는 비젠 국 오쿠 군을 기반으로 한 호족 미야케 일가를 이끈 와다 노리나가(和田範長)의 아들로 실자(實子) 또는 양자는 점이고, 나머지 하나는 사부로라는 이름을 사용하고 있다는 것이다.\n",
      "['우선', '그', '하나', '##는', '비', '##젠', '국', '오', '##쿠', '군', '##을', '기반', '##으로', '한', '호', '##족', '미야', '##케', '일가', '##를', '이끈', '와', '##다', '노리', '##나가', '(', '和', '田', '[UNK]', '長', ')', '의', '아들', '##로', '실', '##자', '(', '實', '子', ')', '또는', '양자', '##는', '점', '##이', '##고', ',', '나머지', '하나', '##는', '사부', '##로라', '##는', '이름', '##을', '사용', '##하고', '있', '##다는', '것', '##이다', '.']\n",
      "['천'] 천차오민 대만 국방 장관은 2004 년, 천수이볜 전 대통령의 총격 사건에 대해 사과했다.\n",
      "['천차', '##오', '##민', '대만', '국방', '장관', '##은', '2004', '년', ',', '[UNK]', '전', '대통령', '##의', '총격', '사건', '##에', '대해', '사과', '##했', '##다', '.']\n",
      "['헴'] 크리스 에반스(Chris Evans), 크리스 헴스워스(Chris Hemsworth), 스칼렛 요한슨(Scarlett Johansson)은 1500만 달러(176억 원)를 출연료로 받았다.\n",
      "['크리스', '에반', '##스', '(', 'Chris', 'Ev', '##ans', ')', ',', '크리스', '[UNK]', '(', 'Chris', 'He', '##ms', '##wo', '##r', '##th', ')', ',', '스칼', '##렛', '요한', '##슨', '(', 'Sc', '##ar', '##le', '##tt', 'Joh', '##ans', '##son', ')', '은', '1500', '##만', '달러', '(', '176', '##억', '원', ')', '를', '출연료', '##로', '받', '##았', '##다', '.']\n",
      "['刊', '刊'] 월간(月刊)중앙 WIN 기자, 월간(月刊)중앙 WIN 기획위원 등으로 활동하였고, 조선일보, 경향신문, 한겨레신문 등의 객원필진으로 칼럼을 기고하였다.\n",
      "['월간', '(', '月', '[UNK]', ')', '중앙', 'W', '##IN', '기자', ',', '월간', '(', '月', '[UNK]', ')', '중앙', 'W', '##IN', '기획', '##위원', '등', '##으로', '활동', '##하', '##였', '##고', ',', '조선일보', ',', '경향신문', ',', '한겨레', '##신문', '등', '##의', '객원', '##필', '##진', '##으로', '칼럼', '##을', '기고', '##하', '##였', '##다', '.']\n",
      "['沓'] 그러나 강유는 후환을 두려워하여 답중(沓中)으로 가 둔전할 뿐 다시 성도(成都)로 돌아오지 못했다.\n",
      "['그러나', '강유', '##는', '후', '##환', '##을', '두려워하', '##여', '답', '##중', '(', '[UNK]', '中', ')', '으로', '가', '둔', '##전', '##할', '뿐', '다시', '성도', '(', '成', '都', ')', '로', '돌아오', '##지', '못했', '##다', '.']\n",
      "['볼'] 프리드리히 올브리히트(Friedrich Olbricht, 1888년 10월 4일 ~ 1944년 7월 21일)는 독일의 장군으로, 1944년 7월 20일 동프로이센의 볼프스샨체 (Wolfsschanze) 에서 벌어진 히틀러 암살 시도에 참여하였다.\n",
      "['프리드리히', '올', '##브리', '##히트', '(', 'Fri', '##ed', '##ric', '##h', 'O', '##l', '##b', '##ric', '##ht', ',', '188', '##8', '##년', '10', '##월', '4', '##일', '~', '1944', '##년', '7', '##월', '21', '##일', ')', '는', '독일', '##의', '장군', '##으로', ',', '1944', '##년', '7', '##월', '20', '##일', '동', '##프로', '##이센', '##의', '[UNK]', '(', 'W', '##olf', '##ss', '##ch', '##an', '##ze', ')', '에서', '벌어진', '히틀러', '암살', '시도', '##에', '참여', '##하', '##였', '##다', '.']\n",
      "['敦', '悟', '漸', '旨'] 지눌이 제창한 정혜쌍수를 기반으로 한 돈오점수(敦悟漸修)는 이후 한국 선종의 특유의 종지(宗旨)가 되었다.\n",
      "['지', '##눌', '##이', '제창', '##한', '정혜', '##쌍', '##수', '##를', '기반', '##으로', '한', '돈', '##오', '##점', '##수', '(', '[UNK]', '[UNK]', '[UNK]', '修', ')', '는', '이후', '한국', '선종', '##의', '특유', '##의', '종', '##지', '(', '宗', '[UNK]', ')', '가', '되', '##었', '##다', '.']\n",
      "['良', '景', '恭'] 순흥안씨 묘군은 조선 초기 개국공신인 양도공(良度公) 안경공(安景恭)과 아들․손자에 이르는 3대에 걸친 묘역이다.\n",
      "['순', '##흥', '##안', '##씨', '묘', '##군', '##은', '조선', '초기', '개국', '##공', '##신', '##인', '양도', '##공', '(', '[UNK]', '度', '公', ')', '안경', '##공', '(', '安', '[UNK]', '[UNK]', ')', '과', '아들', '․', '손자', '##에', '이르', '##는', '3', '##대', '##에', '걸친', '묘역', '##이다', '.']\n",
      "['李', '誠', '甫', '星', '老'] 생년월일은 미상이고 중추원부사 이사성(李思誠)과 남군보(南君甫)의 4대손으로 상호군 요동지휘도통사를 지낸 남성로(南星老)의 딸 영양남씨의 아들로 태어났다.\n",
      "['생', '##년', '##월일', '##은', '미상', '##이', '##고', '중추', '##원', '##부', '##사', '이사', '##성', '(', '[UNK]', '思', '[UNK]', ')', '과', '남', '##군', '##보', '(', '南', '君', '[UNK]', ')', '의', '4', '##대', '##손', '##으로', '상호', '##군', '요동', '##지휘', '##도', '##통', '##사', '##를', '지낸', '남성', '##로', '(', '南', '[UNK]', '[UNK]', ')', '의', '딸', '영양', '##남', '##씨', '##의', '아들', '##로', '태어났', '##다', '.']\n",
      "['向'] 이정기 연구원은 “향후 고성장하는 2차전지향(向) 전해질 매출이 전 사 실적을 이끌 것으로 전망한다”면서 “양극재 업체들 대비 높은 수익성과 공격적인 증설 스케줄을 감안하면 향후 긍정적인 주가 흐름이 예상된다”고 내다봤다.\n",
      "['이정', '##기', '연구원', '##은', '“', '향후', '고성장', '##하', '##는', '2', '##차', '##전지', '##향', '(', '[UNK]', ')', '전해', '##질', '매출', '##이', '전', '사', '실적', '##을', '이끌', '것', '##으로', '전망', '##한다', '”', '면서', '“', '양극', '##재', '업체', '##들', '대비', '높', '##은', '수익', '##성', '##과', '공격', '##적인', '증설', '스케줄', '##을', '감안', '##하면', '향후', '긍정', '##적인', '주가', '흐름', '##이', '예상', '##된', '##다', '”', '고', '내다봤', '##다', '.']\n",
      "['竇', '流', '陳', '蕃'] 이때는 외척과 환관의 대립이 격화된 상태였는데, 태후의 아버지 대장군 두무(竇武)가 청류(淸流)의 수장과도 같았던 진번(陳蕃)과 함께 환관 세력을 숙청하려다가 이들이 영제를 폐위하려한다고 무고한 환관 세력에 의해 도리어 몰락하게 되었다.\n",
      "['이때', '##는', '외', '##척', '##과', '환관', '##의', '대립', '##이', '격화', '##된', '상태', '##였', '##는데', ',', '태후', '##의', '아버지', '대장군', '두', '##무', '(', '[UNK]', '武', ')', '가', '청', '##류', '(', '淸', '[UNK]', ')', '의', '수장', '##과', '##도', '같', '##았', '##던', '진', '##번', '(', '[UNK]', '[UNK]', ')', '과', '함께', '환관', '세력', '##을', '숙청', '##하', '##려', '##다가', '이', '##들이', '영제', '##를', '폐', '##위', '##하', '##려', '##한다', '##고', '무고', '##한', '환관', '세력', '##에', '의해', '도리어', '몰락', '##하', '##게', '되', '##었', '##다', '.']\n",
      "['黜', '送', '李', '壄'] 다시 공조 참판에 이르렀으나 1694년 4월 갑술옥사로 파직, 삭출당하고 4월 16일 문외출송송(門外黜送)되었다가 1695년 다시 숙종의 사면령이 내려졌으나 승지 이야(李壄) 등의 반대로 무산되었다.\n",
      "['다시', '공조', '참', '##판', '##에', '이르', '##렀', '##으나', '169', '##4', '##년', '4', '##월', '갑', '##술', '##옥', '##사', '##로', '파', '##직', ',', '삭', '##출', '##당', '##하고', '4', '##월', '16', '##일', '문', '##외', '##출', '##송', '##송', '(', '門', '外', '[UNK]', '[UNK]', ')', '되', '##었', '##다가', '169', '##5', '##년', '다시', '숙종', '##의', '사면', '##령', '##이', '내려졌', '##으나', '승', '##지', '이야', '(', '[UNK]', '[UNK]', ')', '등', '##의', '반대', '##로', '무산', '##되', '##었', '##다', '.']\n",
      "['홋', '홋'] 이때 다카쿠니의 동생 마사야스는 홋타 마사미의 사위 양자가 되어 미야가와 번주가 되었는데, 마사미가 죽은 뒤 친아들인 다카아키가 태어났으므로, 다카아키가 홋타 가문에서 이와키 가문으로 양자로서 입적되었고, 다카아키는 메이지 2년(1869년) 3월 13일, 양부 다카쿠니가 은거함에 따라 번주직을 계승하였다.\n",
      "['이때', '다카', '##쿠니', '##의', '동생', '마사', '##야', '##스', '##는', '[UNK]', '마사', '##미', '##의', '사위', '양자', '##가', '되', '##어', '미야', '##가와', '번', '##주', '##가', '되', '##었', '##는데', ',', '마사', '##미', '##가', '죽', '##은', '뒤', '친', '##아들', '##인', '다카', '##아', '##키', '##가', '태어났', '##으므로', ',', '다카', '##아', '##키', '##가', '[UNK]', '가문', '##에서', '이와', '##키', '가문', '##으로', '양자', '##로', '##서', '입', '##적', '##되', '##었', '##고', ',', '다카', '##아', '##키', '##는', '메이지', '2', '##년', '(', '186', '##9', '##년', ')', '3', '##월', '13', '##일', ',', '양', '##부', '다카', '##쿠니', '##가', '은', '##거', '##함', '##에', '따라', '번', '##주', '##직', '##을', '계승', '##하', '##였', '##다', '.']\n",
      "['毛', '輝', '広', '広'] 당주가 된 후에 모리 데루모토(毛利輝元)에게 \"히로(広)\"의 한 글자를 받아, \"히로이에(広家)\"라고 개명한다.\n",
      "['당', '##주', '##가', '된', '후', '##에', '모리', '데', '##루', '##모토', '(', '[UNK]', '利', '[UNK]', '元', ')', '에게', '\"', '히로', '(', '[UNK]', ')', '\"', '의', '한', '글자', '##를', '받아', ',', '\"', '히로', '##이', '##에', '(', '[UNK]', '家', ')', '\"', '라고', '개명', '##한다', '.']\n",
      "['路', '招'] 노초(路招, ~)는 중국 후한 말의 무장이다.\n",
      "['노', '##초', '(', '[UNK]', '[UNK]', ',', '~', ')', '는', '중국', '후한', '말', '##의', '무장', '##이다', '.']\n",
      "['建', '源', '実'] 이른바 초대 「싯켄」은 겐닌(建仁) 3년(1203년) 호조 도키마사가 외손자이기도 한 3대 쇼군 미나모토노 사네토모(源実朝)를 옹립했을 때 만도코로벳토와 함께 이 직책에 임명된 것이 최초였다고 한다.\n",
      "['이른바', '초대', '「', '싯', '##켄', '」', '은', '겐', '##닌', '(', '[UNK]', '仁', ')', '3', '##년', '(', '120', '##3', '##년', ')', '호조', '도', '##키', '##마', '##사', '##가', '외', '##손', '##자', '##이', '##기', '##도', '한', '3', '##대', '쇼', '##군', '미나', '##모토', '##노', '사', '##네', '##토', '##모', '(', '[UNK]', '[UNK]', '朝', ')', '를', '옹', '##립', '##했', '##을', '때', '만도', '##코', '##로', '##벳', '##토', '##와', '함께', '이', '직책', '##에', '임명', '##된', '것', '##이', '최초', '##였', '##다고', '한다', '.']\n",
      "['葛'] 갈문왕(葛文王)은 신라 때 왕실에서 왕위에 오르지 못하고 죽은 왕족 및 왕의 근친 귀족에게 추봉하던 왕명이다.\n",
      "['갈', '##문', '##왕', '(', '[UNK]', '文', '王', ')', '은', '신라', '때', '왕실', '##에서', '왕위', '##에', '오르', '##지', '못하', '##고', '죽', '##은', '왕족', '및', '왕', '##의', '근친', '귀족', '##에', '##게', '추', '##봉', '##하', '##던', '왕', '##명', '##이다', '.']\n",
      "['準', '衛', '滿'] 다만 일부 후대 기록에서는 조선시대까지는 기원전 2세기 초에 기자조선의 준왕(準王)이 위만(衛滿)을 피하여 바닷길로 달아나, 월지국(月支國)에 세운 나라라는 견해가 있다.\n",
      "['다만', '일부', '후대', '기록', '##에서', '##는', '조선', '##시대', '##까', '##지', '##는', '기원전', '2', '##세기', '초', '##에', '기자', '##조선', '##의', '준', '##왕', '(', '[UNK]', '王', ')', '이', '위', '##만', '(', '[UNK]', '[UNK]', ')', '을', '피하', '##여', '바닷', '##길', '##로', '달아나', ',', '월', '##지', '##국', '(', '月', '支', '國', ')', '에', '세운', '나라', '##라는', '견해', '##가', '있', '##다', '.']\n",
      "['竹', '兄'] 자연과의 교감을 빼어난 서정시로 보여준 죽형(竹兄) 조태일 시인(1941~1999) 20주기를 맞아 시인을 기리는 뜻깊은 행사가 마련된다.\n",
      "['자연', '##과', '##의', '교감', '##을', '빼어난', '서정', '##시', '##로', '보여준', '죽', '##형', '(', '[UNK]', '[UNK]', ')', '조', '##태', '##일', '시인', '(', '1941', '~', '1999', ')', '20', '##주', '##기', '##를', '맞아', '시인', '##을', '기리', '##는', '뜻깊', '##은', '행사', '##가', '마련', '##된', '##다', '.']\n",
      "['舊', '邦'] 조광한 시장은 이날 오리엔테이션에 참석해, 남양주의 인문학적 자산인 정약용 선생과 동시대의 위인들 및 '신아지구방(新我之舊邦)'에 대한 설명과 함께 사회생활을 시작하는 대학생들에게 \"향후 어떤 일을 하게 되더라도 새로운 변화를 위해 최선을 다한다면 좋은 성과가 있을 것\"이라며 격려했다.\n",
      "['조광', '##한', '시장', '##은', '이날', '오리엔', '##테이션', '##에', '참석', '##해', ',', '남양주', '##의', '인문학', '##적', '자산', '##인', '정약용', '선생', '##과', '동시대', '##의', '위인', '##들', '및', \"'\", '신', '##아지', '##구', '##방', '(', '新', '我', '之', '[UNK]', '[UNK]', ')', \"'\", '에', '대한', '설명', '##과', '함께', '사회생활', '##을', '시작', '##하', '##는', '대학생', '##들', '##에', '##게', '\"', '향후', '어떤', '일', '##을', '하', '##게', '되', '##더라', '##도', '새로운', '변화', '##를', '위해', '최선', '##을', '다', '##한다', '##면', '좋', '##은', '성과', '##가', '있', '##을', '것', '\"', '이라', '##며', '격려', '##했', '##다', '.']\n",
      "['빕'] 빕스와 아웃백은 해당 계열사 회원을 대상으로 1만원 할인쿠폰을 제공한다.\n",
      "['[UNK]', '아웃', '##백', '##은', '해당', '계열사', '회원', '##을', '대상', '##으로', '1', '##만', '##원', '할인', '##쿠', '##폰', '##을', '제공', '##한다', '.']\n",
      "['아'] 70인 역을 대신하여 유대교는 히브리어를 모르는 디아스포라 유대인들을 위해 타나크를 대본으로 하여 아퀼라역을 새롭게 번역하였다.\n",
      "['70', '##인', '역', '##을', '대신', '##하여', '유대교', '##는', '히브리', '##어', '##를', '모르', '##는', '디아', '##스', '##포', '##라', '유대인', '##들', '##을', '위해', '타', '##나', '##크', '##를', '대본', '##으로', '하여', '[UNK]', '새롭', '##게', '번역', '##하', '##였', '##다', '.']\n",
      "['倂', '呑'] 일제가 강제로 국권을 침탈한 1910년 한일병탄(倂呑) 이후 부친인 박윤하 의 항일 의병 활동으로 일본 경찰의 주목을 받게 되자 1912년4월 부친을 따라 만주 봉천성 청원현으로 건너갔다.\n",
      "['일제', '##가', '강제', '##로', '국', '##권', '##을', '침', '##탈', '##한', '1910', '##년', '한일', '##병', '##탄', '(', '[UNK]', '[UNK]', ')', '이후', '부친', '##인', '박윤', '##하', '의', '항일', '의병', '활동', '##으로', '일본', '경찰', '##의', '주목', '##을', '받', '##게', '되', '##자', '1912', '##년', '##4', '##월', '부친', '##을', '따라', '만주', '봉', '##천', '##성', '청원', '##현', '##으로', '건너갔', '##다', '.']\n",
      "['헴'] 파머는 그후 2011년 중반 미시건주 앤아버에서 촬영한 독립 로맨스 영화 《[[사랑과 전쟁 (2013년 영화)|사랑과 전쟁]》에 [[리엄 헴스워스]]와 같이 출연했다. 이 영화는 [[베트남 전쟁] 기간인 1960년대를 배경으로 했으며, 2013년 3월에 개봉되었다.\n",
      "['파', '##머', '##는', '그', '##후', '2011', '##년', '중반', '미시', '##건', '##주', '앤', '##아', '##버', '##에서', '촬영', '##한', '독립', '로맨스', '영화', '《', '[', '[', '사랑', '##과', '전쟁', '(', '2013', '##년', '영화', ')', '|', '사랑', '##과', '전쟁', ']', '》', '에', '[', '[', '리', '##엄', '[UNK]', ']', ']', '와', '같이', '출연', '##했', '##다', '.', '이', '영화', '##는', '[', '[', '베트남', '전쟁', ']', '기간', '##인', '1960', '##년', '##대', '##를', '배경', '##으로', '했으며', ',', '2013', '##년', '3', '##월', '##에', '개봉', '##되', '##었', '##다', '.']\n",
      "['열'] 옹성우 씨는 JTBC 드라마 '열여덞의 순간'에서 최준우 역을 연기했다.\n",
      "['옹', '##성', '##우', '씨', '##는', 'JTBC', '드라마', \"'\", '[UNK]', '순간', \"'\", '에서', '최준', '##우', '역', '##을', '연기', '##했', '##다', '.']\n",
      "['順'] 이 기간에 박헌영은 아지트에서 함께 숨어있던 정순년(鄭順年)과 부부의 연을 맺었다.\n",
      "['이', '기간', '##에', '박헌영', '##은', '아지', '##트', '##에서', '함께', '숨', '##어', '##있', '##던', '정순', '##년', '(', '鄭', '[UNK]', '年', ')', '과', '부부', '##의', '연', '##을', '맺', '##었', '##다', '.']\n",
      "['개'] 그리고 공식 후원사였던 대한항공은 양양국제공항에서 독일 뮌헨 국제공항. 미국 미니애폴리스 세인트폴 국제공항, 영국 런던 개트윅 국제공항을 잇는 올림픽 특별 전세노선을 운항하였다.\n",
      "['그리고', '공식', '후원', '##사', '##였', '##던', '대한항공', '##은', '양양', '##국제', '##공항', '##에서', '독일', '뮌헨', '국제공항', '.', '미국', '미니', '##애', '##폴리스', '세인트', '##폴', '국제공항', ',', '영국', '런던', '[UNK]', '국제공항', '##을', '잇', '##는', '올림픽', '특별', '전세', '##노선', '##을', '운항', '##하', '##였', '##다', '.']\n",
      "['条', '皇'] 따라서, 섭관가는 딸을 천황의 후비로 입궁시켜 황자를 낳게 하는 것으로 성립되었는데, 섭관가의 피를 잇지 않은 고산조 천황(後三条天皇)이 즉위하자, 섭관가의 세력은 점차 쇠퇴하게 되었다.\n",
      "['따라서', ',', '섭', '##관', '##가', '##는', '딸', '##을', '천황', '##의', '후', '##비', '##로', '입', '##궁', '##시', '##켜', '황', '##자', '##를', '낳', '##게', '하', '##는', '것', '##으로', '성립', '##되', '##었', '##는데', ',', '섭', '##관', '##가', '##의', '피', '##를', '잇', '##지', '않', '##은', '고산', '##조', '천황', '(', '後', '三', '[UNK]', '天', '[UNK]', ')', '이', '즉위', '##하', '##자', ',', '섭', '##관', '##가', '##의', '세력', '##은', '점차', '쇠퇴', '##하', '##게', '되', '##었', '##다', '.']\n",
      "['延'] 연고전(延高戰)은 애교심을 고양하고 연세대학교와 고려대학교 양교의 친선을 도모하기 위한 목적으로 스포츠 경기 를 비롯한 강연, 온라인 게임, 사회공헌활동 과 같은 다양한 분야에서 고려대학교와 승부를 겨루는 행사 일체를 의미한다.\n",
      "['연고', '##전', '(', '[UNK]', '高', '戰', ')', '은', '애교', '##심', '##을', '고양', '##하고', '연세대', '##학교', '##와', '고려대', '##학교', '양', '##교', '##의', '친선', '##을', '도모', '##하기', '위한', '목적', '##으로', '스포츠', '경기', '를', '비롯', '##한', '강연', ',', '온라인', '게임', ',', '사회', '##공', '##헌', '##활', '##동', '과', '같', '##은', '다양', '##한', '분야', '##에서', '고려대', '##학교', '##와', '승부', '##를', '겨루', '##는', '행사', '일체', '##를', '의미', '##한다', '.']\n",
      "['兩', '亂'] 연산군 이래의 국정의 문란과 임진·병자의 양란(兩亂), 그리고 이에 따르는 당쟁의 틈바구니에서 조선에 대한 민중의 신뢰심이 극도로 박약해지고, 장래에 대한 암담한 심정을 이기지 못할 즈음에 당시의 애국자가 민중에게 희망과 위안을 주기 위하여 이씨가 결딴나도 다음에 정씨도 있고, 조씨·범씨·왕씨도 있어서 우리 민족의 생명은 영원토록 불멸할 것이라는 신념을 가지게 하려고 하였다는 것이다.\n",
      "['연산군', '이래', '##의', '국정', '##의', '문란', '##과', '임진', '·', '병자', '##의', '양', '##란', '(', '[UNK]', '[UNK]', ')', ',', '그리고', '이', '##에', '따르', '##는', '당', '##쟁', '##의', '틈', '##바구니', '##에서', '조선', '##에', '대한', '민중', '##의', '신뢰', '##심', '##이', '극도', '##로', '박', '##약', '##해', '##지', '##고', ',', '장래', '##에', '대한', '암', '##담', '##한', '심정', '##을', '이기', '##지', '못할', '즈음', '##에', '당시', '##의', '애국', '##자', '##가', '민중', '##에', '##게', '희망', '##과', '위안', '##을', '주기', '위하', '##여', '이씨', '##가', '결', '##딴', '##나도', '다음', '##에', '정', '##씨', '##도', '있', '##고', ',', '조', '##씨', '·', '범', '##씨', '·', '왕', '##씨', '##도', '있', '##어', '##서', '우리', '민족', '##의', '생명', '##은', '영원', '##토록', '불멸', '##할', '것', '##이', '##라는', '신념', '##을', '가지', '##게', '하', '##려고', '하', '##였', '##다는', '것', '##이다', '.']\n",
      "['郡'] 삼국의 영토가 넓어지고 중앙정부의 권력이 지방으로 뻗치면서 삼국은 중국의 군현제를 도입해 운영하기 시작했는데, 각국이 정복하여 세력권에 편입시킨 부족(部族)들의 땅에 성을 쌓고 행정의 중심으로 삼기 시작했고 그것이 나중에 군(郡)이 되었다.\n",
      "['삼국', '##의', '영토', '##가', '넓', '##어지', '##고', '중앙', '##정부', '##의', '권력', '##이', '지방', '##으로', '뻗', '##치', '##면서', '삼국', '##은', '중국', '##의', '군', '##현', '##제', '##를', '도입', '##해', '운영', '##하기', '시작', '##했', '##는데', ',', '각국', '##이', '정복', '##하여', '세력', '##권', '##에', '편입', '##시', '##킨', '부족', '(', '部', '族', ')', '들', '##의', '땅', '##에', '성', '##을', '쌓', '##고', '행정', '##의', '중심', '##으로', '삼', '##기', '시작', '##했', '##고', '그것', '##이', '나중', '##에', '군', '(', '[UNK]', ')', '이', '되', '##었', '##다', '.']\n",
      "['오'] 순간 보스니아 선수들은 주심을 의식하며 집중력을 잃었고 그사이 피터 오뎀윙기는 에메니케의 패스를 골로 연결했다.\n",
      "['순간', '보스', '##니아', '선수', '##들', '##은', '주심', '##을', '의식', '##하', '##며', '집중력', '##을', '잃', '##었', '##고', '그', '##사이', '피터', '[UNK]', '에메', '##니', '##케', '##의', '패스', '##를', '골', '##로', '연결', '##했', '##다', '.']\n",
      "['삔'] 지터는 삔 종아리로 인하여 8월 5일 15일간의 장애자 명단에 또 다시 놓였고 배치에 잠시 돌아온 후에 그는 자신의 발목에 문제로 인하여 9월 11일 3번째로 장애자 명단에 놓여 자신의 시즌을 끝냈다.\n",
      "['지', '##터', '##는', '[UNK]', '종아리', '##로', '인하', '##여', '8', '##월', '5', '##일', '15', '##일', '##간', '##의', '장애', '##자', '명단', '##에', '또', '다시', '놓였', '##고', '배치', '##에', '잠시', '돌아온', '후', '##에', '그', '##는', '자신', '##의', '발목', '##에', '문제', '##로', '인하', '##여', '9', '##월', '11', '##일', '3', '##번', '##째', '##로', '장애', '##자', '명단', '##에', '놓여', '자신', '##의', '시즌', '##을', '끝냈', '##다', '.']\n",
      "['･', '･', '･', '･'] 더불어민주당 최인호 국회의원(부산 사하갑)이 한국환경공단으로부터 받은 자료에 의하면 2018년 전국 626개 대형 사업장의 미세먼지 발생량은 5만 5, 714톤이며 5개 발전사(남동･남부･동서･서부･중부발전)가 28개 발전소에서 배출하는 미세먼지는 2만 3, 977톤으로 전체의 43%를 차지한다.\n",
      "['더불', '##어', '##민주당', '최인', '##호', '국회의원', '(', '부산', '사하', '##갑', ')', '이', '한국', '##환경', '##공단', '##으로', '##부터', '받', '##은', '자료', '##에', '의하', '##면', '2018', '##년', '전국', '62', '##6', '##개', '대형', '사업장', '##의', '미세먼지', '발생', '##량', '##은', '5', '##만', '5', ',', '71', '##4', '##톤', '##이', '##며', '5', '##개', '발전', '##사', '(', '남동', '[UNK]', '남부', '[UNK]', '동서', '[UNK]', '서부', '[UNK]', '중부', '##발전', ')', '가', '28', '##개', '발전소', '##에서', '배출', '##하', '##는', '미세먼지', '##는', '2', '##만', '3', ',', '97', '##7', '##톤', '##으로', '전체', '##의', '43', '%', '를', '차지', '##한다', '.']\n",
      "['具', '壽'] 구연수(具然壽, 1866년 10월 8일 ~ 1925년 5월 6일)는 조선과 대한제국의 군인, 관료, 정치인으로 을미사변 관련자이자 을미사변 당시 조선인 출신 고위 협조자의 한사람이며 일제 강점기에 경찰 간부를 지냈다.\n",
      "['구연', '##수', '(', '[UNK]', '然', '[UNK]', ',', '186', '##6', '##년', '10', '##월', '8', '##일', '~', '1925', '##년', '5', '##월', '6', '##일', ')', '는', '조선', '##과', '대한제국', '##의', '군인', ',', '관료', ',', '정치인', '##으로', '을', '##미사', '##변', '관련자', '##이', '##자', '을', '##미사', '##변', '당시', '조선인', '출신', '고위', '협조', '##자', '##의', '한사', '##람', '##이', '##며', '일제', '강점기', '##에', '경찰', '간부', '##를', '지냈', '##다', '.']\n",
      "['쾨'] 텐디요의 첫 스페인 국가대표팀 출전 경기는 1980년 5월 21일, 쾨벤하운에서 20세가 되기 전에 출전한 덴마크와의 친선경기로, 2-2로 비겼다.\n",
      "['텐', '##디', '##요', '##의', '첫', '스페인', '국가', '##대표', '##팀', '출전', '경기', '##는', '1980', '##년', '5', '##월', '21', '##일', ',', '[UNK]', '20', '##세', '##가', '되', '##기', '전', '##에', '출전', '##한', '덴마크', '##와', '##의', '친선', '##경기', '##로', ',', '2', '-', '2', '##로', '비', '##겼', '##다', '.']\n",
      "['慜', '貞'] 정조 15년에는 정조의 모친 혜빈 홍씨(혜경궁)와 같은 작호를 피하여 새로 민정(慜貞)이란 시호를 내리고 신주를 새로 만들어 제사 지내게 하였다.\n",
      "['정조', '15', '##년', '##에', '##는', '정조', '##의', '모친', '혜', '##빈', '홍', '##씨', '(', '혜', '##경궁', ')', '와', '같', '##은', '작', '##호', '##를', '피하', '##여', '새로', '민정', '(', '[UNK]', '[UNK]', ')', '이란', '시호', '##를', '내리', '##고', '신주', '##를', '새로', '만들', '##어', '제사', '지내', '##게', '하', '##였', '##다', '.']\n",
      "['楢', '佐', '渡', '館'] 모리오카 번은 나라야마 사도(楢山 佐渡)가 귀국하면서 오우에쓰 열번 동맹에 가담할 것을 결정했고, 8월 9일에 모리오카 번은 구보타 번을 공격해 오다테 성(大館城)을 공략했다.\n",
      "['모리', '##오카', '번', '##은', '나라', '##야마', '사도', '(', '[UNK]', '山', '[UNK]', '[UNK]', ')', '가', '귀국', '##하면', '##서', '오우', '##에', '##쓰', '열', '##번', '동맹', '##에', '가담', '##할', '것', '##을', '결정', '##했', '##고', ',', '8', '##월', '9', '##일', '##에', '모리', '##오카', '번', '##은', '구보', '##타', '번', '##을', '공격', '##해', '오', '##다', '##테', '성', '(', '大', '[UNK]', '城', ')', '을', '공략', '##했', '##다', '.']\n",
      "['윰'] 인터뷰에서 임남희 PD는 윰댕이 그동안 숨겨왔던 비밀을 방송에서 털어놓게 된 이유를 밝혔다.\n",
      "['인터뷰', '##에서', '임', '##남', '##희', 'PD', '##는', '[UNK]', '그동안', '숨겨', '##왔', '##던', '비밀', '##을', '방송', '##에서', '털어놓', '##게', '된', '이유', '##를', '밝혔', '##다', '.']\n",
      "['許', '昌'] 조비는 낙양으로 천도하고, 허를 허창(許昌)으로 고쳐 불렀다.\n",
      "['조', '##비', '##는', '낙양', '##으로', '천도', '##하고', ',', '허', '##를', '허', '##창', '(', '[UNK]', '[UNK]', ')', '으로', '고쳐', '불렀', '##다', '.']\n",
      "['미'] 2014년 2월, 쿠르투아는 리버풀 골키퍼 시몽 미뇰레가 항상 \"겸손하고 존경심이 있어야 한다는 것을 그가 기억하여야 한다.\"라는 발언으로 벨기에 국가대표팀의 분위기에 찬물을 끼얹었다.\n",
      "['2014', '##년', '2', '##월', ',', '쿠르', '##투', '##아', '##는', '리버풀', '골키퍼', '시', '##몽', '[UNK]', '항상', '\"', '겸손', '##하고', '존경심', '##이', '있', '##어야', '한다는', '것', '##을', '그', '##가', '기억', '##하여', '##야', '한다', '.', '\"', '라는', '발언', '##으로', '벨기에', '국가', '##대표', '##팀', '##의', '분위기', '##에', '찬물', '##을', '끼얹', '##었', '##다', '.']\n",
      "['溥'] 청 왕조의 가법(家法)에 따르면 동치제가 죽었을 때, 항렬이 부(溥)자인 후손들이 황위를 계승해야만 했지만 서태후가 권력을 놓을 생각이 없었기 때문에 동치제와 같은 항렬인 광서제로 황위를 승계하게 하였다.\n",
      "['청', '왕조', '##의', '가', '##법', '(', '家', '法', ')', '에', '따르', '##면', '동', '##치', '##제', '##가', '죽', '##었', '##을', '때', ',', '항', '##렬', '##이', '부', '(', '[UNK]', ')', '자인', '후손', '##들이', '황', '##위', '##를', '계승', '##해야', '##만', '했', '##지만', '서태', '##후', '##가', '권력', '##을', '놓', '##을', '생각', '##이', '없', '##었', '##기', '때문', '##에', '동', '##치', '##제', '##와', '같', '##은', '항', '##렬', '##인', '광', '##서', '##제', '##로', '황', '##위', '##를', '승계', '##하', '##게', '하', '##였', '##다', '.']\n",
      "['스'] 연구진은 십 대 아이들이 페이스북, 인스타그램, 왓츠업, 트위터, 스냅챗 등 소셜 미디어를 얼마나 자주 들어가고 사용하는지 조사했다.\n",
      "['연구', '##진', '##은', '십', '대', '아이', '##들이', '페이스북', ',', '인스', '##타', '##그램', ',', '왓', '##츠', '##업', ',', '트위터', ',', '[UNK]', '등', '소셜', '미디어', '##를', '얼마나', '자주', '들어가', '##고', '사용', '##하', '##는지', '조사', '##했', '##다', '.']\n",
      "['스'] 글래드 호텔 마케팅 담당자는 “메종 글래드 제주에서 깊어가는 가을의 감성을 느낄 수 있도록 하동균X펀치 콘서트를 기획하여 제주도민들에게는 문화 생활을 선사하고 투숙객에게는 특별한 여행을 즐길 수 있도록 준비했다”면서 “스낵바 및 카페 판매 금액의 일부는 글래드림 캠페인의 일환으로 월드비전에 기부될 예정이며 앞으로도 글래드 뮤직 페스트를 통해 다양한 볼거리와 즐길 거리를 선보일 것”이라고 말했다.\n",
      "['글래', '##드', '호텔', '마케팅', '담당자', '##는', '“', '메', '##종', '글래', '##드', '제주', '##에서', '깊', '##어가', '##는', '가을', '##의', '감성', '##을', '느낄', '수', '있', '##도록', '하동', '##균', '##X', '##펀', '##치', '콘서트', '##를', '기획', '##하여', '제주도', '##민', '##들', '##에', '##게', '##는', '문화', '생활', '##을', '선사', '##하고', '투숙', '##객', '##에', '##게', '##는', '특별', '##한', '여행', '##을', '즐길', '수', '있', '##도록', '준비', '##했', '##다', '”', '면서', '“', '[UNK]', '및', '카페', '판매', '금액', '##의', '일부', '##는', '글래', '##드', '##림', '캠페인', '##의', '일환', '##으로', '월드', '##비전', '##에', '기부', '##될', '예정', '##이', '##며', '앞', '##으로', '##도', '글래', '##드', '뮤직', '페스트', '##를', '통해', '다양', '##한', '볼거리', '##와', '즐길', '거리', '##를', '선보일', '것', '”', '이라', '##고', '말', '##했', '##다', '.']\n",
      "['臨', '順'] 일본군에게 사로잡혔던 임해군(臨海君)·순화군(順和君) 두 왕자가 송환된 후 그 뒤 4년 이상 전쟁이 소강상태에 들어가며 그다지 큰 전투가 없었다.\n",
      "['일본군', '##에', '##게', '사로잡', '##혔', '##던', '임해', '##군', '(', '[UNK]', '海', '君', ')', '·', '순화', '##군', '(', '[UNK]', '和', '君', ')', '두', '왕자', '##가', '송환', '##된', '후', '그', '뒤', '4', '##년', '이상', '전쟁', '##이', '소강', '##상', '##태', '##에', '들어가', '##며', '그다지', '큰', '전투', '##가', '없', '##었', '##다', '.']\n",
      "['渋', '沢', '雄', '秀', '雄'] 시부사와 카즈오(渋沢一雄) - 히데오(秀雄)의 장남이다.\n",
      "['시', '##부', '##사', '##와', '카', '##즈', '##오', '(', '[UNK]', '[UNK]', '一', '[UNK]', ')', '-', '히', '##데오', '(', '[UNK]', '[UNK]', ')', '의', '장남', '##이다', '.']\n",
      "['屠', '免', '賤', '漆', '笠'] 에비슨 등 선교사들의 지속적인 노력으로 1896년 2월 백정(屠漢)들에게도 면천(免賤)이 허용되어 평민들과 같이 갓[漆笠]을 착용할 수 있었으며, 1896년 9월 백정들도 호적에 오를 수 있게 되었다.\n",
      "['에비', '##슨', '등', '선교사', '##들', '##의', '지속', '##적인', '노력', '##으로', '1896', '##년', '2', '##월', '백정', '(', '[UNK]', '漢', ')', '들', '##에', '##게', '##도', '면', '##천', '(', '[UNK]', '[UNK]', ')', '이', '허용', '##되', '##어', '평민', '##들', '##과', '같이', '갓', '[', '[UNK]', '[UNK]', ']', '을', '착용', '##할', '수', '있', '##었', '##으며', ',', '1896', '##년', '9', '##월', '백정', '##들', '##도', '호적', '##에', '오를', '수', '있', '##게', '되', '##었', '##다', '.']\n",
      "['홋'] 펄펄 날던 손흥민(토트넘 홋스퍼) 선수가 부상을 당했다.\n",
      "['펄펄', '날', '##던', '손흥민', '(', '토트넘', '[UNK]', ')', '선수', '##가', '부상', '##을', '당했', '##다', '.']\n",
      "['僻', '派'] 정조의 은언군 구하기 항의성 시위는 그 해 9월 28일 일단 벽파대신(僻派大臣)들이 정조의 체신을 생각하여 수용하는 선에서 마무리지었다.\n",
      "['정조', '##의', '은', '##언', '##군', '구하', '##기', '항의', '##성', '시위', '##는', '그', '해', '9', '##월', '28', '##일', '일단', '벽', '##파', '##대', '##신', '(', '[UNK]', '[UNK]', '大', '臣', ')', '들이', '정조', '##의', '체', '##신', '##을', '생각', '##하여', '수용', '##하', '##는', '선', '##에서', '마무리', '##지', '##었', '##다', '.']\n",
      "['에'] 마드리드 출신의 발보아는 2005년 여름에 후안프란이 에스파뇰에 임대로 떠나게 되면서 레알 마드리드 카스티야의 일원으로 합류했다.\n",
      "['마드리드', '출신', '##의', '발', '##보', '##아', '##는', '2005', '##년', '여름', '##에', '후안', '##프란', '##이', '[UNK]', '임대', '##로', '떠나', '##게', '되', '##면서', '레알', '마드리드', '카스', '##티', '##야', '##의', '일원', '##으로', '합류', '##했', '##다', '.']\n",
      "['趙', '錫', '俊'] 조석준(趙錫俊, 1954년 12월 18일 ~)은 대한민국의 기업가 겸 관료이자 예비역 대한민국 공군 대위이고 前 기자이며 前 기상행정공직자다.\n",
      "['조석', '##준', '(', '[UNK]', '[UNK]', '[UNK]', ',', '1954', '##년', '12', '##월', '18', '##일', '~', ')', '은', '대한민국', '##의', '기업가', '겸', '관료', '##이', '##자', '예비역', '대한민국', '공군', '대위', '##이', '##고', '前', '기자', '##이', '##며', '前', '기상', '##행정', '##공', '##직자', '##다', '.']\n",
      "['術'] 8월 13일에는 동부전선 포항에 돌입한 북한군을 한국군 수도사단과 제3사단이 대항하여 북한군의 주공격 지점으로서 낙동강 도하작전을 위해 10여 일을 두고 4개 사단의 병력을 투입, 인해전술(人海戰術)로 몰려들었다.\n",
      "['8', '##월', '13', '##일', '##에', '##는', '동부', '##전', '##선', '포항', '##에', '돌입', '##한', '북한', '##군', '##을', '한국군', '수도사', '##단', '##과', '제', '##3', '##사', '##단', '##이', '대항', '##하여', '북한', '##군', '##의', '주공', '##격', '지점', '##으로', '##서', '낙동강', '도하', '##작전', '##을', '위해', '10', '##여', '일', '##을', '두고', '4', '##개', '사단', '##의', '병력', '##을', '투입', ',', '인해', '##전', '##술', '(', '人', '海', '戰', '[UNK]', ')', '로', '몰려들', '##었', '##다', '.']\n",
      "['柳', '墓', '輓'] 류한 묘소 출토 만장(柳漢 墓所 出土 輓章)은 경상남도 진주시에 있는 조선시대 류한의 묘소에서 출토된 만장이다.\n",
      "['류', '##한', '묘소', '출토', '만장', '(', '[UNK]', '漢', '[UNK]', '所', '出', '土', '[UNK]', '章', ')', '은', '경상남도', '진주시', '##에', '있', '##는', '조선', '##시대', '류', '##한', '##의', '묘소', '##에서', '출토', '##된', '만장', '##이다', '.']\n",
      "['일'] 기원전 12년에는 알프스 근방에서 군사 행동을 재개하였고, 의붓아들인 티베리우스와 드루수스 형제가 이끄는 군대가 각각 일리리쿰에서 판노니아 족, 동부 라인란트에서 게르만족을 공격하였다.\n",
      "['기원전', '12', '##년', '##에', '##는', '알프스', '근방', '##에서', '군사', '행동', '##을', '재개', '##하', '##였', '##고', ',', '의', '##붓', '##아들', '##인', '티', '##베리', '##우스', '##와', '드루', '##수', '##스', '형제', '##가', '이끄', '##는', '군대', '##가', '각각', '[UNK]', '판', '##노', '##니아', '족', ',', '동부', '라인', '##란트', '##에서', '게르', '##만', '##족', '##을', '공격', '##하', '##였', '##다', '.']\n",
      "['窩', '闊', '台', '汗'] 오고타이국, 또는 오고타이 칸국(gdei Khan國, 窩闊台汗國)은 칭기스 칸의 3남인 오고타이가 칭기스 칸에게서 영지를 받아 성립된 몽골제국의 울루스이다.\n",
      "['오', '##고', '##타이', '##국', ',', '또는', '오', '##고', '##타이', '칸', '##국', '(', 'g', '##d', '##e', '##i', 'K', '##h', '##an', '國', ',', '[UNK]', '[UNK]', '[UNK]', '[UNK]', '國', ')', '은', '칭기', '##스', '칸', '##의', '3', '##남', '##인', '오', '##고', '##타이', '##가', '칭기', '##스', '칸', '##에', '##게', '##서', '영지', '##를', '받아', '성립', '##된', '몽골', '##제국', '##의', '울', '##루스', '##이다', '.']\n",
      "['獻', '陵', '直'] 1842년(헌종 8) 헌릉직장(獻陵直長), 1843년 장원서별제, 1844년 한성부주부, 사직서령, 1845년 한성부판관 등을 거쳐 그해 6월 김화현감으로 나갔다.\n",
      "['184', '##2', '##년', '(', '헌', '##종', '8', ')', '헌', '##릉', '##직', '##장', '(', '[UNK]', '[UNK]', '[UNK]', '長', ')', ',', '184', '##3', '##년', '장원', '##서', '##별', '##제', ',', '184', '##4', '##년', '한성', '##부', '##주부', ',', '사직서', '##령', ',', '184', '##5', '##년', '한성', '##부', '##판', '##관', '등', '##을', '거쳐', '그해', '6', '##월', '김', '##화', '##현', '##감', '##으로', '나갔', '##다', '.']\n",
      "['뮐'] 결국 보잉 본사에서는 2019년 12월 16일 부로 보잉 737 MAX의 생산을 일시중단한다고 발표했으며, CEO인 데니스 뮐렌버그는 며칠 후 전격 해임됐다.\n",
      "['결국', '보잉', '본사', '##에서', '##는', '2019', '##년', '12', '##월', '16', '##일', '부', '##로', '보잉', '73', '##7', 'MA', '##X', '##의', '생산', '##을', '일시', '##중', '##단', '##한다', '##고', '발표', '##했', '##으며', ',', 'CEO', '##인', '데니스', '[UNK]', '며칠', '후', '전격', '해임', '##됐', '##다', '.']\n",
      "['구'] 비문에는 1554년에서 1558년까지 합천군수를 지냈던 이증영이 1554년의 극심한 흉년에 백성을 자식처럼 사랑하여 구휼하고, 청렴하게 관직생활을 했던 내용이 기록되어 있다.\n",
      "['비문', '##에', '##는', '155', '##4', '##년', '##에서', '155', '##8', '##년', '##까', '##지', '합천', '##군', '##수', '##를', '지냈', '##던', '이', '##증', '##영', '##이', '155', '##4', '##년', '##의', '극심', '##한', '흉', '##년', '##에', '백성', '##을', '자식', '##처럼', '사랑', '##하여', '[UNK]', ',', '청렴', '##하', '##게', '관직', '##생활', '##을', '했', '##던', '내용', '##이', '기록', '##되', '##어', '있', '##다', '.']\n",
      "['昌', '昌'] 그러나 상국 창평군(昌平君)과 창문군(昌文君)이 반격해 함양에서 전투를 벌여 진왕 영정의 군대가 승리하고 노애와 반란군들은 도망치다 붙잡혀 처형당한다.\n",
      "['그러나', '상국', '창', '##평', '##군', '(', '[UNK]', '平', '君', ')', '과', '창문', '##군', '(', '[UNK]', '文', '君', ')', '이', '반격', '##해', '함양', '##에서', '전투', '##를', '벌여', '진', '##왕', '영정', '##의', '군대', '##가', '승리', '##하고', '노', '##애', '##와', '반란군', '##들', '##은', '도망치', '##다', '붙잡혀', '처형', '##당', '##한다', '.']\n",
      "['輝', '襲'] 1999년 장남 가즈데루(一輝, 한국이름 : 심일휘) 씨가 15대 심수관(심수관 4세)을 습명(襲名 : 선대의 이름을 계승)했다.\n",
      "['1999', '##년', '장남', '가즈', '##데', '##루', '(', '一', '[UNK]', ',', '한국', '##이', '##름', ':', '심', '##일', '##휘', ')', '씨', '##가', '15', '##대', '심', '##수', '##관', '(', '심', '##수', '##관', '4', '##세', ')', '을', '습', '##명', '(', '[UNK]', '名', ':', '선대', '##의', '이름', '##을', '계승', ')', '했', '##다', '.']\n",
      "['크', '크'] 크뢸루프는 다른 클럽으로 이적을 바라는 선수 가운데 한 사람이었으나, 피오렌티나의 프런트가 이탈리아 축구 연맹에 호소한 결과, 세리에 A에 잔류할 수 있게 돼, 크뢸루프를 포함한 대부분의 선수들이 잔류하게 되었다.\n",
      "['[UNK]', '다른', '클럽', '##으로', '이적', '##을', '바라', '##는', '선수', '가운데', '한', '사람', '##이', '##었', '##으나', ',', '피', '##오', '##렌', '##티나', '##의', '프런트', '##가', '이탈리아', '축구', '연맹', '##에', '호소', '##한', '결과', ',', '세리', '##에', 'A', '##에', '잔류', '##할', '수', '있', '##게', '돼', ',', '[UNK]', '포함', '##한', '대부분', '##의', '선수', '##들이', '잔류', '##하', '##게', '되', '##었', '##다', '.']\n",
      "['李', '許', '謙'] 이허겸(李許謙, -)은 고려의 외척으로 고려 문종의 장인 이자연의 할아버지이다.\n",
      "['이', '##허', '##겸', '(', '[UNK]', '[UNK]', '[UNK]', ',', '-', ')', '은', '고려', '##의', '외', '##척', '##으로', '고려', '문종', '##의', '장인', '이자', '##연', '##의', '할아버지', '##이다', '.']\n",
      "['빕'] CJ푸드빌(대표 정성필)이 운영하는 빕스(VIPS)가 연말 파티를 더욱 풍성하게 완성시켜 줄 겨울 신메뉴를 선보인다고 13일 밝혔다.\n",
      "['CJ', '##푸드', '##빌', '(', '대표', '정성', '##필', ')', '이', '운영', '##하', '##는', '[UNK]', '(', 'VIP', '##S', ')', '가', '연말', '파티', '##를', '더욱', '풍성', '##하', '##게', '완성', '##시', '##켜', '줄', '겨울', '신', '##메', '##뉴', '##를', '선보인다', '##고', '13', '##일', '밝혔', '##다', '.']\n",
      "['아'] 특히 주목할만 이적으로는 새 감독 빈첸초 몬텔라, 골키퍼 에밀리아노 비비아노, 플레이메이커 4인방 마티아스 페르난데스, 보르하 발레로, 알베르토 아퀼라니 그리고 다비드 피사로가 있다.\n",
      "['특히', '주목', '##할', '##만', '이적', '##으로', '##는', '새', '감독', '빈', '##첸', '##초', '몬', '##텔', '##라', ',', '골키퍼', '에밀리', '##아', '##노', '비비', '##아', '##노', ',', '플레이', '##메이', '##커', '4', '##인', '##방', '마티', '##아', '##스', '페르난', '##데스', ',', '보르', '##하', '발레', '##로', ',', '알베르', '##토', '[UNK]', '그리고', '다비', '##드', '피사', '##로', '##가', '있', '##다', '.']\n",
      "['逢', '紀'] 그러나 봉기(逢紀)는 심배를 변호하였고, 심배는 그대로 자리에 유임될 수 있었다.\n",
      "['그러나', '봉기', '(', '[UNK]', '[UNK]', ')', '는', '심', '##배', '##를', '변호', '##하', '##였', '##고', ',', '심', '##배', '##는', '그대로', '자리', '##에', '유임', '##될', '수', '있', '##었', '##다', '.']\n",
      "['匡', '令'] 덕종(德宗) 2년에는 다시 대광(大匡) · 내사령(內史令)이 추증되었다.\n",
      "['덕', '##종', '(', '德', '宗', ')', '2', '##년', '##에', '##는', '다시', '대', '##광', '(', '大', '[UNK]', ')', '·', '내사', '##령', '(', '內', '史', '[UNK]', ')', '이', '추', '##증', '##되', '##었', '##다', '.']\n",
      "['戦', 'チ'] 1식 중전차 치헤(一式中戦車 チへ Ichi-shiki chusensha)는 제2차세계대전동안 사용되었던 일본군의 97식 중전차 치하를 개량한 버전이다.\n",
      "['1', '##식', '중전', '##차', '치', '##헤', '(', '一', '式', '中', '[UNK]', '車', '[UNK]', 'I', '##ch', '##i', '-', 'sh', '##ik', '##i', 'ch', '##us', '##ens', '##h', '##a', ')', '는', '제', '##2', '##차', '##세계', '##대', '##전', '##동안', '사용', '##되', '##었', '##던', '일본군', '##의', '97', '##식', '중전', '##차', '치하', '##를', '개량', '##한', '버전', '##이다', '.']\n",
      "['보', '탰'] 이번 책자에는 영암군에서 새로이 변경·시행되는 제도와 신규 시책은 물론 중앙정부 및 전남도의 바뀐 제도와 시책의 주요내용을 함께 실어 주민생활에 도움을 보탰다.\n",
      "['이번', '책자', '##에', '##는', '영암', '##군', '##에서', '새로이', '변경', '·', '시행', '##되', '##는', '제도', '##와', '신규', '시책', '##은', '물론', '중앙', '##정부', '및', '전남', '##도', '##의', '바뀐', '제도', '##와', '시책', '##의', '주요', '##내', '##용', '##을', '함께', '실', '##어', '주민', '##생활', '##에', '도움', '##을', '[UNK]', '.']\n",
      "['岡', '右', '衛'] 그리고 막부의 명으로 오카모토 산에몬(岡本三右衛門)이라는 앞서 기리시탄으로써 순교한 하급 무사의 후처를 아내로 맞아 그대로 오카모토 산에몬이라는 이름을 사용하게 된다.\n",
      "['그리고', '막부', '##의', '명', '##으로', '오카', '##모토', '산', '##에', '##몬', '(', '[UNK]', '本', '三', '[UNK]', '[UNK]', '門', ')', '이라', '##는', '앞서', '기리', '##시', '##탄', '##으로', '##써', '순교', '##한', '하급', '무사', '##의', '후', '##처', '##를', '아내', '##로', '맞아', '그대로', '오카', '##모토', '산', '##에', '##몬', '##이', '##라는', '이름', '##을', '사용', '##하', '##게', '된다', '.']\n",
      "['꼰'] 얼라웅퍼야 왕(1752~1760)은 1752년에 쉐보에 꼰바웅 왕조를 건국하였다.\n",
      "['얼', '##라', '##웅', '##퍼', '##야', '왕', '(', '175', '##2', '~', '176', '##0', ')', '은', '175', '##2', '##년', '##에', '쉐', '##보', '##에', '[UNK]', '왕조', '##를', '건국', '##하', '##였', '##다', '.']\n",
      "['李', '晉'] 같은 해 8월 18일에 장남 이진(李晉)이 태어났다.\n",
      "['같', '##은', '해', '8', '##월', '18', '##일', '##에', '장남', '이진', '(', '[UNK]', '[UNK]', ')', '이', '태어났', '##다', '.']\n",
      "['令', '旨'] 그곳에서 황족 모치히토 왕의 영지(令旨) 를 받고 이후 극적으로 회생, 미나모토노 요시나카 등의 겐지들과 함께 거병해 간토의 헤이케 세력을 평정하고 가마쿠라를 본거지로 삼았다.\n",
      "['그곳', '##에서', '황', '##족', '모', '##치', '##히', '##토', '왕', '##의', '영지', '(', '[UNK]', '[UNK]', ')', '를', '받', '##고', '이후', '극', '##적으로', '회생', ',', '미나', '##모토', '##노', '요시', '##나', '##카', '등', '##의', '겐', '##지', '##들', '##과', '함께', '거', '##병', '##해', '간', '##토', '##의', '헤이', '##케', '세력', '##을', '평정', '##하고', '가마', '##쿠라', '##를', '본', '##거지', '##로', '삼', '##았', '##다', '.']\n",
      "['보'] 시 관계자는 “오늘 교육은 최근 불어오는 긍정적 변화를 천우신조 기회로 삼아 1, 000만 관광객 유치 등 목포의 도약을 위해 다 함께 더욱 분발하자고 의지를 모으는 기회가 되었다. 지역의 리더이자 소통창구, 주민 보살핌이로서 통장의 역할을 다할 수 있도록 더욱 노력하겠다”고 말했다.\n",
      "['시', '관계자', '##는', '“', '오늘', '교육', '##은', '최근', '불어오', '##는', '긍정', '##적', '변화', '##를', '천', '##우', '##신', '##조', '기회', '##로', '삼', '##아', '1', ',', '000', '##만', '관광객', '유치', '등', '목포', '##의', '도약', '##을', '위해', '다', '함께', '더욱', '분발', '##하', '##자', '##고', '의지', '##를', '모으', '##는', '기회', '##가', '되', '##었', '##다', '.', '지역', '##의', '리더', '##이', '##자', '소통', '##창', '##구', ',', '주민', '[UNK]', '통장', '##의', '역할', '##을', '다', '##할', '수', '있', '##도록', '더욱', '노력', '##하', '##겠다', '”', '고', '말', '##했', '##다', '.']\n",
      "['沙', '梁'] 시호를 진덕(眞德)이라 하고 사량부(沙梁部)에 장사 지냈다.\n",
      "['시호', '##를', '진', '##덕', '(', '眞', '德', ')', '이라', '하고', '사', '##량', '##부', '(', '[UNK]', '[UNK]', '部', ')', '에', '장사', '지냈', '##다', '.']\n",
      "['均', '館'] 예를 들면 중종 때의 조광조는 교학(敎學)의 최고위 직인 지성균관사(知成均館事)를 거쳐 대사헌에 임명되었으며, 효종·헌종 때의 송시열은 예조참판에서 신임을 받기 시작하여 이조판서를 역임하고, 뒤에 우의정·좌의정 등의 요직에 있으면서 세도의 신임과 위임을 받았다.\n",
      "['예', '##를', '들', '##면', '중종', '때', '##의', '조광조', '##는', '교학', '(', '敎', '學', ')', '의', '최고위', '직', '##인', '지성', '##균관', '##사', '(', '知', '成', '[UNK]', '[UNK]', '事', ')', '를', '거쳐', '대사', '##헌', '##에', '임명', '##되', '##었', '##으며', ',', '효종', '·', '헌', '##종', '때', '##의', '송시열', '##은', '예', '##조', '##참', '##판', '##에서', '신임', '##을', '받', '##기', '시작', '##하여', '이조', '##판', '##서', '##를', '역임', '##하고', ',', '뒤', '##에', '우의', '##정', '·', '좌', '##의정', '등', '##의', '요직', '##에', '있', '##으면서', '세도', '##의', '신임', '##과', '위임', '##을', '받', '##았', '##다', '.']\n",
      "['앰'] 의학원은 전문의 및 간호사로 구성된 의료 지원단과 앰뷸런스를 대회 기간 전일 배치해 이번 대회에 참가하는 선수들 및 LPGA 관계자들을 위해 진료했다.\n",
      "['의학', '##원', '##은', '전문의', '및', '간호사', '##로', '구성', '##된', '의료', '지원', '##단', '##과', '[UNK]', '대회', '기간', '전일', '배치', '##해', '이번', '대회', '##에', '참가', '##하', '##는', '선수', '##들', '및', 'LPGA', '관계자', '##들', '##을', '위해', '진료', '##했', '##다', '.']\n",
      "['素', '惠'] 김소영 金素英, 金惠得, 1914년 ~1989 은 한국의 영화 배우이다.\n",
      "['김소', '##영', '金', '[UNK]', '英', ',', '金', '[UNK]', '得', ',', '1914', '##년', '~', '1989', '은', '한국', '##의', '영화', '배우', '##이다', '.']\n",
      "['陰', '根', '厭', '欲', '欲'] 《잡아함경》 제2권 제58경 〈음근경(陰根經)〉에서 고타마 붓다는 수염(修厭)을 닦으면 탐욕[欲]을 떠날 수 있고, 탐욕[欲]을 떠날 수 있으면 해탈하게 된다고 말하고 있다.\n",
      "['《', '잡아', '##함', '##경', '》', '제', '##2', '##권', '제', '##58', '##경', '〈', '음', '##근', '##경', '(', '[UNK]', '[UNK]', '經', ')', '〉', '에서', '고', '##타', '##마', '붓다', '##는', '수염', '(', '修', '[UNK]', ')', '을', '닦', '##으면', '탐욕', '[', '[UNK]', ']', '을', '떠날', '수', '있', '##고', ',', '탐욕', '[', '[UNK]', ']', '을', '떠날', '수', '있', '##으면', '해탈', '##하', '##게', '된다고', '말', '##하고', '있', '##다', '.']\n",
      "['后', '勝'] 제나라의 마지막 왕인 제왕 건은 상국인 후승(后勝)의 말을 듣고 싸우지 않고 항복하였다.\n",
      "['제', '##나라', '##의', '마지막', '왕', '##인', '제왕', '건', '##은', '상국', '##인', '후', '##승', '(', '[UNK]', '[UNK]', ')', '의', '말', '##을', '듣', '##고', '싸우', '##지', '않', '##고', '항복', '##하', '##였', '##다', '.']\n",
      "['전', '헀'] 그러면서 \"보다 현실적인 도움을 드리고 싶어 방법을 찾던 중, 에이치피오(덴프스)와 함께 기부를 하게 됐다. 대한민국 국민들의 코로나 19 확산 예방에 조금이나마 도움이 되기를 바란다\"라고 전헀다.\n",
      "['그러면', '##서', '\"', '보다', '현실', '##적인', '도움', '##을', '드리', '##고', '싶', '##어', '방법', '##을', '찾', '##던', '중', ',', '에이치', '##피', '##오', '(', '덴', '##프스', ')', '와', '함께', '기부', '##를', '하', '##게', '됐', '##다', '.', '대한민국', '국민', '##들', '##의', '코', '##로나', '19', '확산', '예방', '##에', '조금', '##이나', '##마', '도움', '##이', '되', '##기', '##를', '바란다', '\"', '라고', '[UNK]', '.']\n",
      "['斷', '指'] 특히, 안중근 의사가 순국한 중국 대련의 ‘뤼순감옥’, 단지(斷指) 동맹을 결성한 독립운동의 현장 러시아 크라스키노, 지사가 가장 존경했던 이상설 선생의 유허비가 있는 러시아 우수리스크 등을 찾아 역사의 숨결을 느낀다.\n",
      "['특히', ',', '안중근', '의사', '##가', '순국', '##한', '중국', '대', '##련', '##의', '‘', '뤼', '##순', '##감', '##옥', '’', ',', '단지', '(', '[UNK]', '[UNK]', ')', '동맹', '##을', '결성', '##한', '독립운동', '##의', '현장', '러시아', '크라', '##스키', '##노', ',', '지사', '##가', '가장', '존경', '##했', '##던', '이상', '##설', '선생', '##의', '유', '##허', '##비', '##가', '있', '##는', '러시아', '우수', '##리스', '##크', '등', '##을', '찾아', '역사', '##의', '숨결', '##을', '느낀다', '.']\n",
      "['다'] 2008년 김태진과 함께 데얀 다먀노비치와의 맞트레이드로 인천 유나이티드로 옮겼지만, 그 해 도재준과의 맞트레이드로 성남 일화 천마로 다시 이적하였다.\n",
      "['2008', '##년', '김태', '##진', '##과', '함께', '데', '##얀', '[UNK]', '맞', '##트', '##레이드', '##로', '인천', '유나이티', '##드로', '옮겼', '##지만', ',', '그', '해', '도', '##재', '##준', '##과', '##의', '맞', '##트', '##레이드', '##로', '성남', '일화', '천마', '##로', '다시', '이적', '##하', '##였', '##다', '.']\n",
      "['숀', '결'] 장덕철, 닐로, 숀 등 가수들이 주간인기상 후보로 올랐지만, 이용자들의 투표로 결졍되는 부분에서 최종적으로 합류 하지 못했다.\n",
      "['장', '##덕', '##철', ',', '닐', '##로', ',', '[UNK]', '등', '가수', '##들이', '주간', '##인', '##기', '##상', '후보', '##로', '올랐', '##지만', ',', '이용자', '##들', '##의', '투표', '##로', '[UNK]', '부분', '##에서', '최종', '##적으로', '합류', '하', '##지', '못했', '##다', '.']\n",
      "['리'] '척탄병들'에는 리햐르트 바그너도 곡을 붙였는데 바그너는 1840년과 1841년을 파리에 거주했었고 그는 궁핍한 경제적 여건 속의 이 파리 시절에 하이네와 프란츠 리스트를 알게 됐다.\n",
      "[\"'\", '척', '##탄', '##병', '##들', \"'\", '에는', '[UNK]', '바그너', '##도', '곡', '##을', '붙였', '##는데', '바그너', '##는', '184', '##0', '##년', '##과', '184', '##1', '##년', '##을', '파리', '##에', '거주', '##했', '##었', '##고', '그', '##는', '궁핍', '##한', '경제', '##적', '여건', '속', '##의', '이', '파리', '시절', '##에', '하이', '##네', '##와', '프란', '##츠', '리스트', '##를', '알', '##게', '됐', '##다', '.']\n",
      "['郡'] 레러이는 임종 전에 레뜨떼를 군왕(郡王)으로 강봉하고 레응우옌롱이 황태자라고 지정하였다.\n",
      "['레', '##러', '##이', '##는', '임종', '전', '##에', '레', '##뜨', '##떼', '##를', '군', '##왕', '(', '[UNK]', '王', ')', '으로', '강', '##봉', '##하고', '레', '##응', '##우', '##옌', '##롱', '##이', '황태자', '##라고', '지정', '##하', '##였', '##다', '.']\n",
      "['琛', '留'] 그러자 흑치상지는 임존성을 거점으로 유민을 규합했으며, 왕족 복신(福信)과 승려 도침(道琛)은 주류성(周留城)에 웅거하고 661년에 병사를 이끌고 나당연합군을 공격하기도 했고, 일시적으로 20여 성을 회복하기에 이르렀다.\n",
      "['그러', '##자', '흑', '##치', '##상', '##지', '##는', '임', '##존', '##성', '##을', '거점', '##으로', '유민', '##을', '규', '##합', '##했', '##으며', ',', '왕족', '복', '##신', '(', '福', '信', ')', '과', '승려', '도', '##침', '(', '道', '[UNK]', ')', '은', '주류', '##성', '(', '周', '[UNK]', '城', ')', '에', '웅', '##거', '##하고', '66', '##1', '##년', '##에', '병사', '##를', '이끌', '##고', '나', '##당', '##연합', '##군', '##을', '공격', '##하기', '##도', '했', '##고', ',', '일시', '##적으로', '20', '##여', '성', '##을', '회복', '##하기', '##에', '이르', '##렀', '##다', '.']\n",
      "['菅', '偉'] 연합뉴스에 따르면, 일본 정부 대변인 격인 스가 요시히데(菅義偉) 관방장관도 이날 기자회견을 통해 국장급 대화을 두고 \"수출 관리를 둘러싼 정세 인식에 관해 의견을 교환하는 외에 현안을 해결하도록 양국의 수출관리에 관해 서로 확인할 예정\"이라고 밝혔다.\n",
      "['연합뉴스', '##에', '따르', '##면', ',', '일본', '정부', '대변인', '격', '##인', '스가', '요시', '##히', '##데', '(', '[UNK]', '義', '[UNK]', ')', '관', '##방', '##장', '##관', '##도', '이날', '기자', '##회', '##견', '##을', '통해', '국장', '##급', '대화', '##을', '두고', '\"', '수출', '관리', '##를', '둘러싼', '정세', '인식', '##에', '관해', '의견', '##을', '교환', '##하', '##는', '외', '##에', '현안', '##을', '해결', '##하', '##도록', '양국', '##의', '수출', '##관리', '##에', '관해', '서로', '확인', '##할', '예정', '\"', '이라', '##고', '밝혔', '##다', '.']\n",
      "['쐈'] 이날 김기자는 \"지난 2015년 10월 한 선박청소회사 경리가 회삿돈 4억 2000만 원을 빼돌려 1억 5000만 원 어치 별풍선을 쐈던 사건이 있다\"며 \"이 별풍선을 받은 사람이 바로 BJ찬이다. 심지어 회사 경리에게 계좌이체로 5000만 원을 받기도 했다\"고 폭로했다.\n",
      "['이날', '김기', '##자', '##는', '\"', '지난', '2015', '##년', '10', '##월', '한', '선박', '##청', '##소', '##회사', '경리', '##가', '회', '##삿', '##돈', '4', '##억', '2000', '##만', '원', '##을', '빼돌', '##려', '1', '##억', '5000', '##만', '원', '어치', '별', '##풍', '##선', '##을', '[UNK]', '사건', '##이', '있', '##다', '\"', '며', '\"', '이', '별', '##풍', '##선', '##을', '받', '##은', '사람', '##이', '바로', 'B', '##J', '##찬', '##이다', '.', '심지어', '회사', '경리', '##에', '##게', '계좌', '##이', '##체', '##로', '5000', '##만', '원', '##을', '받', '##기', '##도', '했', '##다', '\"', '고', '폭로', '##했', '##다', '.']\n",
      "['李', '熙', '悳', '李', '慕', '姙'] 그러나 12살이 되던 1906년(광무 9년) 윤치왕은 노령인 아버지 윤웅렬의 뜻에 의해 아버지의 친구 이희덕(李熙悳)의 딸 이모임(李慕姙)과 결혼하였다.\n",
      "['그러나', '12', '##살이', '되', '##던', '1906', '##년', '(', '광', '##무', '9', '##년', ')', '윤', '##치', '##왕', '##은', '노령', '##인', '아버지', '윤', '##웅', '##렬', '##의', '뜻', '##에', '의해', '아버지', '##의', '친구', '이희', '##덕', '(', '[UNK]', '[UNK]', '[UNK]', ')', '의', '딸', '이모', '##임', '(', '[UNK]', '[UNK]', '[UNK]', ')', '과', '결혼', '##하', '##였', '##다', '.']\n",
      "['結', '汕', '耘', '斌'] 본관은 결성(結城)으로 같은 집안의 독립운동가로 이름을 알리며 광복후 교육자와 역사학자로 활동하였던 산운(汕耘) 장도빈(張道斌, 1888~1963)과는 할아버지가 다른 6촌 형제간이다.\n",
      "['본관', '##은', '결성', '(', '[UNK]', '城', ')', '으로', '같', '##은', '집안', '##의', '독립운동가', '##로', '이름', '##을', '알리', '##며', '광복', '##후', '교육자', '##와', '역사학', '##자', '##로', '활동', '##하', '##였', '##던', '산', '##운', '(', '[UNK]', '[UNK]', ')', '장도', '##빈', '(', '張', '道', '[UNK]', ',', '188', '##8', '~', '1963', ')', '과', '##는', '할아버지', '##가', '다른', '6', '##촌', '형제', '##간', '##이다', '.']\n",
      "['쥘'] 그의 개혁안은 제대로 알려질 기회 조차 없이 사라졌지만 훗날 레옹 강베타에 의해 '교권주의'로 명명될 로마 가톨릭교회 등 보수세력을 공격하는 가장 효율적인 무기를 제공했으며 결국 훗날 예수회를 추방시킨 쥘 페리의 페리법으로 완성될 공화파 교육개혁의 전조이기도 했다.\n",
      "['그', '##의', '개혁', '##안', '##은', '제대로', '알려', '##질', '기회', '조차', '없이', '사라졌', '##지만', '훗날', '레', '##옹', '강', '##베', '##타', '##에', '의해', \"'\", '교권', '##주의', \"'\", '로', '명명', '##될', '로마', '가톨릭', '##교회', '등', '보수', '##세', '##력', '##을', '공격', '##하', '##는', '가장', '효율', '##적인', '무기', '##를', '제공', '##했', '##으며', '결국', '훗날', '예수', '##회', '##를', '추방', '##시', '##킨', '[UNK]', '페리', '##의', '페리', '##법', '##으로', '완성', '##될', '공화', '##파', '교육', '##개혁', '##의', '전조', '##이', '##기', '##도', '했', '##다', '.']\n",
      "['宋', '殤', '宋', '宋', '侯'] 송 상공(宋 殤公)은 송나라(宋)의 제15대 군주(재위 : 기원전 719년 ~ 기원전 711년)이며, 그의 숙부인 송 선공에게 왕위를 양도받아 송후(宋侯)가 되었다.\n",
      "['송', '상공', '(', '[UNK]', '[UNK]', '公', ')', '은', '송나라', '(', '[UNK]', ')', '의', '제', '##15', '##대', '군주', '(', '재위', ':', '기원전', '71', '##9', '##년', '~', '기원전', '71', '##1', '##년', ')', '이', '##며', ',', '그', '##의', '숙부', '##인', '송', '선', '##공', '##에', '##게', '왕위', '##를', '양도', '##받', '##아', '송', '##후', '(', '[UNK]', '[UNK]', ')', '가', '되', '##었', '##다', '.']\n",
      "['加', '徐', '範'] 1883년 특별히 가자(加資)되어 통정대부가 되었으며 형조참의에 올랐다가, 1884년(고종 21년) 양자 김옥균이 서광범(徐光範), 박영효, 변수, 윤웅렬, 홍영식 등과 갑신정변을 일으켰다가 실패하고 도주하자, 이에 연좌되어 삭직되었다.\n",
      "['188', '##3', '##년', '특별히', '가자', '(', '[UNK]', '資', ')', '되', '##어', '통', '##정', '##대', '##부', '##가', '되', '##었', '##으며', '형', '##조', '##참', '##의', '##에', '올랐', '##다가', ',', '188', '##4', '##년', '(', '고종', '21', '##년', ')', '양자', '김옥균', '##이', '서', '##광', '##범', '(', '[UNK]', '光', '[UNK]', ')', ',', '박영', '##효', ',', '변수', ',', '윤', '##웅', '##렬', ',', '홍영', '##식', '등', '##과', '갑', '##신', '##정', '##변', '##을', '일으켰', '##다가', '실패', '##하고', '도주', '##하', '##자', ',', '이', '##에', '연', '##좌', '##되', '##어', '삭', '##직', '##되', '##었', '##다', '.']\n",
      "['隋', '楊', '李'] 이 군사제도는 장군이었던 8주국・12대장군은 서위, 그리고 이후의 북주(北周) 왕조에서도 유력자로써 가계를 유지하였고, 수(隋) 왕조의 양씨(楊氏)는 대장군, 당 왕조의 이씨(李氏)는 주국이라는 가계를 가지고 있었다.\n",
      "['이', '군사', '##제', '##도', '##는', '장군', '##이', '##었', '##던', '8', '##주', '##국', '・', '12', '##대장', '##군', '##은', '서', '##위', ',', '그리고', '이후', '##의', '북', '##주', '(', '北', '周', ')', '왕조', '##에서', '##도', '유력', '##자', '##로', '##써', '가계', '##를', '유지', '##하', '##였', '##고', ',', '수', '(', '[UNK]', ')', '왕조', '##의', '양', '##씨', '(', '[UNK]', '氏', ')', '는', '대장군', ',', '당', '왕조', '##의', '이씨', '(', '[UNK]', '氏', ')', '는', '주', '##국', '##이', '##라는', '가계', '##를', '가지', '##고', '있', '##었', '##다', '.']\n",
      "['뷧'] 몇몇 경우, 뿌엥 선수는 불을 뷧에 가장 가까이 뿌엥하지 않고 다음과 같이 다른 방식으로 투구할 수 있다.\n",
      "['몇몇', '경우', ',', '뿌', '##엥', '선수', '##는', '불', '##을', '[UNK]', '가장', '가까이', '뿌', '##엥', '##하', '##지', '않', '##고', '다음', '##과', '같이', '다른', '방식', '##으로', '투구', '##할', '수', '있', '##다', '.']\n",
      "['漕', '船', '鉗', '耳', '侯'] 10월 6일 당의 조운선(漕運船) 70여 척을 공격하여 낭장(郞將) 겸이대후(鉗耳大侯)와 병사 100여 명을 사로잡는 등 큰 전과를 올렸다.\n",
      "['10', '##월', '6', '##일', '당', '##의', '조', '##운', '##선', '(', '[UNK]', '運', '[UNK]', ')', '70', '##여', '척', '##을', '공격', '##하여', '낭', '##장', '(', '郞', '將', ')', '겸', '##이', '##대', '##후', '(', '[UNK]', '[UNK]', '大', '[UNK]', ')', '와', '병사', '100', '##여', '명', '##을', '사로잡', '##는', '등', '큰', '전과', '##를', '올렸', '##다', '.']\n",
      "['お'] 지난 21일 일본 매체 주간문춘 온라인판은 인기 아이돌 성우 오카모토 노부히코(おかもとのぶひこ)의 두 가지 소식을 동시에 전했다.\n",
      "['지난', '21', '##일', '일본', '매체', '주간', '##문', '##춘', '온라인', '##판', '##은', '인기', '아이돌', '성우', '오카', '##모토', '노부', '##히', '##코', '(', '[UNK]', ')', '의', '두', '가지', '소식', '##을', '동시', '##에', '전했', '##다', '.']\n",
      "['娘'] 중종·명종 때(16세기 초, 중순경) 활동했던 기생으로, 다른 이름은 진랑(眞娘)이고 기생 이름인 명월(明月)로도 알려져 있다.\n",
      "['중종', '·', '명종', '때', '(', '16', '##세기', '초', ',', '중순', '##경', ')', '활동', '##했', '##던', '기생', '##으로', ',', '다른', '이름', '##은', '진', '##랑', '(', '眞', '[UNK]', ')', '이', '##고', '기생', '이름', '##인', '명', '##월', '(', '明', '月', ')', '로', '##도', '알려져', '있', '##다', '.']\n",
      "['웡'] 조슈아 웡을 언급하자 일부 인스타그램 이용자들이 어글리덕을 비판했다.\n",
      "['조', '##슈', '##아', '[UNK]', '언급', '##하', '##자', '일부', '인스', '##타', '##그램', '이용자', '##들이', '어', '##글리', '##덕', '##을', '비판', '##했', '##다', '.']\n",
      "['朗', '栖'] 시호는 낭공대사(朗空大師)이며 탑호는 백월서운(白月栖雲)이다.\n",
      "['시호', '##는', '낭', '##공', '##대사', '(', '[UNK]', '空', '大', '師', ')', '이', '##며', '탑', '##호', '##는', '백', '##월', '##서', '##운', '(', '白', '月', '[UNK]', '雲', ')', '이다', '.']\n",
      "['에'] 1961년, 리알은 레알 마드리드를 떠나 바르셀로나의 에스파뇰로 이적했지만, 실망스러운 1년을 보냈고, 라 리가에서는 16개 구단 중 13위의 성적에 그쳤다.\n",
      "['1961', '##년', ',', '리', '##알', '##은', '레알', '마드리드', '##를', '떠나', '바르셀로나', '##의', '[UNK]', '이적', '##했', '##지만', ',', '실망', '##스러운', '1', '##년', '##을', '보냈', '##고', ',', '라', '리가', '##에서', '##는', '16', '##개', '구단', '중', '13', '##위', '##의', '성적', '##에', '그쳤', '##다', '.']\n",
      "['바'] 미술감독 길 파론도, 극작가 라파엘 아스코나, 영화배우 마리벨 베르두, 페넬로페 크루스, 페르난도 레이, 프란시스코 라발, 안토니아 반데라스, 하비에르 바르뎀, 페르난도 페르난 고메스 등도 스페인 외에서 상당한 인지도를 얻은 영화 관련 인사들이다.\n",
      "['미술', '##감독', '길', '파', '##론', '##도', ',', '극작가', '라파엘', '아스', '##코', '##나', ',', '영화배우', '마리', '##벨', '베르', '##두', ',', '페', '##넬', '##로', '##페', '크루', '##스', ',', '페르난', '##도', '레이', ',', '프란', '##시스코', '라', '##발', ',', '안토니', '##아', '반', '##데', '##라스', ',', '하비', '##에르', '[UNK]', ',', '페르난', '##도', '페르난', '고', '##메스', '등', '##도', '스페인', '외', '##에서', '상당', '##한', '인지도', '##를', '얻', '##은', '영화', '관련', '인사', '##들이', '##다', '.']\n",
      "['顯', '后', '閔'] 인현왕후 민씨(仁顯王后 閔氏, 1667년 5월 15일(음력 4월 23일)(음력 4월 23일) ~ 1701년 9월 16일(음력 8월 14일))는 조선 제19대 임금인 숙종의 계비이다.\n",
      "['인', '##현', '##왕', '##후', '민', '##씨', '(', '仁', '[UNK]', '王', '[UNK]', '[UNK]', '氏', ',', '166', '##7', '##년', '5', '##월', '15', '##일', '(', '음력', '4', '##월', '23', '##일', ')', '(', '음력', '4', '##월', '23', '##일', ')', '~', '170', '##1', '##년', '9', '##월', '16', '##일', '(', '음력', '8', '##월', '14', '##일', ')', ')', '는', '조선', '제', '##19', '##대', '임금', '##인', '숙종', '##의', '계', '##비', '##이다', '.']\n",
      "['恨'] 이번 '5·18민주화운동 진상규명조사위원회' 활동은 정부의 강력한 의지와 오월 유가족들과 광주시민의 간절한 염원 속에 광주의 깊은 恨을 풀 수 있는 마지막 기회입니다.\n",
      "['이번', \"'\", '5', '·', '18', '##민주', '##화', '##운동', '진상', '##규', '##명', '##조사', '##위원회', \"'\", '활동', '##은', '정부', '##의', '강력', '##한', '의지', '##와', '오월', '유가족', '##들', '##과', '광주시', '##민', '##의', '간절', '##한', '염원', '속', '##에', '광주', '##의', '깊', '##은', '[UNK]', '을', '풀', '수', '있', '##는', '마지막', '기회', '##입니다', '.']\n",
      "['綾'] 능원대군(綾原大君, 1598년 5월 15일(음력 4월 11일)(음력 4월 11일) ~ 1656년 1월 26일(음력 1월 1일))은 조선 후기의 왕족, 정치인이다.\n",
      "['능', '##원', '##대군', '(', '[UNK]', '原', '大', '君', ',', '159', '##8', '##년', '5', '##월', '15', '##일', '(', '음력', '4', '##월', '11', '##일', ')', '(', '음력', '4', '##월', '11', '##일', ')', '~', '165', '##6', '##년', '1', '##월', '26', '##일', '(', '음력', '1', '##월', '1', '##일', ')', ')', '은', '조선', '후기', '##의', '왕족', ',', '정치인', '##이다', '.']\n",
      "['Б'] 러시아 제국 시절에는 러시아어로 벨로루시야(Белоруссия, Belorussia)라고 불렀다.\n",
      "['러시아', '제국', '시절', '##에', '##는', '러시아', '##어로', '벨', '##로', '##루', '##시', '##야', '(', '[UNK]', ',', 'Be', '##l', '##or', '##uss', '##ia', ')', '라고', '불렀', '##다', '.']\n",
      "['從', '品', '郎'] 문종 때의 제도는 1275년(충렬왕 1)에 원나라의 간섭으로 인하여 5품 이상의 이름을 바꾸었고, 1308년(충선왕 즉위)에 비로소 정1품을 두어 정(正)·종(從) 각 1품(品)부터 9품까지 갖추게 되었고, 6품부터를 낭(郎)으로 하였으며, 그 후도 여러 차례의 변동이 있었다.\n",
      "['문종', '때', '##의', '제도', '##는', '127', '##5', '##년', '(', '충', '##렬', '##왕', '1', ')', '에', '원나라', '##의', '간섭', '##으로', '인하', '##여', '5', '##품', '이상', '##의', '이름', '##을', '바꾸', '##었', '##고', ',', '130', '##8', '##년', '(', '충', '##선', '##왕', '즉위', ')', '에', '비로소', '정', '##1', '##품', '##을', '두어', '정', '(', '正', ')', '·', '종', '(', '[UNK]', ')', '각', '1', '##품', '(', '[UNK]', ')', '부터', '9', '##품', '##까', '##지', '갖추', '##게', '되', '##었', '##고', ',', '6', '##품', '##부터', '##를', '낭', '(', '[UNK]', ')', '으로', '하', '##였', '##으며', ',', '그', '후', '##도', '여러', '차례', '##의', '변동', '##이', '있', '##었', '##다', '.']\n",
      "['栖'] 딸 서영(栖英, 조각가, 서울대 강사) 태어났다.\n",
      "['딸', '서영', '(', '[UNK]', '英', ',', '조각가', ',', '서울대', '강사', ')', '태어났', '##다', '.']\n",
      "['淮', '皓'] 이에 흠화군 절도사 민욱은 회서(淮西)의 장수 황호(黃皓)를 담주성으로 초청하여 자신을 도와 함께 그곳을 지키게 했다.\n",
      "['이', '##에', '흠', '##화', '##군', '절도', '##사', '민', '##욱', '##은', '회', '##서', '(', '[UNK]', '西', ')', '의', '장수', '황', '##호', '(', '黃', '[UNK]', ')', '를', '담', '##주', '##성', '##으로', '초청', '##하여', '자신', '##을', '도와', '함께', '그곳', '##을', '지키', '##게', '했', '##다', '.']\n",
      "['황', '황'] 원래 황페이훙의 무술을 가장 잘 이어받은 제자는 량관이었으나 20대의 나이에 폐병으로 사망하는 바람에 황페이훙은 크게 상심하였고 수제자 자리는 린스룽에게로 돌아갔다.\n",
      "['원래', '[UNK]', '무술', '##을', '가장', '잘', '이어받', '##은', '제자', '##는', '량', '##관', '##이', '##었', '##으나', '20', '##대', '##의', '나이', '##에', '폐', '##병', '##으로', '사망', '##하', '##는', '바람', '##에', '[UNK]', '크', '##게', '상', '##심', '##하', '##였', '##고', '수제', '##자', '자리', '##는', '린', '##스', '##룽', '##에', '##게', '##로', '돌아갔', '##다', '.']\n",
      "['儒', '墨'] 공자에게서 맹자가 나왔고 맹자에게서 순자가 나왔으며 순자에게서 한비자가 나와 법가를 집대성 했고 병가는 법가와 도가를 바탕으로 했으니 제자백가의 유도법묵병(儒道法墨兵)이 모두 이 곳에서 발현된 셈이다.\n",
      "['공자', '##에', '##게', '##서', '맹자', '##가', '나왔', '##고', '맹자', '##에', '##게', '##서', '순자', '##가', '나왔', '##으며', '순자', '##에', '##게', '##서', '한', '##비', '##자', '##가', '나와', '법', '##가', '##를', '집대성', '했', '##고', '병', '##가', '##는', '법', '##가와', '도가', '##를', '바탕', '##으로', '했으니', '제자', '##백', '##가', '##의', '유도', '##법', '##묵', '##병', '(', '[UNK]', '道', '法', '[UNK]', '兵', ')', '이', '모두', '이', '곳', '##에서', '발현', '##된', '셈', '##이다', '.']\n",
      "['救'] 한국신문방송편집인협회 초청 토론회에서 박근혜는 \"5.16은 당시 상황에서 불가피한 최선의 선택이었다\"고 말하여 과거 '구국(救國)의 혁명' 발언 당시의 생각과 변함이 없음을 밝혔고 이후 새누리당 대선 후보 경선 합동 토론회에서 오마이뉴스의 여론조사를 인용 해 \"제 발언에 찬성하는 분이 50%를 넘었다\"고 말하면서 사회적으로도 5·16 찬반 논쟁을 일게 했다.\n",
      "['한국', '##신문', '##방송', '##편', '##집', '##인', '##협회', '초청', '토론회', '##에서', '박근혜', '##는', '\"', '5', '.', '16', '##은', '당시', '상황', '##에서', '불가피', '##한', '최선', '##의', '선택', '##이', '##었', '##다', '\"', '고', '말', '##하여', '과거', \"'\", '구국', '(', '[UNK]', '國', ')', '의', '혁명', \"'\", '발언', '당시', '##의', '생각', '##과', '변함', '##이', '없', '##음', '##을', '밝혔', '##고', '이후', '새', '##누리', '##당', '대선', '후보', '경선', '합동', '토론회', '##에서', '오마이', '##뉴스', '##의', '여론', '##조사', '##를', '인용', '해', '\"', '제', '발언', '##에', '찬성', '##하', '##는', '분', '##이', '50', '%', '를', '넘', '##었', '##다', '\"', '고', '말', '##하면', '##서', '사회', '##적으로', '##도', '5', '·', '16', '찬반', '논쟁', '##을', '일', '##게', '했', '##다', '.']\n",
      "['袁', '譚'] 이부는 원상과 헤어지게 되었으므로 어쩔 수 없이 원담(袁譚)에게 항복했고 평원(平原)에 부임하였다.\n",
      "['이부', '##는', '원상', '##과', '헤어지', '##게', '되', '##었', '##으므로', '어쩔', '수', '없이', '원', '##담', '(', '[UNK]', '[UNK]', ')', '에게', '항복', '##했', '##고', '평원', '(', '平', '原', ')', '에', '부임', '##하', '##였', '##다', '.']\n",
      "['役', '喜'] 오슈 후지와라 씨의 초대 당주였던 기요히라는 전9년의 역(前九年の役)의 와중이었던 덴기(天喜) 4년(1056년)에 태어났다.\n",
      "['오', '##슈', '후지', '##와', '##라', '씨', '##의', '초대', '당', '##주', '##였', '##던', '기', '##요', '##히', '##라는', '전', '##9', '##년', '##의', '역', '(', '前', '九', '年', 'の', '[UNK]', ')', '의', '와중', '##이', '##었', '##던', '덴', '##기', '(', '天', '[UNK]', ')', '4', '##년', '(', '105', '##6', '##년', ')', '에', '태어났', '##다', '.']\n",
      "['조'] 30일 방탄소년단 공식 SNS에는 장장 14개월에 걸친 월드 투어를 마무리한 후 조촐한 뒤풀이를 가지는 사진을 공개하기도 했다.\n",
      "['30', '##일', '방탄소년단', '공식', 'SNS', '##에', '##는', '장장', '14', '##개', '##월', '##에', '걸친', '월드', '투어', '##를', '마무리', '##한', '후', '[UNK]', '뒤', '##풀이', '##를', '가지', '##는', '사진', '##을', '공개', '##하기', '##도', '했', '##다', '.']\n",
      "['瑤', '吏', '讀'] 설총은 원효와 태종무열왕의 딸 요석공주(瑤石公主) 사이에서 태어나 국학(國學)을 크게 진흥시키고 이두(吏讀)를 집대성하였다.\n",
      "['설', '##총', '##은', '원효', '##와', '태종', '##무', '##열', '##왕', '##의', '딸', '요', '##석', '##공주', '(', '[UNK]', '石', '公', '主', ')', '사이', '##에서', '태어나', '국학', '(', '國', '學', ')', '을', '크', '##게', '진흥', '##시', '##키', '##고', '이', '##두', '(', '[UNK]', '[UNK]', ')', '를', '집대성', '##하', '##였', '##다', '.']\n",
      "['淑', '容', '沈'] 숙용 심씨(淑容 沈氏, 1465년 ~ 1515년)는 조선 성종의 11번째 부인이고 8번째 후궁(後宮)이다.\n",
      "['숙', '##용', '심', '##씨', '(', '[UNK]', '[UNK]', '[UNK]', '氏', ',', '146', '##5', '##년', '~', '151', '##5', '##년', ')', '는', '조선', '성종', '##의', '11', '##번', '##째', '부인', '##이', '##고', '8', '##번', '##째', '후궁', '(', '後', '宮', ')', '이다', '.']\n",
      "['（', '御', '陵', '衛', '）'] 료마 암살 당시 현장에 남아있던 칼집 등의 물증이나, 3일후에 암살된 이토 가시타로의 동지（고료에시(御陵衛士)）등의 증언에서 신센구미의 하라다 사노스케에 의해서라고 믿어졌지만, 베인 상처로 보면 왼손잡이에 의해서라는 설도 있다.\n",
      "['료', '##마', '암살', '당시', '현장', '##에', '남아', '##있', '##던', '칼', '##집', '등', '##의', '물증', '##이나', ',', '3', '##일', '##후', '##에', '암살', '##된', '이토', '가시', '##타', '##로', '##의', '동지', '[UNK]', '고', '##료', '##에', '##시', '(', '[UNK]', '[UNK]', '[UNK]', '士', ')', '[UNK]', '등', '##의', '증언', '##에서', '신', '##센', '##구', '##미', '##의', '하', '##라', '##다', '사', '##노스', '##케', '##에', '의해서', '##라고', '믿', '##어졌', '##지만', ',', '베인', '상처', '##로', '보', '##면', '왼손', '##잡이', '##에', '의해서', '##라는', '설', '##도', '있', '##다', '.']\n",
      "['E'] 호메로스의 일리아스에서 \"헬라스\"(Eλλάς)와 \"헬레네스\"는 아킬레우스가 이끄는 테살리아 프티아의 부족 이름으로 나온다.\n",
      "['호', '##메', '##로스', '##의', '일리', '##아', '##스', '##에서', '\"', '헬', '##라스', '\"', '(', '[UNK]', ')', '와', '\"', '헬레', '##네스', '\"', '는', '아킬', '##레', '##우스', '##가', '이끄', '##는', '테', '##살', '##리아', '프', '##티아', '##의', '부족', '이름', '##으로', '나온다', '.']\n",
      "['惠', '局'] 1112년에는 혜민국(惠民局)을 설치하여 빈민들의 시약을 담당하게 하였고 이듬해에는 예의상정소를 설치하였다.\n",
      "['111', '##2', '##년', '##에', '##는', '혜', '##민국', '(', '[UNK]', '民', '[UNK]', ')', '을', '설치', '##하여', '빈민', '##들', '##의', '시', '##약', '##을', '담당', '##하', '##게', '하', '##였', '##고', '이듬해', '##에', '##는', '예의', '##상정', '##소', '##를', '설치', '##하', '##였', '##다', '.']\n",
      "['枝', '壽'] 충효사 소장 는 전남 능주 월곡리 출신의 밀양박씨 박지수(朴枝壽)가 1591년 8월 사헌부 감찰에 제수되어 소유하게 된 것이다.\n",
      "['충', '##효', '##사', '소장', '는', '전남', '능', '##주', '월', '##곡리', '출신', '##의', '밀양', '##박', '##씨', '박지', '##수', '(', '朴', '[UNK]', '[UNK]', ')', '가', '159', '##1', '##년', '8', '##월', '사', '##헌', '##부', '감찰', '##에', '제수', '##되', '##어', '소유', '##하', '##게', '된', '것', '##이다', '.']\n",
      "['崔', '蘇', '聯'] 최원(崔元)은 본래 소련(蘇聯)군 상위로서 극동전선군 사령부의 정찰국장 나움 소르킨(Naum Semyonovich Sorkin, 1899~1980) 소장 밑에서 정보사업을 했었으므로, 당시 88정찰여단에서 김일성의 역할에 대해 잘 알고 있었다.\n",
      "['최원', '(', '[UNK]', '元', ')', '은', '본래', '소련', '(', '[UNK]', '[UNK]', ')', '군', '상위', '##로', '##서', '극동', '##전', '##선', '##군', '사령부', '##의', '정찰', '##국장', '나', '##움', '소', '##르', '##킨', '(', 'N', '##aum', 'Se', '##my', '##on', '##ov', '##ich', 'So', '##r', '##kin', ',', '1899', '~', '1980', ')', '소장', '밑', '##에서', '정보', '##사업', '##을', '했었', '##으므로', ',', '당시', '88', '##정', '##찰', '##여', '##단', '##에서', '김일성', '##의', '역할', '##에', '대해', '잘', '알고', '있', '##었', '##다', '.']\n",
      "['昭'] 1950년(쇼와昭和 25년) 3월에 오슈 후지와라 씨 3대의 미라에 대한 학술조사가 이루어졌고 여지껏 곤지키도의 서북쪽(당에서 보면 오른쪽)이 모토히라의 단이고, 서남쪽(당에서 보면 왼쪽)이 히데히라의 단으로 여겨졌던 것과는 달리 최종보고에서는 모토히라와 히데히라의 유체가 서로 바뀌어 있음이 판명되었다.\n",
      "['1950', '##년', '(', '쇼', '##와', '[UNK]', '和', '25', '##년', ')', '3', '##월', '##에', '오', '##슈', '후지', '##와', '##라', '씨', '3', '##대', '##의', '미라', '##에', '대한', '학술', '##조사', '##가', '이루', '##어졌', '##고', '여지', '##껏', '곤지', '##키', '##도', '##의', '서북', '##쪽', '(', '당', '##에서', '보', '##면', '오른쪽', ')', '이', '모토', '##히', '##라', '##의', '단', '##이', '##고', ',', '서남', '##쪽', '(', '당', '##에서', '보', '##면', '왼쪽', ')', '이', '히', '##데', '##히', '##라', '##의', '단', '##으로', '여겨졌', '##던', '것', '##과', '##는', '달리', '최종', '##보', '##고', '##에서', '##는', '모토', '##히', '##라', '##와', '히', '##데', '##히', '##라', '##의', '유체', '##가', '서로', '바뀌', '##어', '있', '##음', '##이', '판명', '##되', '##었', '##다', '.']\n",
      "['興'] 전라병사와 장흥부사를 사살한 왜구는 5월 하순까지 별 저항을 받지 않고 어란포, 완도, 장흥(長興)·강진, 진도 등을 약탈, 주민을 사살하고 민가를 방화하면서 약탈하다가 이흠례군, 이광식군에 의해 밀리자 다시 말머리를 돌려 영암으로 침입했다.\n",
      "['전라', '##병', '##사', '##와', '장흥', '##부', '##사', '##를', '사살', '##한', '왜구', '##는', '5', '##월', '하순', '##까', '##지', '별', '저항', '##을', '받', '##지', '않', '##고', '어', '##란', '##포', ',', '완도', ',', '장흥', '(', '長', '[UNK]', ')', '·', '강진', ',', '진도', '등', '##을', '약탈', ',', '주민', '##을', '사살', '##하고', '민가', '##를', '방화', '##하면', '##서', '약탈', '##하', '##다가', '이', '##흠', '##례', '##군', ',', '이광', '##식', '##군', '##에', '의해', '밀리', '##자', '다시', '말', '##머리', '##를', '돌려', '영암', '##으로', '침입', '##했', '##다', '.']\n",
      "['셧'] 그는 “올해 1분기는 중국 공장 일부 셧다운(남경 공장 10일 가동 정지) 등으로 전지부문 매출액이 당초 예상 대비 감소할 전망”이라며 “하지만 문제가 되었던 LG화학의 폴란드 공장은 수율/회수율/가동률 개선으로 생산성이 향상되고 있는 것으로 보인다”라고 지적했다.\n",
      "['그', '##는', '“', '올해', '1', '##분', '##기', '##는', '중국', '공장', '일부', '[UNK]', '(', '남경', '공장', '10', '##일', '가동', '정지', ')', '등', '##으로', '전지', '##부', '##문', '매출액', '##이', '당초', '예상', '대비', '감소', '##할', '전망', '”', '이라', '##며', '“', '하지만', '문제', '##가', '되', '##었', '##던', 'LG', '##화학', '##의', '폴란드', '공장', '##은', '수', '##율', '/', '회수', '##율', '/', '가동', '##률', '개선', '##으로', '생산', '##성이', '향상', '##되', '##고', '있', '##는', '것', '##으로', '보인다', '”', '라고', '지적', '##했', '##다', '.']\n",
      "['4'] 2001년 세계보건기구 산하 국제암연구센터(IARC)는 프랑스 리옹에서 각국 전문가로 구성된 특별위원회를 개최하여 '4mG (0.4µT)의 송전선 전자기파를 2B등급의 발암물질로 규정'했다.\n",
      "['2001', '##년', '세계', '##보', '##건', '##기구', '산하', '국제', '##암', '##연구', '##센터', '(', 'IA', '##RC', ')', '는', '프랑스', '리', '##옹', '##에서', '각국', '전문가', '##로', '구성', '##된', '특별', '##위원회', '##를', '개최', '##하여', \"'\", '4', '##m', '##G', '(', '0', '.', '[UNK]', ')', '의', '송전', '##선', '전자', '##기', '##파', '##를', '2', '##B', '##등', '##급', '##의', '발암', '##물', '##질', '##로', '규정', \"'\", '했', '##다', '.']\n",
      "['켤'] \"어떤 사람에게 예수를 파는 것은 어떤 사람에게 신발 한 켤레 파는 것과 비슷한 것이 되고 말았다... 예수는 상품이고 죄인은 소비자이며 복음 전도자는 상품 포장과 마케팅 대리인이 되었다. 이런 구도에서는 인간들은 빚진 자라기보다는 오히려 구매자들인 것이다.\" 마이클 호턴의 자신의 기록이 이를 잘 보여주고 있다.\n",
      "['\"', '어떤', '사람', '##에', '##게', '예수', '##를', '파', '##는', '것', '##은', '어떤', '사람', '##에', '##게', '신발', '한', '[UNK]', '파', '##는', '것', '##과', '비슷', '##한', '것', '##이', '되', '##고', '말', '##았', '##다', '.', '.', '.', '예수', '##는', '상품', '##이', '##고', '죄인', '##은', '소비자', '##이', '##며', '복음', '전도', '##자', '##는', '상품', '포장', '##과', '마케팅', '대리인', '##이', '되', '##었', '##다', '.', '이런', '구도', '##에서', '##는', '인간', '##들', '##은', '빚', '##진', '자라', '##기', '##보', '##다는', '오히려', '구매자', '##들인', '것', '##이다', '.', '\"', '마이클', '호', '##턴', '##의', '자신', '##의', '기록', '##이', '이를', '잘', '보여', '##주', '##고', '있', '##다', '.']\n",
      "['易', '朱'] 이황의 제자가 된 박승임은 특히 주역(周易)과 예기(禮記), 그리고 주자서(朱子書) 등 경전의 학습과 이해에 전력을 기울였다.\n",
      "['이황', '##의', '제자', '##가', '된', '박승', '##임', '##은', '특히', '주역', '(', '周', '[UNK]', ')', '과', '예기', '(', '禮', '記', ')', ',', '그리고', '주자', '##서', '(', '[UNK]', '子', '書', ')', '등', '경전', '##의', '학습', '##과', '이해', '##에', '전력', '##을', '기울였', '##다', '.']\n",
      "['震', '振'] 발해는 현존하는 사료의 기록에 따르면 원래 국명이 진(震 / 振)이었다고 한다.\n",
      "['발해', '##는', '현존', '##하', '##는', '사료', '##의', '기록', '##에', '따르', '##면', '원래', '국', '##명', '##이', '진', '(', '[UNK]', '/', '[UNK]', ')', '이', '##었', '##다고', '한다', '.']\n",
      "['풂'] 우시로미야 가문의 장녀 우시로미아 에바의 어린시절 마음으로, 비문의 수수께끼를 풂으로서 황금을 찾아 2대 베아트리체에게 '베아트리체'라는 이름을 물려받아 3대 베아트리체가 된다.\n",
      "['우', '##시', '##로', '##미', '##야', '가문', '##의', '장녀', '우', '##시', '##로', '##미아', '에바', '##의', '어린', '##시', '##절', '마음', '##으로', ',', '비문', '##의', '수수께끼', '##를', '[UNK]', '황금', '##을', '찾아', '2', '##대', '베', '##아트', '##리', '##체', '##에', '##게', \"'\", '베', '##아트', '##리', '##체', \"'\", '라는', '이름', '##을', '물려받', '##아', '3', '##대', '베', '##아트', '##리', '##체', '##가', '된다', '.']\n",
      "['트'] 박 씨는 \"차는 세워져 있고, 앞에 사람은 없으며 다리에 쥐가 나서 잠깐 올려놓은 박지민 트윅스 먹는 사진입니다\"라고 말해 웃음을 자아냈다.\n",
      "['박', '씨', '##는', '\"', '차', '##는', '세워져', '있', '##고', ',', '앞', '##에', '사람', '##은', '없', '##으며', '다리', '##에', '쥐', '##가', '나서', '잠깐', '올려놓', '##은', '박지', '##민', '[UNK]', '먹', '##는', '사진', '##입니다', '\"', '라고', '말', '##해', '웃음', '##을', '자아냈', '##다', '.']\n",
      "['프'] 에베르하르트와 다른 귀족들은 유언을 지켜 프리츨러의 의회에서 하인리히를 독일의 왕으로 선출했다.\n",
      "['에베', '##르', '##하르트', '##와', '다른', '귀족', '##들', '##은', '유언', '##을', '지켜', '[UNK]', '의회', '##에서', '하인', '##리히', '##를', '독일', '##의', '왕', '##으로', '선출', '##했', '##다', '.']\n",
      "['쟌'] 칼빈의 어머니는 깜브레(Cambrai)의 여인숙 주인의 딸인 쟌느 르 프랑끄(Jeanne Le Franc)이었다.\n",
      "['칼빈', '##의', '어머니', '##는', '깜', '##브', '##레', '(', 'Camb', '##ra', '##i', ')', '의', '여인', '##숙', '주인', '##의', '딸', '##인', '[UNK]', '르', '프랑', '##끄', '(', 'Je', '##ann', '##e', 'Le', 'Fran', '##c', ')', '이', '##었', '##다', '.']\n",
      "['等'] 신라 선덕여왕·진덕여왕, 태종무열왕 때의 진골 귀족으로 화백회의 의장인 상대등(上大等)을 역임하였다.\n",
      "['신라', '선덕여왕', '·', '진', '##덕', '##여왕', ',', '태종', '##무', '##열', '##왕', '때', '##의', '진', '##골', '귀족', '##으로', '화백', '##회의', '의장', '##인', '상대', '##등', '(', '上', '大', '[UNK]', ')', '을', '역임', '##하', '##였', '##다', '.']\n",
      "['初'] 1838년, 남편인 킹 남작은 초대(初代) 러브레이스 백작이 되었고, 그는 남은 세월동안 '러브레이스 백작부인'(The Right Honourable the Countess of Lovelace)이라는 공식 명칭으로 불리게 되었다.\n",
      "['183', '##8', '##년', ',', '남편', '##인', '킹', '남작', '##은', '초대', '(', '[UNK]', '代', ')', '러브', '##레이', '##스', '백작', '##이', '되', '##었', '##고', ',', '그', '##는', '남', '##은', '세월', '##동안', \"'\", '러브', '##레이', '##스', '백작', '##부인', \"'\", '(', 'The', 'R', '##ight', 'H', '##on', '##our', '##able', 'the', 'Co', '##un', '##te', '##ss', 'of', 'Love', '##l', '##ace', ')', '이라', '##는', '공식', '명칭', '##으로', '불리', '##게', '되', '##었', '##다', '.']\n",
      "['뗏'] 규장각에서 정조의 총애를 받아 공부하면서 한강에 배와 뗏목을 잇대어 매고 그 위에 널빤지를 깔아 배다리를 만들기도 하였다.\n",
      "['규', '##장각', '##에서', '정조', '##의', '총애', '##를', '받아', '공부', '##하면', '##서', '한강', '##에', '배', '##와', '[UNK]', '잇', '##대', '##어', '매', '##고', '그', '위', '##에', '널', '##빤', '##지', '##를', '깔', '##아', '배', '##다리', '##를', '만들', '##기', '##도', '하', '##였', '##다', '.']\n",
      "['李', '秀', '亨'] 그의 당숙 이수형(李秀亨)은 세조의 찬탈에 반발하여 벼슬을 버리고 은거하였으나 그는 무과에 입격하여 관직에 나아갔다.\n",
      "['그', '##의', '당', '##숙', '이수', '##형', '(', '[UNK]', '[UNK]', '[UNK]', ')', '은', '세조', '##의', '찬', '##탈', '##에', '반발', '##하여', '벼슬', '##을', '버리', '##고', '은', '##거', '##하', '##였', '##으나', '그', '##는', '무', '##과', '##에', '입', '##격', '##하여', '관직', '##에', '나아갔', '##다', '.']\n",
      "['松', '並', '易'] 덴노 산 산기슭에 포진해 있던 구로다·히데·미코다 등의 부대는 앞으로 나아가 나카가와·다카야마 양 군단의 측면을 찌르려 덴노 산 산중턱으로 진격해온 마쓰다 마사치카(松田政近)·나미카와 야스이에(並河易家) 두 부대와 교전, 일진일퇴의 공방이 이어졌다.\n",
      "['덴', '##노', '산', '산기', '##슭', '##에', '포진', '##해', '있', '##던', '구로', '##다', '·', '히', '##데', '·', '미', '##코', '##다', '등', '##의', '부대', '##는', '앞', '##으로', '나아가', '나카', '##가와', '·', '다카', '##야마', '양', '군단', '##의', '측면', '##을', '찌르', '##려', '덴', '##노', '산', '산중', '##턱', '##으로', '진격', '##해', '##온', '마쓰', '##다', '마사', '##치', '##카', '(', '[UNK]', '田', '政', '近', ')', '·', '나미', '##카와', '야스', '##이', '##에', '(', '[UNK]', '河', '[UNK]', '家', ')', '두', '부대', '##와', '교전', ',', '일진', '##일', '##퇴', '##의', '공방', '##이', '이어졌', '##다', '.']\n",
      "['李', '珥'] 그의 기 중심(主氣)의 학설은 뒤에 이이(李珥)의 주기론에 큰 영향을 주었다.\n",
      "['그', '##의', '기', '중심', '(', '主', '氣', ')', '의', '학설', '##은', '뒤', '##에', '이이', '(', '[UNK]', '[UNK]', ')', '의', '주기', '##론', '##에', '큰', '영향', '##을', '주', '##었', '##다', '.']\n",
      "['鴨', '綠'] 압록강(鴨綠江, 야루 우라)은 조선민주주의인민공화국과 중화인민공화국의 국경 서부를 이루는 랴오닝성과 한반도 북서부의 사이를 흐르는 강이다.\n",
      "['압록강', '(', '[UNK]', '[UNK]', '江', ',', '야', '##루', '우라', ')', '은', '조선', '##민주', '##주의', '##인', '##민', '##공화국', '##과', '중화', '##인', '##민', '##공화국', '##의', '국경', '서부', '##를', '이루', '##는', '랴오', '##닝', '##성', '##과', '한반도', '북서', '##부', '##의', '사이', '##를', '흐르', '##는', '강', '##이다', '.']\n",
      "['恒', '緖'] 박항서(朴恒緖, 1957년 10월 1일 ~)는 대한민국의 전 축구 선수이자 축구 감독이다.\n",
      "['박', '##항', '##서', '(', '朴', '[UNK]', '[UNK]', ',', '1957', '##년', '10', '##월', '1', '##일', '~', ')', '는', '대한민국', '##의', '전', '축구', '선수', '##이', '##자', '축구', '감독', '##이다', '.']\n",
      "['衛', '律'] 한편, 이광리보다 먼저 흉노에 투항해 있었던 위율(衛律)은 그를 시기하고 있었다.\n",
      "['한편', ',', '이광', '##리', '##보', '##다', '먼저', '흉노', '##에', '투항', '##해', '있', '##었', '##던', '위', '##율', '(', '[UNK]', '[UNK]', ')', '은', '그', '##를', '시기', '##하고', '있', '##었', '##다', '.']\n",
      "['希', '革', '軫'] 김득우는 권희정(權希正)의 딸을 외아들 김혁(金革)의 아내로 삼았는데, 권희정은 세종조에 이조판서 우의정을 지낸 권진(權軫)의 아버지였다.\n",
      "['김', '##득', '##우', '##는', '권', '##희정', '(', '權', '[UNK]', '正', ')', '의', '딸', '##을', '외', '##아들', '김', '##혁', '(', '金', '[UNK]', ')', '의', '아내', '##로', '삼', '##았', '##는데', ',', '권', '##희정', '##은', '세종', '##조', '##에', '이조', '##판', '##서', '우의', '##정', '##을', '지낸', '권', '##진', '(', '權', '[UNK]', ')', '의', '아버지', '##였', '##다', '.']\n",
      "['포'] 이에 대해, 우크라이나의 대통령 페트로 포로셴코는 \"모든 군인의 생명을 위해 무장 세력에 대해 수십, 수백 배의 대가를 치르게 할 것이다\"라고 말했다.\n",
      "['이', '##에', '대해', ',', '우크라이나', '##의', '대통령', '페트', '##로', '[UNK]', '\"', '모든', '군인', '##의', '생명', '##을', '위해', '무장', '세력', '##에', '대해', '수십', ',', '수백', '배', '##의', '대가', '##를', '치르', '##게', '할', '것', '##이다', '\"', '라고', '말', '##했', '##다', '.']\n",
      "['講'] 1874년 빈 대학 교수가 되었으나 1880년 결혼하여 사직했으며, 1895년까지 사강사(私講師) 생활을 하였고, 1896년 이후는 플로렌스·취리히에서 살았다.\n",
      "['187', '##4', '##년', '빈', '대학', '교수', '##가', '되', '##었', '##으나', '1880', '##년', '결혼', '##하여', '사직', '##했', '##으며', ',', '1895', '##년', '##까', '##지', '사', '##강', '##사', '(', '私', '[UNK]', '師', ')', '생활', '##을', '하', '##였', '##고', ',', '1896', '##년', '이후', '##는', '플로', '##렌스', '·', '취', '##리히', '##에서', '살', '##았', '##다', '.']\n",
      "['助', '防'] 남원에 머무는 동안 조방장(助防將) 곽재우의 군대에 합류하여 명령을 받겠다는 서신을 보내었고, 최담령을 별장으로 삼아 한 달 남짓 의병을 훈련 시킨다.\n",
      "['남원', '##에', '머무', '##는', '동안', '조', '##방', '##장', '(', '[UNK]', '[UNK]', '將', ')', '곽', '##재', '##우', '##의', '군대', '##에', '합류', '##하여', '명령', '##을', '받', '##겠다', '##는', '서신', '##을', '보내', '##었', '##고', ',', '최', '##담', '##령', '##을', '별장', '##으로', '삼', '##아', '한', '달', '남짓', '의병', '##을', '훈련', '시킨다', '.']\n",
      "['閔', '衡', '植'] 민형식(閔衡植, 1875년 1월 6일 ~ 1947년 5월 11일)은 일제 강점기의 조선귀족이다.\n",
      "['민', '##형', '##식', '(', '[UNK]', '[UNK]', '[UNK]', ',', '187', '##5', '##년', '1', '##월', '6', '##일', '~', '1947', '##년', '5', '##월', '11', '##일', ')', '은', '일제', '강점기', '##의', '조선', '##귀', '##족', '##이다', '.']\n",
      "['로'] 2010년 로퀜스의 두 번째 앨범이 발매될 예정이었지만, 소울 컴퍼니 해체 이후 Loquence 활동은 사실상 불가능하다고 밝혔다.\n",
      "['2010', '##년', '[UNK]', '두', '번', '##째', '앨범', '##이', '발매', '##될', '예정', '##이', '##었', '##지만', ',', '소울', '컴퍼니', '해체', '이후', 'L', '##o', '##que', '##n', '##ce', '활동', '##은', '사실상', '불가', '##능', '##하', '##다고', '밝혔', '##다', '.']\n",
      "['陰', '根', '取', '欲', '貪'] 두 번째 해석의 경우는 고타마 붓다가 《잡아함경》제2권 제58경 〈음근경(陰根經)〉에서 5온과 5취온에 대해 설한 다음의 진술에 따른 것으로, 이 진술에 따라 취(取)와 욕탐(欲貪)을 같은 말인 것으로 보는 것이다.\n",
      "['두', '번', '##째', '해석', '##의', '경우', '##는', '고', '##타', '##마', '붓다', '##가', '《', '잡아', '##함', '##경', '》', '제', '##2', '##권', '제', '##58', '##경', '〈', '음', '##근', '##경', '(', '[UNK]', '[UNK]', '經', ')', '〉', '에서', '5', '##온', '##과', '5', '##취', '##온', '##에', '대해', '설', '##한', '다음', '##의', '진술', '##에', '따른', '것', '##으로', ',', '이', '진술', '##에', '따라', '취', '(', '[UNK]', ')', '와', '욕', '##탐', '(', '[UNK]', '[UNK]', ')', '을', '같', '##은', '말', '##인', '것', '##으로', '보', '##는', '것', '##이다', '.']\n",
      "['閼', '智'] 탈해왕은 이 아이를 길렀는데 금궤에서 나왔다고 해서 성을 김(金)이라 했으며, 성장하면서 총명하고 지략이 뛰어나 알지(閼智)라 불렀다고 한다.\n",
      "['탈', '##해', '##왕', '##은', '이', '아이', '##를', '길', '##렀', '##는데', '금', '##궤', '##에서', '나왔', '##다고', '해서', '성', '##을', '김', '(', '金', ')', '이라', '했으며', ',', '성장', '##하면', '##서', '총명', '##하고', '지', '##략', '##이', '뛰어나', '알', '##지', '(', '[UNK]', '[UNK]', ')', '라', '불렀', '##다고', '한다', '.']\n",
      "['簾', '丹'] 이후 선유사 장기렴(張基簾)이 이끄는 관군에 패하여 병력을 잃고에 져서 단양(丹陽)으로 퇴각하였다.\n",
      "['이후', '선유', '##사', '장기', '##렴', '(', '張', '基', '[UNK]', ')', '이', '이끄', '##는', '관군', '##에', '패', '##하여', '병력', '##을', '잃', '##고', '##에', '져서', '단양', '(', '[UNK]', '陽', ')', '으로', '퇴각', '##하', '##였', '##다', '.']\n",
      "['董', '劉', '綎', '陳', '璘'] 이듬해 2월, 명나라의 군대는 병력을 4개로 나누어 중앙에 동일원(董一元), 동쪽에 마귀, 서쪽에 유정(劉綎), 수군은 진린(陳璘)이 맡았다.\n",
      "['이듬해', '2', '##월', ',', '명나라', '##의', '군대', '##는', '병력', '##을', '4', '##개', '##로', '나누', '##어', '중앙', '##에', '동일', '##원', '(', '[UNK]', '一', '元', ')', ',', '동쪽', '##에', '마귀', ',', '서쪽', '##에', '유정', '(', '[UNK]', '[UNK]', ')', ',', '수군', '##은', '진', '##린', '(', '[UNK]', '[UNK]', ')', '이', '맡', '##았', '##다', '.']\n",
      "['▴', '▴', '▴', '▴', '▴', '▴'] 이날 포럼은 김일식 서울시 금천구 주민자치사업단장이 ‘서울 사례로 비춰보는 인천 중구의 주민자치’라는 제목으로 발제를 하였고, 이어 진행된 토론회에서는 ▴이왕기 인천연구원 선임연구위원, ▴이동일 인천시 주민자치아카데미센터장, ▴이필구 안산시 마을만들기 지원센터장, ▴이호 더 이음 대표, ▴윤진수 인천시 중구 동인천동 주민자치위원장, ▴이승원 인천시 연수구 송도2동 주민자치회 간사가 참석하여 열띤 토론을 펼쳤다.\n",
      "['이날', '포럼', '##은', '김일', '##식', '서울시', '금천', '##구', '주민', '##자치', '##사업', '##단', '##장이', '‘', '서울', '사례', '##로', '비춰', '##보', '##는', '인천', '중구', '##의', '주민', '##자치', '’', '라는', '제목', '##으로', '발제', '##를', '하', '##였', '##고', ',', '이어', '진행', '##된', '토론회', '##에서', '##는', '[UNK]', '인천', '##연구원', '선임', '##연구', '##위원', ',', '[UNK]', '인천시', '주민', '##자치', '##아', '##카', '##데미', '##센터', '##장', ',', '[UNK]', '안산시', '마을', '##만', '##들', '##기', '지원', '##센터', '##장', ',', '[UNK]', '더', '이', '##음', '대표', ',', '[UNK]', '인천시', '중구', '동인', '##천동', '주민', '##자치', '##위원', '##장', ',', '[UNK]', '인천시', '연수구', '송도', '##2', '##동', '주민', '##자치', '##회', '간사', '##가', '참석', '##하여', '열띤', '토론', '##을', '펼쳤', '##다', '.']\n",
      "['龐', '楊', '松'] 조조가 한중을 침공하자 장로에게 방덕(龐德)을 기용할 것을 간하였으며, 동료 양송(楊松)의 참언을 들은 장로가 방덕을 죽이려 하자 염포는 방덕을 변호한다.\n",
      "['조조', '##가', '한중', '##을', '침공', '##하', '##자', '장로', '##에', '##게', '방', '##덕', '(', '[UNK]', '德', ')', '을', '기용', '##할', '것', '##을', '간', '##하', '##였', '##으며', ',', '동료', '양', '##송', '(', '[UNK]', '[UNK]', ')', '의', '참', '##언', '##을', '들', '##은', '장로', '##가', '방', '##덕', '##을', '죽이', '##려', '하자', '염', '##포', '##는', '방', '##덕', '##을', '변호', '##한다', '.']\n",
      "['뿡', '펭'] 이날 방송에는 추억의 캐릭터 뚝딱이부터 방귀대장 뿡뿡이, 번개맨, 뽀로로는 물론 당시에도 왕성하게 활동하고 있던 '생방송 톡! 톡! 보니하니' 먹니와 당당맨, 펭수 등이 출연했다.\n",
      "['이날', '방송', '##에', '##는', '추억', '##의', '캐릭터', '뚝딱', '##이', '##부터', '방귀', '##대장', '[UNK]', ',', '번개', '##맨', ',', '뽀로로', '##는', '물론', '당시', '##에도', '왕성', '##하', '##게', '활동', '##하고', '있', '##던', \"'\", '생방송', '톡', '!', '톡', '!', '보', '##니', '##하니', \"'\", '먹', '##니', '##와', '당당', '##맨', ',', '[UNK]', '등', '##이', '출연', '##했', '##다', '.']\n",
      "['햅'] 다만 상표명과 기술방식을 결합한 LG전자의 'LG 아몰레드', 삼성전자의 '햅틱 아몰레드', 'Anycall 아몰레드' 등은 상표 등록 심사를 통과했다.\n",
      "['다만', '상표', '##명', '##과', '기술', '##방식', '##을', '결합', '##한', 'LG', '##전자', '##의', \"'\", 'LG', '아', '##몰', '##레', '##드', \"'\", ',', '삼성전자', '##의', \"'\", '[UNK]', '아', '##몰', '##레', '##드', \"'\", ',', \"'\", 'An', '##y', '##cal', '##l', '아', '##몰', '##레', '##드', \"'\", '등', '##은', '상표', '등록', '심사', '##를', '통과', '##했', '##다', '.']\n",
      "['興', '初', '印'] 백운화상이 입적하고 3년 뒤인 1377년에 청주 흥덕사(興德寺)에서 금속활자로 찍어 낸 것이 초인본(初印本)이다.\n",
      "['백운', '##화', '##상', '##이', '입', '##적', '##하고', '3', '##년', '뒤', '##인', '137', '##7', '##년', '##에', '청주', '흥덕', '##사', '(', '[UNK]', '德', '寺', ')', '에서', '금속', '##활', '##자', '##로', '찍', '##어', '낸', '것', '##이', '초인', '##본', '(', '[UNK]', '[UNK]', '本', ')', '이다', '.']\n",
      "['Β', 'π', 'η', 'α'] 많은 영지주의 체계들에서 (그리고 이단 연구들에서), 신은 모나드, 하나인 존재, 절대 존재, 아이온 텔레오스 (Aion teleos, 완전한 아이온), 뷔토스(Βυθος, Bythos, 심연, 심원한 존재), 프로아르케(προαρχη, Proarkhe, 태초 이전의 존재), 그리고 에 아르케(η αρχη, E Arkhe, 태초의 존재)라고 알려져 있다.\n",
      "['많', '##은', '영지', '##주의', '체계', '##들', '##에서', '(', '그리고', '이단', '연구', '##들', '##에서', ')', ',', '신', '##은', '모나', '##드', ',', '하나', '##인', '존재', ',', '절대', '존재', ',', '아이', '##온', '텔레', '##오스', '(', 'A', '##ion', 't', '##el', '##e', '##os', ',', '완전', '##한', '아이', '##온', ')', ',', '뷔', '##토스', '(', '[UNK]', ',', 'B', '##y', '##th', '##os', ',', '심연', ',', '심', '##원', '##한', '존재', ')', ',', '프로', '##아르', '##케', '(', '[UNK]', ',', 'Pro', '##ark', '##he', ',', '태초', '이전', '##의', '존재', ')', ',', '그리고', '에', '아르', '##케', '(', '[UNK]', '[UNK]', ',', 'E', 'Ar', '##k', '##he', ',', '태초', '##의', '존재', ')', '라고', '알려져', '있', '##다', '.']\n",
      "['스'] 6세기 스쿌둥 씨족의 왕 할프단에 관한 사가들에서는 \"흘라데위야르\"라는 곳을 다스리는 \"흘라드게르드\"라는 여자가 등장한다.\n",
      "['6', '##세기', '[UNK]', '씨', '##족', '##의', '왕', '할', '##프', '##단', '##에', '관한', '사가', '##들', '##에서', '##는', '\"', '흘', '##라', '##데', '##위', '##야', '##르', '\"', '라는', '곳', '##을', '다스리', '##는', '\"', '흘', '##라드', '##게', '##르드', '\"', '라는', '여자', '##가', '등장', '##한다', '.']\n",
      "['젬', '젬'] 베버와 바그너도 궁정악장을 역임했으며, 1841년에는 고트프리트 젬퍼의 설계로 건립된 작센 국립오페라극장(통칭 젬퍼오퍼)의 상주 악단이 되었다.\n",
      "['베버', '##와', '바그너', '##도', '궁정', '##악', '##장', '##을', '역임', '##했', '##으며', ',', '184', '##1', '##년', '##에', '##는', '고', '##트', '##프리', '##트', '[UNK]', '설계', '##로', '건립', '##된', '작', '##센', '국립', '##오', '##페', '##라', '##극장', '(', '통칭', '[UNK]', ')', '의', '상주', '악단', '##이', '되', '##었', '##다', '.']\n",
      "['寢'] 이후 이신과 몽염은 각기 평여(平與)와 침(寢)을 공격하여 초나라 군대를 크게 격파하였다.\n",
      "['이후', '이', '##신', '##과', '몽', '##염', '##은', '각기', '평', '##여', '(', '平', '與', ')', '와', '침', '(', '[UNK]', ')', '을', '공격', '##하여', '초', '##나라', '군대', '##를', '크', '##게', '격파', '##하', '##였', '##다', '.']\n",
      "['藤'] 그는 그때 북경에 와 있던 일본 외무성 촉탁 기후지(木藤)란 자와 은밀히 접촉해왔고, 또 국내로 들어가서 총독 사이토 마코토를 만나보고 그 길로 북경으로 호지 않고 일부러 블라디보스토크를 돌아 북경에 돌아와서는 개척 사업을 하겠노라고 대륙농간공사란 것을 만들었다는 것이다.\n",
      "['그', '##는', '그때', '북경', '##에', '와', '있', '##던', '일본', '외무성', '촉', '##탁', '기후', '##지', '(', '木', '[UNK]', ')', '란', '자', '##와', '은밀히', '접촉', '##해', '##왔', '##고', ',', '또', '국내', '##로', '들어가', '##서', '총독', '사이', '##토', '마', '##코', '##토', '##를', '만나', '##보', '##고', '그', '길', '##로', '북경', '##으로', '호', '##지', '않', '##고', '일부러', '블라디', '##보스', '##토', '##크', '##를', '돌아', '북경', '##에', '돌아와서', '##는', '개척', '사업', '##을', '하', '##겠', '##노', '##라고', '대륙', '##농', '##간', '##공사', '##란', '것', '##을', '만들', '##었', '##다는', '것', '##이다', '.']\n",
      "['바'] 그러나, 이효리는 두 번째 정규 앨범 \"Dark Angel\" (2006)에 이어 표절 의혹이 제기되었고, 2010년 6월 20일 자신의 팬카페를 통해 표절을 인정했는데, 앨범 수록곡 중 작곡가 바누스바큠(이재영)에게 받은 모든 곡인 \"Bring It Back\", \"Feel the Same\", \"How Did We Get\", \"I'm Back\", \"Memory\", \"그네\" 등 무려 6곡이였다.\n",
      "['그러나', ',', '이효리', '##는', '두', '번', '##째', '정규', '앨범', '\"', 'D', '##ark', 'An', '##ge', '##l', '\"', '(', '2006', ')', '에', '이어', '표절', '의혹', '##이', '제기', '##되', '##었', '##고', ',', '2010', '##년', '6', '##월', '20', '##일', '자신', '##의', '팬', '##카페', '##를', '통해', '표절', '##을', '인정', '##했', '##는데', ',', '앨범', '수록', '##곡', '중', '작곡가', '[UNK]', '(', '이재', '##영', ')', '에게', '받', '##은', '모든', '곡', '##인', '\"', 'Br', '##ing', 'It', 'B', '##ack', '\"', ',', '\"', 'Fe', '##el', 'the', 'S', '##ame', '\"', ',', '\"', 'How', 'D', '##id', 'We', 'Ge', '##t', '\"', ',', '\"', 'I', \"'\", 'm', 'B', '##ack', '\"', ',', '\"', 'Me', '##m', '##ory', '\"', ',', '\"', '그네', '\"', '등', '무려', '6', '##곡', '##이', '##였', '##다', '.']\n",
      "['李', '嵋', '賜'] 이 일로 심정 일파를 몰락시키는데 성공했으며, 나중에 이 사건으로 잘못 경빈 박씨가 연루된 혐의를 받아 아들인 복성군 이미(福城君 李嵋)와 함께 사사(賜死)되는 빌미를 제공한다.\n",
      "['이', '일', '##로', '심정', '일파', '##를', '몰락', '##시', '##키', '##는데', '성공', '##했', '##으며', ',', '나중', '##에', '이', '사건', '##으로', '잘못', '경', '##빈', '박', '##씨', '##가', '연루', '##된', '혐의', '##를', '받아', '아들', '##인', '복', '##성', '##군', '이미', '(', '福', '城', '君', '[UNK]', '[UNK]', ')', '와', '함께', '사사', '(', '[UNK]', '死', ')', '되', '##는', '빌미', '##를', '제공', '##한다', '.']\n",
      "['警', '察'] 대한민국의 경찰(大韓民國의 警察)은 대한민국 국민의 생명과 신체 및 재산을 보호하고, 범죄를 예방, 진압, 수사하며, 주요시설을 경비하고 요인을 경호하며 대간첩·대테러 작전을 수행하고, 치안정보를 수집, 작성, 배포하며, 교통의 단속과 위해를 방지하며, 외국의 정부기관 및 국제기구와의 국제협력을 꾀하며 그 밖의 공공의 안녕과 질서를 유지하는 임무를 맡는 조직과, 해양에서의 경비·안전·오염 방제·해상에서 발생한 사건의 수사를 담당하는 조직을 말한다.\n",
      "['대한민국', '##의', '경찰', '(', '大', '韓', '民', '國', '의', '[UNK]', '[UNK]', ')', '은', '대한민국', '국민', '##의', '생명', '##과', '신체', '및', '재산', '##을', '보호', '##하고', ',', '범죄', '##를', '예방', ',', '진압', ',', '수사', '##하', '##며', ',', '주요', '##시설', '##을', '경비', '##하고', '요인', '##을', '경호', '##하', '##며', '대', '##간', '##첩', '·', '대', '##테', '##러', '작전', '##을', '수행', '##하고', ',', '치안', '##정보', '##를', '수집', ',', '작성', ',', '배포', '##하', '##며', ',', '교통', '##의', '단속', '##과', '위해', '##를', '방지', '##하', '##며', ',', '외국', '##의', '정부', '##기', '##관', '및', '국제기구', '##와', '##의', '국제', '##협', '##력', '##을', '꾀하', '##며', '그', '밖', '##의', '공공', '##의', '안녕', '##과', '질서', '##를', '유지', '##하', '##는', '임무', '##를', '맡', '##는', '조직', '##과', ',', '해양', '##에서', '##의', '경비', '·', '안전', '·', '오염', '방제', '·', '해상', '##에서', '발생', '##한', '사건', '##의', '수사', '##를', '담당', '##하', '##는', '조직', '##을', '말', '##한다', '.']\n",
      "['鎮', '守', '将', '左', '衛', '督'] 가마쿠라 막부 멸망 후, 다카우지는 1등 공신이 되어 진주후쇼군(鎮守府将軍) 및 종4위하 좌병위독(左兵衛督)에 임명되었고, 30개 곳을 소령으로 받았다.\n",
      "['가마', '##쿠라', '막부', '멸망', '후', ',', '다카', '##우', '##지', '##는', '1', '##등', '공신', '##이', '되', '##어', '진주', '##후', '##쇼', '##군', '(', '[UNK]', '[UNK]', '府', '[UNK]', '軍', ')', '및', '종', '##4', '##위', '##하', '좌', '##병', '##위', '##독', '(', '[UNK]', '兵', '[UNK]', '[UNK]', ')', '에', '임명', '##되', '##었', '##고', ',', '30', '##개', '곳', '##을', '소령', '##으로', '받', '##았', '##다', '.']\n",
      "['귈'] 《신 에다》의 〈귈피의 속임수〉와 《헤임스크링글라》의 〈윙글링가 사가〉를 보면 오딘과 그의 민족 에시르 및 바니르가 스웨덴인의 조상이 된다고 하며, 그들이 정착한 곳이 Fornsigtuna이다.\n",
      "['《', '신', '에다', '》', '의', '〈', '[UNK]', '속임수', '〉', '와', '《', '헤', '##임스', '##크', '##링', '##글라', '》', '의', '〈', '윙', '##글', '##링', '##가', '사가', '〉', '를', '보', '##면', '오', '##딘', '##과', '그', '##의', '민족', '에', '##시', '##르', '및', '바', '##니', '##르', '##가', '스웨덴', '##인', '##의', '조상', '##이', '된다고', '하', '##며', ',', '그', '##들이', '정착', '##한', '곳', '##이', 'For', '##n', '##s', '##ig', '##t', '##un', '##a', '##이다', '.']\n",
      "['에'] 에미넴의 팬들은 헤일리 제이드 매더스가 매우 익숙하다.\n",
      "['[UNK]', '팬', '##들', '##은', '헤', '##일리', '제이', '##드', '매', '##더스', '##가', '매우', '익숙', '##하', '##다', '.']\n",
      "['の'] '미래의 뮤지컬스타를 목표로(明日のミュージカルスターをめざして)'라는 제목의 이 다큐멘터리는 조승우가 《명성황후》의 고종으로 캐스팅 된 후 무대에 처음 선 2001년 1월 초 까지의 과정을 담았고, 2001년 2월 일본 현지에서 방영 되었다.\n",
      "[\"'\", '미래', '##의', '뮤지컬', '##스타', '##를', '목표', '##로', '(', '明', '日', '[UNK]', ')', \"'\", '라는', '제목', '##의', '이', '다큐멘터리', '##는', '조승', '##우', '##가', '《', '명성황후', '》', '의', '고종', '##으로', '캐스팅', '된', '후', '무대', '##에', '처음', '선', '2001', '##년', '1', '##월', '초', '까지', '##의', '과정', '##을', '담', '##았', '##고', ',', '2001', '##년', '2', '##월', '일본', '현지', '##에서', '방영', '되', '##었', '##다', '.']\n",
      "['됭'] 그러나 다른 도시들은 여러 측면에서 잘 방어되었고, 됭케르크를 제외한 여러 도시들은 연합군과 독일군 사이의 치열한 전투 끝에 탈환되었다.\n",
      "['그러나', '다른', '도시', '##들', '##은', '여러', '측면', '##에서', '잘', '방어', '##되', '##었', '##고', ',', '[UNK]', '제외', '##한', '여러', '도시', '##들', '##은', '연합군', '##과', '독일군', '사이', '##의', '치열', '##한', '전투', '끝', '##에', '탈환', '##되', '##었', '##다', '.']\n",
      "['刘', '骅', '骐', '骥'] 지 리우(Ji Liu, 刘骅骐骥, 1990년~)는 유럽을 기반으로 활동하는 중국국적의 피아니스트이자 작곡가이다 .\n",
      "['지', '리우', '(', 'J', '##i', 'Li', '##u', ',', '[UNK]', '[UNK]', '[UNK]', '[UNK]', ',', '1990', '##년', '~', ')', '는', '유럽', '##을', '기반', '##으로', '활동', '##하', '##는', '중국', '##국적', '##의', '피아니스트', '##이', '##자', '작곡가', '##이다', '.']\n",
      "['펭', '펭', '펭'] 법제처는 “펭수야 너는 어떻게 이렇게까지 귀여워”라는 댓글을 올리며 구애했고, 보건복지부는 “여러분의 성원에 힘입어 드디어 펭수랑 콜라보를 했습니다”라는 글을 올리며 펭수와의 협업 소식을 알렸다.\n",
      "['법제', '##처', '##는', '“', '[UNK]', '너', '##는', '어떻게', '이렇게', '##까', '##지', '귀여워', '”', '라는', '댓글', '##을', '올리', '##며', '구애', '##했', '##고', ',', '보건복지부', '##는', '“', '여러분', '##의', '성원', '##에', '힘입', '##어', '드디어', '[UNK]', '콜라보', '##를', '했', '##습', '##니다', '”', '라는', '글', '##을', '올리', '##며', '[UNK]', '협업', '소식', '##을', '알렸', '##다', '.']\n",
      "['푈'] 전 독일 축구 국가대표팀의 감독이었던 루디 푈러가 임시 감독으로 내정되었다.\n",
      "['전', '독일', '축구', '국가', '##대표', '##팀', '##의', '감독', '##이', '##었', '##던', '루', '##디', '[UNK]', '임시', '감독', '##으로', '내정', '##되', '##었', '##다', '.']\n",
      "['溪', '李', '溥'] 한편 숙종 때의 왕족 중에도 같은 작호인 전계군(全溪君)의 작위를 받은 이박(李溥)이라는 왕족이 있었다.\n",
      "['한편', '숙종', '때', '##의', '왕족', '중', '##에도', '같', '##은', '작', '##호', '##인', '전', '##계', '##군', '(', '全', '[UNK]', '君', ')', '의', '작위', '##를', '받', '##은', '이', '##박', '(', '[UNK]', '[UNK]', ')', '이라', '##는', '왕족', '##이', '있', '##었', '##다', '.']\n",
      "['･', '･'] 광주시(시장 이용섭)는 광주상생카드의 이용 편의성을 개선하기 위해 올해 1월1일부터 체크카드 발급대상을 당초 개인에게 고정되던 것을 법인･단체까지 확대하고 구매가능 연령 기준이 달라 혼선이 있었던 선불･체크카드의 발급기준도 모두 만 14세 이상으로 통일했다.\n",
      "['광주시', '(', '시장', '이용섭', ')', '는', '광주', '##상', '##생', '##카드', '##의', '이용', '편의', '##성', '##을', '개선', '##하기', '위해', '올해', '1', '##월', '##1', '##일', '##부터', '체크카드', '발급', '##대', '##상', '##을', '당초', '개인', '##에', '##게', '고정', '##되', '##던', '것', '##을', '법인', '[UNK]', '단체', '##까', '##지', '확대', '##하고', '구매', '##가', '##능', '연령', '기준', '##이', '달라', '혼선', '##이', '있', '##었', '##던', '선불', '[UNK]', '체크카드', '##의', '발급', '##기', '##준', '##도', '모두', '만', '14', '##세', '이상', '##으로', '통일', '##했', '##다', '.']\n",
      "['비'] 비욘세는 또 휴스턴이 사망한 그 날 자신의 웹사이트 상에 \"모든 가수들처럼 나도 단지 휴스턴처럼 되길 원했다. 그녀의 목소리는 완벽했다. 강하면서도 마음을 달래주었고, 혼이 담겨 있었으며 고전적이었다. 그녀의 비브라토(음을 가늘게 떨어서 내는 창법), 억양, 그리고 조절능력 [모두 완벽했다]. 내 생애의 많은 추억들이 휘트니 휴스턴의 노래와 연관되어 있다. 그녀는 우리의 여왕이고 뒤이어 나온 가수들에게 길을 열어 주었으며, 우리들 모두에게 청사진을 제공했다\"고 적었다.\n",
      "['[UNK]', '또', '휴스턴', '##이', '사망', '##한', '그', '날', '자신', '##의', '웹', '##사이', '##트', '상', '##에', '\"', '모든', '가수', '##들', '##처럼', '나', '##도', '단지', '휴스턴', '##처럼', '되', '##길', '원했', '##다', '.', '그녀', '##의', '목소리', '##는', '완벽', '##했', '##다', '.', '강하', '##면서', '##도', '마음', '##을', '달래', '##주', '##었', '##고', ',', '혼', '##이', '담겨', '있', '##었', '##으며', '고전', '##적', '##이', '##었', '##다', '.', '그녀', '##의', '비', '##브라', '##토', '(', '음', '##을', '가늘', '##게', '떨어', '##서', '내', '##는', '창', '##법', ')', ',', '억양', ',', '그리고', '조절', '##능력', '[', '모두', '완벽', '##했', '##다', ']', '.', '내', '생애', '##의', '많', '##은', '추억', '##들이', '휘', '##트니', '휴스턴', '##의', '노래', '##와', '연관', '##되', '##어', '있', '##다', '.', '그녀', '##는', '우리', '##의', '여왕', '##이', '##고', '뒤이', '##어', '나온', '가수', '##들', '##에', '##게', '길', '##을', '열', '##어', '주', '##었', '##으며', ',', '우리', '##들', '모두', '##에', '##게', '청사진', '##을', '제공', '##했', '##다', '\"', '고', '적', '##었', '##다', '.']\n",
      "['藝', '樂'] 시는 지난 6월부터 전 국민을 대상으로 공모를 실시해 접수된 189건을 대상으로 1차 실무부서 예비심사를 통해 35건을 선발하고 2차 심사를 거쳐 최종 3건을 선정해 목포시 홈페이지를 통한 시민 참여 투표를 거쳐 「목포(愛)가을(藝)페스티벌(樂)」을 최종 선정하였다.\n",
      "['시', '##는', '지난', '6', '##월', '##부터', '전', '국민', '##을', '대상', '##으로', '공모', '##를', '실시', '##해', '접수', '##된', '189', '##건', '##을', '대상', '##으로', '1', '##차', '실무', '##부', '##서', '예비', '##심', '##사', '##를', '통해', '35', '##건', '##을', '선발', '##하고', '2', '##차', '심사', '##를', '거쳐', '최종', '3', '##건', '##을', '선정', '##해', '목포시', '홈페이지', '##를', '통한', '시민', '참여', '투표', '##를', '거쳐', '「', '목포', '(', '愛', ')', '가을', '(', '[UNK]', ')', '페스티벌', '(', '[UNK]', ')', '」', '을', '최종', '선정', '##하', '##였', '##다', '.']\n",
      "['어'] 닥터에 대해 상당한 뒷조사를 한 듯한 이본이 동행자는 어딨냐는 질문을 하자, 닥터는 마침 타디스에 같이 탔던 재키를 '로즈'라 속이고 데려가고, 반대로 로즈는 그대로 타디스 안에 숨어있는다.\n",
      "['닥터', '##에', '대해', '상당', '##한', '뒷', '##조사', '##를', '한', '듯', '##한', '이', '##본', '##이', '동행', '##자', '##는', '[UNK]', '질문', '##을', '하자', ',', '닥터', '##는', '마침', '타', '##디스', '##에', '같이', '탔', '##던', '재', '##키', '##를', \"'\", '로즈', \"'\", '라', '속이', '##고', '데려가', '##고', ',', '반대', '##로', '로즈', '##는', '그대로', '타', '##디스', '안', '##에', '숨', '##어', '##있', '##는', '##다', '.']\n",
      "['永', '塾'] 야학 뿐 아니라 개량서당 또한 민족교육의 산실 역할을 했는데, 잠녀항쟁의 또 다른 주역인 강관순, 신재홍 등도 우도의 개량서당 영명의숙(永明義塾)의 교사였다.\n",
      "['야', '##학', '뿐', '아니', '##라', '개량', '##서', '##당', '또한', '민족', '##교육', '##의', '산실', '역할', '##을', '했', '##는데', ',', '잠', '##녀', '##항', '##쟁', '##의', '또', '다른', '주역', '##인', '강관', '##순', ',', '신재', '##홍', '등', '##도', '우도', '##의', '개량', '##서', '##당', '영', '##명', '##의', '##숙', '(', '[UNK]', '明', '義', '[UNK]', ')', '의', '교사', '##였', '##다', '.']\n",
      "['熙'] 1197년(명종 27년) 고려의 제21대 왕 희종(熙宗)과 부인 임씨(훗날의 성평왕후)의 장남으로 태어났다.\n",
      "['119', '##7', '##년', '(', '명종', '27', '##년', ')', '고려', '##의', '제', '##21', '##대', '왕', '희', '##종', '(', '[UNK]', '宗', ')', '과', '부인', '임씨', '(', '훗날', '##의', '성', '##평', '##왕', '##후', ')', '의', '장남', '##으로', '태어났', '##다', '.']\n",
      "['브', '브'] 시구르드는 이 반지를 발키리 브륀힐드에게 사랑의 증표로 선물했는데, 니벨룽 일족의 그림힐드 여왕이 흉계를 꾸며 시구르드와 브륀힐드를 모두 자신의 자식들(구드룬과 군나르)과 결혼시킴으로써 반지의 저주는 니벨룽 일족으로 넘어온다.\n",
      "['시구', '##르드', '##는', '이', '반지', '##를', '발', '##키', '##리', '[UNK]', '사랑', '##의', '증', '##표', '##로', '선물', '##했', '##는데', ',', '니', '##벨', '##룽', '일족', '##의', '그림', '##힐', '##드', '여왕', '##이', '흉', '##계', '##를', '꾸며', '시구', '##르드', '##와', '[UNK]', '모두', '자신', '##의', '자식', '##들', '(', '구', '##드', '##룬', '##과', '군', '##나르', ')', '과', '결혼', '##시', '##킴', '##으로', '##써', '반지', '##의', '저주', '##는', '니', '##벨', '##룽', '일족', '##으로', '넘어', '##온다', '.']\n",
      "['寧'] 그것은 바로 이성계가 명나라에 '권지고려국사'의 이름으로 사절을 보내 \"나의 고향인 '화령'(和寧)과 옛날에 있었던 나라 '조선'(朝鮮)가운데 하나를 이름으로 골라달라'고 한 것과 관련된 문제이다.\n",
      "['그것', '##은', '바로', '이성계', '##가', '명나라', '##에', \"'\", '권', '##지', '##고', '##려', '##국사', \"'\", '의', '이름', '##으로', '사절', '##을', '보내', '\"', '나', '##의', '고향', '##인', \"'\", '화', '##령', \"'\", '(', '和', '[UNK]', ')', '과', '옛날', '##에', '있', '##었', '##던', '나라', \"'\", '조선', \"'\", '(', '朝', '鮮', ')', '가운데', '하나', '##를', '이름', '##으로', '골라', '##달', '##라', \"'\", '고', '한', '것', '##과', '관련', '##된', '문제', '##이다', '.']\n",
      "['航'] 항공 사고(航空事故)는 국제민간항공기구(ICAO)에서는 항공기 사고를 승무원이나 승객이 항공기에 탑승한 후부터 내릴 때까지의 사이에 그 항공기가 운항함으로써 일어난 사람의 사망, 부상, 항공기의 손상 등 항공기와 관련된 모든 사고를 의미하는 것으로 정의하고 있다.\n",
      "['항공', '사고', '(', '[UNK]', '空', '事', '故', ')', '는', '국제', '##민', '##간', '##항공', '##기구', '(', 'IC', '##A', '##O', ')', '에서', '##는', '항공기', '사고', '##를', '승무원', '##이나', '승객', '##이', '항공기', '##에', '탑승', '##한', '후', '##부터', '내릴', '때', '##까', '##지', '##의', '사이', '##에', '그', '항공기', '##가', '운항', '##함', '##으로', '##써', '일어난', '사람', '##의', '사망', ',', '부상', ',', '항공기', '##의', '손상', '등', '항공기', '##와', '관련', '##된', '모든', '사고', '##를', '의미', '##하', '##는', '것', '##으로', '정의', '##하고', '있', '##다', '.']\n",
      "['떵'] 대표적인 스트리머로 밴쯔, 떵개떵, 슈기, 도로시, 양수빈, 프란 등이 있다.\n",
      "['대표', '##적인', '스트리', '##머', '##로', '밴', '##쯔', ',', '[UNK]', ',', '슈', '##기', ',', '도로', '##시', ',', '양수', '##빈', ',', '프란', '등', '##이', '있', '##다', '.']\n",
      "['嚴', '恒', '燮', '柳'] 이어 조소앙·엄항섭(嚴恒燮)·유림(柳林) 등과 함께 선전계획 수립, 선전진행 방침에 관한 사항 등을 의결하는 선전위원회의 위원에 임명되어 활동하였다.\n",
      "['이어', '조소', '##앙', '·', '엄', '##항', '##섭', '(', '[UNK]', '[UNK]', '[UNK]', ')', '·', '유림', '(', '[UNK]', '林', ')', '등', '##과', '함께', '선전', '##계', '##획', '수립', ',', '선전', '##진', '##행', '방침', '##에', '관한', '사항', '등', '##을', '의결', '##하', '##는', '선전', '##위원회', '##의', '위원', '##에', '임명', '##되', '##어', '활동', '##하', '##였', '##다', '.']\n",
      "['顯', '廟', '庭', '傅'] 현종(顯宗) 18년(1027년)에 목종의 묘정(廟庭)에 배향되었고 덕종(德宗) 2년(1033년)에 태부(太傅)가 증직되었다.\n",
      "['현종', '(', '[UNK]', '宗', ')', '18', '##년', '(', '102', '##7', '##년', ')', '에', '목', '##종', '##의', '묘', '##정', '(', '[UNK]', '[UNK]', ')', '에', '배', '##향', '##되', '##었', '##고', '덕', '##종', '(', '德', '宗', ')', '2', '##년', '(', '103', '##3', '##년', ')', '에', '태', '##부', '(', '太', '[UNK]', ')', '가', '증', '##직', '##되', '##었', '##다', '.']\n",
      "['로'] 드 로케푀이는 다운스 지역까지 진입하였으나 이곳에 존 노리스가 지휘하는 25척의 전열함대가 있다는 것을 파악하고는 퇴각해 버렸다.\n",
      "['드', '[UNK]', '다운', '##스', '지역', '##까', '##지', '진입', '##하', '##였', '##으나', '이곳', '##에', '존', '노리', '##스', '##가', '지휘', '##하', '##는', '25', '##척', '##의', '전열', '##함', '##대', '##가', '있', '##다는', '것', '##을', '파악', '##하고', '##는', '퇴각', '##해', '버렸', '##다', '.']\n",
      "['띵'] 오프닝부터 높은 텐션을 보여줬던 함소원 씨는 밥 동무를 구하는 첫 띵동에서 믿지 못할 뜻밖의 상황이 펼쳐져 눈길을 끌었다.\n",
      "['오프닝', '##부터', '높', '##은', '텐', '##션', '##을', '보여', '##줬', '##던', '함', '##소', '##원', '씨', '##는', '밥', '동무', '##를', '구하', '##는', '첫', '[UNK]', '믿', '##지', '못할', '뜻밖', '##의', '상황', '##이', '펼쳐져', '눈길', '##을', '끌', '##었', '##다', '.']\n",
      "['펨'] 2018년에는 유벤투스 FC 위민으로 이적했고 2018-19 시즌에서 유벤투스의 세리에 A 펨미닐레 우승, 여자 코파 이탈리아나 우승에 기여했다.\n",
      "['2018', '##년', '##에', '##는', '유', '##벤', '##투스', 'FC', '위', '##민', '##으로', '이적', '##했', '##고', '2018', '-', '19', '시즌', '##에서', '유', '##벤', '##투스', '##의', '세리', '##에', 'A', '[UNK]', '우승', ',', '여자', '코', '##파', '이탈리아', '##나', '우승', '##에', '기여', '##했', '##다', '.']\n",
      "['旭'] 박용욱(朴龍旭, 1983년 12월 6일 ~)은 대한민국의 전직 스타크래프트 프로게이머이자 게임해설가, 프로게임단 코치이다.\n",
      "['박용', '##욱', '(', '朴', '龍', '[UNK]', ',', '1983', '##년', '12', '##월', '6', '##일', '~', ')', '은', '대한민국', '##의', '전직', '스타크', '##래프트', '프로', '##게이', '##머', '##이', '##자', '게임', '##해', '##설', '##가', ',', '프로', '##게임', '##단', '코치', '##이다', '.']\n",
      "['멱'] 유도 3단이던 김익렬 중령은 흥분한 나머지 주먹으로 조병옥을 끌어내 실랑이를 벌였고, 조병옥의 복부를 친 후 멱살을 잡고 내동댕이치려고 하였다.\n",
      "['유도', '3', '##단', '##이', '##던', '김', '##익', '##렬', '중령', '##은', '흥분', '##한', '나머지', '주먹', '##으로', '조병', '##옥', '##을', '끌어내', '실랑이', '##를', '벌였', '##고', ',', '조병', '##옥', '##의', '복부', '##를', '친', '후', '[UNK]', '잡', '##고', '내동', '##댕이', '##치', '##려고', '하', '##였', '##다', '.']\n",
      "['채'] 하지만 러더퍼드와 채드윅은 양성자가 너무 무거운 입자라서 감마선과 같은 복사에너지만으로는 그런 현상이 나타날 수 없다고 보았고, 전기적으로 중성이면서 보다 작은 입자가 충돌하였다면 이러한 현상이 가능할 것이라고 보았다.\n",
      "['하지만', '러', '##더', '##퍼드', '##와', '[UNK]', '양성', '##자', '##가', '너무', '무거운', '입자', '##라', '##서', '감', '##마', '##선', '##과', '같', '##은', '복사', '##에너지', '##만', '##으로', '##는', '그런', '현상', '##이', '나타날', '수', '없', '##다고', '보', '##았', '##고', ',', '전기', '##적으로', '중성', '##이면', '##서', '보다', '작', '##은', '입자', '##가', '충돌', '##하', '##였', '##다면', '이러', '##한', '현상', '##이', '가능', '##할', '것', '##이', '##라고', '보', '##았', '##다', '.']\n",
      "['펭'] 청주동물원은 김 수의사의 이번 남극 활동으로 인해 서식지 외 보전기관으로서 야생동물 보전·증식을 위한 연구에 기여하며, 향후 해양동물(펭귄 등) 전시를 위한 사전 준비에 밑거름이 될 것으로 보인다.\n",
      "['청주', '##동물', '##원', '##은', '김', '수의사', '##의', '이번', '남극', '활동', '##으로', '인해', '서식지', '외', '보전', '##기', '##관', '##으로', '##서', '야생', '##동물', '보전', '·', '증식', '##을', '위한', '연구', '##에', '기여', '##하', '##며', ',', '향후', '해양', '##동물', '(', '[UNK]', '등', ')', '전시', '##를', '위한', '사전', '준비', '##에', '밑거름', '##이', '될', '것', '##으로', '보인다', '.']\n",
      "['닛', '廟'] 한편 에도 개성 이전, 막부 잔당 세력들은 도쿠가와 막부의 성지인 닛코뵤유(日光廟)에서 군대를 집결시켜 신정부군과 대결하기 위해 에도에서 탈출했다.\n",
      "['한편', '에도', '개성', '이전', ',', '막부', '잔', '##당', '세력', '##들', '##은', '도쿠', '##가와', '막부', '##의', '성지', '##인', '[UNK]', '(', '日', '光', '[UNK]', ')', '에서', '군대', '##를', '집결', '##시', '##켜', '신정', '##부', '##군', '##과', '대결', '##하기', '위해', '에도', '##에서', '탈출', '##했', '##다', '.']\n",
      "['浩', '疏', '頭'] 1893년 2월 동학교도들은 제2차 신원운동을 전개하여, 박광호(朴光浩)를 소두(疏頭)로 하여 각 도의 동학 대표자 40여 명을 보내어 고종에게 직접 상소를 올리고 대궐 앞에서 사흘 밤낮을 통곡하게 했다. 고종으로부터 해산을 조건으로 선처를 약속받고 일단 해산했으나, 시행될 기미가 보이지 않으므로 다시 제3차 신원운동을 계획하고 보은의 대도소(大都所)에 전국 교도들의 집결을 명령하였다.\n",
      "['189', '##3', '##년', '2', '##월', '동학', '##교도', '##들', '##은', '제', '##2', '##차', '신원', '##운동', '##을', '전개', '##하여', ',', '박광', '##호', '(', '朴', '光', '[UNK]', ')', '를', '소', '##두', '(', '[UNK]', '[UNK]', ')', '로', '하여', '각', '도의', '동학', '대표자', '40', '##여', '명', '##을', '보내', '##어', '고종', '##에', '##게', '직접', '상소', '##를', '올리', '##고', '대궐', '앞', '##에서', '사흘', '밤낮', '##을', '통곡', '##하', '##게', '했', '##다', '.', '고종', '##으로', '##부터', '해산', '##을', '조건', '##으로', '선처', '##를', '약속', '##받', '##고', '일단', '해산', '##했', '##으나', ',', '시행', '##될', '기미', '##가', '보이', '##지', '않', '##으므로', '다시', '제', '##3', '##차', '신원', '##운동', '##을', '계획', '##하고', '보', '##은', '##의', '대도', '##소', '(', '大', '都', '所', ')', '에', '전국', '교도', '##들', '##의', '집결', '##을', '명령', '##하', '##였', '##다', '.']\n",
      "['範'] 박범계(朴範界, 1963년 4월 27일 ~)는 대한민국의 정치인, 판사 출신 변호사이다.\n",
      "['박범', '##계', '(', '朴', '[UNK]', '界', ',', '1963', '##년', '4', '##월', '27', '##일', '~', ')', '는', '대한민국', '##의', '정치인', ',', '판사', '출신', '변호사', '##이다', '.']\n",
      "['맬', '맬'] 맬컴이 쓰러지자 두 명의 암살자가 더 나타나 반자동 권총으로 맬컴에게 16 발을 쏘았다.\n",
      "['[UNK]', '쓰러지', '##자', '두', '명의', '암살', '##자', '##가', '더', '나타나', '반', '##자동', '권총', '##으로', '[UNK]', '16', '발', '##을', '쏘', '##았', '##다', '.']\n",
      "['묀'] 마티아스 긴터(Matthias Ginter, 1994년 1월 19일, 바덴뷔르템베르크주 프라이부르크 임 브라이스가우 ~)는 독일의 축구 선수로, 현재 분데스리가의 보루시아 묀헨글라트바흐 소속으로 주 포지션은 풀백이다.\n",
      "['마티', '##아', '##스', '긴', '##터', '(', 'Ma', '##tt', '##h', '##ia', '##s', 'G', '##int', '##er', ',', '1994', '##년', '1', '##월', '19', '##일', ',', '바', '##덴', '##뷔', '##르', '##템', '##베르크', '##주', '프라이', '##부르크', '임', '브라', '##이스', '##가', '##우', '~', ')', '는', '독일', '##의', '축구', '선수', '##로', ',', '현재', '분', '##데스', '##리', '##가', '##의', '보루', '##시아', '[UNK]', '소속', '##으로', '주', '포지션', '##은', '풀', '##백', '##이다', '.']\n",
      "['아'] 우드게이트는 스페인에서의 1년차에 레알 마드리드 소속으로 단 한 경기도 출전하지 못했고, 2005년 9월 22일 아틀레팈 빌바오와의 리그 경기가 돼서야 신고식을 치렀다.\n",
      "['우드', '##게이트', '##는', '스페인', '##에서', '##의', '1', '##년', '##차', '##에', '레알', '마드리드', '소속', '##으로', '단', '한', '경기도', '출전', '##하', '##지', '못했', '##고', ',', '2005', '##년', '9', '##월', '22', '##일', '[UNK]', '빌', '##바오', '##와', '##의', '리그', '경기', '##가', '돼서', '##야', '신고', '##식', '##을', '치렀', '##다', '.']\n",
      "['･'] 부산본부세관(세관장 제영광)은 12일 이영숙 관세행정관을 2019년 '11월의 부산세관인'으로 선정･시상했다.\n",
      "['부산', '##본부', '##세', '##관', '(', '세관', '##장', '제', '##영', '##광', ')', '은', '12', '##일', '이영', '##숙', '관세', '##행정', '##관', '##을', '2019', '##년', \"'\", '11', '##월', '##의', '부산', '##세', '##관', '##인', \"'\", '으로', '선정', '[UNK]', '시상', '##했', '##다', '.']\n",
      "['楚'] 춘추시대 초기에 진이나 초(楚)는 근처의 도시국가를 정복하면 부하에게 그 토지를 영지로 주지 않고 현이라 이름붙여 국왕의 직할지로 만들었다.\n",
      "['춘추', '##시대', '초기', '##에', '진이', '##나', '초', '(', '[UNK]', ')', '는', '근처', '##의', '도시', '##국', '##가', '##를', '정복', '##하면', '부하', '##에', '##게', '그', '토지', '##를', '영지', '##로', '주지', '않', '##고', '현', '##이', '##라', '이름', '##붙', '##여', '국왕', '##의', '직', '##할', '##지', '##로', '만들', '##었', '##다', '.']\n",
      "['우'] 동료들은 우젠슝을 학생 지도자 중 한 명으로 선출하였는데, 그녀가 대학교에서 우수한 학생 중 한 명이었기에 당국의 관계자들에게 그녀의 참여가 용인되거나 최소한 간과될 수 있었기 때문이었다.\n",
      "['동료', '##들', '##은', '[UNK]', '학생', '지도자', '중', '한', '명', '##으로', '선출', '##하', '##였', '##는데', ',', '그녀', '##가', '대학교', '##에서', '우수', '##한', '학생', '중', '한', '명', '##이', '##었', '##기에', '당국', '##의', '관계자', '##들', '##에', '##게', '그녀', '##의', '참여', '##가', '용인', '##되', '##거나', '최소한', '간과', '##될', '수', '있', '##었', '##기', '때문', '##이', '##었', '##다', '.']\n",
      "['秘', '密', 'つ', '츠', '紡', 'ぎ', '～', 'あ'] 2010년 3월 28일 제1회 \"원맨 라이브 하츠네 찻집\"을 개최. TV 아사히 계열 금요일 저녁 드라마 \"비밀(秘密)\" 주제가, \"츠요가리 소레이유(つよがりソレイユ)\" 발매. TV 아사히 목요일 미스터리 \"과수연의 여자 11\" 주제가, \"츠무기～아마네쿠오모이～(紡ぎ～あまねく想い～)\"를 발매하였다.\n",
      "['2010', '##년', '3', '##월', '28', '##일', '제', '##1', '##회', '\"', '원', '##맨', '라이브', '하', '##츠', '##네', '찻집', '\"', '을', '개최', '.', 'TV', '아사히', '계열', '금요일', '저녁', '드라마', '\"', '비밀', '(', '[UNK]', '[UNK]', ')', '\"', '주제', '##가', ',', '\"', '츠', '##요', '##가리', '소', '##레이', '##유', '(', '[UNK]', ')', '\"', '발매', '.', 'TV', '아사히', '목요일', '미스터리', '\"', '과수', '##연', '##의', '여자', '11', '\"', '주제', '##가', ',', '\"', '[UNK]', '(', '[UNK]', '[UNK]', '想', '[UNK]', ')', '\"', '를', '발매', '##하', '##였', '##다', '.']\n",
      "['아', '픕', '니', '다'] 본인을 46세 남성이라고 밝힌 A씨는 청와대 국민청원 게시판에 \"대구 시민입니다. 지금 너무나 분하고 슬프고 아픕니다\"라는 제목의 청원글을 올렸다.\n",
      "['본인', '##을', '46', '##세', '남성', '##이', '##라고', '밝힌', 'A', '##씨', '##는', '청와대', '국민', '##청', '##원', '게시판', '##에', '\"', '대구', '시민', '##입니다', '.', '지금', '너무나', '분', '##하고', '슬프', '##고', '[UNK]', '\"', '라는', '제목', '##의', '청원', '##글', '##을', '올렸', '##다', '.']\n",
      "['登', '陳', '閼'] 묵돌은 한군을 북쪽으로 유인하고자 거짓으로 물러났고, 백등산(白登山)에서 7일간 포위된 유방은 진평(陳平)의 헌책에 따라 묵돌의 알지(閼氏, 역대 선우의 어머니)를 움직여 공격이 잠시 느슨해진 사이에 가까스로 달아났다.\n",
      "['묵', '##돌', '##은', '한', '##군', '##을', '북쪽', '##으로', '유인', '##하고', '##자', '거짓', '##으로', '물러났', '##고', ',', '백', '##등', '##산', '(', '白', '[UNK]', '山', ')', '에서', '7', '##일', '##간', '포위', '##된', '유방', '##은', '진', '##평', '(', '[UNK]', '平', ')', '의', '헌', '##책', '##에', '따라', '묵', '##돌', '##의', '알', '##지', '(', '[UNK]', '氏', ',', '역대', '선우', '##의', '어머니', ')', '를', '움직여', '공격', '##이', '잠시', '느슨', '##해진', '사이', '##에', '가까스로', '달아났', '##다', '.']\n",
      "['宰', '造'] 이에 당시에 신라등의 외국과의 외교를 관장하는 관청인 다자이후에서 신라정벌을 목적으로 태제부조행군식(太宰府造行軍式)이라는 세부적인 계획안을 마련해 이를 실천하기 시작했다.\n",
      "['이', '##에', '당시', '##에', '신라', '##등', '##의', '외국', '##과', '##의', '외교', '##를', '관장', '##하', '##는', '관청', '##인', '다자', '##이', '##후', '##에서', '신라', '##정', '##벌', '##을', '목적', '##으로', '태', '##제', '##부', '##조', '##행', '##군', '##식', '(', '太', '[UNK]', '府', '[UNK]', '行', '軍', '式', ')', '이라', '##는', '세부', '##적인', '계획안', '##을', '마련', '##해', '이를', '실천', '##하기', '시작', '##했', '##다', '.']\n",
      "['戶', '血'] 에도무혈개성(江戶無血開城) 이후 이 곳은 신정부가 관리하고 있었으나, 6월 20일 아이즈 번과 센다이 번이 공격해서 탈환했다.\n",
      "['에도', '##무', '##혈', '##개', '##성', '(', '江', '[UNK]', '無', '[UNK]', '開', '城', ')', '이후', '이', '곳', '##은', '신정', '##부', '##가', '관리', '##하고', '있', '##었', '##으나', ',', '6', '##월', '20', '##일', '아이즈', '번', '##과', '센', '##다이', '번', '##이', '공격', '##해서', '탈환', '##했', '##다', '.']\n",
      "['沔'] 1592년(선조 25) 초 임진왜란이 일어나자 고향에서 의병을 모집, 의병장(義兵將) 김면(金沔)의 막하에 들어가 참모로서 활약했다.\n",
      "['159', '##2', '##년', '(', '선조', '25', ')', '초', '임진왜란', '##이', '일어나', '##자', '고향', '##에서', '의병', '##을', '모집', ',', '의병', '##장', '(', '義', '兵', '將', ')', '김', '##면', '(', '金', '[UNK]', ')', '의', '막', '##하', '##에', '들어가', '참모', '##로', '##서', '활약', '##했', '##다', '.']\n",
      "['宋'] 송(宋) 이후에 1근이 약 600g으로 정착되어 오늘에 이르었다.\n",
      "['송', '(', '[UNK]', ')', '이후', '##에', '1', '##근', '##이', '약', '600', '##g', '##으로', '정착', '##되', '##어', '오늘', '##에', '이르', '##었', '##다', '.']\n",
      "['習'] 김시습(金時習, 1435년 ~ 1493년)은 조선 초기의 문인, 학자이자 불교 승려이다.\n",
      "['김시', '##습', '(', '金', '時', '[UNK]', ',', '143', '##5', '##년', '~', '149', '##3', '##년', ')', '은', '조선', '초기', '##의', '문인', ',', '학자', '##이', '##자', '불교', '승려', '##이다', '.']\n",
      "['榮', '稷'] 안도한 항우는 반란한 제의 전영(田榮)을 토벌하러 나섰고 유방은 자신이 부순 길 이전에 쓰던 길로 관중으로 출격해 장한을 단번에 격파하고 관중을 장악하여 여기에 사직(社稷)을 세웠다.\n",
      "['안도', '##한', '항우', '##는', '반란', '##한', '제의', '전영', '(', '田', '[UNK]', ')', '을', '토벌', '##하', '##러', '나섰', '##고', '유방', '##은', '자신', '##이', '부', '##순', '길', '이전', '##에', '쓰', '##던', '길', '##로', '관중', '##으로', '출격', '##해', '장한', '##을', '단번에', '격파', '##하고', '관중', '##을', '장악', '##하여', '여기', '##에', '사직', '(', '社', '[UNK]', ')', '을', '세웠', '##다', '.']\n",
      "['醫'] 경안고등학교를 졸업하고, 2000년 원광보건대학 치기공과에 입학하였다가 휴학 이후 2001년 2월 대한민국 해군 신병 456기로 입대, 의무병(醫務兵)이 되어 천안함에서 근무하다가 이듬해 4월부터 참수리급 고속정 357호정으로 옮겼다.\n",
      "['경', '##안', '##고', '##등', '##학교', '##를', '졸업', '##하고', ',', '2000', '##년', '원광', '##보', '##건', '##대', '##학', '치', '##기', '##공', '##과', '##에', '입학', '##하', '##였', '##다가', '휴학', '이후', '2001', '##년', '2', '##월', '대한민국', '해군', '신병', '45', '##6', '##기', '##로', '입대', ',', '의무', '##병', '(', '[UNK]', '務', '兵', ')', '이', '되', '##어', '천안', '##함', '##에서', '근무', '##하', '##다가', '이듬해', '4', '##월', '##부터', '참', '##수리', '##급', '고속', '##정', '35', '##7', '##호', '##정', '##으로', '옮겼', '##다', '.']\n",
      "['省', '密', '直'] 1326년(충숙왕 13)에 원나라가 고려에 성(省)을 두려고 하는 일이 일어나자 지밀직사(知密直司)로 원황제에게 중지할 것을 주청하여 그것이 받아들여졌다.\n",
      "['132', '##6', '##년', '(', '충', '##숙', '##왕', '13', ')', '에', '원나라', '##가', '고려', '##에', '성', '(', '[UNK]', ')', '을', '두려', '##고', '하', '##는', '일', '##이', '일어나', '##자', '지', '##밀', '##직', '##사', '(', '知', '[UNK]', '[UNK]', '司', ')', '로', '원', '##황', '##제', '##에', '##게', '중지', '##할', '것', '##을', '주', '##청', '##하여', '그것', '##이', '받아들여졌', '##다', '.']\n",
      "['F', 'R'] 루마니아 축구 국가대표팀은 루마니아를 대표하는 축구 국가대표팀으로 루마니아 축구 행정 부서인 루마니아 축구 연맹(Federația Romnă de Fotbal)이 관리하고 있다.\n",
      "['루마니아', '축구', '국가', '##대표', '##팀', '##은', '루마니아', '##를', '대표', '##하', '##는', '축구', '국가', '##대표', '##팀', '##으로', '루마니아', '축구', '행정', '부서', '##인', '루마니아', '축구', '연맹', '(', '[UNK]', '[UNK]', 'de', 'F', '##ot', '##b', '##al', ')', '이', '관리', '##하고', '있', '##다', '.']\n",
      "['徐', '建', '昌'] 서건창(徐建昌, 1989년 8월 22일 ~)은 KBO 리그 키움 히어로즈의 내야수, 지명타자이다.\n",
      "['서', '##건', '##창', '(', '[UNK]', '[UNK]', '[UNK]', ',', '1989', '##년', '8', '##월', '22', '##일', '~', ')', '은', 'KBO', '리그', '키움', '히어로즈', '##의', '내야수', ',', '지명', '##타자', '##이다', '.']\n",
      "['펭'] 다음 달 2일까지 EBS 키즈 월정액 가입 고객 중 50명에게 펭수 달력을, MBC 월정액 가입 고객 중 1000명에게는 ‘유산슬 달력’을 증정한다.\n",
      "['다음', '달', '2', '##일', '##까', '##지', 'EBS', '키즈', '월', '##정', '##액', '가입', '고객', '중', '50', '##명', '##에', '##게', '[UNK]', '달력', '##을', ',', 'MBC', '월', '##정', '##액', '가입', '고객', '중', '1000', '##명', '##에', '##게', '##는', '‘', '유산', '##슬', '달력', '’', '을', '증정', '##한다', '.']\n",
      "['禪', '位'] 그는 이러한 사실에 커다란 불만을 가지고 있었는데, 1466년에 임기가 차서 중앙에 소환되면서 그해 9월 세조가 북방에서 오래 근무한 일로 위로연을 베풀었는데, 이 자리에서 그는 취중에 세조에게 '상감께서도 오랫동안 왕위에 계셨으니 이제 편히 여생을 즐기는 것이 어떠냐'며 왕위를 선위(禪位)하라고 진언하였다.\n",
      "['그', '##는', '이러', '##한', '사실', '##에', '커다란', '불만', '##을', '가지', '##고', '있', '##었', '##는데', ',', '146', '##6', '##년', '##에', '임기', '##가', '차', '##서', '중앙', '##에', '소환', '##되', '##면서', '그해', '9', '##월', '세조', '##가', '북방', '##에서', '오래', '근무', '##한', '일', '##로', '위로', '##연', '##을', '베풀', '##었', '##는데', ',', '이', '자리', '##에서', '그', '##는', '취', '##중', '##에', '세조', '##에', '##게', \"'\", '상', '##감', '##께', '##서', '##도', '오랫동안', '왕위', '##에', '계셨', '##으니', '이제', '편히', '여생', '##을', '즐기', '##는', '것', '##이', '어떠', '##냐', \"'\", '며', '왕위', '##를', '선', '##위', '(', '[UNK]', '[UNK]', ')', '하', '##라고', '진', '##언', '##하', '##였', '##다', '.']\n",
      "['牛', '祿', '額', '參'] 잉굴다이는 용맹이 뛰어나서 젊은 시절부터 크고 작은 전투에 참가하여 니루이 어전(niru-i ejen, 牛祿 額眞)으로 승진하였으며 누르하치를 따라다니면서 크고 작은 공을 세워갔으며 특히 1621년 요양, 심양전투에 참전하여 결정적인 공을 세움으로 인하여 그 공로로 참장(參將)으로 승진했다.\n",
      "['잉', '##굴', '##다이', '##는', '용맹', '##이', '뛰어나', '##서', '젊', '##은', '시절', '##부터', '크', '##고', '작', '##은', '전투', '##에', '참가', '##하여', '니', '##루', '##이', '어', '##전', '(', 'n', '##ir', '##u', '-', 'i', 'e', '##j', '##en', ',', '[UNK]', '[UNK]', '[UNK]', '眞', ')', '으로', '승진', '##하', '##였', '##으며', '누르', '##하', '##치', '##를', '따라다니', '##면서', '크', '##고', '작', '##은', '공', '##을', '세워', '##갔', '##으며', '특히', '162', '##1', '##년', '요양', ',', '심', '##양', '##전', '##투', '##에', '참전', '##하여', '결정', '##적인', '공', '##을', '세', '##움', '##으로', '인하', '##여', '그', '공로', '##로', '참', '##장', '(', '[UNK]', '將', ')', '으로', '승진', '##했', '##다', '.']\n",
      "['阿'] 374년에는 아도(阿道)가 전진에서 건너와 불도를 고구려에 전하였다.\n",
      "['37', '##4', '##년', '##에', '##는', '아도', '(', '[UNK]', '道', ')', '가', '전진', '##에서', '건너', '##와', '불', '##도', '##를', '고구려', '##에', '전하', '##였', '##다', '.']\n",
      "['施', '改'] 1919년 4월 24일 함경북도 내에서 일어난 3·1 운동을 진정시키기 위한 임시사무로 임명되었으며, 같은 해 8월 22일에 열린 조선총독부 중추원의 시정 개선(施政 改善) 및 시국에 관한 자문회에서 함경북도 민간 대표자로 추천되어 참석했다.\n",
      "['1919', '##년', '4', '##월', '24', '##일', '함경', '##북도', '내', '##에서', '일어난', '3', '·', '1', '운동', '##을', '진정', '##시', '##키', '##기', '위한', '임시', '##사', '##무', '##로', '임명', '##되', '##었', '##으며', ',', '같', '##은', '해', '8', '##월', '22', '##일', '##에', '열린', '조선총독부', '중추', '##원', '##의', '시정', '개선', '(', '[UNK]', '政', '[UNK]', '善', ')', '및', '시국', '##에', '관한', '자문', '##회', '##에서', '함경', '##북도', '민간', '대표자', '##로', '추천', '##되', '##어', '참석', '##했', '##다', '.']\n",
      "['배'] 고(故) 김수연 선생은 학성강당을 설립하고 70여년의 세월 동안 1만여명의 제자를 배출⋅육성했으며 이러한 공로로 2003년 KBS 전북의 어른상, 2005년 국무총리상, 2013년 국민훈장 석류장 등을 수상했다.\n",
      "['고', '(', '故', ')', '김수', '##연', '선생', '##은', '학', '##성', '##강', '##당', '##을', '설립', '##하고', '70', '##여', '##년', '##의', '세월', '동안', '1', '##만', '##여', '##명', '##의', '제자', '##를', '[UNK]', '이러', '##한', '공로', '##로', '2003', '##년', 'KBS', '전북', '##의', '어른', '##상', ',', '2005', '##년', '국무총리', '##상', ',', '2013', '##년', '국민', '##훈', '##장', '석류', '##장', '등', '##을', '수상', '##했', '##다', '.']\n",
      "['G', 'G', 'M', 'M'] 이 밖에 다른 불교 전통에서는 석가모니 부처의 아내로 고파(Gopā)나 고페(Gopī), 므가자(Mṛgajā), 마노다라(Manodharā) 등의 이름이 언급된다.\n",
      "['이', '밖에', '다른', '불교', '전통', '##에서', '##는', '석가', '##모니', '부처', '##의', '아내', '##로', '고파', '(', '[UNK]', ')', '나', '고', '##페', '(', '[UNK]', ')', ',', '므', '##가', '##자', '(', '[UNK]', ')', ',', '마', '##노', '##다', '##라', '(', '[UNK]', ')', '등', '##의', '이름', '##이', '언급', '##된', '##다', '.']\n",
      "['応', '幡', '菩', '薩'] 덴오(天応) 원년(781년) 일본 조정은 우사 하치만에게 국가를 지키고 불교를 수호하는 신으로써 하치만 대보살(八幡大菩薩)이라는 이름을 하사하였다.\n",
      "['덴', '##오', '(', '天', '[UNK]', ')', '원년', '(', '78', '##1', '##년', ')', '일본', '조정', '##은', '우', '##사', '하', '##치', '##만', '##에', '##게', '국가', '##를', '지키', '##고', '불교', '##를', '수호', '##하', '##는', '신', '##으로', '##써', '하', '##치', '##만', '대', '##보살', '(', '八', '[UNK]', '大', '[UNK]', '[UNK]', ')', '이라', '##는', '이름', '##을', '하사', '##하', '##였', '##다', '.']\n",
      "['鵞', '峰', '鑑'] 그 후 미쓰쿠니는 아버지 요리후사의 죽음으로 인해 가업을 상속하였고, 공무 수행으로 인해 바빠지는 바람에 편수 사업으로부터는 멀어지게 되었지만, 한편으로 막부에서는 간분 2년(1662년)에 하야시 가호(林鵞峰)에게 명해 편년체의 사서 『본조통감(本朝通鑑)』의 편찬을 개시하였고, 미쓰쿠니는 하야시 가보를 번저에 초대하여 면담하며, 편찬 방침이나 정통성 문제에 대해 질의하였다.\n",
      "['그', '후', '미쓰', '##쿠니', '##는', '아버지', '요리', '##후', '##사의', '죽음', '##으로', '인해', '가업', '##을', '상속', '##하', '##였', '##고', ',', '공무', '수행', '##으로', '인해', '바빠', '##지', '##는', '바람', '##에', '편', '##수', '사업', '##으로', '##부터', '##는', '멀', '##어지', '##게', '되', '##었', '##지만', ',', '한편', '##으로', '막부', '##에서', '##는', '간', '##분', '2', '##년', '(', '166', '##2', '##년', ')', '에', '하야', '##시', '가', '##호', '(', '林', '[UNK]', '[UNK]', ')', '에게', '명', '##해', '편', '##년', '##체', '##의', '사서', '『', '본', '##조', '##통', '##감', '(', '本', '朝', '通', '[UNK]', ')', '』', '의', '편찬', '##을', '개시', '##하', '##였', '##고', ',', '미쓰', '##쿠니', '##는', '하야', '##시', '가', '##보', '##를', '번', '##저', '##에', '초대', '##하여', '면담', '##하', '##며', ',', '편찬', '방침', '##이나', '정통', '##성', '문제', '##에', '대해', '질의', '##하', '##였', '##다', '.']\n",
      "['營'] 동시에 친군영(親軍營)의 감독이 되었다가, 고종이 군제를 개혁할 때 친군영을 개편하여, 친군영 좌영과 우영으로 나뉘어 편제되자 그는 친군영 우영의 감독으로 임명되었다.\n",
      "['동시', '##에', '친', '##군', '##영', '(', '親', '軍', '[UNK]', ')', '의', '감독', '##이', '되', '##었', '##다가', ',', '고종', '##이', '군', '##제', '##를', '개혁', '##할', '때', '친', '##군', '##영', '##을', '개편', '##하여', ',', '친', '##군', '##영', '좌', '##영', '##과', '우', '##영', '##으로', '나뉘', '##어', '편', '##제', '##되', '##자', '그', '##는', '친', '##군', '##영', '우', '##영', '##의', '감독', '##으로', '임명', '##되', '##었', '##다', '.']\n",
      "['曹'] 조(曹, Co)씨는 초나라, 주나라, 소그드인 계통이 있다.\n",
      "['조', '(', '[UNK]', ',', 'Co', ')', '씨', '##는', '초', '##나라', ',', '주', '##나라', ',', '소', '##그', '##드', '##인', '계통', '##이', '있', '##다', '.']\n",
      "['가'] 크누트는 역사적 실체가 확실한 최초의 덴마크 왕 고름 가믈리의 아버지다.\n",
      "['크', '##누', '##트', '##는', '역사', '##적', '실체', '##가', '확실', '##한', '최초', '##의', '덴마크', '왕', '고', '##름', '[UNK]', '아버지', '##다', '.']\n",
      "['豫', '刺', '韋', '玄', '貞', '钦'] 또한 태후 무씨는 폐제의 부인인 위씨의 아버지인 전 예주자사(豫州刺史) 위현정(韋玄貞)을 흠주(钦州)로 유배해버렸다.\n",
      "['또한', '태후', '무', '##씨', '##는', '폐', '##제', '##의', '부인', '##인', '위', '##씨', '##의', '아버지', '##인', '전', '예', '##주', '##자', '##사', '(', '[UNK]', '州', '[UNK]', '史', ')', '위', '##현', '##정', '(', '[UNK]', '[UNK]', '[UNK]', ')', '을', '흠', '##주', '(', '[UNK]', '州', ')', '로', '유배', '##해', '##버렸', '##다', '.']\n",
      "['찧'] 헬멧을 쓰고 있던 권 소방위는 떨어지면서 시멘트로 된 바닥에 머리를 그만 먼저 찧고 말았다.\n",
      "['헬멧', '##을', '쓰', '##고', '있', '##던', '권', '소방', '##위', '##는', '떨어지', '##면서', '시멘트', '##로', '된', '바닥', '##에', '머리', '##를', '그만', '먼저', '[UNK]', '말', '##았', '##다', '.']\n",
      "['計'] 1506년 76세 되던 해 고향에서 자신이 섬겼던 연산군이 폐위되었다는 소식을 들었는데, 종묘사직의 대계(大計)를 위해서는 불가피한 일임을 잘 알지만 그래도 10여년을 섬겨온 신하로서 어찌 슬프지 않겠느냐며 인간적인 고뇌를 토로하였다.\n",
      "['150', '##6', '##년', '76', '##세', '되', '##던', '해', '고향', '##에서', '자신', '##이', '섬', '##겼', '##던', '연산군', '##이', '폐', '##위', '##되', '##었', '##다는', '소식', '##을', '들', '##었', '##는데', ',', '종묘', '##사', '##직', '##의', '대', '##계', '(', '大', '[UNK]', ')', '를', '위해서', '##는', '불가피', '##한', '일임', '##을', '잘', '알', '##지만', '그래도', '10', '##여', '##년', '##을', '섬', '##겨', '##온', '신하', '##로', '##서', '어찌', '슬프', '##지', '않', '##겠', '##느', '##냐', '##며', '인간', '##적인', '고뇌', '##를', '토로', '##하', '##였', '##다', '.']\n",
      "['에', '에', '에', '에'] 특히, 지난 1978년 첫 펜싱팀 창단 후 에뻬팀이 해체되는 아픔을 겪었다가 지난 2012년 에뻬팀을 재창단 전남도청 펜싱팀은 그동안 에뻬 개인전과 사브르에서는 금빛 낭보를 울렸지만, 에뻬 단체전에서 전국 최강의 자리에 올라본 적은 없었다.\n",
      "['특히', ',', '지난', '1978', '##년', '첫', '펜싱', '##팀', '창단', '후', '[UNK]', '해체', '##되', '##는', '아픔', '##을', '겪', '##었', '##다가', '지난', '2012', '##년', '[UNK]', '재', '##창', '##단', '전남', '##도', '##청', '펜싱', '##팀', '##은', '그동안', '[UNK]', '개인전', '##과', '사', '##브르', '##에서', '##는', '금빛', '낭', '##보', '##를', '울렸', '##지만', ',', '[UNK]', '단체전', '##에서', '전국', '최강', '##의', '자리', '##에', '올라', '##본', '적', '##은', '없', '##었', '##다', '.']\n",
      "['禳'] 광평공 왕원은 1083년 문종(文宗)과 인경현비의 손자이자 조선공으로 사후 조선국 양헌왕(朝鮮國 禳憲王)에 추증된 왕도의 둘째 아들로 태어났다.\n",
      "['광', '##평', '##공', '왕', '##원', '##은', '108', '##3', '##년', '문종', '(', '文', '宗', ')', '과', '인', '##경', '##현', '##비', '##의', '손자', '##이', '##자', '조선', '##공', '##으로', '사후', '조선', '##국', '양', '##헌', '##왕', '(', '朝', '鮮', '國', '[UNK]', '憲', '王', ')', '에', '추', '##증', '##된', '왕', '##도', '##의', '둘째', '아들', '##로', '태어났', '##다', '.']\n",
      "['浦'] 한글학회 이사장(1959~1977)을 지냈으며 이후 한글문화원을 개설(1988)하여 원장을 지낸 그의 본관은 김포(金浦)이며 평안북도 벽동에 유복한 집안에서 팔삭동이로 태어났다.\n",
      "['한글', '##학', '##회', '이사장', '(', '1959', '~', '1977', ')', '을', '지냈', '##으며', '이후', '한글', '##문화', '##원', '##을', '개설', '(', '1988', ')', '하여', '원장', '##을', '지낸', '그', '##의', '본관', '##은', '김포', '(', '金', '[UNK]', ')', '이', '##며', '평안', '##북도', '벽', '##동', '##에', '유', '##복', '##한', '집안', '##에서', '팔', '##삭', '##동', '##이', '##로', '태어났', '##다', '.']\n",
      "['브'] 미 해안경비대(USCG)가 이날 배포한 보도자료에 따르면 현대글로비스 소속 차량운반선 골든레이호는 이날 오전 1시40분(한국시간 8일 오후 2시40분)께 조지아주 브런즈윅 항의 내항에서 외항으로 현지 도선사에 의해 안전하게 인도되던(도선) 중 선체가 옆으로 기울었다.\n",
      "['미', '해안', '##경', '##비', '##대', '(', 'US', '##C', '##G', ')', '가', '이날', '배포', '##한', '보도', '##자료', '##에', '따르', '##면', '현대', '##글', '##로', '##비스', '소속', '차량', '##운', '##반', '##선', '골든', '##레이', '##호', '##는', '이날', '오전', '1', '##시', '##40', '##분', '(', '한국', '##시간', '8', '##일', '오후', '2', '##시', '##40', '##분', ')', '께', '조지아', '##주', '[UNK]', '항의', '내', '##항', '##에서', '외', '##항', '##으로', '현지', '도선', '##사', '##에', '의해', '안전', '##하', '##게', '인도', '##되', '##던', '(', '도선', ')', '중', '선체', '##가', '옆', '##으로', '기울', '##었', '##다', '.']\n",
      "['輯', '越'] 남월국의 역대 군주가 추진한 화집백월(和輯百越) 정책은 한족과 남월국 내부의 각 민족 간 융화를 추진하였고, 한나라 문화와 한자가 영남 지방으로 이입되어 영남 문화에 큰 영향을 끼치게 된다.\n",
      "['남', '##월', '##국', '##의', '역대', '군주', '##가', '추진', '##한', '화', '##집', '##백', '##월', '(', '和', '[UNK]', '百', '[UNK]', ')', '정책', '##은', '한족', '##과', '남', '##월', '##국', '내부', '##의', '각', '민족', '간', '융', '##화', '##를', '추진', '##하', '##였', '##고', ',', '한나라', '문화', '##와', '한자', '##가', '영남', '지방', '##으로', '이', '##입', '##되', '##어', '영남', '문화', '##에', '큰', '영향', '##을', '끼치', '##게', '된다', '.']\n",
      "['祠'] 함안 무산사(武山祠)는 경상남도 함안군 칠서면 무릉리에 있는, 조선시대의 유명한 유학자인 주세붕(1495∼1544) 선생의 영정과 유품을 모신 곳이다.\n",
      "['함안', '무산', '##사', '(', '武', '山', '[UNK]', ')', '는', '경상남도', '함안', '##군', '칠', '##서', '##면', '무', '##릉', '##리에', '있', '##는', ',', '조선', '##시대', '##의', '유명', '##한', '유학자', '##인', '주세', '##붕', '(', '149', '##5', '##∼', '##15', '##44', ')', '선생', '##의', '영정', '##과', '유품', '##을', '모신', '곳', '##이다', '.']\n",
      "['果', '禪', '覺', '禪'] 북송 휘종은 불과선사(佛果禪師)라는 호를, 남송 고종은 진각선사(眞覺禪師)라는 호를 내려 극진히 존경했다.\n",
      "['북송', '휘', '##종', '##은', '불과', '##선', '##사', '(', '佛', '[UNK]', '[UNK]', '師', ')', '라는', '호', '##를', ',', '남', '##송', '고종', '##은', '진', '##각', '##선', '##사', '(', '眞', '[UNK]', '[UNK]', '師', ')', '라는', '호', '##를', '내려', '극진', '##히', '존경', '##했', '##다', '.']\n",
      "['둠', '아', '라', '르', 'א', 'ר', 'א', '둠'] 둠밈은 ‘무죄의’라는 뜻으로 볼 수 있고, 우림은 ‘저주하다’를 의미하는 어근 (아라르אראר/저주하다)로 본다면 ‘저주 받은, 유죄의’로 이해함으로 우림과 둠밈의 기능을 잘 반영했다고 볼 수 있다.\n",
      "['[UNK]', '‘', '무죄', '##의', '’', '라는', '뜻', '##으로', '볼', '수', '있', '##고', ',', '우림', '##은', '‘', '저주', '##하', '##다', '’', '를', '의미', '##하', '##는', '어', '##근', '(', '[UNK]', '/', '저주', '##하', '##다', ')', '로', '본다면', '‘', '저주', '받', '##은', ',', '유죄', '##의', '’', '로', '이해', '##함', '##으로', '우림', '##과', '[UNK]', '기능', '##을', '잘', '반영', '##했', '##다고', '볼', '수', '있', '##다', '.']\n",
      "['樂', '浪', '朔'] 재위 13년(246년) 위나라가 낙랑군(樂浪軍)과 삭방(朔方)과 합공해 고구려와 전쟁을 벌이는 틈을 타서 낙랑군의 변방을 침입하였다.\n",
      "['재위', '13', '##년', '(', '246', '##년', ')', '위나라', '##가', '낙', '##랑', '##군', '(', '[UNK]', '[UNK]', '軍', ')', '과', '삭', '##방', '(', '[UNK]', '方', ')', '과', '합', '##공', '##해', '고구려', '##와', '전쟁', '##을', '벌이', '##는', '틈', '##을', '타', '##서', '낙', '##랑', '##군', '##의', '변방', '##을', '침입', '##하', '##였', '##다', '.']\n",
      "['맟'] 한편, 옥천군은 2018년도부터 공무원 맟춤형 복지포인트의 30%를 옥천사랑상품권으로 지급하고 있다.\n",
      "['한편', ',', '옥천', '##군', '##은', '2018', '##년', '##도', '##부터', '공무원', '[UNK]', '복지', '##포', '##인트', '##의', '30', '%', '를', '옥천', '##사랑', '##상', '##품', '##권', '##으로', '지급', '##하고', '있', '##다', '.']\n",
      "['戶', '胡', '拔'] 1383년 함경남도 단주(현재 북한의 단천시)에서 이성계의 휘하에서 청주상만호(靑州上萬戶)로 참전하여, 침략한 호발도(胡拔都)를 격퇴. 함경남도 홍원의 대문령에서 왜적을 무찌름.\n",
      "['138', '##3', '##년', '함경', '##남도', '단', '##주', '(', '현재', '북한', '##의', '단', '##천시', ')', '에서', '이성계', '##의', '휘하', '##에서', '청주', '##상', '##만', '##호', '(', '靑', '州', '上', '萬', '[UNK]', ')', '로', '참전', '##하여', ',', '침략', '##한', '호', '##발', '##도', '(', '[UNK]', '[UNK]', '都', ')', '를', '격', '##퇴', '.', '함경', '##남도', '홍', '##원', '##의', '대문', '##령', '##에서', '왜', '##적', '##을', '무', '##찌', '##름', '.']\n",
      "['스', '타', '뎀', '·', 'J', 'a', 's'] 영화 '분노의 질주: 홉스&쇼'는 시리즈의 메인 캐릭터인 루크 홉스(드웨인 존슨·Dwayne Johnson)와 데카드 쇼(제이슨 스타뎀·Jason Statham)의 활약을 그린다.\n",
      "['영화', \"'\", '분노', '##의', '질주', ':', '홉', '##스', '&', '쇼', \"'\", '는', '시리즈', '##의', '메인', '캐릭터', '##인', '루크', '홉', '##스', '(', '드', '##웨', '##인', '존슨', '·', 'D', '##w', '##ay', '##ne', 'John', '##son', ')', '와', '데카', '##드', '쇼', '(', '제이슨', '[UNK]', '·', 'J', '##as', '##on', 'St', '##ath', '##am', ')', '의', '활약', '##을', '그린다', '.']\n",
      "['草', '梁'] 1928년 목회자가 될 것을 결심하고 1933년 조선예수교장로회신학교에 입학하여 1937년 졸업하였으며 이후 장로교 목사가 되어 1938년 10월 24일 부산초량교회(草梁敎會)에서 “조선총독부는 정의 및 신의에 위반한 우상인 신사참배를 강요하니 오등은 굴하지 말고 이것에 절대로 참배해서는 못쓴다.”라고 신사참배반대 설교를 하였다.\n",
      "['1928', '##년', '목회', '##자', '##가', '될', '것', '##을', '결심', '##하고', '1933', '##년', '조선', '##예', '##수', '##교', '##장', '##로', '##회', '##신', '##학교', '##에', '입학', '##하여', '1937', '##년', '졸업', '##하', '##였', '##으며', '이후', '장로', '##교', '목사', '##가', '되', '##어', '1938', '##년', '10', '##월', '24', '##일', '부산', '##초', '##량', '##교회', '(', '[UNK]', '[UNK]', '敎', '會', ')', '에서', '“', '조선총독부', '##는', '정의', '및', '신의', '##에', '위반', '##한', '우상', '##인', '신사', '##참', '##배', '##를', '강요', '##하니', '오', '##등', '##은', '굴하', '##지', '말', '##고', '이것', '##에', '절대로', '참배', '##해서', '##는', '못', '##쓴', '##다', '.', '”', '라고', '신사', '##참', '##배', '##반대', '설교', '##를', '하', '##였', '##다', '.']\n",
      "['莊', '馮'] 16. 장공(莊公) 빙(馮): 목공의 아들로 아버지가 자기 대신 사촌 상공에게 군위를 넘겨주자 정나라로 망명했다.\n",
      "['16', '.', '장', '##공', '(', '[UNK]', '公', ')', '빙', '(', '[UNK]', ')', ':', '목공', '##의', '아들', '##로', '아버지', '##가', '자기', '대신', '사촌', '상공', '##에', '##게', '군위', '##를', '넘겨', '##주', '##자', '정', '##나라', '##로', '망명', '##했', '##다', '.']\n",
      "['펭', '수', \"'\"] EBS 연습생이자 크리에이터 '펭수'와 관련된 상표권을 아무 관계가 없는 타인이 먼저 출원한 것으로 알려졌다.\n",
      "['EBS', '연습생', '##이', '##자', '크리에이터', \"'\", '[UNK]', \"'\", '와', '관련', '##된', '상표', '##권', '##을', '아무', '관계', '##가', '없', '##는', '타인', '##이', '먼저', '출원', '##한', '것', '##으로', '알려졌', '##다', '.']\n",
      "['아'] 2004년 더 매트릭스와 녹음해뒀던 데뷔 앨범은 페리의 성공으로 2009년 1월 27일 아이튠스를 통해 발매되었다.\n",
      "['2004', '##년', '더', '매트릭스', '##와', '녹음', '##해', '##뒀', '##던', '데뷔', '앨범', '##은', '페리', '##의', '성공', '##으로', '2009', '##년', '1', '##월', '27', '##일', '[UNK]', '통해', '발매', '##되', '##었', '##다', '.']\n",
      "['脩'] 아들 수(脩)는 사헌부장령을 지냈다.\n",
      "['아들', '수', '(', '[UNK]', ')', '는', '사', '##헌', '##부', '##장', '##령', '##을', '지냈', '##다', '.']\n",
      "['寒', '樓'] 이후 세종 26년인 1444년 전라감사였던 정인지가 광통루에 올라 경관에 반해 “호남의 경승으로 달나라에 있는 궁전 광한 청허지부가 바로 이곳이 아니던가”라고 감탄해 ‘광한루(廣寒樓)’로 불리게 됐다고 전해진다.\n",
      "['이후', '세종', '26', '##년', '##인', '144', '##4', '##년', '전라', '##감사', '##였', '##던', '정인', '##지가', '광', '##통', '##루', '##에', '올라', '경관', '##에', '반해', '“', '호남', '##의', '경', '##승', '##으로', '달', '##나라', '##에', '있', '##는', '궁전', '광', '##한', '청', '##허', '##지부', '##가', '바로', '이곳', '##이', '아니', '##던', '##가', '”', '라고', '감탄', '##해', '‘', '광', '##한', '##루', '(', '廣', '[UNK]', '[UNK]', ')', '’', '로', '불리', '##게', '됐', '##다고', '전해진다', '.']\n",
      "['멱'] 그리고 “지난해 7월 개업이후 영업을 하지 못하게 하는 등 살해 협박을 하고, 지난해 8월에 폭행을 하였다는 C씨의 주장은 터무니없는 사실과 다른 일고에 가치도 없는 발언이다”면서 “C씨는 투자자 J씨의 부인 등은 식당운영에 참여치 못하게 하고, 자신은 부인, 딸 등을 투입하여 식당운영 전반에 대한 실질적 운영주로, 자신의 통장으로 모든 회계처리를 하며 수익금을 주지 않고 차일피일 미루며 거짓으로 일관해, 지난해 8월 여러번 항의하는 과정에 멱살을 잡고 싸운 일이 있다”며 A일보 등에서 C씨의 주장을 그대로 보도한 저의가 의심스럽다고 지적했다.\n",
      "['그리고', '“', '지난해', '7', '##월', '개업', '##이', '##후', '영업', '##을', '하', '##지', '못하', '##게', '하', '##는', '등', '살해', '협박', '##을', '하고', ',', '지난해', '8', '##월', '##에', '폭행', '##을', '하', '##였', '##다는', 'C', '##씨', '##의', '주장', '##은', '터무니없', '##는', '사실', '##과', '다른', '일고', '##에', '가치', '##도', '없', '##는', '발언', '##이다', '”', '면서', '“', 'C', '##씨', '##는', '투자자', 'J', '##씨', '##의', '부인', '등', '##은', '식당', '##운영', '##에', '참여', '##치', '못하', '##게', '하고', ',', '자신', '##은', '부인', ',', '딸', '등', '##을', '투입', '##하여', '식당', '##운영', '전반', '##에', '대한', '실질', '##적', '운영', '##주', '##로', ',', '자신', '##의', '통장', '##으로', '모든', '회계', '##처리', '##를', '하', '##며', '수익금', '##을', '주지', '않', '##고', '차일', '##피', '##일', '미루', '##며', '거짓', '##으로', '일관', '##해', ',', '지난해', '8', '##월', '여러', '##번', '항의', '##하', '##는', '과정', '##에', '[UNK]', '잡', '##고', '싸운', '일', '##이', '있', '##다', '”', '며', 'A', '##일보', '등', '##에서', 'C', '##씨', '##의', '주장', '##을', '그대로', '보도', '##한', '저', '##의', '##가', '의심', '##스럽', '##다고', '지적', '##했', '##다', '.']\n",
      "['스'] '분노의 질주: 홉스&쇼'는 완벽히 다른 홉스(드웨인 존슨 분)와 쇼(제이슨 스타뎀)가 불가능한 미션을 해결하기 위해 어쩔 수 없이 한 팀이 되면서 벌어지는 액션극이다.\n",
      "[\"'\", '분노', '##의', '질주', ':', '홉', '##스', '&', '쇼', \"'\", '는', '완벽히', '다른', '홉', '##스', '(', '드', '##웨', '##인', '존슨', '분', ')', '와', '쇼', '(', '제이슨', '[UNK]', ')', '가', '불가', '##능', '##한', '미션', '##을', '해결', '##하기', '위해', '어쩔', '수', '없이', '한', '팀', '##이', '되', '##면서', '벌어지', '##는', '액션', '##극', '##이다', '.']\n",
      "['趙', '妃'] 1863년(고종 즉위년)에 유배지에서 갖은 고초를 겪다가 조대비(趙大妃)와 흥선대원군의 배려로 석방되었다.\n",
      "['186', '##3', '##년', '(', '고종', '즉위', '##년', ')', '에', '유배', '##지', '##에서', '갖은', '고초', '##를', '겪', '##다가', '조', '##대', '##비', '(', '[UNK]', '大', '[UNK]', ')', '와', '흥', '##선', '##대원', '##군', '##의', '배려', '##로', '석방', '##되', '##었', '##다', '.']\n",
      "['羅', '振', '玉'] 푸이는 텐진에 거주하면서 첸바오첸, 정샤오쉬, 뤄젠위(羅振玉)와 함께 청조 복벽에 대한 방법을 의논하였다.\n",
      "['푸', '##이', '##는', '텐', '##진', '##에', '거주', '##하면', '##서', '첸', '##바오', '##첸', ',', '정', '##샤오', '##쉬', ',', '뤄', '##젠', '##위', '(', '[UNK]', '[UNK]', '[UNK]', ')', '와', '함께', '청', '##조', '복', '##벽', '##에', '대한', '방법', '##을', '의논', '##하', '##였', '##다', '.']\n",
      "['尹', '潽', '尹', '致', '瑛'] 한편 대한민국의 대통령을 지낸 윤보선(尹潽善), 서울특별시장 윤치영(尹致瑛) 등은 그와 윤근수가 이순신을 부정적으로 본 것이 문제가 되고, 비난의 대상이 되자, 누군가에 의한 무고라고 해명한다.\n",
      "['한편', '대한민국', '##의', '대통령', '##을', '지낸', '윤', '##보', '##선', '(', '[UNK]', '[UNK]', '善', ')', ',', '서울특별시', '##장', '윤', '##치', '##영', '(', '[UNK]', '[UNK]', '[UNK]', ')', '등', '##은', '그', '##와', '윤', '##근', '##수', '##가', '이순신', '##을', '부정', '##적으로', '본', '것', '##이', '문제', '##가', '되', '##고', ',', '비난', '##의', '대상', '##이', '되', '##자', ',', '누군가', '##에', '의한', '무고', '##라고', '해명', '##한다', '.']\n",
      "['幸', '捷', '碑'] 행주대첩비(幸州大捷碑)는 경기도 고양시 덕양구, 행주산성에 있는 임진왜란 당시 행주대첩을 승리로 이끈 권율(1537∼1599) 장군의 공을 기념하기 위해 장군의 부하들이 세운 비석이다.\n",
      "['행주', '##대', '##첩', '##비', '(', '[UNK]', '州', '大', '[UNK]', '[UNK]', ')', '는', '경기도', '고양시', '덕', '##양', '##구', ',', '행주', '##산성', '##에', '있', '##는', '임진왜란', '당시', '행주', '##대', '##첩', '##을', '승리', '##로', '이끈', '권', '##율', '(', '153', '##7', '##∼', '##15', '##99', ')', '장군', '##의', '공', '##을', '기념', '##하기', '위해', '장군', '##의', '부하', '##들이', '세운', '비석', '##이다', '.']\n",
      "['住'] 고무라카미 천황은 스미요시 신사의 신관 가문인 쓰모리 가문의 저택을 스미요시 행궁(住吉行宮)으로 삼아 거처를 옮긴다.\n",
      "['고무', '##라', '##카', '##미', '천황', '##은', '스미', '##요', '##시', '신사', '##의', '신관', '가문', '##인', '쓰', '##모리', '가문', '##의', '저택', '##을', '스미', '##요', '##시', '행', '##궁', '(', '[UNK]', '吉', '行', '宮', ')', '으로', '삼', '##아', '거처', '##를', '옮긴다', '.']\n",
      "['趙', '匡', '副', '留', '縣'] 이렇게 사태가 반전되자 묘청은 1135년(인종 13년) 정월 어서경의 분사시랑 조광(趙匡) 및 병부상서 유참 등과 반기를 들고 개경의 중앙 정부에서 파견된 부류현(副留縣) 수령 이하 관리들과 상경인(上京人)으로서 서경에 와 있던 사람을 모조리 잡아 가두었다.\n",
      "['이렇게', '사태', '##가', '반전', '##되', '##자', '묘', '##청', '##은', '113', '##5', '##년', '(', '인종', '13', '##년', ')', '정월', '어서', '##경', '##의', '분사', '##시', '##랑', '조광', '(', '[UNK]', '[UNK]', ')', '및', '병', '##부상', '##서', '유', '##참', '등', '##과', '반기', '##를', '들', '##고', '개경', '##의', '중앙', '정부', '##에서', '파견', '##된', '부류', '##현', '(', '[UNK]', '[UNK]', '[UNK]', ')', '수령', '이하', '관리', '##들', '##과', '상경', '##인', '(', '上', '京', '人', ')', '으로서', '서경', '##에', '와', '있', '##던', '사람', '##을', '모조리', '잡아', '가두', '##었', '##다', '.']\n",
      "['魏', '昇', '鎬'] 위승호(魏昇鎬, 1959년 ~)는 대한민국 육군 중장으로서 제42대 국방대학교 총장과 국방부 국방정책실장을 역임하고, 현재 육군 정책연구관이다.\n",
      "['위', '##승', '##호', '(', '[UNK]', '[UNK]', '[UNK]', ',', '1959', '##년', '~', ')', '는', '대한민국', '육군', '중장', '##으로', '##서', '제', '##42', '##대', '국방', '##대', '##학교', '총장', '##과', '국방부', '국방', '##정책', '##실', '##장', '##을', '역임', '##하고', ',', '현재', '육군', '정책', '##연구', '##관', '##이다', '.']\n",
      "['劉', '雄', '鄜', '博', '昌', '亭', '侯'] 남산(南山)에서 유웅(劉雄)을, 부(鄜) 에서 양흥을 격파하고 박창정후(博昌亭侯)에 봉해졌다.\n",
      "['남산', '(', '南', '山', ')', '에서', '유', '##웅', '(', '[UNK]', '[UNK]', ')', '을', ',', '부', '(', '[UNK]', ')', '에서', '양', '##흥', '##을', '격파', '##하고', '박창', '##정', '##후', '(', '[UNK]', '[UNK]', '[UNK]', '[UNK]', ')', '에', '봉', '##해졌', '##다', '.']\n",
      "['筵'] 그해 광해군이 재위에 오르자 대북이 집권하면서 경연관(經筵官)이 되어 경연장에 들었다.\n",
      "['그해', '광해군', '##이', '재위', '##에', '오르', '##자', '대북', '##이', '집권', '##하면', '##서', '경연', '##관', '(', '經', '[UNK]', '官', ')', '이', '되', '##어', '경연', '##장', '##에', '들', '##었', '##다', '.']\n",
      "['感'] 경남대 문화콘텐츠학과는 지난 5월 한국콘텐츠진흥원으로부터 ‘2019 콘텐츠 원 캠퍼스 구축 운영사업’의 지원 기관으로 선정되어 경남문화예술진흥원과 함께 가야 스토리를 기반으로 한 경남형 창의 콘텐츠 개발 제작과 경남형 콘텐츠 창의 인재 육성 체계를 구축하는 '융합 감성 콘텐츠 교육 프로젝트 다른 차원: 오감(五感)'을 운영해 왔다.\n",
      "['경남대', '문화', '##콘', '##텐츠', '##학', '##과', '##는', '지난', '5', '##월', '한국', '##콘', '##텐츠', '##진흥', '##원', '##으로', '##부터', '‘', '2019', '콘텐츠', '원', '캠퍼스', '구축', '운영', '##사업', '’', '의', '지원', '기관', '##으로', '선정', '##되', '##어', '경남', '##문화', '##예술', '##진흥', '##원', '##과', '함께', '가야', '스토리', '##를', '기반', '##으로', '한', '경남', '##형', '창의', '콘텐츠', '개발', '제작', '##과', '경남', '##형', '콘텐츠', '창의', '인재', '육성', '체계', '##를', '구축', '##하', '##는', \"'\", '융합', '감성', '콘텐츠', '교육', '프로젝트', '다른', '차원', ':', '오감', '(', '五', '[UNK]', ')', \"'\", '을', '운영', '##해', '왔', '##다', '.']\n",
      "['熊', '谷', '弘'] 2002년 보수당을 계승한 보수신당에서도 간사장을 맡았으나, 보수신당은 2003년 11월 제43회 중의원 의원 총선거에서 당 대표 쿠마가이 히시(熊谷弘)가 낙선하는 등 참패하고 자유민주당에 흡수되었다.\n",
      "['2002', '##년', '보수당', '##을', '계승', '##한', '보수', '##신', '##당', '##에서', '##도', '간사', '##장', '##을', '맡', '##았', '##으나', ',', '보수', '##신', '##당', '##은', '2003', '##년', '11', '##월', '제', '##43', '##회', '중', '##의원', '의원', '총선', '##거', '##에서', '당', '대표', '쿠', '##마', '##가', '##이', '히', '##시', '(', '[UNK]', '[UNK]', '[UNK]', ')', '가', '낙선', '##하', '##는', '등', '참패', '##하고', '자유민주', '##당', '##에', '흡수', '##되', '##었', '##다', '.']\n",
      "['쁘'] 개최국을 대표한 문재인 대통령과 아세안 의장국인 태국의 쁘라윳 짠오차 총리가 공동으로 주재한 이번 정상회의는 아세안 10개국 정상과 아세안 사무총장 등이 참석해 성황을 이뤘다.\n",
      "['개최', '##국', '##을', '대표', '##한', '문재인', '대통령', '##과', '아세안', '의장', '##국', '##인', '태국', '##의', '[UNK]', '짠', '##오', '##차', '총리', '##가', '공동', '##으로', '주재', '##한', '이번', '정상회의', '##는', '아세안', '10', '##개', '##국', '정상', '##과', '아세안', '사무총장', '등', '##이', '참석', '##해', '성황', '##을', '이뤘', '##다', '.']\n",
      "['魯'] 노(魯)씨는 2015년 대한민국 통계청에서 58, 711명으로 조사되었다.\n",
      "['노', '(', '[UNK]', ')', '씨', '##는', '2015', '##년', '대한민국', '통계청', '##에서', '58', ',', '71', '##1', '##명', '##으로', '조사', '##되', '##었', '##다', '.']\n",
      "['트'] 인터내셔널 헤럴드 트리뷴, CNN, 뉴욕 타임스 등의 언론사들이 대한민국의 인터넷 검열을 비판하였다.\n",
      "['인터내셔널', '헤', '##럴드', '[UNK]', ',', 'CNN', ',', '뉴욕', '타임스', '등', '##의', '언론사', '##들이', '대한민국', '##의', '인터넷', '검열', '##을', '비판', '##하', '##였', '##다', '.']\n",
      "['맬'] 또한 메갈리아의 미러링 운동에 대한 비난에 대해 '평화와 비폭력을 주장하는 마틴 루터 킹 목사와 달리, 폭력을 투쟁의 도구로 활용하기도 하는 맬컴 엑스는 진정한 흑인운동가가 아니라고 말하는 것과 같다'라며 다양한 의견들의 충돌과 갈등과 화해 속에서 진정한 페미니즘의 모습이 그려질 수 있을 것이라고 대응하였다.\n",
      "['또한', '메', '##갈', '##리아', '##의', '미러', '##링', '운동', '##에', '대한', '비난', '##에', '대해', \"'\", '평화', '##와', '비', '##폭력', '##을', '주장', '##하', '##는', '마틴', '루터', '킹', '목사', '##와', '달리', ',', '폭력', '##을', '투쟁', '##의', '도구', '##로', '활용', '##하기', '##도', '하', '##는', '[UNK]', '엑스', '##는', '진정한', '흑인', '##운동', '##가', '##가', '아니', '##라고', '말', '##하', '##는', '것', '##과', '같', '##다', \"'\", '라며', '다양', '##한', '의견', '##들', '##의', '충돌', '##과', '갈등', '##과', '화해', '속', '##에서', '진정한', '페미니즘', '##의', '모습', '##이', '그려', '##질', '수', '있', '##을', '것', '##이', '##라고', '대응', '##하', '##였', '##다', '.']\n",
      "['쑨'] 회의를 마친 후 민영돈 총장은 쑨시엔위(손현우) 총영사와 함께 중국인 유학생들이 머무르고 있는 그린빌리지 기숙사로 이동했다.\n",
      "['회의', '##를', '마친', '후', '민영', '##돈', '총장', '##은', '[UNK]', '(', '손', '##현', '##우', ')', '총영', '##사', '##와', '함께', '중국인', '유학생', '##들이', '머무르', '##고', '있', '##는', '그린', '##빌', '##리지', '기숙사', '##로', '이동', '##했', '##다', '.']\n",
      "['菅', '偉'] 일본 정부 대변인인 스가 요시히데(菅義偉) 관방장관은 12일 오전 정례 기자회견에서 '도쿄올림픽·패럴림픽 개최 연기를 상정한 준비를 검토해 나갈 필요성이 있느냐'는 질문에 이같이 답변했다.\n",
      "['일본', '정부', '대변인', '##인', '스가', '요시', '##히', '##데', '(', '[UNK]', '義', '[UNK]', ')', '관', '##방', '##장', '##관', '##은', '12', '##일', '오전', '정례', '기자', '##회', '##견', '##에서', \"'\", '도쿄', '##올', '##림픽', '·', '패럴림픽', '개최', '연기', '##를', '상정', '##한', '준비', '##를', '검토', '##해', '나갈', '필요', '##성이', '있', '##느', '##냐', \"'\", '는', '질문', '##에', '이', '##같이', '답변', '##했', '##다', '.']\n",
      "['燦', '羅', '星', '斗'] 척화신으로 유명한 좌의정 청음 김상헌의 증손으로, 할아버지는 동지중추부사 김광찬(金光燦)이고, 아버지는 영의정 문곡 김수항이며, 어머니는 현감 나성두(羅星斗)의 딸이다.\n",
      "['척', '##화', '##신', '##으로', '유명', '##한', '좌', '##의정', '청', '##음', '김상', '##헌', '##의', '증', '##손', '##으로', ',', '할아버지', '##는', '동지', '##중', '##추', '##부', '##사', '김광', '##찬', '(', '金', '光', '[UNK]', ')', '이', '##고', ',', '아버지', '##는', '영의정', '문', '##곡', '김수', '##항', '##이', '##며', ',', '어머니', '##는', '현', '##감', '나성', '##두', '(', '[UNK]', '[UNK]', '[UNK]', ')', '의', '딸', '##이다', '.']\n",
      "['로'] 방글라데시 경찰 관계자는 AFP 통신에 \"20만명가량의 로힝야족이 유엔 관계자들이 참석한 가운데 평화로운 집회에 참석했다\"고 말했다.\n",
      "['방글라데시', '경찰', '관계자', '##는', 'AFP', '통신', '##에', '\"', '20', '##만', '##명', '##가', '##량', '##의', '[UNK]', '유엔', '관계자', '##들이', '참석', '##한', '가운데', '평화', '##로운', '집회', '##에', '참석', '##했', '##다', '\"', '고', '말', '##했', '##다', '.']\n",
      "['舊'] 그해 3월에는 국가재건최고회의에서 구(舊)정치인을 정죄하는 ‘구 정치인 정화법’을 발표하기도 했는데, 이에 대해 대통령 윤보선이 반발하면서 대통령직에서 물러났다.\n",
      "['그해', '3', '##월', '##에', '##는', '국가', '##재', '##건', '##최', '##고', '##회의', '##에서', '구', '(', '[UNK]', ')', '정치인', '##을', '정', '##죄', '##하', '##는', '‘', '구', '정치인', '정화', '##법', '’', '을', '발표', '##하기', '##도', '했', '##는데', ',', '이', '##에', '대해', '대통령', '윤', '##보', '##선', '##이', '반발', '##하면', '##서', '대통령', '##직', '##에서', '물러났', '##다', '.']\n",
      "['냘', '가', '가'] 냘의 사가에서는 하랄드에게 트란드 힌 가믈리(rndr hinn gamli)라는 아들이 있었다고 하며, 트란드가 사가 등장인물 중 한 명의 조상이라고 설정되어 있다. 고대의 어떤 왕들의 사가에서도 하랄드에게 트란드 힌 가믈리라는 아들이 있으며, 거기 더해 흐레케르 슬롱반바우기라는 이름(즉 조부와 이름이 같음)의 둘째아들이 있었다고 한다.\n",
      "['[UNK]', '사가', '##에서', '##는', '하', '##랄', '##드', '##에', '##게', '트', '##란드', '힌', '[UNK]', '(', 'r', '##nd', '##r', 'h', '##in', '##n', 'g', '##am', '##l', '##i', ')', '라는', '아들', '##이', '있', '##었', '##다고', '하', '##며', ',', '트', '##란드', '##가', '사가', '등장인물', '중', '한', '명의', '조상', '##이', '##라고', '설정', '##되', '##어', '있', '##다', '.', '고대', '##의', '어떤', '왕', '##들', '##의', '사가', '##에서', '##도', '하', '##랄', '##드', '##에', '##게', '트', '##란드', '힌', '[UNK]', '아들', '##이', '있', '##으며', ',', '거기', '더해', '흐', '##레', '##케', '##르', '슬', '##롱', '##반', '##바', '##우', '##기', '##라는', '이름', '(', '즉', '조부', '##와', '이름', '##이', '같', '##음', ')', '의', '둘째', '##아들', '##이', '있', '##었', '##다고', '한다', '.']\n",
      "['빌', '빌'] 흐롤프는 아름다운 사슴을 잡고, 흐레그비드 왕의 무덤을 탐험하고, 타타르인의 대전사를 쓰러뜨리는 등 활약을 하지만 그 모든 공적은 흐롤프의 주인인 빌햘름의 명의로 돌아가고, 빌햘름은 에이리크 왕의 누이 귀다(Gyda)를 아내로 맞는다.\n",
      "['흐', '##롤', '##프', '##는', '아름다운', '사슴', '##을', '잡', '##고', ',', '흐', '##레', '##그', '##비드', '왕', '##의', '무덤', '##을', '탐험', '##하고', ',', '타', '##타르', '##인', '##의', '대전', '##사', '##를', '쓰러', '##뜨리', '##는', '등', '활약', '##을', '하지만', '그', '모든', '공적', '##은', '흐', '##롤', '##프', '##의', '주인', '##인', '[UNK]', '명의', '##로', '돌아가', '##고', ',', '[UNK]', '에이', '##리', '##크', '왕', '##의', '누이', '귀', '##다', '(', 'G', '##y', '##d', '##a', ')', '를', '아내', '##로', '맞', '##는', '##다', '.']\n",
      "['老', '老'] 광주 서구는 지난 15일 고위험 우울 노인을 대상으로 운영했던 노-노(老-老)프렌즈 ‘알콩달콩 콩나물 길러 이웃과 나누기’ 활동을 상무2동 주민들의 큰 호응 속에 마무리했다.\n",
      "['광주', '서구', '##는', '지난', '15', '##일', '고위험', '우울', '노인', '##을', '대상', '##으로', '운영', '##했', '##던', '노', '-', '노', '(', '[UNK]', '-', '[UNK]', ')', '프렌즈', '‘', '알', '##콩', '##달', '##콩', '콩나물', '길러', '이웃', '##과', '나누', '##기', '’', '활동', '##을', '상무', '##2', '##동', '주민', '##들', '##의', '큰', '호응', '속', '##에', '마무리', '##했', '##다', '.']\n",
      "['乙', '巳', '禍', '遇', '俗', '離'] 1545년(명종 즉위년) 을사사화(乙巳士禍)에 형 성우(成遇)가 연루되어 화를 당하자 관직을 버리고 낙향, 충청북도 보은의 속리산(俗離山)에 은거하였다.\n",
      "['154', '##5', '##년', '(', '명종', '즉위', '##년', ')', '을사', '##사', '##화', '(', '[UNK]', '[UNK]', '士', '[UNK]', ')', '에', '형', '성우', '(', '成', '[UNK]', ')', '가', '연루', '##되', '##어', '화', '##를', '당하', '##자', '관직', '##을', '버리', '##고', '낙', '##향', ',', '충청', '##북도', '보', '##은', '##의', '속', '##리', '##산', '(', '[UNK]', '[UNK]', '山', ')', '에', '은', '##거', '##하', '##였', '##다', '.']\n",
      "['서'] 하지만 4세기부터는 예전 즉, 기독교에서 성경과 전통에 근거하여, 공인한 의식에서도 이마와 가슴에 작은 십자가를 그리는 전통이 생겼으며, 현재 서방됴회 형태의 십자성호는 13세기에 시작된 것으로 보인다.\n",
      "['하지만', '4', '##세기', '##부터', '##는', '예전', '즉', ',', '기독교', '##에서', '성경', '##과', '전통', '##에', '근거', '##하여', ',', '공인', '##한', '의식', '##에서', '##도', '이마', '##와', '가슴', '##에', '작', '##은', '십자가', '##를', '그리', '##는', '전통', '##이', '생겼', '##으며', ',', '현재', '[UNK]', '형태', '##의', '십자', '##성', '##호', '##는', '13', '##세기', '##에', '시작', '##된', '것', '##으로', '보인다', '.']\n",
      "['昌', '仇'] 창원 구씨(昌原 仇氏)씨는 조선시대 문과 급제자 2명, 무과 급제자 9명을 배출하였다.\n",
      "['창원', '구', '##씨', '(', '[UNK]', '原', '[UNK]', '氏', ')', '씨', '##는', '조선', '##시대', '문과', '급제', '##자', '2', '##명', ',', '무', '##과', '급제', '##자', '9', '##명', '##을', '배출', '##하', '##였', '##다', '.']\n",
      "['웜'] 스턱스넷은 마이크로소프트 윈도 운영체제에 4개의 제로 데이 공격(소프트웨어 제조사가 해당 취약점에 대해 모르거나, 알고 있지만 보안 패치를 배포하지 않은 상태에서 하는 공격)과, 더불어 LNK/PIF 파일 취약점, 그리고 Conficker 웜이 사용한 취약점 을 공격했다.\n",
      "['스', '##턱', '##스', '##넷', '##은', '마이크로', '##소', '##프트', '윈도', '운영', '##체', '##제', '##에', '4', '##개', '##의', '제로', '데이', '공격', '(', '소프트웨어', '제조사', '##가', '해당', '취약점', '##에', '대해', '모르', '##거나', ',', '알고', '있', '##지만', '보안', '패치', '##를', '배포', '##하', '##지', '않', '##은', '상태', '##에서', '하', '##는', '공격', ')', '과', ',', '더불', '##어', 'L', '##N', '##K', '/', 'PI', '##F', '파일', '취약점', ',', '그리고', 'Con', '##fic', '##ke', '##r', '[UNK]', '사용', '##한', '취약점', '을', '공격', '##했', '##다', '.']\n",
      "['쉐'] SPC삼립 관계자는 “쉐이크쉑, 피그인더가든 등 SPC그룹이 운영하는 파인캐주얼 콘셉트 브랜드 확장의 일환으로 변화하는 라이프 스타일과 소비 트렌드에 맞춰 새로운 모델의 간편식 매장을 선보였다”라며 “시티델리를 SPC삼립의 푸드 사업 확대를 위한 테스트베드로 활용하는 동시에 다양한 사업으로 확장할 수 있는 브랜드로 적극 육성할 것”이라고 말했다.\n",
      "['SPC', '##삼', '##립', '관계자', '##는', '“', '[UNK]', ',', '피', '##그', '##인', '##더', '##가', '##든', '등', 'SPC', '##그룹', '##이', '운영', '##하', '##는', '파인', '##캐', '##주얼', '콘셉트', '브랜드', '확장', '##의', '일환', '##으로', '변화', '##하', '##는', '라이프', '스타일', '##과', '소비', '트렌드', '##에', '맞춰', '새로운', '모델', '##의', '간편', '##식', '매장', '##을', '선보였', '##다', '”', '라며', '“', '시티', '##델', '##리', '##를', 'SPC', '##삼', '##립', '##의', '푸드', '사업', '확대', '##를', '위한', '테스트', '##베', '##드로', '활용', '##하', '##는', '동시', '##에', '다양', '##한', '사업', '##으로', '확장', '##할', '수', '있', '##는', '브랜드', '##로', '적극', '육성', '##할', '것', '”', '이라', '##고', '말', '##했', '##다', '.']\n",
      "['姜', '牙', '封'] 변신술에 능하며, 강자아(姜子牙)를 도와 봉신(封神)의 임무를 완수한다.\n",
      "['변신', '##술', '##에', '능', '##하', '##며', ',', '강자', '##아', '(', '[UNK]', '子', '[UNK]', ')', '를', '도와', '봉', '##신', '(', '[UNK]', '神', ')', '의', '임무', '##를', '완수', '##한다', '.']\n",
      "['P'] 이반 페리시치(Ivan Perišić, 1989년 2월 2일, 크로아티아 스플리트 ~)는 크로아티아의 축구 선수로, 현재 세리에 A의 FC 인테르나치오날레 밀라노에서 윙어로 활약하고 있다.\n",
      "['이반', '페리', '##시', '##치', '(', 'I', '##v', '##an', '[UNK]', ',', '1989', '##년', '2', '##월', '2', '##일', ',', '크로아티아', '스', '##플', '##리트', '~', ')', '는', '크로아티아', '##의', '축구', '선수', '##로', ',', '현재', '세리', '##에', 'A', '##의', 'FC', '인테', '##르', '##나', '##치', '##오', '##날레', '밀라노', '##에서', '윙', '##어로', '활약', '##하고', '있', '##다', '.']\n",
      "['⟪', '⟫'] 이와는 별도로 쿤은 평소 자신이 과학사와 과학 철학에 대해 보다 이론적인 수준에서 써두었던 글을 모아서 ⟪본질적 긴장⟫(\"Essential Tension\", 1977)이라는 책을 출간했다.\n",
      "['이와', '##는', '별도', '##로', '쿤', '##은', '평소', '자신', '##이', '과학', '##사', '##와', '과학', '철학', '##에', '대해', '보다', '이론', '##적인', '수준', '##에서', '써', '##두', '##었', '##던', '글', '##을', '모아서', '[UNK]', '본질', '##적', '긴장', '[UNK]', '(', '\"', 'E', '##ss', '##enti', '##al', 'Te', '##n', '##s', '##ion', '\"', ',', '1977', ')', '이라', '##는', '책', '##을', '출간', '##했', '##다', '.']\n",
      "['쥘'] 쥘 베른, 휴고 건스백과 함께 '과학 소설의 아버지'로 불린다.\n",
      "['[UNK]', '베', '##른', ',', '휴', '##고', '건', '##스', '##백', '##과', '함께', \"'\", '과학', '소설', '##의', '아버지', \"'\", '로', '불린다', '.']\n",
      "['宿', '儒', '賢'] 1674년 8월 23일 성균관 유생 이심 등은 송시열이 ‘덕을 쌓은 유학의 종주(宿德儒宗)’라면서 “현자(賢者)의 진퇴는 구차스럽게 할 수 없지만 군주의 정성스러운 예절이 어떠한가에도 달려 있다”며 ‘정성스럽게 모셔야 한다’고 상소했다.\n",
      "['167', '##4', '##년', '8', '##월', '23', '##일', '성균관', '유생', '이', '##심', '등', '##은', '송시열', '##이', '‘', '덕', '##을', '쌓', '##은', '유학', '##의', '종주', '(', '[UNK]', '德', '[UNK]', '宗', ')', '’', '라면서', '“', '현자', '(', '[UNK]', '者', ')', '의', '진', '##퇴', '##는', '구', '##차', '##스럽', '##게', '할', '수', '없', '##지만', '군주', '##의', '정성', '##스러운', '예절', '##이', '어떠', '##한', '##가', '##에도', '달려', '있', '##다', '”', '며', '‘', '정성', '##스럽', '##게', '모셔', '##야', '한다', '’', '고', '상소', '##했', '##다', '.']\n",
      "['아'] H.264는 또한 비메오, 유튜브, 아이튠즈 스토어 영상 등의 인터넷 스트리밍 서비스와 어도비 플래시 플레이어 및 마이크로소프트 실버라이트 등의 웹 소프트웨어, 다양한 HDTV 방송(지상파: ATSC, ISDB-T, DVB-T, DVB-T2 케이블: DVB-C 위성: DVB-S, DVB-S2)에 널리 사용된다.\n",
      "['H', '.', '264', '##는', '또한', '비', '##메', '##오', ',', '유튜브', ',', '[UNK]', '스토어', '영상', '등', '##의', '인터넷', '스트리밍', '서비스', '##와', '어도', '##비', '플래시', '플레이어', '및', '마이크로', '##소', '##프트', '실버', '##라이트', '등', '##의', '웹', '소프트웨어', ',', '다양', '##한', 'HD', '##TV', '방송', '(', '지상파', ':', 'AT', '##S', '##C', ',', 'IS', '##D', '##B', '-', 'T', ',', 'D', '##V', '##B', '-', 'T', ',', 'D', '##V', '##B', '-', 'T', '##2', '케이블', ':', 'D', '##V', '##B', '-', 'C', '위성', ':', 'D', '##V', '##B', '-', 'S', ',', 'D', '##V', '##B', '-', 'S', '##2', ')', '에', '널리', '사용', '##된', '##다', '.']\n",
      "['昌', '蜂', '起', '昌'] 우창 봉기, 무창 봉기(武昌蜂起) 또는 우창 기의, 무창기의는 1911년 10월 10일 중국 후베이 성 우창(武昌, 무창)에서 일어난 봉기로 청조(淸朝)를 무너뜨리고 중화민국을 세운 신해혁명의 시발점이 된 봉기를 말한다.\n",
      "['우', '##창', '봉기', ',', '무', '##창', '봉기', '(', '武', '[UNK]', '[UNK]', '[UNK]', ')', '또는', '우', '##창', '기', '##의', ',', '무', '##창기', '##의', '##는', '1911', '##년', '10', '##월', '10', '##일', '중국', '후', '##베이', '성', '우', '##창', '(', '武', '[UNK]', ',', '무', '##창', ')', '에서', '일어난', '봉기', '##로', '청', '##조', '(', '淸', '朝', ')', '를', '무너뜨리', '##고', '중화', '##민국', '##을', '세운', '신해', '##혁명', '##의', '시발점', '##이', '된', '봉기', '##를', '말', '##한다', '.']\n",
      "['浅', '昌'] 하지만 도쿠히메가 노부야스의 아들을 낳지 못하여 걱정하던 쓰키야마도노는 전 다케다가의 가신으로 나중에 도쿠가와가의 가신이 된 아사하라 마사토키(浅原昌時)의 딸을 노부야스의 측실로 삼았다.\n",
      "['하지만', '도쿠', '##히', '##메', '##가', '노부', '##야', '##스', '##의', '아들', '##을', '낳', '##지', '못하', '##여', '걱정', '##하', '##던', '쓰', '##키', '##야마', '##도', '##노', '##는', '전', '다케', '##다가', '##의', '가신', '##으로', '나중', '##에', '도쿠', '##가와', '##가', '##의', '가신', '##이', '된', '아사', '##하라', '마사', '##토', '##키', '(', '[UNK]', '原', '[UNK]', '時', ')', '의', '딸', '##을', '노부', '##야', '##스', '##의', '측', '##실', '##로', '삼', '##았', '##다', '.']\n",
      "['묀'] 2부 리그 보훔에서의 2시즌 후, 크라머는 2013년 7월에 묀헨글라트바흐와 2년 임대 계약을 체결하며 합류하였다.\n",
      "['2', '##부', '리그', '보', '##훔', '##에서', '##의', '2', '##시', '##즌', '후', ',', '크라', '##머', '##는', '2013', '##년', '7', '##월', '##에', '[UNK]', '2', '##년', '임대', '계약', '##을', '체결', '##하', '##며', '합류', '##하', '##였', '##다', '.']\n",
      "['衛', '状', '佐', '昌', '綱'] 그 뒤 마사토라는 고가 고쇼 부근에서 잠시 물러났다(고노에씨 서신近衛氏書状). 전투의 결과 나리타 나가야스나 사노 마사쓰나(佐野昌綱)를 비롯한 무사시 국의 동족 우에스기 노리마사가 고호조측에 항복해 버렸다.\n",
      "['그', '뒤', '마사', '##토', '##라는', '고가', '고', '##쇼', '부근', '##에서', '잠시', '물러났', '##다', '(', '고노', '##에', '##씨', '서신', '近', '[UNK]', '氏', '書', '[UNK]', ')', '.', '전투', '##의', '결과', '나리', '##타', '나가', '##야', '##스', '##나', '사', '##노', '마사', '##쓰', '##나', '(', '[UNK]', '野', '[UNK]', '[UNK]', ')', '를', '비롯', '##한', '무사', '##시', '국', '##의', '동족', '우에', '##스', '##기', '노리', '##마', '##사', '##가', '고', '##호', '##조', '##측', '##에', '항복', '##해', '버렸', '##다', '.']\n",
      "['플'] 베르나르 플랑타뷜리(Bernard Plantevelue, 840년/841년 5월 22일 ~ 886년 8월) 또는 베르나르 플랑타빌로사(Bernard Plantapilosa)는 프랑크 왕국의 귀족, 영주로 툴루즈 백작, 오베르뉴 백작(comtes Auvergne)이자 마콩 백작(counts of Mcon), 고티아의 영주였다.\n",
      "['베르', '##나르', '[UNK]', '(', 'Ber', '##n', '##ard', 'Pl', '##ant', '##evel', '##ue', ',', '84', '##0', '##년', '/', '84', '##1', '##년', '5', '##월', '22', '##일', '~', '88', '##6', '##년', '8', '##월', ')', '또는', '베르', '##나르', '플', '##랑', '##타', '##빌', '##로', '##사', '(', 'Ber', '##n', '##ard', 'Pl', '##ant', '##ap', '##il', '##os', '##a', ')', '는', '프랑크', '왕국', '##의', '귀족', ',', '영주', '##로', '툴', '##루', '##즈', '백작', ',', '오', '##베르', '##뉴', '백작', '(', 'com', '##te', '##s', 'A', '##u', '##ver', '##g', '##ne', ')', '이자', '마', '##콩', '백작', '(', 'co', '##un', '##ts', 'of', 'Mc', '##on', ')', ',', '고', '##티아', '##의', '영주', '##였', '##다', '.']\n",
      "['버'] 경기 고양시(시장 이재준)는 지난 8월 19일 한국철도공사와 탄현역 버스환승시설 설치 및 부지 무상사용을 전제로 업무협약을 체결한 후, 지난 한달 간 여름철 무더위와 겨울철 추위를 막아줄 탄현역 반 폐쇄형 버스쉘터 설치공사를 마쳐 탄현역을 이용하는 시민들의 불편함을 크게 개선했다.\n",
      "['경기', '고양시', '(', '시장', '이재', '##준', ')', '는', '지난', '8', '##월', '19', '##일', '한국', '##철도', '##공사', '##와', '탄', '##현', '##역', '버스', '##환', '##승', '##시설', '설치', '및', '부지', '무상', '##사', '##용', '##을', '전제', '##로', '업무', '##협', '##약', '##을', '체결', '##한', '후', ',', '지난', '한', '##달', '간', '여름철', '무더위', '##와', '겨울철', '추위', '##를', '막아', '##줄', '탄', '##현', '##역', '반', '폐쇄', '##형', '[UNK]', '설치', '##공사', '##를', '마쳐', '탄', '##현', '##역', '##을', '이용', '##하', '##는', '시민', '##들', '##의', '불편', '##함', '##을', '크', '##게', '개선', '##했', '##다', '.']\n",
      "['厓', '柳'] 유난옥은 바로 선조조에 영의정을 지낸 풍원부원군 서애(西厓) 유성룡(柳成龍)의 8대조이다.\n",
      "['유', '##난', '##옥', '##은', '바로', '선조', '##조', '##에', '영의정', '##을', '지낸', '풍', '##원', '##부', '##원', '##군', '서', '##애', '(', '西', '[UNK]', ')', '유성', '##룡', '(', '[UNK]', '成', '龍', ')', '의', '8', '##대', '##조', '##이다', '.']\n",
      "['回'] 오는 3일 새 미니앨범 '회: 래버린스'(回:LABYRINTH)를 발매하는 걸그룹 여자친구 소속사 쏘스뮤직은 2일 팬 카페 공지에서 \"최근 신종 코로나 바이러스가 확산함에 따라, 3일 오후 8시 예스24 라이브홀에서 개최될 예정이던 쇼케이스는 관객 없이 진행하기로 했다\"고 밝혔다.\n",
      "['오', '##는', '3', '##일', '새', '미니', '##앨', '##범', \"'\", '회', ':', '래', '##버린', '##스', \"'\", '(', '[UNK]', ':', 'LA', '##B', '##Y', '##RI', '##N', '##T', '##H', ')', '를', '발매', '##하', '##는', '걸', '##그룹', '여자', '##친', '##구', '소속', '##사', '쏘', '##스', '##뮤', '##직', '##은', '2', '##일', '팬', '카페', '공지', '##에서', '\"', '최근', '신종', '코', '##로나', '바이러스', '##가', '확산', '##함', '##에', '따라', ',', '3', '##일', '오후', '8', '##시', '예스', '##24', '라이브', '##홀', '##에서', '개최', '##될', '예정', '##이', '##던', '쇼', '##케이', '##스', '##는', '관객', '없이', '진행', '##하기', '##로', '했', '##다', '\"', '고', '밝혔', '##다', '.']\n",
      "['오', '라', '녜', '-'] 네덜란드는 암스테르담의 강들을 연결하는 운하에서 200, 000명의 인파의 환영을 받았고, 히오바니 판 브론크호르스트 주장과 베르트 판 마르베이크 감독은 네덜란드의 베아트릭스 여왕에 의해 오라녜-나소 기사단의 기사로 임명되었다.\n",
      "['네덜란드', '##는', '암스테르담', '##의', '강', '##들', '##을', '연결', '##하', '##는', '운하', '##에서', '200', ',', '000', '##명', '##의', '인파', '##의', '환영', '##을', '받', '##았', '##고', ',', '히', '##오', '##바', '##니', '판', '브론', '##크', '##호', '##르', '##스트', '주장', '##과', '베르', '##트', '판', '마르', '##베이', '##크', '감독', '##은', '네덜란드', '##의', '베', '##아트', '##릭스', '여왕', '##에', '의해', '[UNK]', '-', '나', '##소', '기사단', '##의', '기사', '##로', '임명', '##되', '##었', '##다', '.']\n",
      "['簫'] 구소(九簫) 이봉선은 경남 언양 지방에서 한시, 서예, 거문고 솜씨뿐만 아니라 빼어난 미모로 이름을 떨쳤다.\n",
      "['구', '##소', '(', '九', '[UNK]', ')', '이봉', '##선', '##은', '경남', '언', '##양', '지방', '##에서', '한시', ',', '서예', ',', '거문고', '솜씨', '##뿐', '##만', '아니', '##라', '빼어난', '미모', '##로', '이름', '##을', '떨', '##쳤', '##다', '.']\n",
      "['스'] 차 연구원은 “올해 중국에서 춘절 차이로 인한 매출 감소 영향은(-400억원 추정) 타오케노이 매출로 상쇄될 수 있으며 오징어땅콩, 썬칩, 치킨팝 등 국내 스낵 파워 브랜드를 중국에서 공격적으로 출시할 예정”이라며 “시장의 우려와 달리 중국 매출은 내년에도 두 자릿수 성장도 가능하며 비용 구조를 개선해 놓은 상황이므로 영업이익률은 지난해 대비 추가적으로 개선될 여지가 있다”고 지적했다.\n",
      "['차', '연구원', '##은', '“', '올해', '중국', '##에서', '춘', '##절', '차이', '##로', '인한', '매출', '감소', '영향', '##은', '(', '-', '400', '##억', '##원', '추정', ')', '타', '##오', '##케', '##노이', '매출', '##로', '상쇄', '##될', '수', '있', '##으며', '오징어', '##땅', '##콩', ',', '썬', '##칩', ',', '치킨', '##팝', '등', '국내', '[UNK]', '파워', '브랜드', '##를', '중국', '##에서', '공격', '##적으로', '출시', '##할', '예정', '”', '이라', '##며', '“', '시장', '##의', '우려', '##와', '달리', '중국', '매출', '##은', '내년', '##에도', '두', '자릿수', '성장', '##도', '가능', '##하', '##며', '비용', '구조', '##를', '개선', '##해', '놓', '##은', '상황', '##이', '##므로', '영업', '##이', '##익', '##률', '##은', '지난해', '대비', '추가', '##적으로', '개선', '##될', '여지', '##가', '있', '##다', '”', '고', '지적', '##했', '##다', '.']\n",
      "['인'] 그는 “내년에도 인텔리젼트 팩토리, 클라우드, AI 등 SI관련 대내외 수요 증가와 삼성 디스플레이 투자 등 에 따른 그룹 IT투자 확대에 의한 수혜로 10% 전후의 연간 매출 증가가 전망된다”며 “이러한 SI 수요 증가는 삼성에스디에스와 같은 대형 SI에 집중되어 대외매출 고성장이 내년에도 이어질 것으로 예상된다”고 진단했다.\n",
      "['그', '##는', '“', '내년', '##에도', '[UNK]', '팩토리', ',', '클라우드', ',', 'AI', '등', 'SI', '##관', '##련', '대내외', '수요', '증가', '##와', '삼성', '디스플레이', '투자', '등', '에', '따른', '그룹', 'IT', '##투자', '확대', '##에', '의한', '수혜', '##로', '10', '%', '전후', '##의', '연간', '매출', '증가', '##가', '전망', '##된', '##다', '”', '며', '“', '이러', '##한', 'SI', '수요', '증가', '##는', '삼성', '##에스', '##디', '##에스', '##와', '같', '##은', '대형', 'SI', '##에', '집중', '##되', '##어', '대외', '##매', '##출', '고성장', '##이', '내년', '##에도', '이어질', '것', '##으로', '예상', '##된', '##다', '”', '고', '진단', '##했', '##다', '.']\n",
      "['校', '筵'] 1566년(명종 21) 문과중시에 병과로 급제, 예조·병조의 좌랑, 교리(校理) 등을 거쳐 선조 즉위 초에 경연관(經筵官)이 되었다.\n",
      "['156', '##6', '##년', '(', '명종', '21', ')', '문과', '##중', '##시', '##에', '병', '##과', '##로', '급제', ',', '예', '##조', '·', '병', '##조', '##의', '좌', '##랑', ',', '교리', '(', '[UNK]', '理', ')', '등', '##을', '거쳐', '선조', '즉위', '초', '##에', '경연', '##관', '(', '經', '[UNK]', '官', ')', '이', '되', '##었', '##다', '.']\n",
      "['윰'] 출산과 이혼 고백으로 떠들썩했던 BJ 윰댕(이채원·35)이 결국 아들을 완전히 공개했다.\n",
      "['출산', '##과', '이혼', '고백', '##으로', '떠들썩', '##했', '##던', 'B', '##J', '[UNK]', '(', '이채', '##원', '·', '35', ')', '이', '결국', '아들', '##을', '완전히', '공개', '##했', '##다', '.']\n",
      "['起'] 김기식(金起式, 1966년 3월 6일 ~)은 대한민국의 정치인이다.\n",
      "['김기', '##식', '(', '金', '[UNK]', '式', ',', '1966', '##년', '3', '##월', '6', '##일', '~', ')', '은', '대한민국', '##의', '정치인', '##이다', '.']\n",
      "['샥'] 비슈누파는 시바파와 샥티파, 스마르타파와 더불어 힌두교의 주요 네 종파들 중의 하나이다.\n",
      "['비', '##슈', '##누', '##파', '##는', '시바', '##파', '##와', '[UNK]', ',', '스마', '##르타', '##파', '##와', '더불', '##어', '힌두교', '##의', '주요', '네', '종파', '##들', '중', '##의', '하나', '##이다', '.']\n",
      "['被'] 하지만 서쪽 지방을 시작으로 일본국내를 중앙집권적인 통치를 하려고 하는 호조 씨의 가문인 도쿠소가(得宗家)는 무사들을 배제하고 피관(被官)인 미우치비토를 중용하게 되고, 이에 고케닌의 마음은 점점 막부에서 멀어지게 되어, 무사전체의 불만이 커지는 결과를 낳았다.\n",
      "['하지만', '서쪽', '지방', '##을', '시작', '##으로', '일본', '##국', '##내', '##를', '중앙', '##집', '##권', '##적인', '통치', '##를', '하', '##려고', '하', '##는', '호조', '씨', '##의', '가문', '##인', '도쿠', '##소', '##가', '(', '得', '宗', '家', ')', '는', '무사', '##들', '##을', '배제', '##하고', '피', '##관', '(', '[UNK]', '官', ')', '인', '미우', '##치', '##비', '##토', '##를', '중용', '##하', '##게', '되', '##고', ',', '이', '##에', '고', '##케', '##닌', '##의', '마음', '##은', '점점', '막부', '##에서', '멀', '##어지', '##게', '되', '##어', ',', '무사', '##전', '##체', '##의', '불만', '##이', '커지', '##는', '결과', '##를', '낳', '##았', '##다', '.']\n",
      "['睦'] 1692년(숙종 18년) 10월 의정부좌의정 목래선(睦來善)에 의하여 문장으로 천거받아 예문관 제학이 되었으며, 동년 10월 5일 공조참판이 되었다.\n",
      "['169', '##2', '##년', '(', '숙종', '18', '##년', ')', '10', '##월', '의정부', '##좌', '##의정', '목', '##래', '##선', '(', '[UNK]', '來', '善', ')', '에', '의하', '##여', '문장', '##으로', '천', '##거', '##받', '##아', '예문', '##관', '제', '##학', '##이', '되', '##었', '##으며', ',', '동', '##년', '10', '##월', '5', '##일', '공조', '##참', '##판', '##이', '되', '##었', '##다', '.']\n",
      "['遼'] 그러나 당은 태종에 치세에 이르자 강성해졌고, 이에 따라 중국 중심의 세계를 재형성하고자 했다. 고구려는 당 태종이 압력을 가하자 그 공격에 대비하여 요하(遼河) 지방의 국경선에 천여 리의 장성(長城)을 구축하였다.\n",
      "['그러나', '당은', '태종', '##에', '치', '##세', '##에', '이르', '##자', '강성', '##해졌', '##고', ',', '이', '##에', '따라', '중국', '중심', '##의', '세계', '##를', '재', '##형', '##성', '##하고', '##자', '했', '##다', '.', '고구려', '##는', '당', '태종', '##이', '압력', '##을', '가하', '##자', '그', '공격', '##에', '대비', '##하여', '요하', '(', '[UNK]', '河', ')', '지방', '##의', '국경', '##선', '##에', '천', '##여', '리', '##의', '장성', '(', '長', '城', ')', '을', '구축', '##하', '##였', '##다', '.']\n",
      "['施', '叔'] 스수칭(施叔靑, 1945년~)은 타이완의 소설가이다.\n",
      "['스', '##수', '##칭', '(', '[UNK]', '[UNK]', '靑', ',', '1945', '##년', '~', ')', '은', '타이완', '##의', '소설가', '##이다', '.']\n",
      "['숀'] 사고뭉치인 아들 때문에 더 이상 이사를 갈 수 없었던 숀의 어머니는 아들을 일본 도쿄에 있는 전 남편의 집에 보내 버린다.\n",
      "['사고', '##뭉', '##치', '##인', '아들', '때문', '##에', '더', '이상', '이사', '##를', '갈', '수', '없', '##었', '##던', '[UNK]', '어머니', '##는', '아들', '##을', '일본', '도쿄', '##에', '있', '##는', '전', '남편', '##의', '집', '##에', '보내', '버린다', '.']\n",
      "['維', '摩'] 혜자는 삼론학(三論學)을 위시하여 《법화경》·《유마경(維摩經)》·《승만경》과 같은 난숙한 발달을 보인 대승경전을 가르쳤는데, 후일 성덕태자가 불교정신을 뒷받침으로 한 정치를 베풀 때 이러한 불교정신이 통치 이념으로 중요한 역할을 하였을 뿐 아니라 일본 문화 발전에도 큰 전환점을 가져다 주었다.\n",
      "['혜', '##자', '##는', '삼', '##론', '##학', '(', '三', '論', '學', ')', '을', '위시', '##하여', '《', '법', '##화', '##경', '》', '·', '《', '유', '##마', '##경', '(', '[UNK]', '[UNK]', '經', ')', '》', '·', '《', '승', '##만', '##경', '》', '과', '같', '##은', '난', '##숙', '##한', '발달', '##을', '보인', '대승', '##경', '##전', '##을', '가르쳤', '##는데', ',', '후일', '성', '##덕', '##태', '##자', '##가', '불교', '##정신', '##을', '뒷받침', '##으로', '한', '정치', '##를', '베풀', '때', '이러', '##한', '불교', '##정신', '##이', '통치', '이념', '##으로', '중요', '##한', '역할', '##을', '하', '##였', '##을', '뿐', '아니', '##라', '일본', '문화', '발전', '##에도', '큰', '전환점', '##을', '가져다', '주', '##었', '##다', '.']\n",
      "['李', '逵', '李'] 이후 고향에 있는 어머니를 양산박으로 데려가려는 이규(李逵)의 감시역을 맡았으며, 강주로 가던 도중 들른 기주에서 이규가 관헌들에게 잡혀 버리자 동생인 주부와 함께 이규를 구출한 뒤 이규를 호송하던 이운(李雲)을 설득해 이운 또한 양산박의 일원이 되었다.\n",
      "['이후', '고향', '##에', '있', '##는', '어머니', '##를', '양산', '##박', '##으로', '데려가', '##려', '##는', '이규', '(', '[UNK]', '[UNK]', ')', '의', '감시', '##역', '##을', '맡', '##았', '##으며', ',', '강', '##주', '##로', '가', '##던', '도중', '들른', '기', '##주', '##에서', '이규', '##가', '관', '##헌', '##들', '##에', '##게', '잡혀', '버리', '##자', '동생', '##인', '주부', '##와', '함께', '이규', '##를', '구출', '##한', '뒤', '이규', '##를', '호', '##송', '##하', '##던', '이', '##운', '(', '[UNK]', '雲', ')', '을', '설득', '##해', '이', '##운', '또한', '양산', '##박', '##의', '일원', '##이', '되', '##었', '##다', '.']\n",
      "['樂', '苞', '梁'] 한편 낙평왕(樂平王) 석포(石苞)가 관중에서 반란을 일으키려 하였는데 동진의 양주(梁州)에서 관중을 위협하였기 때문에 거병하지 못하였다.\n",
      "['한편', '낙', '##평', '##왕', '(', '[UNK]', '平', '王', ')', '석', '##포', '(', '石', '[UNK]', ')', '가', '관중', '##에서', '반란', '##을', '일으키', '##려', '하', '##였', '##는데', '동진', '##의', '양주', '(', '[UNK]', '州', ')', '에서', '관중', '##을', '위협', '##하', '##였', '##기', '때문', '##에', '거', '##병', '##하', '##지', '못하', '##였', '##다', '.']\n",
      "['必', '琪'] 한국정신대문제대책협의회에서는 음반의 기획 취지에 맞게 문필기(文必琪)를 추천하여, 문필기는 타이틀 곡 〈빼앗긴 순정〉의 가창에 참여하였다.\n",
      "['한국', '##정신', '##대문', '##제', '##대', '##책', '##협', '##의회', '##에서', '##는', '음반', '##의', '기획', '취지', '##에', '맞', '##게', '문', '##필', '##기', '(', '文', '[UNK]', '[UNK]', ')', '를', '추천', '##하여', ',', '문', '##필', '##기', '##는', '타이틀', '곡', '〈', '빼앗긴', '순정', '〉', '의', '가창', '##에', '참여', '##하', '##였', '##다', '.']\n",
      "['바', '소', '바'] 1970년대 후반 체코 공산정권에 대한 반체제 운동을 이끌어 세계 민주화운동의 상징이 되었던 바츨라프 하벨 전 체코 대통령의 업적을 기려 미국 뉴욕에 소재햐 'Human Rights Foundation'(HRF)이 제정한 ‘창의적 반대운동을 위한 바츨라프 하벨 상’ 수상자로 2013년 5월 3일에 선정되었다.\n",
      "['1970', '##년', '##대', '후반', '체코', '공산', '##정권', '##에', '대한', '반', '##체', '##제', '운동', '##을', '이끌', '##어', '세계', '민주', '##화', '##운동', '##의', '상징', '##이', '되', '##었', '##던', '[UNK]', '하', '##벨', '전', '체코', '대통령', '##의', '업적', '##을', '기', '##려', '미국', '뉴욕', '##에', '[UNK]', \"'\", 'Human', 'R', '##ight', '##s', 'F', '##ound', '##ation', \"'\", '(', 'H', '##R', '##F', ')', '이', '제정', '##한', '‘', '창의', '##적', '반대', '##운동', '##을', '위한', '[UNK]', '하', '##벨', '상', '’', '수상자', '##로', '2013', '##년', '5', '##월', '3', '##일', '##에', '선정', '##되', '##었', '##다', '.']\n",
      "['샨'] 그는 “위메이드는 중국 불법 서버에 만연한 불법 IP 회수와 라이선스 보호에 심혈을 기울이고 있다. 지난 2016년 4월 첫 소송 접수를 시작으로 미르 지적재산권(IP) 침해 단속 및 라이선스 사업을 활발히 펼치고 있다”라며 “불법 플랫폼 가운데 가장 매출 실적이 높은 샨다게임즈, 37게임즈, 킹넷, 탄환, 9377 등과 소송 중으로 부분적으로는 협상을 함께 진행하여 IP 침해 게임을 합법화하는데에도 신경을 쓰고 있다”고 지적했다.\n",
      "['그', '##는', '“', '위', '##메이드', '##는', '중국', '불법', '서버', '##에', '만연', '##한', '불법', 'IP', '회수', '##와', '라이선스', '보호', '##에', '심혈', '##을', '기울이', '##고', '있', '##다', '.', '지난', '2016', '##년', '4', '##월', '첫', '소송', '접수', '##를', '시작', '##으로', '미르', '지적', '##재', '##산', '##권', '(', 'IP', ')', '침해', '단속', '및', '라이선스', '사업', '##을', '활발히', '펼치', '##고', '있', '##다', '”', '라며', '“', '불법', '플랫폼', '가운데', '가장', '매출', '실적', '##이', '높', '##은', '[UNK]', ',', '37', '##게임', '##즈', ',', '킹', '##넷', ',', '탄', '##환', ',', '93', '##77', '등', '##과', '소송', '중', '##으로', '부분', '##적으로', '##는', '협상', '##을', '함께', '진행', '##하여', 'IP', '침해', '게임', '##을', '합법화', '##하', '##는데', '##에도', '신경', '##을', '쓰', '##고', '있', '##다', '”', '고', '지적', '##했', '##다', '.']\n",
      "['謝', '隱'] 김삼근(金三近, 1390년 ~ 1465년)은 조선초기의 문신으로 호는 사은(謝隱)이며 본관은 (신)안동이다.\n",
      "['김', '##삼', '##근', '(', '金', '三', '近', ',', '139', '##0', '##년', '~', '146', '##5', '##년', ')', '은', '조선', '##초', '##기', '##의', '문신', '##으로', '호', '##는', '사은', '(', '[UNK]', '[UNK]', ')', '이', '##며', '본관', '##은', '(', '신', ')', '안동', '##이다', '.']\n",
      "['띵', '동'] 한편, (재)광양시어린이보육재단은 2017년 7월 출범하여 △광양형 0세 어린이집, 1세 아이전용 어린이집 운영 △어린이 통학차량내 갇힘사고 예방을 위한 ‘쏙쏙이 띵동카’ 설치 운영 △발달지연아동 조기발견 지원 △질병감염아동 무료 돌봄 서비스지원 등 17개 보육사업을 추진하고 있다.\n",
      "['한편', ',', '(', '재', ')', '광양시', '##어', '##린', '##이', '##보', '##육', '##재단', '##은', '2017', '##년', '7', '##월', '출범', '##하여', '△', '##광', '##양', '##형', '0', '##세', '어린이집', ',', '1', '##세', '아이', '##전', '##용', '어린이집', '운영', '△', '##어', '##린', '##이', '통학', '##차', '##량', '##내', '갇', '##힘', '##사고', '예방', '##을', '위한', '‘', '쏙쏙', '##이', '[UNK]', '’', '설치', '운영', '△', '##발', '##달', '##지', '##연', '##아', '##동', '조기', '##발', '##견', '지원', '△', '##질', '##병', '##감', '##염', '##아', '##동', '무료', '돌봄', '서비스', '##지원', '등', '17', '##개', '보육', '##사업', '##을', '추진', '##하고', '있', '##다', '.']\n",
      "['쿠'] 그는 동쪽의 쿠샨 왕조, 서쪽의 로마를 격파하여 중앙아시아에서 아르메니아, 메소포타미아에 이르는 광대한 영토를 통합하여 페르시아의 위세를 동서에 떨쳤던 것이다.\n",
      "['그', '##는', '동쪽', '##의', '[UNK]', '왕조', ',', '서쪽', '##의', '로마', '##를', '격파', '##하여', '중앙아시아', '##에서', '아르', '##메', '##니아', ',', '메소', '##포', '##타', '##미아', '##에', '이르', '##는', '광대', '##한', '영토', '##를', '통합', '##하여', '페르시아', '##의', '위세', '##를', '동서', '##에', '떨', '##쳤', '##던', '것', '##이다', '.']\n",
      "['홋'] 영국 축구팀 토트넘 홋스퍼FC에는 우리나라 손흥민 선수가 뛰고 있기도 하다.\n",
      "['영국', '축구팀', '토트넘', '[UNK]', '우리나라', '손흥민', '선수', '##가', '뛰', '##고', '있', '##기', '##도', '하', '##다', '.']\n",
      "['李', '李', '申', '佑'] 신 원주 이씨(原州 李氏)의 시조는 신라 개국공신 이알평의 47대손인 이신우(李申佑)이며, 중시조는 고려 말, 조선 초기의 문신인 이반계이다.\n",
      "['신', '원주', '이씨', '(', '原', '州', '[UNK]', '氏', ')', '의', '시조', '##는', '신라', '개국', '##공', '##신', '이', '##알', '##평', '##의', '47', '##대', '##손', '##인', '이', '##신', '##우', '(', '[UNK]', '[UNK]', '[UNK]', ')', '이', '##며', ',', '중시', '##조', '##는', '고려', '말', ',', '조선', '초기', '##의', '문신', '##인', '이반', '##계', '##이다', '.']\n",
      "['内', '隆', '陶', '隆', '房'] 류조지 가문은 오우치 가문의 당주 오우치 요시타카(大内義隆)가 그의 중신 스에 다카후사(陶隆房)에게 살해당하자 히젠에서 자립하였고, 지쿠젠과 부젠은 오토모 가문의 간섭을 받게 되었다.\n",
      "['류', '##조', '##지', '가문', '##은', '오우', '##치', '가문', '##의', '당', '##주', '오우', '##치', '요시', '##타', '##카', '(', '大', '[UNK]', '義', '[UNK]', ')', '가', '그', '##의', '중', '##신', '스', '##에', '다카', '##후', '##사', '(', '[UNK]', '[UNK]', '[UNK]', ')', '에게', '살해', '##당', '##하', '##자', '히', '##젠', '##에서', '자립', '##하', '##였', '##고', ',', '지', '##쿠젠', '##과', '부', '##젠', '##은', '오토', '##모', '가문', '##의', '간섭', '##을', '받', '##게', '되', '##었', '##다', '.']\n",
      "['슝', '雄'] 한편, 신정호 교수는“올해가 중국 건국 70주년이 되는 해로 사회주의 시장경제의 성과를 짚어보며 중국은 향후 신중국 100주년을 내다보며‘중화민족 부흥’을 통한 ‘중국 꿈’실현에 온 나라의 힘을 경주하고 있으며 군사분야의 전략무기 체계 완비는 물론 경제분야에서도‘인터넷’정책에 기초하여 시장개척 및 표준화를 선도하여 천년 미래 스마트도시 슝안(Xiongan, 雄安)을 건설 중에 있다.”면서 “모든 4차 산업혁명 관련 지역혁신과제를 향한 우리 전남의 노력은 미국이나 일본이 아니라 이웃한 강대국 중국과의 협력과 경쟁구도 속에서 그 성패가 좌우될 것이며 중국의 성장에 적응하면서 공동 번영하는 교류협력의 지혜를 구하는 일이 그 어느 때보다 절실하다”고 말했다.\n",
      "['한편', ',', '신정', '##호', '교수', '##는', '“', '올해', '##가', '중국', '건국', '70', '##주', '##년', '##이', '되', '##는', '해', '##로', '사회주의', '시장', '##경제', '##의', '성과', '##를', '짚', '##어보', '##며', '중국', '##은', '향후', '신중', '##국', '100', '##주', '##년', '##을', '내다보', '##며', '‘', '중화', '##민', '##족', '부흥', '’', '을', '통한', '‘', '중국', '꿈', '’', '실현', '##에', '온', '나라', '##의', '힘', '##을', '경주', '##하고', '있', '##으며', '군사', '##분', '##야', '##의', '전략', '##무기', '체계', '완비', '##는', '물론', '경제', '##분', '##야', '##에서', '##도', '‘', '인터넷', '’', '정책', '##에', '기초', '##하여', '시장', '##개', '##척', '및', '표준', '##화', '##를', '선도', '##하여', '천', '##년', '미래', '스마트', '##도', '##시', '[UNK]', '(', 'X', '##ion', '##gan', ',', '[UNK]', '安', ')', '을', '건설', '중', '##에', '있', '##다', '.', '”', '면서', '“', '모든', '4', '##차', '산업', '##혁명', '관련', '지역', '##혁', '##신', '##과', '##제', '##를', '향한', '우리', '전남', '##의', '노력', '##은', '미국', '##이나', '일본', '##이', '아니', '##라', '이웃', '##한', '강대국', '중국', '##과', '##의', '협력', '##과', '경쟁', '##구', '##도', '속', '##에서', '그', '성패', '##가', '좌우', '##될', '것', '##이', '##며', '중국', '##의', '성장', '##에', '적응', '##하면', '##서', '공동', '번영', '##하', '##는', '교류', '##협', '##력', '##의', '지혜', '##를', '구하', '##는', '일', '##이', '그', '어느', '때', '##보', '##다', '절실', '##하', '##다', '”', '고', '말', '##했', '##다', '.']\n",
      "['阿', '波'] 또 《헤이케 모노카타리》에서 아와 시게요시(阿波重能)의 수군 3백 척이 배신하여 헤이케군의 계략을 요시쓰네에게 밀고하는 바람에 도모모리의 작전은 실패하고 헤이케의 패배는 결정되었다.\n",
      "['또', '《', '헤이', '##케', '모노', '##카', '##타리', '》', '에서', '아', '##와', '시', '##게요', '##시', '(', '[UNK]', '[UNK]', '重', '能', ')', '의', '수군', '3', '##백', '척', '##이', '배신', '##하여', '헤이', '##케', '##군', '##의', '계략', '##을', '요시', '##쓰', '##네', '##에', '##게', '밀', '##고', '##하', '##는', '바람', '##에', '도모', '##모리', '##의', '작전', '##은', '실패', '##하고', '헤이', '##케', '##의', '패배', '##는', '결정', '##되', '##었', '##다', '.']\n",
      "['李', '雄'] 이웅(李雄)의 치세에 장군으로 여러 전선에서 작전을 지휘하여 명망을 쌓았다.\n",
      "['이', '##웅', '(', '[UNK]', '[UNK]', ')', '의', '치', '##세', '##에', '장군', '##으로', '여러', '전선', '##에서', '작전', '##을', '지휘', '##하여', '명망', '##을', '쌓았', '##다', '.']\n",
      "['鎭', '撫'] 2월에 당의 장수 유인궤가 칠중성(七重城)에서 우리 군사를 깨뜨린 뒤 돌아가고, 이근행이 안동진무대사(安東鎭撫大使)로 임명되었다.\n",
      "['2', '##월', '##에', '당', '##의', '장수', '유인', '##궤', '##가', '칠', '##중', '##성', '(', '七', '重', '城', ')', '에서', '우리', '군사', '##를', '깨', '##뜨린', '뒤', '돌아가', '##고', ',', '이근', '##행', '##이', '안동', '##진', '##무대', '##사', '(', '安', '東', '[UNK]', '[UNK]', '大', '使', ')', '로', '임명', '##되', '##었', '##다', '.']\n",
      "['必'] 원녕태자의 생모 숙목부인에 대해 《고려사》에는 자세한 기록이 남아있지 않고, 단지 진주(지금의 충청북도 진천군) 출신이며 대광 명필(名必)의 딸이라고만 적혀 있다.\n",
      "['원', '##녕', '##태', '##자', '##의', '생', '##모', '숙', '##목', '##부인', '##에', '대해', '《', '고려사', '》', '에는', '자세', '##한', '기록', '##이', '남아', '##있', '##지', '않', '##고', ',', '단지', '진주', '(', '지금', '##의', '충청', '##북도', '진천', '##군', ')', '출신', '##이', '##며', '대', '##광', '명', '##필', '(', '名', '[UNK]', ')', '의', '딸', '##이', '##라고', '##만', '적혀', '있', '##다', '.']\n",
      "['李'] 그의 선대는 이지방의 후손으로, 충장공 이복남(李福男)의 10대손이며 대대로 무관 가계였으며 경기도 광주군 언주면 신원리, 원지리 일대(현, 서울특별시 서초구 원지동, 신원동)와 낙생면 대장리(현, 성남시 분당구 대장동)에 세거하였다.\n",
      "['그', '##의', '선대', '##는', '이지', '##방', '##의', '후손', '##으로', ',', '충', '##장', '##공', '이복', '##남', '(', '[UNK]', '福', '男', ')', '의', '10', '##대', '##손', '##이', '##며', '대대로', '무관', '가계', '##였', '##으며', '경기도', '광주', '##군', '언', '##주', '##면', '신원', '##리', ',', '원지', '##리', '일대', '(', '현', ',', '서울특별시', '서초구', '원지', '##동', ',', '신원', '##동', ')', '와', '낙', '##생', '##면', '대장', '##리', '(', '현', ',', '성남시', '분당', '##구', '대장', '##동', ')', '에', '세', '##거', '##하', '##였', '##다', '.']\n",
      "['寧', '始'] 천봉 2년(15년), 남성장군(南城將軍)에서 영시장군(寧始將軍)으로 전임되었다.\n",
      "['천', '##봉', '2', '##년', '(', '15', '##년', ')', ',', '남성', '##장', '##군', '(', '南', '城', '將', '軍', ')', '에서', '영', '##시장', '##군', '(', '[UNK]', '[UNK]', '將', '軍', ')', '으로', '전임', '##되', '##었', '##다', '.']\n",
      "['始'] 배우이자 요리에도 일가견이 있는 김수미는 수산물 가공식품 전문업체인 영동씨푸드와 함께 시발(始發)간장 시리즈를 출시했다.\n",
      "['배우', '##이', '##자', '요리', '##에도', '일가', '##견', '##이', '있', '##는', '김수', '##미', '##는', '수산물', '가공', '##식', '##품', '전문', '##업체', '##인', '영동', '##씨', '##푸드', '##와', '함께', '시발', '(', '[UNK]', '發', ')', '간장', '시리즈', '##를', '출시', '##했', '##다', '.']\n",
      "['비'] 비욘드 패럴랠은 빅터 차 CSIS 석좌교수 겸 조지타운대 교수가 주도하고 있다.\n",
      "['[UNK]', '패럴', '##랠', '##은', '빅', '##터', '차', 'CS', '##IS', '석좌', '##교', '##수', '겸', '조지', '##타운', '##대', '교수', '##가', '주도', '##하고', '있', '##다', '.']\n",
      "['엡'] 이 곡은 또한 비틀즈의 매니저인 브라이언 엡스타인에게 보내는 메시지로 해석을 초대했고, 그 대신에 명성에 대한 코멘트로서 해석을 불러왔다.\n",
      "['이', '곡', '##은', '또한', '비틀즈', '##의', '매니저', '##인', '브라이언', '[UNK]', '보내', '##는', '메시지', '##로', '해석', '##을', '초대', '##했', '##고', ',', '그', '대신', '##에', '명성', '##에', '대한', '코', '##멘트', '##로', '##서', '해석', '##을', '불러', '##왔', '##다', '.']\n",
      "['樂', '溷'] 악기려의 아들 악혼(樂溷)이 악대심에게 노를 품고 경공에게 악대심이 거짓말을 했다고 하자, 경공은 이듬해, 경공 16년(기원전 501년)에 악대심을 조나라로 쫓아냈다.\n",
      "['악기', '##려', '##의', '아들', '악', '##혼', '(', '[UNK]', '[UNK]', ')', '이', '악', '##대', '##심', '##에', '##게', '노', '##를', '품', '##고', '경', '##공', '##에', '##게', '악', '##대', '##심', '##이', '거짓말', '##을', '했', '##다고', '하자', ',', '경', '##공', '##은', '이듬해', ',', '경', '##공', '16', '##년', '(', '기원전', '501', '##년', ')', '에', '악', '##대', '##심', '##을', '조나', '##라', '##로', '쫓아', '##냈', '##다', '.']\n",
      "['스'] 마지막 발언 기회를 얻은 것은 스캇 브로셔스 미국 감독. 브로셔스 감독은 \"다른팀 감독들과 마찬가지로 난 굉장히 흥분해 있다. 계속해서 좋은 플레이를 할 수 있도록 노력하겠다\"며 \"한국전에 전력을 다할 것\"이라고 예고했다.\n",
      "['마지막', '발언', '기회', '##를', '얻', '##은', '것', '##은', '[UNK]', '브로', '##셔', '##스', '미국', '감독', '.', '브로', '##셔', '##스', '감독', '##은', '\"', '다른', '##팀', '감독', '##들', '##과', '마찬가지', '##로', '난', '굉장히', '흥분', '##해', '있', '##다', '.', '계속', '##해서', '좋', '##은', '플레이', '##를', '할', '수', '있', '##도록', '노력', '##하', '##겠다', '\"', '며', '\"', '한국', '##전', '##에', '전력', '##을', '다', '##할', '것', '\"', '이라', '##고', '예고', '##했', '##다', '.']\n",
      "['맬'] 정부 측 인사로 로버트 레드필드 질병통제예방센터(CDC) 소장, 앤서니 파우치 국립보건원산하 알레르기감염성질환연구소(NIH) 소장 등을 불러다놓고 연 이날 청문회에서 민주당 소속 캐롤라인 맬로니 관리개혁위원회 위원장은 “난 정말 한국에 가서 50개에 이르는 이동식 검사소에 (코로나19) 검사를 받고 싶다”면서 미국의 대응을 강하게 비판했다.\n",
      "['정부', '측', '인사', '##로', '로버트', '레드', '##필드', '질병', '##통', '##제', '##예', '##방', '##센터', '(', 'CD', '##C', ')', '소장', ',', '앤서니', '파우', '##치', '국립', '##보', '##건', '##원', '##산', '##하', '알레르기', '##감', '##염', '##성', '##질', '##환', '##연구소', '(', 'N', '##I', '##H', ')', '소장', '등', '##을', '불러', '##다', '##놓', '##고', '연', '이날', '청문회', '##에서', '민주당', '소속', '캐롤', '##라인', '[UNK]', '관리', '##개혁', '##위원회', '위원장', '##은', '“', '난', '정말', '한국', '##에', '가', '##서', '50', '##개', '##에', '이르', '##는', '이동식', '검사', '##소', '##에', '(', '코', '##로나', '##19', ')', '검사', '##를', '받', '##고', '싶', '##다', '”', '면서', '미국', '##의', '대응', '##을', '강하', '##게', '비판', '##했', '##다', '.']\n",
      "['맬'] 미국 연방 수사국은 맬컴 엑스가 속해있는 네이션 오브 이슬람을 과격 단체로 보면서 공산당과의 관련 여부를 의심하였고, 1953년까지 조사를 진행하였다.\n",
      "['미국', '연방', '수사', '##국', '##은', '[UNK]', '엑스', '##가', '속해', '##있', '##는', '네이션', '오브', '이슬람', '##을', '과격', '단체', '##로', '보', '##면서', '공산당', '##과', '##의', '관련', '여부', '##를', '의심', '##하', '##였', '##고', ',', '1953', '##년', '##까', '##지', '조사', '##를', '진행', '##하', '##였', '##다', '.']\n",
      "['튄', '다'] 당시 이승우 선수 머리색을 두고 일부 누리꾼들은 \"너무 튄다\", \"과하다. 자제해라\" 등 그를 비판했다.\n",
      "['당시', '이승우', '선수', '머리', '##색', '##을', '두고', '일부', '누리꾼', '##들', '##은', '\"', '너무', '[UNK]', '\"', ',', '\"', '과하', '##다', '.', '자제', '##해', '##라', '\"', '등', '그', '##를', '비판', '##했', '##다', '.']\n",
      "['戚', '執'] 그의 증조부인 남연군이 본래는 인평대군의 후손이지만, 은신군의 양자로 들어가 직계 조상이 된 이유로, 장조의 능 참봉직에 1902년(광무 2) 임명된 바 있고, 1904년(광무 8) 1월 2일 종척집사(宗戚執事)에 임명되고, 같은 해 9품직에 임명되었다.\n",
      "['그', '##의', '증', '##조', '##부인', '남', '##연', '##군', '##이', '본래', '##는', '인', '##평', '##대군', '##의', '후손', '##이지', '##만', ',', '은신', '##군', '##의', '양자', '##로', '들어가', '직계', '조상', '##이', '된', '이유로', ',', '장', '##조', '##의', '능', '참', '##봉', '##직', '##에', '190', '##2', '##년', '(', '광', '##무', '2', ')', '임명', '##된', '바', '있', '##고', ',', '1904', '##년', '(', '광', '##무', '8', ')', '1', '##월', '2', '##일', '종', '##척', '##집', '##사', '(', '宗', '[UNK]', '[UNK]', '事', ')', '에', '임명', '##되', '##고', ',', '같', '##은', '해', '9', '##품', '##직', '##에', '임명', '##되', '##었', '##다', '.']\n",
      "['菱', '紋'] 박영만 소장 자료인 묘법연화경의 형태사항을 살펴보면, 표지는 능화문(菱花紋)이 없는 것으로 개장되어 있다.\n",
      "['박영', '##만', '소장', '자료', '##인', '묘', '##법', '##연', '##화', '##경', '##의', '형태', '##사항', '##을', '살펴보', '##면', ',', '표지', '##는', '능', '##화문', '(', '[UNK]', '花', '[UNK]', ')', '이', '없', '##는', '것', '##으로', '개장', '##되', '##어', '있', '##다', '.']\n",
      "['€', '€', '£', '3', '2', '.'] 2009년 9월 1일, 프리미어리그 여름 이적 시장 말일, 호비뉴는 €41M과 €42M 사이의 이적료 (£32.5M) 에 맨체스터 시티와 4년 계약을 맺었다.\n",
      "['2009', '##년', '9', '##월', '1', '##일', ',', '프리미어', '##리그', '여름', '이적', '시장', '말', '##일', ',', '호', '##비', '##뉴', '##는', '[UNK]', '[UNK]', '사이', '##의', '이적', '##료', '(', '[UNK]', '.', '5', '##M', ')', '에', '맨체스터', '시티', '##와', '4', '##년', '계약', '##을', '맺', '##었', '##다', '.']\n",
      "['段', '段', '龕', '呂', '護'] 이후 단부(段部) 토벌을 주도하며 단감(段龕)을 붙잡는 데 성공하며 단부를 멸망시켰으며, 하남(河南)을 침공한 뒤 여호(呂護)가 반란을 일으키자 이를 진압하였다.\n",
      "['이후', '단', '##부', '(', '[UNK]', '部', ')', '토벌', '##을', '주도', '##하', '##며', '단', '##감', '(', '[UNK]', '[UNK]', ')', '을', '붙잡', '##는', '데', '성공', '##하', '##며', '단', '##부', '##를', '멸망', '##시', '##켰', '##으며', ',', '하남', '(', '河', '南', ')', '을', '침공', '##한', '뒤', '여호', '(', '[UNK]', '[UNK]', ')', '가', '반란', '##을', '일으키', '##자', '이를', '진압', '##하', '##였', '##다', '.']\n",
      "['給', '監', '量'] 그러나 정도전(鄭道傳) 등이 사전 개혁에 찬성하자 이성계는 강력히 이를 추진, 중앙에 급전도감(給田都監)을 설치하고 도의 양전(量田)을 시작하였다.\n",
      "['그러나', '정도', '##전', '(', '鄭', '道', '傳', ')', '등', '##이', '사전', '개혁', '##에', '찬성', '##하', '##자', '이성계', '##는', '강력히', '이를', '추진', ',', '중앙', '##에', '급', '##전', '##도', '##감', '(', '[UNK]', '田', '都', '[UNK]', ')', '을', '설치', '##하고', '도의', '양', '##전', '(', '[UNK]', '田', ')', '을', '시작', '##하', '##였', '##다', '.']\n",
      "['李', '址', '鎔'] 1906년 내무대신 이지용(李址鎔)은 각 도에 명령을 하달하여 군수, 참서관, 주사(主事), 서기 등 관리들에게 삭발하도록 지시하였다.\n",
      "['1906', '##년', '내무', '##대', '##신', '이지', '##용', '(', '[UNK]', '[UNK]', '[UNK]', ')', '은', '각', '도', '##에', '명령', '##을', '하', '##달', '##하여', '군수', ',', '참', '##서관', ',', '주사', '(', '主', '事', ')', ',', '서기', '등', '관리', '##들', '##에', '##게', '삭발', '##하', '##도록', '지시', '##하', '##였', '##다', '.']\n",
      "['斗', '六', '星'] (예를 들어 신의 부하인 더 리어의 강령술은 남두암종권, 가렛키의 인해전술 공격은 '남두인간포탄'으로 자칭되었다.) 그 때문에 남두성권의 유파는 총 108파로 나뉘게 되었는데, 그 중에서 가장 강한 남두의 여섯 유파인 '남두육성'(南斗六星)이 존재하며 이들은 자모성 유리아와 같은 위치인 장군에 해당된다.\n",
      "['(', '예', '##를', '들어', '신의', '부하', '##인', '더', '리어', '##의', '강령', '##술', '##은', '남', '##두', '##암', '##종', '##권', ',', '가', '##렛', '##키', '##의', '인해', '##전', '##술', '공격', '##은', \"'\", '남', '##두', '##인', '##간', '##포', '##탄', \"'\", '으로', '자칭', '##되', '##었', '##다', '.', ')', '그', '때문', '##에', '남', '##두', '##성', '##권', '##의', '유', '##파', '##는', '총', '108', '##파', '##로', '나뉘', '##게', '되', '##었', '##는데', ',', '그', '중', '##에서', '가장', '강한', '남', '##두', '##의', '여섯', '유', '##파', '##인', \"'\", '남', '##두', '##육', '##성', \"'\", '(', '南', '[UNK]', '[UNK]', '[UNK]', ')', '이', '존재', '##하', '##며', '이', '##들', '##은', '자', '##모', '##성', '유리', '##아', '##와', '같', '##은', '위치', '##인', '장군', '##에', '해당', '##된', '##다', '.']\n",
      "['慈'] 자강도(慈江道)는 조선민주주의인민공화국의 북부 압록강 중류에 있는 도이다.\n",
      "['자', '##강', '##도', '(', '[UNK]', '江', '道', ')', '는', '조선', '##민주', '##주의', '##인', '##민', '##공화국', '##의', '북부', '압록강', '중', '##류', '##에', '있', '##는', '도이', '##다', '.']\n",
      "['持'] 이 사이, 다카우지는 지묘인 계통(持明院統)의 고곤 상황과 연락하여 교토 입경의 정당성 확보에 조력하였다.\n",
      "['이', '사이', ',', '다카', '##우', '##지', '##는', '지', '##묘', '##인', '계통', '(', '[UNK]', '明', '院', '統', ')', '의', '고', '##곤', '상황', '##과', '연락', '##하여', '교토', '입', '##경', '##의', '정당', '##성', '확보', '##에', '조력', '##하', '##였', '##다', '.']\n",
      "['웸'] 이번 결정에 따라 FA도 \"런던 웸블리 스타디움에서 열릴 예정이던 잉글랜드 대표팀의 이탈리아, 덴마크와의 친선경기 2연전이 취소됐다\"면서 \"티켓은 환불될 것이다\"고 밝혔다.\n",
      "['이번', '결정', '##에', '따라', 'FA', '##도', '\"', '런던', '[UNK]', '스타디움', '##에서', '열릴', '예정', '##이', '##던', '잉글랜드', '대표', '##팀', '##의', '이탈리아', ',', '덴마크', '##와', '##의', '친선', '##경기', '2', '##연', '##전', '##이', '취소', '##됐', '##다', '\"', '면서', '\"', '티켓', '##은', '환불', '##될', '것', '##이다', '\"', '고', '밝혔', '##다', '.']\n",
      "['켐'] 부제서품받을 즈음 웨슬리는 토마스 아 켐피스의 《그리스도를 본받아》와 제러미 테일러의 《거룩한 삶과 거룩한 죽음(\"Rules and Exercises for Holy Living and Holy Dying)\"》이라는 글을 읽고 깊은 감명을 받았다.\n",
      "['부제', '##서', '##품', '##받', '##을', '즈음', '웨슬리', '##는', '토마스', '아', '[UNK]', '《', '그리스도', '##를', '본받', '##아', '》', '와', '제', '##러미', '테일러', '##의', '《', '거룩', '##한', '삶', '##과', '거룩', '##한', '죽음', '(', '\"', 'R', '##ule', '##s', 'and', 'Ex', '##erc', '##ise', '##s', 'for', 'H', '##ol', '##y', 'Li', '##v', '##ing', 'and', 'H', '##ol', '##y', 'D', '##y', '##ing', ')', '\"', '》', '이라', '##는', '글', '##을', '읽', '##고', '깊', '##은', '감명', '##을', '받', '##았', '##다', '.']\n",
      "['黎', '葉', '縣', '博', '望'] 202년 조조가 여양(黎陽, 지금의 허난성 쉰 현)에서 원담·원상 형제와 일진일퇴를 거듭할 동안 유비가 섭현(葉縣)까지 치고 올라간 후 하후돈과 우금을 박망(博望)으로 유인하여 큰 피해를 주었다.\n",
      "['202', '##년', '조조', '##가', '여', '##양', '(', '[UNK]', '陽', ',', '지금', '##의', '허', '##난', '##성', '쉰', '현', ')', '에서', '원', '##담', '·', '원상', '형제', '##와', '일진', '##일', '##퇴', '##를', '거듭', '##할', '동안', '유비', '##가', '섭', '##현', '(', '[UNK]', '[UNK]', ')', '까지', '치고', '올라간', '후', '하', '##후', '##돈', '##과', '우', '##금', '##을', '박', '##망', '(', '[UNK]', '[UNK]', ')', '으로', '유인', '##하여', '큰', '피해', '##를', '주', '##었', '##다', '.']\n",
      "['泰', '完'] 김태완(金泰完, 1971년 6월 1일 ~)은 전 축구 선수출신 축구 지도자이다.\n",
      "['김태', '##완', '(', '金', '[UNK]', '[UNK]', ',', '1971', '##년', '6', '##월', '1', '##일', '~', ')', '은', '전', '축구', '선수', '##출', '##신', '축구', '지도자', '##이다', '.']\n",
      "['ノ'] 그 해에 요리토모는 이세 신궁에 헤이케 타도의 발원문을 바치고, 후지와라노 히데히라의 조복을 기원하며 에노시마(江ノ島)에 변재천을 권청한다.\n",
      "['그', '해', '##에', '요리', '##토', '##모', '##는', '이세', '신', '##궁', '##에', '헤이', '##케', '타도', '##의', '발원', '##문', '##을', '바치', '##고', ',', '후지', '##와', '##라노', '히', '##데', '##히', '##라', '##의', '조', '##복', '##을', '기원', '##하', '##며', '에', '##노', '##시마', '(', '江', '[UNK]', '島', ')', '에', '변', '##재', '##천', '##을', '권', '##청', '##한다', '.']\n",
      "['카'] 롤링 스톤의 롭 셰필드는 이 앨범을 두고 \"카녜이 웨스트의 앨범 중 가장 훌륭하다고 평하며, 여태까지 들은 앨범 중에서 가장 폭넓은 영향을 끼친 앨범이며 그 어떤 음악가일지라도 이렇게 어둡고도 기묘한 음악을 만들 수 없을 것\"이라고 말했다.\n",
      "['롤링', '스톤', '##의', '롭', '셰', '##필드', '##는', '이', '앨범', '##을', '두고', '\"', '[UNK]', '웨스트', '##의', '앨범', '중', '가장', '훌륭', '##하', '##다고', '평', '##하', '##며', ',', '여태', '##까', '##지', '들', '##은', '앨범', '중', '##에서', '가장', '폭넓', '##은', '영향', '##을', '끼친', '앨범', '##이', '##며', '그', '어떤', '음악가', '##일', '##지', '##라도', '이렇게', '어둡', '##고', '##도', '기묘', '##한', '음악', '##을', '만들', '수', '없', '##을', '것', '\"', '이라', '##고', '말', '##했', '##다', '.']\n",
      "['스'] 라본티의 저주는 1972년 독일 가르미슈파르텐키르헨에서 열렸던 에어 캐나다 실버 브룸 대회(현재의 세계 컬링 선수권 대회) 결승전에서, 미국 팀의 스킵인 로버트 라본티(Robert LaBonte)가 실수한 것을 노려 우승한 캐나다가 1980년 대회에서 우승할 때까지 세계 컬링 선수권 대회에서 계속 우승하지 못한 불운을 일컫는 말이다.\n",
      "['라', '##본', '##티', '##의', '저주', '##는', '1972', '##년', '독일', '가르', '##미', '##슈', '##파', '##르', '##텐', '##키', '##르', '##헨', '##에서', '열렸', '##던', '에어', '캐나다', '실버', '브', '##룸', '대회', '(', '현재', '##의', '세계', '컬링', '선수', '##권', '대회', ')', '결승전', '##에서', ',', '미국', '팀', '##의', '[UNK]', '로버트', '라', '##본', '##티', '(', 'Robert', 'La', '##B', '##ont', '##e', ')', '가', '실수', '##한', '것', '##을', '노려', '우승', '##한', '캐나다', '##가', '1980', '##년', '대회', '##에서', '우승', '##할', '때', '##까', '##지', '세계', '컬링', '선수', '##권', '대회', '##에서', '계속', '우승', '##하', '##지', '못한', '불운', '##을', '일컫', '##는', '말', '##이다', '.']\n",
      "['웸'] 공연에 관한 브라이언 메이와 로저 테일러의 인터뷰(28분 분량), 투어 관계자들과의 인터뷰(19분 분량), 공연에 관한 다큐멘터리(30분 분량), 지금은 철거된 웸블리 스타디움을 기념하는 영상(5분 분량)으로 구성되어 있다.\n",
      "['공연', '##에', '관한', '브라이언', '메이', '##와', '로저', '테일러', '##의', '인터뷰', '(', '28', '##분', '분량', ')', ',', '투어', '관계자', '##들', '##과', '##의', '인터뷰', '(', '19', '##분', '분량', ')', ',', '공연', '##에', '관한', '다큐멘터리', '(', '30', '##분', '분량', ')', ',', '지금', '##은', '철거', '##된', '[UNK]', '스타디움', '##을', '기념', '##하', '##는', '영상', '(', '5', '##분', '분량', ')', '으로', '구성', '##되', '##어', '있', '##다', '.']\n",
      "['精'] 오리온은 배스킨라빈스 콜라보 메뉴 출시를 기념해 '배달의 민족', '요기요' 등 배달 어플을 통해 배스킨라빈스 케이크를 구매하는 소비자들을 대상으로 초코파이 신제품 '찰 초코파이精 인절미' 기획 패키지 증정 이벤트를 진행 예정이다.\n",
      "['오리온', '##은', '배', '##스', '##킨', '##라', '##빈', '##스', '콜라보', '메뉴', '출시', '##를', '기념', '##해', \"'\", '배달', '##의', '민족', \"'\", ',', \"'\", '요기', '##요', \"'\", '등', '배달', '어플', '##을', '통해', '배', '##스', '##킨', '##라', '##빈', '##스', '케이크', '##를', '구매', '##하', '##는', '소비자', '##들', '##을', '대상', '##으로', '초코파이', '신', '##제품', \"'\", '찰', '초코파이', '[UNK]', '인절미', \"'\", '기획', '패키지', '증정', '이벤트', '##를', '진행', '예정', '##이다', '.']\n",
      "['御', '牧', '兼', '顕'] 미마키 가네카타(御牧兼顕) 군세가 막고 있는 사이에 미쓰히데는 전선 후방의 슈류지 성으로 퇴각했지만 주력이던 사이토 부대가 무너져 달아나고 전선을 이탈, 구로다 요시타카 등의 부대와 교전하던 마쓰다 마사치카, 퇴각하는 후미의 방어를 맡은 이세 사다오키 등이 난전 중 전사하는 등 막대한 타격을 받았다.\n",
      "['미', '##마', '##키', '가', '##네', '##카', '##타', '(', '[UNK]', '[UNK]', '[UNK]', '[UNK]', ')', '군', '##세', '##가', '막', '##고', '있', '##는', '사이', '##에', '미쓰', '##히', '##데', '##는', '전선', '후방', '##의', '슈', '##류', '##지', '성', '##으로', '퇴각', '##했', '##지만', '주력', '##이', '##던', '사이', '##토', '부대', '##가', '무너져', '달아나', '##고', '전선', '##을', '이탈', ',', '구로', '##다', '요시', '##타', '##카', '등', '##의', '부대', '##와', '교전', '##하', '##던', '마쓰', '##다', '마사', '##치', '##카', ',', '퇴각', '##하', '##는', '후미', '##의', '방어', '##를', '맡', '##은', '이세', '사', '##다오', '##키', '등', '##이', '난', '##전', '중', '전사', '##하', '##는', '등', '막대', '##한', '타격', '##을', '받', '##았', '##다', '.']\n",
      "['陵'] 그는 고려 인종(재위, 1122년 ~ 1146) 때 중서사인좌복야를 지냈는데, 만년에 낙향하여 강릉(江陵) 우계현에 정착하였다.\n",
      "['그', '##는', '고려', '인종', '(', '재위', ',', '112', '##2', '##년', '~', '114', '##6', ')', '때', '중', '##서', '##사인', '##좌', '##복', '##야', '##를', '지냈', '##는데', ',', '만년', '##에', '낙', '##향', '##하여', '강릉', '(', '江', '[UNK]', ')', '우', '##계', '##현', '##에', '정착', '##하', '##였', '##다', '.']\n",
      "['･'] 북구는 “25일 오후 4시부터 북구청 복지누리동에서 승강기 사고 발생 시 신속한 사고대응 능력 향상과 이용객 안전의식 제고를 위해 ‘2019 승강기 사고대응 민･관 합동훈련을 실시한다”고 24일 밝혔다.\n",
      "['북구', '##는', '“', '25', '##일', '오후', '4', '##시', '##부터', '북구', '##청', '복지', '##누리', '##동', '##에서', '승강기', '사고', '발생', '시', '신속', '##한', '사고', '##대', '##응', '능력', '향상', '##과', '이용객', '안전', '##의식', '제고', '##를', '위해', '‘', '2019', '승강기', '사고', '##대', '##응', '민', '[UNK]', '관', '합동', '##훈련', '##을', '실시', '##한다', '”', '고', '24', '##일', '밝혔', '##다', '.']\n",
      "['容'] 김구용(金九容, 1338년 ~ 1384년)은 고려 후기의 문신으로 김방경의 고손자이다.\n",
      "['김구', '##용', '(', '金', '九', '[UNK]', ',', '133', '##8', '##년', '~', '138', '##4', '##년', ')', '은', '고려', '후기', '##의', '문신', '##으로', '김', '##방', '##경', '##의', '고', '##손', '##자', '##이다', '.']\n",
      "['쑨'] 1925년 베이징에서 쑨원이 암으로 사망하였다.\n",
      "['1925', '##년', '베이징', '##에서', '[UNK]', '암', '##으로', '사망', '##하', '##였', '##다', '.']\n",
      "['셧'] 정승화․박지현(이상 3년), 손예령․최승리(이상 1년)가 출격한 순천여고 양궁팀은 16강전에서 충남선발(홍성여고)을 6:0으로 셧아웃시키며 기분좋은 출발을 알린 뒤 8강전에서 ‘호남 라이벌’인 광주선발(광주체고)을 맞아 엎치락뒤치락하는 접전 끝에 5:4의 신승을 거두고 4강에 진출했다.\n",
      "['정승', '##화', '․', '박지', '##현', '(', '이상', '3', '##년', ')', ',', '손', '##예', '##령', '․', '최승', '##리', '(', '이상', '1', '##년', ')', '가', '출격', '##한', '순천', '##여', '##고', '양궁', '##팀', '##은', '16', '##강', '##전', '##에서', '충남', '##선', '##발', '(', '홍성', '##여', '##고', ')', '을', '6', ':', '0', '##으로', '[UNK]', '기분', '##좋', '##은', '출발', '##을', '알린', '뒤', '8', '##강', '##전', '##에서', '‘', '호남', '라이벌', '’', '인', '광주', '##선', '##발', '(', '광주', '##체', '##고', ')', '을', '맞아', '엎', '##치락', '##뒤', '##치락', '##하', '##는', '접전', '끝', '##에', '5', ':', '4', '##의', '신승', '##을', '거두', '##고', '4', '##강', '##에', '진출', '##했', '##다', '.']\n",
      "['勢', '津'] 특히 차남 지치부노미야의 비였던 세쓰코(勢津子) 비를 마음에 들어하여 서로 친교가 깊었고, 매년 3월 3일 히나마쓰리마다 세쓰코 비가 시집올 때 가져온 히나 인형을 저택에 장식해놓고 그것을 데이메이 황후에게 보이곤 했다고 한다.\n",
      "['특히', '차남', '지치', '##부', '##노미', '##야', '##의', '비', '##였', '##던', '세', '##쓰', '##코', '(', '[UNK]', '[UNK]', '子', ')', '비', '##를', '마음', '##에', '들어', '##하여', '서로', '친', '##교', '##가', '깊', '##었', '##고', ',', '매년', '3', '##월', '3', '##일', '히', '##나', '##마', '##쓰', '##리', '##마다', '세', '##쓰', '##코', '비', '##가', '시집', '##올', '때', '가져온', '히', '##나', '인형', '##을', '저택', '##에', '장식', '##해', '##놓', '##고', '그것', '##을', '데이', '##메이', '황후', '##에', '##게', '보이', '##곤', '했', '##다고', '한다', '.']\n",
      "['횃', '횃'] 횃불 트리니티 신학교 총장, 신동아학원 이사장을 맡으며 전주대학교, 한동대학교, 횃불트리니티 신학교 운영에 직 간접으로 참여하며 한국교회에 기독교학교운동을 저변확대 시켰다.\n",
      "['[UNK]', '트리', '##니티', '신학교', '총장', ',', '신동', '##아', '##학', '##원', '이사장', '##을', '맡', '##으며', '전주', '##대', '##학교', ',', '한동', '##대', '##학교', ',', '[UNK]', '신학교', '운영', '##에', '직', '간접', '##으로', '참여', '##하', '##며', '한국', '##교회', '##에', '기독교', '##학교', '##운동', '##을', '저변', '##확', '##대', '시켰', '##다', '.']\n",
      "['珅'] 더군다나 조정은 건륭제의 사돈이자 이미 30여년간 조정을 장악하던 수석군기대신 겸 대학사 화신(和珅)이 시시각각 보고를 가경제 대신 먼저 건륭제에게 올렸기 때문이다.\n",
      "['더군다나', '조정', '##은', '건', '##륭', '##제', '##의', '사돈', '##이', '##자', '이미', '30', '##여', '##년', '##간', '조정', '##을', '장악', '##하', '##던', '수석', '##군', '##기', '##대', '##신', '겸', '대학', '##사', '화신', '(', '和', '[UNK]', ')', '이', '시시각각', '보고', '##를', '가', '##경제', '대신', '먼저', '건', '##륭', '##제', '##에', '##게', '올렸', '##기', '때문', '##이다', '.']\n",
      "['達'] 1296년 중국 원나라의 사신으로 주달관(周達觀)(1266년~1346년)이 앙코르에 도착하게 된다.\n",
      "['129', '##6', '##년', '중국', '원나라', '##의', '사신', '##으로', '주', '##달', '##관', '(', '周', '[UNK]', '觀', ')', '(', '126', '##6', '##년', '~', '134', '##6', '##년', ')', '이', '앙코르', '##에', '도착', '##하', '##게', '된다', '.']\n",
      "['區'] 김 후보는 \"센터직원들과 자원봉사 대학생들의 헌신적인 아동사랑과 노력에 감사하다\"며 \"복지사등 종사자 인력증원△구(區) 보조금 현실화 △다양한 문화프로그램 확충 등을 위해 입법과 예산확보에 힘쓰겠다\"고 강조했다.\n",
      "['김', '후보', '##는', '\"', '센터', '##직원', '##들', '##과', '자원', '##봉사', '대학생', '##들', '##의', '헌신', '##적인', '아동', '##사랑', '##과', '노력', '##에', '감사', '##하', '##다', '\"', '며', '\"', '복지', '##사', '##등', '종사자', '인력', '##증', '##원', '##△', '##구', '(', '[UNK]', ')', '보조금', '현실', '##화', '△', '##다', '##양', '##한', '문화', '##프로', '##그램', '확충', '등', '##을', '위해', '입법', '##과', '예산', '##확', '##보', '##에', '힘쓰', '##겠다', '\"', '고', '강조', '##했', '##다', '.']\n",
      "['珍'] 미진부(未珍夫, 525년 ~, 풍월주 ~ 548년)는 신라의 장군으로, 진흥왕 때 거칠부와 함께 고구려를 공격하여 10개 군을 점령하였다.\n",
      "['미진', '##부', '(', '未', '[UNK]', '夫', ',', '52', '##5', '##년', '~', ',', '풍', '##월', '##주', '~', '54', '##8', '##년', ')', '는', '신라', '##의', '장군', '##으로', ',', '진흥', '##왕', '때', '거칠', '##부', '##와', '함께', '고구려', '##를', '공격', '##하여', '10', '##개', '군', '##을', '점령', '##하', '##였', '##다', '.']\n",
      "['P'] 바르바로스 하이레딘 파샤(터키어: Barbaros Hayreddin Paşa, ~ 1546년 7월 4일)는 오스만 출신의 해적(Cossair)으로 훗날 오스만 해군의 제독이 되었다.\n",
      "['바르', '##바로', '##스', '하이', '##레', '##딘', '파', '##샤', '(', '터키', '##어', ':', 'Bar', '##b', '##ar', '##os', 'H', '##ay', '##red', '##d', '##in', '[UNK]', ',', '~', '154', '##6', '##년', '7', '##월', '4', '##일', ')', '는', '오스만', '출신', '##의', '해적', '(', 'Co', '##ss', '##air', ')', '으로', '훗날', '오스만', '해군', '##의', '제독', '##이', '되', '##었', '##다', '.']\n",
      "['倡', '千', '鎰'] 제2차 진주성 전투 때 9만 3천여 명의 일본군이 진주성을 포위하여 쉴새없이 공격을 해오자, 음력 6월 22일 강희보는 창의사(倡義使) 김천일(金千鎰)에게 건의하여 원군을 요청할 사람을 보내자고 했고, 이 건의가 받아들여져 임우화가 성을 빠져나가 구원병을 청하러 가게 되었다.\n",
      "['제', '##2', '##차', '진주', '##성', '전투', '때', '9', '##만', '3', '##천', '##여', '명의', '일본군', '##이', '진주', '##성', '##을', '포위', '##하여', '쉴', '##새', '##없이', '공격', '##을', '해', '##오', '##자', ',', '음력', '6', '##월', '22', '##일', '강희', '##보', '##는', '창의', '##사', '(', '[UNK]', '義', '使', ')', '김천', '##일', '(', '金', '[UNK]', '[UNK]', ')', '에게', '건의', '##하여', '원', '##군', '##을', '요청', '##할', '사람', '##을', '보내', '##자', '##고', '했', '##고', ',', '이', '건의', '##가', '받아들여', '##져', '임', '##우', '##화가', '성', '##을', '빠져나가', '구원', '##병', '##을', '청하', '##러', '가게', '되', '##었', '##다', '.']\n",
      "['떨', '궜'] 팬들은 \"레전드 영상이다\", \"트와이스 저리 가라네\", \"밤에 침대에서 보다가 무서워서 폰 떨궜다\", \"진짜 장난 없다. 제대로 했네\", \"이 정도는 해줘야 할로윈인 거다\" 등의 반응을 보였다.\n",
      "['팬', '##들', '##은', '\"', '레전드', '영상', '##이다', '\"', ',', '\"', '트', '##와이', '##스', '저리', '가라', '##네', '\"', ',', '\"', '밤', '##에', '침대', '##에서', '보다', '##가', '무서워서', '폰', '[UNK]', '\"', ',', '\"', '진짜', '장난', '없', '##다', '.', '제대로', '했', '##네', '\"', ',', '\"', '이', '정도', '##는', '해줘', '##야', '할로', '##윈', '##인', '거', '##다', '\"', '등', '##의', '반응', '##을', '보였', '##다', '.']\n",
      "['葉'] 앞서 일본 교도통신은 영국 베팅업체 '나이사오즈'의 노벨문학상 수상자 유력 후보군에 무라카미와 다와다 요코(多和田葉子·59) 등 일본 작가 2명의 이름이 올라 있다고 전했다.\n",
      "['앞서', '일본', '교도', '##통신', '##은', '영국', '베', '##팅', '##업체', \"'\", '나이', '##사', '##오', '##즈', \"'\", '의', '노벨', '##문학', '##상', '수상자', '유력', '후보', '##군', '##에', '무라', '##카', '##미', '##와', '다', '##와', '##다', '요코', '(', '多', '和', '田', '[UNK]', '子', '·', '59', ')', '등', '일본', '작가', '2', '##명', '##의', '이름', '##이', '올라', '있', '##다고', '전했', '##다', '.']\n",
      "['雩', '號'] 또한 캠퍼스내에 민항여객기(우남호)가 위치하고 있는데, 우남호(雩南號, HL2002)는 대한민국 민항공사상 최초로 1955년 10월에 태평양 횡단비행을 한 여객기로, 지금은 보잉에 인수된 미국 맥도넬더글러스社의 DC-3 기종이다.\n",
      "['또한', '캠퍼스', '##내', '##에', '민', '##항', '##여', '##객', '##기', '(', '우', '##남', '##호', ')', '가', '위치', '##하고', '있', '##는데', ',', '우', '##남', '##호', '(', '[UNK]', '南', '[UNK]', ',', 'H', '##L', '##20', '##0', '##2', ')', '는', '대한민국', '민', '##항공', '##사상', '최초', '##로', '1955', '##년', '10', '##월', '##에', '태평양', '횡단', '##비', '##행', '##을', '한', '여객기', '##로', ',', '지금', '##은', '보잉', '##에', '인수', '##된', '미국', '맥도', '##넬', '##더', '##글', '##러스', '社', '의', 'DC', '-', '3', '기종', '##이다', '.']\n",
      "['邑', '跱'] 12월 황하 건너의 안읍(安邑, 지금의 산시성 샤 현)으로 들어간 헌제가 시중 사치(史跱)·태복 한융을 보내와 궁인, 공경 이하 관리, 부녀, 황실 물품, 수레와 말 등을 돌려달라 하기에 그렇게 하였다.\n",
      "['12', '##월', '황', '##하', '건너', '##의', '안', '##읍', '(', '安', '[UNK]', ',', '지금', '##의', '산', '##시', '##성', '샤', '현', ')', '으로', '들어간', '헌', '##제', '##가', '시중', '사치', '(', '史', '[UNK]', ')', '·', '태', '##복', '한', '##융', '##을', '보내', '##와', '궁', '##인', ',', '공경', '이하', '관리', ',', '부녀', ',', '황실', '물품', ',', '수레', '##와', '말', '등', '##을', '돌려', '##달', '##라', '하', '##기에', '그렇게', '하', '##였', '##다', '.']\n",
      "['禹'] 영시 연간(기원전 16년 ~ 기원전 13년)에 양나라 재상 우(禹)가 유립이 외가를 자주 원망하여 악담을 한다고 상주했는데, 조사 결과 유립의 짐승 같은 행위가 드러나 유립을 주살하라는 청이 들어왔다.\n",
      "['영', '##시', '연간', '(', '기원전', '16', '##년', '~', '기원전', '13', '##년', ')', '에', '양', '##나라', '재상', '우', '(', '[UNK]', ')', '가', '유', '##립', '##이', '외가', '##를', '자주', '원망', '##하여', '악', '##담', '##을', '한다고', '상주', '##했', '##는데', ',', '조사', '결과', '유', '##립', '##의', '짐승', '같', '##은', '행위', '##가', '드러나', '유', '##립', '##을', '주', '##살', '##하라', '##는', '청', '##이', '들어왔', '##다', '.']\n",
      "['査', '加', '斯'] 3월 23일 발리냐노는 국적이 다른 41명의 예수회 선교사들을 인솔해 차지아스(査加斯)호를 타고 리스본을 출발 9월 6일 고아에 부임했다.\n",
      "['3', '##월', '23', '##일', '발리', '##냐', '##노', '##는', '국적', '##이', '다른', '41', '##명', '##의', '예수', '##회', '선교사', '##들', '##을', '인솔', '##해', '차지', '##아', '##스', '(', '[UNK]', '[UNK]', '[UNK]', ')', '호', '##를', '타고', '리스', '##본', '##을', '출발', '9', '##월', '6', '##일', '고아', '##에', '부임', '##했', '##다', '.']\n",
      "['演'] 이 목판은 조선시대 세종조의 문신인 경재 하연(河演, 1376∼1453)의 시문집을 새기기 위한 책판이다.\n",
      "['이', '목판', '##은', '조선', '##시대', '세종', '##조', '##의', '문신', '##인', '경', '##재', '하', '##연', '(', '河', '[UNK]', ',', '137', '##6', '##∼', '##14', '##53', ')', '의', '시문', '##집', '##을', '새기', '##기', '위한', '책', '##판', '##이다', '.']\n",
      "['鳳'] 1946년 3월 5일 문봉제(文鳳濟) 등 월남 청년들이 주도한 집회가 성공하고, 이에 힘입어 평남동지회가 조직되고, 다시 평남동지회는 평남북 조직을 합친 평안청년회로 확대되었다.\n",
      "['1946', '##년', '3', '##월', '5', '##일', '문', '##봉', '##제', '(', '文', '[UNK]', '濟', ')', '등', '월남', '청년', '##들이', '주도', '##한', '집회', '##가', '성공', '##하고', ',', '이', '##에', '힘입', '##어', '평', '##남동', '##지', '##회', '##가', '조직', '##되', '##고', ',', '다시', '평', '##남동', '##지', '##회', '##는', '평', '##남', '##북', '조직', '##을', '합친', '평안', '##청', '##년', '##회', '##로', '확대', '##되', '##었', '##다', '.']\n",
      "['응'] 응우옌반후에는 북벌을 감행한 것으로 인해 형인 응우옌반냑과 대립하였고, 응우옌반후에도 황제를 칭했다.\n",
      "['응', '##우', '##옌', '##반', '##후', '##에', '##는', '북', '##벌', '##을', '감행', '##한', '것', '##으로', '인해', '형', '##인', '[UNK]', '대립', '##하', '##였', '##고', ',', '응', '##우', '##옌', '##반', '##후', '##에도', '황제', '##를', '칭', '##했', '##다', '.']\n",
      "['스'] 초반 9연패에도 불구하고 6강 플레이오프에 진출했고 서울 SK 나이츠를 상대로 스윕을 하고 4강 플레이오프에 진출해서 원주 동부 프로미와 경기에서 5차전까지 가는 혈투끝에 결국 패배하며 4위로 시즌을 마쳤다.\n",
      "['초반', '9', '##연', '##패', '##에도', '불구', '##하고', '6', '##강', '플레이오프', '##에', '진출', '##했', '##고', '서울', 'SK', '나이', '##츠', '##를', '상대', '##로', '[UNK]', '하고', '4', '##강', '플레이오프', '##에', '진출', '##해서', '원주', '동부', '프로', '##미', '##와', '경기', '##에서', '5', '##차', '##전', '##까', '##지', '가', '##는', '혈', '##투', '##끝', '##에', '결국', '패배', '##하', '##며', '4', '##위', '##로', '시즌', '##을', '마쳤', '##다', '.']\n",
      "['黑'] 1604년부터 심당길 등은 조선식 가마를 만들어 구로몬[黑物]이라는 조선 분황사기 비슷한 것을 만들었다.\n",
      "['160', '##4', '##년', '##부터', '심', '##당', '##길', '등', '##은', '조선', '##식', '가마', '##를', '만들', '##어', '구로', '##몬', '[', '[UNK]', '物', ']', '이라', '##는', '조선', '분', '##황', '##사기', '비슷', '##한', '것', '##을', '만들', '##었', '##다', '.']\n",
      "['언'] 같은 날 이하늬 씨는 결국 \"선배, 동료분들을 축하해주고 싶은 마음에 올린 피드에 마음 불편하시거나 언짢으신 분들이 계셨다면 죄송하다. 개인의 감격을 고국에 있는 분들과 함께 나누고 싶다는 생각이 앞섰던 것 같다\"며 사과문을 게재했다.\n",
      "['같', '##은', '날', '이하', '##늬', '씨', '##는', '결국', '\"', '선배', ',', '동료', '##분', '##들', '##을', '축하', '##해', '##주', '##고', '싶', '##은', '마음', '##에', '올린', '피드', '##에', '마음', '불편', '##하', '##시', '##거나', '[UNK]', '분', '##들이', '계셨', '##다면', '죄송', '##하', '##다', '.', '개인', '##의', '감격', '##을', '고국', '##에', '있', '##는', '분', '##들', '##과', '함께', '나누', '##고', '싶', '##다는', '생각', '##이', '앞섰', '##던', '것', '같', '##다', '\"', '며', '사과문', '##을', '게재', '##했', '##다', '.']\n",
      "['좨', '주', '·', '찬'] 이해에 이조판서가 되었으나 남인들의 계속된 공격으로 곧 사퇴하였고, 이후 왕으로부터 의정부 우참찬·사헌부 대사헌·좌참찬 겸 성균관 좨주·찬선 등에 여러 차례 임명되었으나 3년제를 주장하며 기년제를 잘못이라 규탄하는 남인들의 거듭되는 공격과 탄핵 상소로, 출사하라는 왕의 거듭된 부탁을 받고도 계속 사퇴하였다.\n",
      "['이해', '##에', '이조', '##판', '##서', '##가', '되', '##었', '##으나', '남인', '##들', '##의', '계속', '##된', '공격', '##으로', '곧', '사퇴', '##하', '##였', '##고', ',', '이후', '왕', '##으로', '##부터', '의정부', '우', '##참', '##찬', '·', '사', '##헌', '##부', '대사', '##헌', '·', '좌', '##참', '##찬', '겸', '성균관', '[UNK]', '·', '찬', '##선', '등', '##에', '여러', '차례', '임명', '##되', '##었', '##으나', '3', '##년', '##제', '##를', '주장', '##하', '##며', '기', '##년', '##제', '##를', '잘못', '##이', '##라', '규탄', '##하', '##는', '남인', '##들', '##의', '거듭', '##되', '##는', '공격', '##과', '탄핵', '상소', '##로', ',', '출사', '##하라', '##는', '왕', '##의', '거듭', '##된', '부탁', '##을', '받', '##고', '##도', '계속', '사퇴', '##하', '##였', '##다', '.']\n",
      "['朱'] 허소가 ‘착융은 명분을 돌아보는 사람이 아닌 반면 주문명(朱文明)은 사람을 잘 믿으니 마땅히 주의하게 해야 한다’고 했는데 과연 착융이 주호를 죽이고 예장을 장악하였다.\n",
      "['허', '##소', '##가', '‘', '착', '##융', '##은', '명분', '##을', '돌아보', '##는', '사람', '##이', '아닌', '반면', '주문', '##명', '(', '[UNK]', '文', '明', ')', '은', '사람', '##을', '잘', '믿', '##으니', '마땅히', '주의', '##하', '##게', '해야', '한다', '’', '고', '했', '##는데', '과연', '착', '##융', '##이', '주', '##호', '##를', '죽이', '##고', '예', '##장', '##을', '장악', '##하', '##였', '##다', '.']\n",
      "['쑨'] 쑨양은 지난 2012년 런던 올림픽에서 오랫동안 깨어지지 않았던 호주의 Grannt Hackett 선수의 기록을 깨면서 세계의 주목을 받게 되었다.\n",
      "['[UNK]', '지난', '2012', '##년', '런던', '올림픽', '##에서', '오랫동안', '깨', '##어지', '##지', '않', '##았', '##던', '호주', '##의', 'Gr', '##ann', '##t', 'H', '##ack', '##ett', '선수', '##의', '기록', '##을', '깨', '##면서', '세계', '##의', '주목', '##을', '받', '##게', '되', '##었', '##다', '.']\n",
      "['아'] 카를로스 살제도는 프랑스 아르카숑에서 1885년 4월 6일에 샤를 무아즈 레옹 살제도 (Charles Moise Leon Salzedo)이란 이름으로 태어났다.\n",
      "['카를로스', '살', '##제', '##도', '##는', '프랑스', '[UNK]', '188', '##5', '##년', '4', '##월', '6', '##일', '##에', '샤를', '무', '##아', '##즈', '레', '##옹', '살', '##제', '##도', '(', 'Char', '##les', 'Mo', '##ise', 'Le', '##on', 'S', '##al', '##ze', '##d', '##o', ')', '이란', '이름', '##으로', '태어났', '##다', '.']\n",
      "['밈'] 그 외에 참석한 사람들은 보의 얼굴, 발훈의 목스, 반복된 밈의 추종자들, 에서 온 지각이 있고 움직이는 나무들이 있었다.\n",
      "['그', '외', '##에', '참석', '##한', '사람', '##들', '##은', '보', '##의', '얼굴', ',', '발', '##훈', '##의', '목', '##스', ',', '반복', '##된', '[UNK]', '추종', '##자', '##들', ',', '에서', '온', '지각', '##이', '있', '##고', '움직이', '##는', '나무', '##들이', '있', '##었', '##다', '.']\n",
      "471\n"
     ]
    }
   ],
   "metadata": {}
  },
  {
   "cell_type": "markdown",
   "source": [
    "# 🛸 한 단어로 이루어지지 않은 entity\n",
    "- 여러 단어\n",
    "- 특정 패턴이 존재하는\n",
    "- 맞추기 어려울 것 같은\n",
    "+ 위 내용을 만족하는 entity는 entity token wrap 해주는게 어떠려나?"
   ],
   "metadata": {}
  },
  {
   "cell_type": "code",
   "execution_count": 9,
   "source": [
    "for obj in df['object_entity'] :\n",
    "    d_obj = eval(obj)\n",
    "    if d_obj['type'] == 'DAT' :\n",
    "        if len(d_obj['word'].split()) > 1 :\n",
    "            print(obj)\n",
    "            test_encoced = tokenizer.encode(d_obj['word'])\n",
    "            print(test_encoced)\n",
    "            Id_to_tokens = tokenizer.convert_ids_to_tokens(test_encoced[1:-1])\n",
    "            print(Id_to_tokens)\n",
    "            break"
   ],
   "outputs": [
    {
     "output_type": "stream",
     "name": "stdout",
     "text": [
      "{'word': '1937년 4월 29일', 'start_idx': 9, 'end_idx': 20, 'type': 'DAT'}\n",
      "[0, 20533, 2440, 24, 2429, 4346, 2210, 2]\n",
      "['1937', '##년', '4', '##월', '29', '##일']\n"
     ]
    }
   ],
   "metadata": {}
  },
  {
   "cell_type": "code",
   "execution_count": null,
   "source": [],
   "outputs": [],
   "metadata": {}
  }
 ],
 "metadata": {
  "orig_nbformat": 4,
  "language_info": {
   "name": "python",
   "version": "3.8.5",
   "mimetype": "text/x-python",
   "codemirror_mode": {
    "name": "ipython",
    "version": 3
   },
   "pygments_lexer": "ipython3",
   "nbconvert_exporter": "python",
   "file_extension": ".py"
  },
  "kernelspec": {
   "name": "python3",
   "display_name": "Python 3.8.5 64-bit ('base': conda)"
  },
  "interpreter": {
   "hash": "98b0a9b7b4eaaa670588a142fd0a9b87eaafe866f1db4228be72b4211d12040f"
  }
 },
 "nbformat": 4,
 "nbformat_minor": 2
}