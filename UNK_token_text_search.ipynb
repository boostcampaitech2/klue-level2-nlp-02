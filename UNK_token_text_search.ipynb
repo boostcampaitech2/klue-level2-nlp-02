{
 "cells": [
  {
   "cell_type": "code",
   "execution_count": 62,
   "source": [
    "import pandas as pd\n",
    "\n",
    "import re\n",
    "import itertools\n",
    "from collections import Counter\n",
    "from typing import  Dict, List, Tuple\n",
    "\n",
    "from tqdm import tqdm\n",
    "from transformers import AutoTokenizer"
   ],
   "outputs": [],
   "metadata": {}
  },
  {
   "cell_type": "code",
   "execution_count": 4,
   "source": [
    "Train_csv_file = '/opt/ml/dataset/train/train.csv'\n",
    "df = pd.read_csv(Train_csv_file)\n",
    "df = df.drop_duplicates(['sentence','subject_entity','object_entity','label'])\n",
    "\n",
    "\n",
    "MODEL_NAME = \"klue/roberta-large\"\n",
    "tokenizer = AutoTokenizer.from_pretrained(MODEL_NAME)\n",
    "\n",
    "vocab = list(tokenizer.get_vocab().keys())\n",
    "unused_list = [word for word in vocab if word.startswith('[unused')]        \n",
    "print(f'unused token count: {len(unused_list)}')"
   ],
   "outputs": [
    {
     "output_type": "stream",
     "name": "stderr",
     "text": [
      "/opt/conda/lib/python3.8/site-packages/transformers/configuration_utils.py:336: UserWarning: Passing `gradient_checkpointing` to a config initialization is deprecated and will be removed in v5 Transformers. Using `model.gradient_checkpointing_enable()` instead, or if you are using the `Trainer` API, pass `gradient_checkpointing=True` in your `TrainingArguments`.\n",
      "  warnings.warn(\n"
     ]
    },
    {
     "output_type": "stream",
     "name": "stdout",
     "text": [
      "unused token count: 500\n"
     ]
    }
   ],
   "metadata": {}
  },
  {
   "cell_type": "code",
   "execution_count": 5,
   "source": [
    "# # UNK_token_string\n",
    "# unk_idx = tokenizer.get_vocab()[tokenizer.unk_token]\n",
    "# UNK_word_list = [word for sen in tqdm(df['sentence']) for word in sen.split() if tokenizer.encode(word)]\n",
    "# UNK_word_counter = Counter(UNK_word_list)"
   ],
   "outputs": [],
   "metadata": {}
  },
  {
   "cell_type": "code",
   "execution_count": 6,
   "source": [
    "from IPython.core.display import HTML\n",
    "def word_highligt_html(txt, word, color='black', highlight=None, attr=None):\n",
    "    if isinstance(word, str):\n",
    "        txt = txt.replace(word, f'<span style=\"color: {color}; background-color:{highlight}\">{word}</span>')\n",
    "    else:\n",
    "        if not isinstance(color, list):\n",
    "            color = [color] * len(word)\n",
    "        if not isinstance(highlight, list):\n",
    "            highlight = [highlight] * len(word)\n",
    "        for w, c, h in zip(word, color, highlight):\n",
    "            txt = txt.replace(w, f'<span style=\"color: {c}; background-color:{h}\">{w}</span>')\n",
    "    return txt"
   ],
   "outputs": [],
   "metadata": {}
  },
  {
   "cell_type": "code",
   "execution_count": 7,
   "source": [
    "import re\n",
    "from load_data import load_data\n",
    "train_dataset = load_data(\"/opt/ml/dataset/train/train.csv\")\n",
    "\n",
    "txt = ''\n",
    "count = 1\n",
    "label = \"per:place_of_death\"\n",
    "label_df = train_dataset[train_dataset['label']==label]\n",
    "for idx, row in label_df.iterrows():\n",
    "    sent = row['sentence']\n",
    "    subj = re.sub(\"'\", '', row['subject_entity'].strip())\n",
    "    obj = re.sub(\"'\", '', row['object_entity'].strip())\n",
    "    txt += word_highligt_html(sent, [subj, obj], ['white', 'white'],  ['#96C4ED', '#B19CD9']) + '<br/><br/>'\n",
    "    if count > 2:\n",
    "        break\n",
    "    count += 1\n",
    "HTML(txt)"
   ],
   "outputs": [
    {
     "output_type": "execute_result",
     "data": {
      "text/html": [
       "2010년 3월 29일, <span style=\"color: white; background-color:#96C4ED\">최진영</span>은 <span style=\"color: white; background-color:#B19CD9\">서울특별시 강남구</span> 논현동의 자택에서 스스로 세상을 떠났다.<br/><br/><span style=\"color: white; background-color:#96C4ED\">막시밀리아노 1세</span>(Maximiliano I, 1832년 7월 6일 오스트리아 빈 ~ 1867년 6월 19일 <span style=\"color: white; background-color:#B19CD9\">멕시코 케레타로</span> 근처)는 오스트리아의 대공이자 멕시코 제국의 황제이다.<br/><br/>을미사변 때 훈련대 병력을 동원하여 명성황후를 시해하는 데 동참했던 당시 조선훈련대 제2대대장 <span style=\"color: white; background-color:#96C4ED\">우범선</span>(禹範善)은 이후 일본에 망명하였는데, 그 후 고영근은 1898년 일본으로 건너가 우연찮게도 대한제국 조선인 망명객 출신인 윤효정과 만나 명성황후 암살 사건 관련 담화 등을 밀담하였고 결국 1903년 11월 24일 <span style=\"color: white; background-color:#B19CD9\">일본 히로시마현 구레</span>에 소재했던 자신의 객저(집)로 <span style=\"color: white; background-color:#96C4ED\">우범선</span>을 초대한 후 칼로 목과 턱을 찔러 <span style=\"color: white; background-color:#96C4ED\">우범선</span>을 살해하였다.<br/><br/>"
      ],
      "text/plain": [
       "<IPython.core.display.HTML object>"
      ]
     },
     "metadata": {},
     "execution_count": 7
    }
   ],
   "metadata": {}
  },
  {
   "cell_type": "markdown",
   "source": [
    "# 🛰️ UNK 분포"
   ],
   "metadata": {}
  },
  {
   "cell_type": "code",
   "execution_count": 8,
   "source": [
    "def UNK_word(df_col:pd.DataFrame, unk_idx:int) -> List[Tuple] :\n",
    "    UNK_word_idx = []\n",
    "    for i, word in enumerate(tqdm(df_col)) :\n",
    "        if unk_idx in tokenizer.encode(word) :\n",
    "            UNK_word_idx.append((i,word))\n",
    "    return UNK_word_idx"
   ],
   "outputs": [],
   "metadata": {}
  },
  {
   "cell_type": "code",
   "execution_count": 9,
   "source": [
    "unk_idx = tokenizer.get_vocab()[tokenizer.unk_token] # 3\n",
    "\n",
    "sub_col = df['subject_entity'].apply(eval).str['word']\n",
    "sub_UNK = UNK_word(sub_col, unk_idx)\n",
    "\n",
    "obj_col = df['object_entity'].apply(eval).str['word']\n",
    "obj_UNK = UNK_word(obj_col, unk_idx)\n",
    "\n",
    "sen_col = df['sentence']\n",
    "sen_UNK = UNK_word(sen_col, unk_idx)"
   ],
   "outputs": [
    {
     "output_type": "stream",
     "name": "stderr",
     "text": [
      "100%|██████████| 32428/32428 [00:02<00:00, 13078.06it/s]\n",
      "100%|██████████| 32428/32428 [00:02<00:00, 13339.80it/s]\n",
      "100%|██████████| 32428/32428 [00:08<00:00, 3995.40it/s]\n"
     ]
    }
   ],
   "metadata": {}
  },
  {
   "cell_type": "code",
   "execution_count": 10,
   "source": [
    "print(len(sub_UNK), len(obj_UNK), len(sen_UNK))\n",
    "print(sub_UNK[0]) # (df row index, entity)\n",
    "print(obj_UNK[0]) # (df row index, entity)\n",
    "print(sen_UNK[0]) # (df row index, senetence)"
   ],
   "outputs": [
    {
     "output_type": "stream",
     "name": "stdout",
     "text": [
      "223 282 3217\n",
      "(21, '스티브 바라캇')\n",
      "(191, '少弐氏')\n",
      "(7, '박용오(朴容旿, 1937년 4월 29일(음력 3월 19일)(음력 3월 19일) ~ 2009년 11월 4일)는 서울에서 태어난 대한민국의 기업인으로 두산그룹 회장, KBO 총재 등을 역임했다.')\n"
     ]
    }
   ],
   "metadata": {}
  },
  {
   "cell_type": "markdown",
   "source": [
    "## 🛸 한 단어로 이루어지지 않은 entity\n",
    "- 여러 단어\n",
    "- 특정 패턴이 존재하는\n",
    "- 맞추기 어려울 것 같은\n",
    "+ 위 내용을 만족하는 entity는 entity token wrap 해주는게 어떠려나?"
   ],
   "metadata": {}
  },
  {
   "cell_type": "code",
   "execution_count": 174,
   "source": [
    "for obj in df['object_entity'] :\n",
    "    d_obj = eval(obj)\n",
    "    if d_obj['type'] == 'DAT' :\n",
    "        if len(d_obj['word'].split()) > 1 :\n",
    "            print(obj)\n",
    "            test_encoced = tokenizer.encode(d_obj['word'])\n",
    "            print(test_encoced)\n",
    "            Id_to_tokens = tokenizer.convert_ids_to_tokens(test_encoced[1:-1])\n",
    "            print(Id_to_tokens)\n",
    "            break"
   ],
   "outputs": [
    {
     "output_type": "stream",
     "name": "stdout",
     "text": [
      "{'word': '1937년 4월 29일', 'start_idx': 9, 'end_idx': 20, 'type': 'DAT'}\n",
      "[0, 20533, 2440, 24, 2429, 4346, 2210, 2]\n",
      "['1937', '##년', '4', '##월', '29', '##일']\n"
     ]
    }
   ],
   "metadata": {}
  },
  {
   "cell_type": "markdown",
   "source": [
    "# 🛰️UNK으로 변하는 word 및 char 확인"
   ],
   "metadata": {}
  },
  {
   "cell_type": "code",
   "execution_count": 110,
   "source": [
    "test_encoced = tokenizer.encode(obj_UNK[13][1])\n",
    "\n",
    "print(test_encoced)\n",
    "Id_to_tokens = tokenizer.convert_ids_to_tokens(test_encoced[1:-1])\n",
    "Known_char = []\n",
    "for word in Id_to_tokens :\n",
    "    if word != tokenizer.unk_token :\n",
    "        string = word.replace('#','')\n",
    "        Known_char.append(string)"
   ],
   "outputs": [
    {
     "output_type": "stream",
     "name": "stdout",
     "text": [
      "미겔 후안 세바스티안 피녜라 에체니케\n",
      "[0, 1107, 2101, 25345, 1269, 30669, 2747, 2283, 3, 1421, 2093, 2209, 2247, 2]\n"
     ]
    }
   ],
   "metadata": {}
  },
  {
   "cell_type": "code",
   "execution_count": null,
   "source": [
    "def Convert_tokenizer_text(text:str) -> List[str]: ## text => tokenizer ids => tokens\n",
    "    ID_encoced = tokenizer.encode(text) ## text to ids\n",
    "    ID_to_tokens = tokenizer.convert_ids_to_tokens(ID_encoced[1:-1]) ## ids to token\n",
    "    return ID_to_tokens\n",
    "\n",
    "def subword_comparison(wordpiece:List) -> List[str]: ## subword # 제거용\n",
    "    Known_char = []\n",
    "    for subword in wordpiece :\n",
    "        if subword == tokenizer.unk_token :\n",
    "            Known_char.append(tokenizer.unk_token)\n",
    "        else :\n",
    "            string = subword.replace('#','')\n",
    "            Known_char.extend(string)\n",
    "    return Known_char\n",
    "\n",
    "\n",
    "def UNK_word_and_chr(text:str) -> Tuple[List[str], List[str]]:\n",
    "    word_UNK_list = []\n",
    "    sub_word_UNK_list = []\n",
    "    \n",
    "    wordpieces_tokens = Convert_tokenizer_text(text)\n",
    "\n",
    "    words_list = text.split()\n",
    "    tokens_list = tokenizer.convert_tokens_to_string(wordpieces_tokens).split()\n",
    "    for word, token in zip(words_list, tokens_list) :\n",
    "        if word != token :\n",
    "            UNK_ID_encoded = tokenizer.encode(token)[1:-1]\n",
    "            if UNK_ID_encoded == [unk_idx] :\n",
    "                word_UNK_list.append(word)\n",
    "            else :\n",
    "                subwordpieces_ID_encoded = Convert_tokenizer_text(word)\n",
    "                Known_subword = subword_comparison(subwordpieces_ID_encoded)\n",
    "                for sub_char, NK_char in zip(word, Known_subword) :\n",
    "                    if sub_char != NK_char :\n",
    "                        sub_word_UNK_list.append(sub_char)\n",
    "    return word_UNK_list, sub_word_UNK_list"
   ],
   "outputs": [],
   "metadata": {}
  },
  {
   "cell_type": "code",
   "execution_count": 84,
   "source": [
    "txt = ''\n",
    "count = 1\n",
    "for idx, sen in sen_UNK :\n",
    "    merged_UNK = list(itertools.chain(*UNK_word_and_chr(sen)))\n",
    "    UNK_len = len(merged_UNK)\n",
    "    txt += word_highligt_html(sen, merged_UNK, ['white']*UNK_len,  ['#96C4ED']*UNK_len) + '<br/><br/>'\n",
    "    if count > 50:\n",
    "        break\n",
    "    count += 1\n",
    "HTML(txt)"
   ],
   "outputs": [
    {
     "output_type": "execute_result",
     "data": {
      "text/html": [
       "박용오(朴<span style=\"color: white; background-color:#96C4ED\">容</span><span style=\"color: white; background-color:#96C4ED\">旿</span>, 1937년 4월 <span style=\"color: white; background-color:#96C4ED\">29일(음력</span> 3월 19일)(음력 3월 19일) ~ 2009년 11월 4일)는 서울에서 태어난 대한민국의 기업인으로 두산그룹 회장, KBO 총재 등을 역임했다.<br/><br/>2010년에는 아시아 가수 최초로 마이클 잭슨의 곡을 리메이크하였는데 당시 마이클 잭슨과 함께 작업했던 세계적인 뮤지션 스티브 <span style=\"color: white; background-color:#96C4ED\">바라캇(Steve</span> Barakatt)과 마이클 잭슨 곡 \"You are not alone\"을 작업해 화제가 되었다.<br/><br/>(KIA 내야수 그, 투수 이동현, 외야수 김경언 <span style=\"color: white; background-color:#96C4ED\">↔</span> <span style=\"color: white; background-color:#96C4ED\">한화</span> 투수 안영명, 박성호, 외야수 김다원). 이 트레이드 상대 중 안영명은 이듬해 이범호의 보상 선수로 팀에 복귀했다.<br/><br/>진도군은 진도개를 보기 위해 찾아온 관람객들에게 더욱 흥미롭고 즐거움을 선사하기 위해 ▲팔백리길을 돌아온 백구 생가 토피어리 조형물 ▲어로(<span style=\"color: white; background-color:#96C4ED\">犬</span>수영장)수렵장 ▲진도개 <span style=\"color: white; background-color:#96C4ED\">애견</span> 캠핑장 등도 운영하고 있다.<br/><br/>백한성(白漢成, 水原<span style=\"color: white; background-color:#96C4ED\">鶴</span>人, 1899년 6월 15일 조선 충청도 <span style=\"color: white; background-color:#96C4ED\">공주</span> 출생 ~ 1971년 10월 13일 대한민국 서울에서 별세.)은 대한민국의 정치가이며 법조인이다.<br/><br/>헌강왕(憲<span style=\"color: white; background-color:#96C4ED\">康</span>王, ~ 886년, <span style=\"color: white; background-color:#96C4ED\">재위:</span> 875년 ~ 886년)은 신라의 제49대 왕이다.<br/><br/>2009년 10월 22일, 사비올라는 5-0으로 이긴 에버턴과의 UEFA 유로파리그 경기에서 2골을 추가해 5-0 승리를 견인했고, (그는 2-0으로 이긴 리버풀과의 2번째 경기에서도 득점을 올렸다.) 6-1 대승을 거둔 나시오날과의 나흘 뒤 \"독수리 군단\" (<span style=\"color: white; back<span style=\"color: white; backgro<span style=\"color: white; background-color:#96C4ED\">u</span>nd-color:#96C4ED\">g</span>ro<span style=\"color: white; background-color:#96C4ED\">u</span>nd-color:#96C4ED\">Á</span><span style=\"color: white; backgro<span style=\"color: white; background-color:#96C4ED\">u</span>nd-color:#96C4ED\">g</span><span style=\"color: white; background-color:#96C4ED\">u</span>ias)의 프리메이라리가 경기에서도 2골을 기록했다.<br/><br/><span style=\"color: white; background-color:#96C4ED\">쇼니</span> 씨(<span style=\"color: white; background-color:#96C4ED\"><span style=\"color: white; background-color:#96C4ED\">少</span></span><span style=\"color: white; background-color:#96C4ED\"><span style=\"color: white; background-color:#96C4ED\">弐</span></span>氏)의 8대 <span style=\"color: white; background-color:#96C4ED\">당주로</span> <span style=\"color: white; background-color:#96C4ED\">쇼니</span> 요리히사(<span style=\"color: white; background-color:#96C4ED\"><span style=\"color: white; background-color:#96C4ED\">少</span></span><span style=\"color: white; background-color:#96C4ED\"><span style=\"color: white; background-color:#96C4ED\">弐</span></span><span style=\"color: white; background-color:#96C4ED\">頼</span><span style=\"color: white; background-color:#96C4ED\">尚</span>)의 둘째 아들이다.<br/><br/>박승원(朴<span style=\"color: white; background-color:#96C4ED\">陞</span>原, 1965년 2월 <span style=\"color: white; background-color:#96C4ED\">22일</span> ~)은 대한민국의 정치인이다.<br/><br/>박흥식(朴<span style=\"color: white; background-color:#96C4ED\">興</span><span style=\"color: white; background-color:#96C4ED\">植</span>, 1903년 9월 <span style=\"color: white; background-color:#96C4ED\">26일(1903년</span> 음력 8월 6일)(1903년 음력 8월 6일) 대한제국 평안남도 용강 출생 - 1994년 5월 10일 대한민국 서울에서 별세.)은 일제 강점기의 대표적인 기업인이다.<br/><br/>바투의 형제 베르케하에서, <span style=\"color: white; background-color:#96C4ED\">킵차크</span> 칸국은 베르크 칸이 바그다드 전투와 칼리프 알 무스타으심을 살해한 것으로 경멸했던 훌라구 칸이 다스린 일 칸국의 친척들과 분쟁에 휩싸인다.<br/><br/>유한굉(<span style=\"color: white; background-color:#96C4ED\">劉</span>漢<span style=\"color: white; background-color:#96C4ED\">宏</span>, Liu <span style=\"color: white; background-color:#96C4ED\">Hanhong,</span> ~ 887년)은 중국 당나라 말기에 활약했던 군벌로, 당초에는 당나라에 반기를 들었으나, 후에 당나라의 관직을 받고 의승군 절도사(義<span style=\"color: white; background-color:#96C4ED\">勝</span>軍節度使, 본거지는 지금의 저장 성 사오싱 시)로서 절강 동부 <span style=\"color: white; background-color:#96C4ED\">일대를</span> 지배하였다.<br/><br/>또한 비문에는 사무드라굽타가 비슈누파 힌두교 신자라는 내용이 언급되어 있는데, 비문에 따르면 사무드라굽타는 전쟁에서 승리할 때마다 베다 시대의 왕들이 큰 승리를 <span style=\"color: white; background-color:#96C4ED\">거뒸을</span> 때 거행했던 마제인 아슈바메다를 비롯한 다양한 힌두교 의식들을 수행하였다고 한다.<br/><br/>한편 김성수는 경성방직의 초대사장에 박영효(朴<span style=\"color: white; background-color:#96C4ED\">泳</span><span style=\"color: white; background-color:#96C4ED\">孝</span>)를 영입하였는데, 이는 <span style=\"color: white; background-color:#96C4ED\">그가</span> <span style=\"color: white; background-color:#96C4ED\">당대의</span> 거물친일파 박영효를 끌어들인 것은, 박영효를 '얼굴마담'으로 내세워 총독부와 조선 내 유지세력들을 사업에 끌어들이려는 의도에서였다고 풀이할 수 있다.<br/><br/>신의손(<span style=\"color: white; background-color:#96C4ED\">申</span><span style=\"color: white; background-color:#96C4ED\">宜</span>孫, 1960년 <span style=\"color: white; background-color:#96C4ED\">1월</span> <span style=\"color: white; background-color:#96C4ED\">12일</span> ~)은 러시아계 한국인 축구 선수로, 원래 이름은 발레리 콘스탄치노비치 사리체프(Valeriy Konstatinovich Sarychev)이며 소비에트 연방 타지크 소비에트 사회주의 공화국(현재 타지키스탄) <span style=\"color: white; background-color:#96C4ED\">두</span>샨베 출신이다.<br/><br/>본래 하후(<span style=\"color: white; background-color:#96C4ED\"><span style=\"color: white; background-color:#96C4ED\">夏</span></span><span style=\"color: white; background-color:#96C4ED\"><span style=\"color: white; background-color:#96C4ED\">侯</span></span>)씨로, 하후돈(<span style=\"color: white; background-color:#96C4ED\"><span style=\"color: white; background-color:#96C4ED\">夏</span></span><span style=\"color: white; background-color:#96C4ED\"><span style=\"color: white; background-color:#96C4ED\">侯</span></span><span style=\"color: white; background-color:#96C4ED\">惇</span>)과 <span style=\"color: white; background-color:#96C4ED\">하후연의</span> <span style=\"color: white; background-color:#96C4ED\">숙부였으나</span> 환관인 십상시 조등(<span style=\"color: white; background-color:#96C4ED\">曹</span><span style=\"color: white; background-color:#96C4ED\">騰</span>)의 양자가 <span style=\"color: white; background-color:#96C4ED\">되었다.</span><br/><br/>러일 전쟁 때 일본군에 적극 협조하고 1905년 손병희가 동학의 전통을 이어 반일 사상을 가진 천도교를 포교하자 이에 맞서 친일 사상을 가진 시천교(<span style=\"color: white; background-color:#96C4ED\">侍</span>天敎)를 창설, <span style=\"color: white; background-color:#96C4ED\">교주가</span> 되었다.<br/><br/>광남 김익훈은 1619년 김장생의 손자이자 참판을 지내고 증 의정부영의정에 추증된 김반의 아들이며, 어머니는 첨중추(<span style=\"color: white; background-color:#96C4ED\">僉</span>中<span style=\"color: white; background-color:#96C4ED\">樞</span>) 김진려(金<span style=\"color: white; background-color:#96C4ED\">進</span><span style=\"color: white; background-color:#96C4ED\">礪</span>)의 <span style=\"color: white; background-color:#96C4ED\">딸이다.</span><br/><br/>미하일 8세 팔레올로고스(1223년 <span style=\"color: white; background-color:#96C4ED\">–</span> 1282년 <span style=\"color: white; background-color:#96C4ED\">12월</span> 11일)는 비잔티움 제국의 마지막 왕조인 팔레올로고스 왕조의 황제(재위기간:1261년~1282년)이다.<br/><br/>설공검(<span style=\"color: white; background-color:#96C4ED\">薛</span>公<span style=\"color: white; background-color:#96C4ED\">儉</span>, 1224년 <span style=\"color: white; background-color:#96C4ED\">~</span> 1302년)은 고려의 문신(文臣)이다.<br/><br/>카게야마 <span style=\"color: white; background-color:#96C4ED\">슌은</span> 가면라이더 자비의 과거 장착자이자, 가면라이더 펀치호퍼로 변신하는 남자이다.<br/><br/>노경은(<span style=\"color: white; background-color:#96C4ED\">盧</span><span style=\"color: white; background-color:#96C4ED\">景</span>銀, 1984년 <span style=\"color: white; background-color:#96C4ED\">3월</span> <span style=\"color: white; background-color:#96C4ED\">11일</span> ~)은 KBO 리그 롯데 자이언츠의 투수이다.<br/><br/>1972년, 그는 나훈아를 만났는데 나훈아가 말하길 \"이 멜로디는 좋은데 가사가 아닙니다. 어짜피 방송에 나가지 못할테니 가사를 새로 바꾸고 리듬도 고고리듬으로 편곡해서 다시 취입합시다.\" 라고 제안을 해서 그전에 같이 작업한 정통 트로트 곡인 을 고고리듬으로 편곡하고 가사를 새로 다시 개사를 해서 이란 제목으로 나훈아가 불렀는데 발표 당시에는 반응이 없었으나 방송국 PD 에게 설문조사를 해서 나훈아의 <span style=\"color: white; background-color:#96C4ED\">뭍</span>혀잇는 노래 <span style=\"color: white; background-color:#96C4ED\">중에서</span> 괜찮은 노래 TOP 10를 선정했는데 그중에 이 1위로 선정이 돼서 그곡을 타이틀로 앨범을 재발표 했는데 그때 곡이 히트하면서 유명 작곡가 반열에 올랐다.<br/><br/><span style=\"color: white; background-color:#96C4ED\">리셴녠(1909년</span> 6월 23일 ~ 1992년 6월 21일)은 중화인민공화국의 군인, 정치가이다.<br/><br/>최한림(<span style=\"color: white; background-color:#96C4ED\">崔</span><span style=\"color: white; background-color:#96C4ED\">翰</span>林, 1971년 <span style=\"color: white; background-color:#96C4ED\">11월</span> <span style=\"color: white; background-color:#96C4ED\">15일</span> ~)은 전 KBO 리그 쌍방울 레이더스와 삼성 라이온즈의 투수이다.<br/><br/>서기석(<span style=\"color: white; background-color:#96C4ED\">徐</span>基<span style=\"color: white; background-color:#96C4ED\">錫</span>, 1953년 <span style=\"color: white; background-color:#96C4ED\">2월</span> 19일 ~)은 대한민국의 법관이다.<br/><br/>이어서 1991년 발표한 《사랑을 잃은 풀꽃》이 히트하여 《NHK 홍백가합전》에 첫 출연하였으며, 1993년에 다마키 고지(<span style=\"color: white; background-color:#96C4ED\">玉</span><span style=\"color: white; background-color:#96C4ED\">置</span><span style=\"color: white; background-color:#96C4ED\">浩</span>二)가 작곡한 《무언 고개(無言<span style=\"color: white; background-color:#96C4ED\">坂</span>)》로 《제35회 일본 레코드 대상》의 <span style=\"color: white; background-color:#96C4ED\">대상을</span> <span style=\"color: white; background-color:#96C4ED\">차지하는</span> <span style=\"color: white; background-color:#96C4ED\">쾌거를</span> 이루었다.<br/><br/>안철수(安<span style=\"color: white; background-color:#96C4ED\">哲</span><span style=\"color: white; background-color:#96C4ED\">秀</span>, 1962년 2월 <span style=\"color: white; background-color:#96C4ED\">26일</span> ~)는 대한민국의 의사, 프로그래머, 벤처기업인, 대학 교수 출신의 정치인이다.<br/><br/>람캄행 비문에 따르면 씨 <span style=\"color: white; background-color:#96C4ED\">인트라팃과</span> 쓰엉 부인 사이에는 아들 셋, 딸 둘 총 다섯 명의 자녀가 있었다.<br/><br/>KBS 전주<span style=\"color: white; background-color:#96C4ED\">방송</span>총국(KBS 全州<span style=\"color: white; background-color:#96C4ED\">放</span><span style=\"color: white; background-color:#96C4ED\">送</span><span style=\"color: white; background-color:#96C4ED\">總</span><span style=\"color: white; background-color:#96C4ED\">局</span>)은 전라북도 <span style=\"color: white; background-color:#96C4ED\">지역</span>을 대상으로 <span style=\"color: white; background-color:#96C4ED\">하는</span> <span style=\"color: white; background-color:#96C4ED\">한국<span style=\"color: white; background-color:#96C4ED\">방송</span>공사의</span> <span style=\"color: white; background-color:#96C4ED\">지역</span> <span style=\"color: white; background-color:#96C4ED\">방송</span> 총국이다.<br/><br/>《사계》(四<span style=\"color: white; background-color:#96C4ED\">季</span>, Le quattro stagioni)는 이탈리아의 작곡가 안토니오 비발디가 1725년에 작곡한 바이올린 협주곡으로 작품 번호는 Opus 8, No. 1-4이다.<br/><br/>이적료는 132억원으로 국내선수로는 토트넘 <span style=\"color: white; background-color:#96C4ED\">홋스퍼의</span> 손흥민에 이어 2위이다.<br/><br/>구시 칸(1582년 ~ 1655년 1월 14일)은 별명 그시리 칸, 본명 토르바이크(<span style=\"color: white; background-color:#96C4ED\">Т</span><span style=\"color: white; background-color:#96C4ED\">р</span>байх, Torbaikh Khan)는 17세기 중반 몽골 오이라트부의 네 씨족 중 하나인 코슈트의 귀족으로, 코슈트 칸국의 창업군주다.<br/><br/>양녕대군(<span style=\"color: white; background-color:#96C4ED\">讓</span><span style=\"color: white; background-color:#96C4ED\">寧</span>大君, 1394년 <span style=\"color: white; background-color:#96C4ED\">~</span> <span style=\"color: white; background-color:#96C4ED\">1462년</span> 9월 7일)은 조선 시대 초기의 왕세자이자 왕족, 정치인, 화가, 시인이다.<br/><br/>류경수(<span style=\"color: white; background-color:#96C4ED\">柳</span>京<span style=\"color: white; background-color:#96C4ED\">洙</span>, 1915년 <span style=\"color: white; background-color:#96C4ED\">9월</span> 9일 ~ 1958년 11월 19일)는 일제 강점기 공산주의 항일운동가이며 소비에트 연방, 조선민주주의인민공화국의 군인이다.<br/><br/>전주지방검찰청(全州地方<span style=\"color: white; background-color:#96C4ED\">檢</span><span style=\"color: white; background-color:#96C4ED\">察</span><span style=\"color: white; background-color:#96C4ED\">廳</span>)은 전주지방법원에 대응하여 대응하여 항소사건에 대한 <span style=\"color: white; background-color:#96C4ED\">소송</span> <span style=\"color: white; background-color:#96C4ED\">유지</span> <span style=\"color: white; background-color:#96C4ED\">및</span> 항고사건 처리와 행정<span style=\"color: white; background-color:#96C4ED\">소송</span>을 비롯해 국가를 당사자로 하는 <span style=\"color: white; background-color:#96C4ED\">소송</span>사건을 수행하고 진행을 돕기 위하여 설립된 대한민국 검찰청 광주고등검찰청 소속기관으로 전주지방검찰청 검사장은 차관급 예우를 받는다.<br/><br/>일본 총독이 수작(受<span style=\"color: white; background-color:#96C4ED\">爵</span>) 승인서를 내밀고 <span style=\"color: white; background-color:#96C4ED\">도장</span> 찍기를 강요하니까 그 아들 이직각(<span style=\"color: white; background-color:#96C4ED\">李</span><span style=\"color: white; background-color:#96C4ED\">直</span><span style=\"color: white; background-color:#96C4ED\">閣</span>, 이봉의의 아들 이기원은 규장각 직각이었다.)이 <span style=\"color: white; background-color:#96C4ED\">한규설을</span> <span style=\"color: white; background-color:#96C4ED\">찾아가서</span> 어찌하면 좋을까 하고 문의하였다.<br/><br/>한일 병합 조약 체결 이후인 1910년 10월 1일 조선총독부 식산국 산림과 고원(<span style=\"color: white; background-color:#96C4ED\">雇</span>員, 임시직원)으로 <span style=\"color: white; background-color:#96C4ED\">채용되었고</span> 1912년 1월 31일에는 총독부 경기도 서기로 승진하였다.<br/><br/>바즈겐 <span style=\"color: white; background-color:#96C4ED\">사르키샨(1959년</span> 3월 5일 ~ 1999년 10월 27일)은 아르메니아의 군인, 정치인이다.<br/><br/>데이비드 <span style=\"color: white; background-color:#96C4ED\">흄(1711년</span> 4월 26일 - 1776년 8월 25일)은 스코틀랜드 출신의 철학자이자 경제학자이며 역사가이다.<br/><br/>2011년 1월 23일 얼비 에마뉘엘손은 이탈리아 세리에 A의 AC 밀란으로 <span style=\"color: white; background-color:#96C4ED\">€1천</span> 7백만의 이적료로 3년 반 계약을 맺으며 이적하였다.<br/><br/>1978년 FIFA 월드컵을 우승으로 이끈 뛰어난 축구선수 마리오 <span style=\"color: white; background-color:#96C4ED\">켐페스에다가</span> 마라도나까지 가세한 아르헨티나팀에게 적수가 없을 정도였다.<br/><br/>송갑조, 김장생의 문인으로 그 뒤로 송시열은 아버지 송갑조, 사계 김장생, 김장생의 아들 신독재(<span style=\"color: white; background-color:#96C4ED\">愼</span>獨<span style=\"color: white; background-color:#96C4ED\">齋</span>) 김집 <span style=\"color: white; background-color:#96C4ED\">등을</span> 비롯하여 <span style=\"color: white; background-color:#96C4ED\">당시의</span> 유명한 학자들에게서 학문을 배웠다.<br/><br/>이때, <span style=\"color: white; background-color:#96C4ED\">린뱌오는</span> 병으로 중국인민지원군의 사령관을 못 맡게 되자, 10월 8일 펑더화이가 마오쩌둥의 명령을 받고 사령관에 임명되어 참전하였다.<br/><br/>19세기 후반 청나라 말기에 프랑스 상하이 조계의 일부였고, 청조 관헌의 행정권이 미치지 않은 지역이었기 때문에 <span style=\"color: white; background-color:#96C4ED\">쑨원이나</span> 궈모뤄, 마오쩌둥, 저우언라이, 메이란팡 등 민국 기에 걸쳐 활약한 혁명가가 거주하던 곳이었다.<br/><br/>덴분 23년(1554년) 하루노부는 후 호조씨(後北<span style=\"color: white; background-color:#96C4ED\">条</span>氏), 이마가와씨(<span style=\"color: white; background-color:#96C4ED\">今</span>川氏)와 서로 동맹을 맺어 배후를 든든하게 <span style=\"color: white; background-color:#96C4ED\">했다.</span><br/><br/>센추리 미디어 레코드로부터의 더 많은 예산과 함께 오페스는 유명 스웨덴 프로듀서 프레드리크 <span style=\"color: white; background-color:#96C4ED\">노르드스트룀과</span> 함께 1997년 8월에 프레드먼 스튜디오에서 세 번째 음반 녹음을 시작한다.<br/><br/>그 뒤 이하응이 흥선정과 도정에 봉해지면서 신인(<span style=\"color: white; background-color:#96C4ED\">慎</span>人:정3품 종친처)과 <span style=\"color: white; background-color:#96C4ED\">신부인(<span style=\"color: white; background-color:#96C4ED\">慎</span>夫人:</span> 정3품 당상 종친처)으로 봉작되고, 흥선군으로 승격되면서 민씨 역시 <span style=\"color: white; background-color:#96C4ED\">현부인으로</span> 진봉된다.<br/><br/>일본의 진언종은 구카이(空海<span style=\"color: white; background-color:#96C4ED\">く</span>うかい홍법 대사: 774-835)가 중국 <span style=\"color: white; background-color:#96C4ED\">당나라의</span> 장안으로 건너가 청룡사에서 혜과로부터 배운 밀교를 기반으로 하고 있다.<br/><br/>2015년, 중앙희극학원에서 학업 생활을 하던 <span style=\"color: white; background-color:#96C4ED\">쟝쩐위는</span> 프랑스의 영화 감독 '장-클로도부라트(Jean-ClaudeBourlat)'에게 중국과 프랑스 공동 제작한 영화 《개왕운적남단》 의 메인 주연으로 캐스팅 되었다.<br/><br/>연남생은 또다시 대형 염유(<span style=\"color: white; background-color:#96C4ED\">冉</span>有)를 다시 <span style=\"color: white; background-color:#96C4ED\">당나라에</span> 보내 구원을 청하였으나 회답이 없자, 이번에는 아들 연헌성(<span style=\"color: white; background-color:#96C4ED\">獻</span><span style=\"color: white; background-color:#96C4ED\">誠</span>)을 <span style=\"color: white; background-color:#96C4ED\">당나라에</span> 보내어 거듭 구원을 청하였다.<br/><br/>"
      ],
      "text/plain": [
       "<IPython.core.display.HTML object>"
      ]
     },
     "metadata": {},
     "execution_count": 84
    }
   ],
   "metadata": {}
  },
  {
   "cell_type": "code",
   "execution_count": null,
   "source": [],
   "outputs": [],
   "metadata": {}
  }
 ],
 "metadata": {
  "orig_nbformat": 4,
  "language_info": {
   "name": "python",
   "version": "3.8.5",
   "mimetype": "text/x-python",
   "codemirror_mode": {
    "name": "ipython",
    "version": 3
   },
   "pygments_lexer": "ipython3",
   "nbconvert_exporter": "python",
   "file_extension": ".py"
  },
  "kernelspec": {
   "name": "python3",
   "display_name": "Python 3.8.5 64-bit ('base': conda)"
  },
  "interpreter": {
   "hash": "98b0a9b7b4eaaa670588a142fd0a9b87eaafe866f1db4228be72b4211d12040f"
  }
 },
 "nbformat": 4,
 "nbformat_minor": 2
}