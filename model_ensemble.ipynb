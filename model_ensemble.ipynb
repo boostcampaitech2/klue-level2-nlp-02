{
 "cells": [
  {
   "cell_type": "code",
   "execution_count": 15,
   "source": [
    "from glob import glob\n",
    "import pickle as pickle\n",
    "\n",
    "import pandas as pd"
   ],
   "outputs": [],
   "metadata": {}
  },
  {
   "cell_type": "code",
   "execution_count": 50,
   "source": [
    "def num_to_label(label):\n",
    "    \"\"\"\n",
    "      숫자로 되어 있던 class를 원본 문자열 라벨로 변환 합니다.\n",
    "    \"\"\"\n",
    "    origin_label = []\n",
    "    with open('dict_num_to_label.pkl', 'rb') as f:\n",
    "        dict_num_to_label = pickle.load(f)\n",
    "    for v in label:\n",
    "        origin_label.append(dict_num_to_label[v])\n",
    "\n",
    "    return origin_label"
   ],
   "outputs": [],
   "metadata": {}
  },
  {
   "cell_type": "code",
   "execution_count": 51,
   "source": [
    "dir = 'all'\n",
    "csv_files = glob(f\"./prediction/{dir}/*.csv\")\n",
    "print(csv_files)\n",
    "\n",
    "for i, csv_file in enumerate(csv_files) :\n",
    "    df = pd.read_csv(csv_file)\n",
    "    if i == 0:\n",
    "        probs = pd.DataFrame(df.probs.map(eval).to_list())\n",
    "    else :\n",
    "        probs += pd.DataFrame(df.probs.map(eval).to_list())"
   ],
   "outputs": [
    {
     "output_type": "stream",
     "name": "stdout",
     "text": [
      "['./prediction/all/submission_roberta_large_rtt_data_mlm_pretrained_5fold.csv', './prediction/all/submission_checkpoint-3500.csv', './prediction/all/submission_klue-roberta-large-klue-roberta-large-augmen-5folds-lr_2e-5.csv', './prediction/all/submission_klue-roberta-large-bert-base-high-lr.csv', './prediction/all/output (2).csv', './prediction/all/output-4.csv', './prediction/all/submission_roberta_large_10fold_2e-5.csv', './prediction/all/submission_klue-roberta-large-AddFourClassifierRoberta.csv', './prediction/all/submission_klue-roberta-large-rtt-pem-mlm-pem-re.csv', './prediction/all/submission_klue-roberta-large-entity,2,3.csv', './prediction/all/submission_klue-roberta-large-tapt-rtt-single.csv', './prediction/all/output (6).csv', './prediction/all/submission_klue-roberta-large-klue-roberta-large-rtt-5folds-lr_2e-5.csv', './prediction/all/submission_klue-roberta-large-AddLayerNorm.csv', './prediction/all/output (8).csv']\n"
     ]
    }
   ],
   "metadata": {}
  },
  {
   "cell_type": "code",
   "execution_count": 52,
   "source": [
    "probs = probs.div(probs.sum(axis=1), axis=0)\n",
    "argmax = probs.idxmax(axis=1).values.tolist()\n",
    "pred_answer = num_to_label(argmax)\n",
    "output_prob = probs.values.tolist()"
   ],
   "outputs": [],
   "metadata": {}
  },
  {
   "cell_type": "code",
   "execution_count": 53,
   "source": [
    "output = pd.DataFrame(\n",
    "        {'id': [i for i in range(7765)], 'pred_label': pred_answer, 'probs': output_prob, })\n",
    "output.to_csv(f\"./prediction/ensemble/ensemble_{dir}.csv\", index=False)"
   ],
   "outputs": [],
   "metadata": {}
  },
  {
   "cell_type": "code",
   "execution_count": null,
   "source": [],
   "outputs": [],
   "metadata": {}
  }
 ],
 "metadata": {
  "orig_nbformat": 4,
  "language_info": {
   "name": "python",
   "version": "3.8.5",
   "mimetype": "text/x-python",
   "codemirror_mode": {
    "name": "ipython",
    "version": 3
   },
   "pygments_lexer": "ipython3",
   "nbconvert_exporter": "python",
   "file_extension": ".py"
  },
  "kernelspec": {
   "name": "python3",
   "display_name": "Python 3.8.5 64-bit ('base': conda)"
  },
  "interpreter": {
   "hash": "98b0a9b7b4eaaa670588a142fd0a9b87eaafe866f1db4228be72b4211d12040f"
  }
 },
 "nbformat": 4,
 "nbformat_minor": 2
}